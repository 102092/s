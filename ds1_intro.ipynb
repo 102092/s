{
 "cells": [
  {
   "cell_type": "markdown",
   "metadata": {
    "slideshow": {
     "slide_type": "slide"
    }
   },
   "source": [
    "# 1. 헬로우 데이터 분석\n",
    "\n",
    "## 1.1 학습내용\n",
    "\n",
    "### 1.1.1 강의 목표\n",
    "\n",
    "* 데이터를 수집하는 것부터, 추출, 저장, 분석 및 보고의 과정에 걸쳐 프로그래밍으로 실습을 한다.\n",
    "\n",
    "구분 | 설명\n",
    "-----|:-----\n",
    "수집 | 빅데이터는 그 출처가 다양하고, 실시간으로 또한 대량으로 발생한다. 이 강의에서는 웹사이트를 크롤링하거나, 정부에서 개방하는 데이터 또는 SNS에서 데이터를 수집한다. 수집에 필요한 OAuth 인증과 REST API를 실습한다. 수집된 데이터는 파일 또는 NoSql을 사용하여 저장한다.\n",
    "ETL | 수집된 데이터로부터 필요한 정보항목 또는 속성을 추출하고, 분석에 필요한 구조로 변환하여 저장하거나 모델의 입력으로 사용하는ETL (Extract, Transform, Load)를 하게 된다.\n",
    "분석 | ETL에서 만들어진 빅데이터를 분석하기 위해서는 분산구조가 필요하게 된다. 이 강의에서는 빅데이터를 분석하기 위해 사용하는 Spark를 실습 한다."
   ]
  },
  {
   "cell_type": "markdown",
   "metadata": {
    "slideshow": {
     "slide_type": "subslide"
    }
   },
   "source": [
    "* 프로그래밍으로 실습하는 강의이다. 웹, 프로그래밍, 머신러닝에 필요한 수학, 통계 선행지식이 필요하다.\n",
    "* 강의를 듣고 나면:\n",
    "    * 문제를 찾고, 문제해결에 필요한 데이터를 수집, 분석하여 그 답을 프로그래밍으로 찾을 수 있다.\n",
    "* 강의를 어떻게 하려고 하나\n",
    "    * 예제로 배운다 Learn by example\n",
    "        * 문제를 스스로 풀어본다.\n",
    "    * '재미'있게 배운다\n",
    "        * interesting and fun\n",
    "        * challenging but not TOO challenging\n",
    "    * 빅데이터 분석 모든 것을 가르치지는 않는다. 이 강의를 듣고 나면 자기학습을 할 수 있다."
   ]
  },
  {
   "cell_type": "markdown",
   "metadata": {
    "slideshow": {
     "slide_type": "subslide"
    }
   },
   "source": [
    "### 1.1.2 이번 장의 목표\n",
    "\n",
    "* 데이터분석 프로세스를 설명할 수 있다.\n",
    "* 데이터분석 환경을 설치하고 실행할 수 있다.\n",
    "* 공개된 웹에서 데이터를 가져오면 저작권을 위반하는지 설명할 수 있다."
   ]
  },
  {
   "cell_type": "markdown",
   "metadata": {
    "slideshow": {
     "slide_type": "subslide"
    }
   },
   "source": [
    "### 1.1.3 문제\n",
    "\n",
    "* 문제 시작-1: ipython notebook에서 word count를 한다.\n",
    "* 문제 시작-2: 문제를 정의하고 답을 찾는 과정을 계획해 본다.\n",
    "* 문제 시작-3: 포털사이트와 페이스북 사이트의 robots.txt를 출력한다."
   ]
  },
  {
   "cell_type": "markdown",
   "metadata": {
    "slideshow": {
     "slide_type": "subslide"
    }
   },
   "source": [
    "### 1.1.4  mini project\n",
    "\n",
    "* 제출 내용\n",
    "    1. 문제 - 어떤 business value가 있는 것인지? 빅데이터로 풀 수 있는 것인지?\n",
    "    2. 데이터 - 질문을 대답하기 위한 데이터를 어떻게 수집할 것인가?\n",
    "    3. 답 - 질문에 대한 해결은 어떻게 할 것인가?\n",
    "    4. 소스코드 - 질문에서 답을 찾는 과정에서 사용한 프로그램\n",
    "\n",
    "과제 | 기준\n",
    "-----|-----\n",
    "문제 | 정성적인 질문이어도 좋지만, 정량적으로 풀어야 한다.<br> business value가 무엇인지?\n",
    "데이터    | 어떤 데이터를 가져올 것인지 찾아본다.<br>api로 가져오는 방식이 있는지 찾아본다.\n",
    "답 | 분석, 추천, 예측\n",
    "소스코드  | 데이터 수집부터 시각화까지"
   ]
  },
  {
   "cell_type": "markdown",
   "metadata": {
    "slideshow": {
     "slide_type": "subslide"
    }
   },
   "source": [
    "* 다음 일정에 따라 사이버강의실 (또는 github)에 제출한다.\n",
    "\n",
    "주 | 기한 | 내용\n",
    "-----|-----|-----\n",
    "1차 | 6주 토요일 | 문제를 정하고, 어떤 데이터를 사용할 것인지. 온라인 제출.\n",
    "2차 | 13주 토요일 | 온라인에 문서, 소스코드 및 발표자료 제출. Hard copy 제출. 14주 발표."
   ]
  },
  {
   "cell_type": "markdown",
   "metadata": {
    "slideshow": {
     "slide_type": "subslide"
    }
   },
   "source": [
    "### 1.1.5 참고문헌\n",
    "\n",
    "* html\n",
    "    * w3schools.com\n",
    "\n",
    "* 프로그래밍\n",
    "    * Python for Data Analysis by Wes McKinney (O’Reilly)\n",
    "    * Mitchell, Ryan. Web scraping with Python: collecting data from the modern web. O'Reilly Media, Inc., 2015.\n",
    "    * Russell, Matthew A. Mining the Social Web: Data Mining Facebook, Twitter, LinkedIn, Google+, GitHub, and More, 2nd Edition, O'Reilly Media, Inc., 2014\n",
    "    * Nandi, Amit. Spark for Python Developers. Packt Publishing Ltd, 2015.\n",
    "    * Tsvetovat, Maksim, and Alexander Kouznetsov. Social Network Analysis for Startups: Finding connections on the social web. \" O'Reilly Media, Inc.\", 2011.\n",
    "\n",
    "* 머신러닝\n",
    "    * Schutt, Rachel, and Cathy O'Neil. Doing data science: Straight talk from the frontline. \" O'Reilly Media, Inc.\", 2013.\n",
    "    * Harrington, Peter. Machine learning in action. Manning, 2012. -> python\n",
    "    * James, Gareth, et al. An introduction to statistical learning. Vol. 112. New York: springer, 2013. -> R\n",
    "    * Segaran, Toby. Programming collective intelligence: building smart web 2.0 applications. O'Reilly Media, Inc., 2007. -> python\n",
    "    * Bell, Jason. Machine learning: Hands-on for developers and technical professionals. John Wiley & Sons, 2014. -> weka\n",
    "    * Murphy, Kevin P. Machine learning: a probabilistic perspective. MIT press, 2012. -> no programming but full of equations\n",
    "    * Conway, Drew, and John Myles White. Machine Learning for Email: Spam Filtering and Priority Inbox. O'Reilly Media, Inc., 2011. -> R\n",
    "    * Conway, Drew, and John White. Machine learning for hackers. O'Reilly Media, Inc., 2012. -> R\n",
    "    * Hackeling, Gavin. Mastering Machine Learning with scikit-learn. Packt Publishing Ltd, 2014. -> python library\n",
    "    * Shalev-Shwartz, Shai, and Shai Ben-David. Understanding machine learning: From theory to algorithms. Cambridge University Press, 2014. -> theory\n",
    "    * Marsland, Stephen. Machine learning: an algorithmic perspective. CRC press, 2015. -> python\n",
    "    * Baumer, Ben. \"A Data Science Course for Undergraduates: Thinking With Data.\" The American Statistician 69.4 (2015): 334-342.\n",
    "\n",
    "\n",
    "* http://datasciencemasters.org/\n",
    "* http://courses.csail.mit.edu/18.337/2015/docs/50YearsDataScience.pdf"
   ]
  },
  {
   "cell_type": "markdown",
   "metadata": {
    "slideshow": {
     "slide_type": "slide"
    }
   },
   "source": [
    "## 1.2 빅데이터\n",
    "\n",
    "### 1.2.1 데이터사이언스\n",
    "* 데이터를 처리한다는 넓은 의미로 쓰이다가, 학문으로 '데이터 사이언스'라고 쓰이게 된 것은 90년대 중후반.\n",
    "* 데이터사이언스에서 말하는 데이터 수집, 분석, 처리는 과거부터 존재했다. BI, 데이터마이닝, 인공지능 등.\n",
    "* 특히 최근에는 웹의 사용이 늘면서 빅데이터라는 용어와도 혼용되고 있다.\n",
    "* 전통적인 방식의 데이터분석\n",
    "    * 전산실에 부탁하거나,\n",
    "    * 사용자가 엑셀을 사용해서, 분석, pivoting, graph 작업.\n",
    "* HBR에서 21세기 The Sexiest Job\n",
    "Davenport, Thomas H.; Patil, DJ (Oct 2012), Data Scientist: The Sexiest Job of\n",
    "the 21st Century, Harvard Business Review\n",
    "* 아직 명확한 정의가 없지만, 이를 필요로 하는 업무가 늘어나고 있고 학위과정도 생겨나고 있다.\n",
    "\"Data Science: What's The Half-Life Of A Buzzword?\". Forbes. 2013-08-19.\n",
    "* 수학, 통계, 컴퓨터과학, 정보과학, 경영학 등의 학습이 필요한 매우 다학제적이다."
   ]
  },
  {
   "cell_type": "markdown",
   "metadata": {
    "slideshow": {
     "slide_type": "subslide"
    }
   },
   "source": [
    "### 1.2.2 Why\n",
    "\n",
    "* 빅데이터 인력수요가 많다.\n",
    "    * [2013년 4월 11일 뉴욕타임지 기사](https://www.glassdoor.com/List/Best-Jobs-in-America-LST_KQ0,20.htm)\n",
    "    * [McKinsey](http://www.mckinsey.com/business-functions/business-technology/our-insights/big-data-the-next-frontier-for-innovation]\n",
    "    * [2016년 미국 \"Best job\"](https://www.glassdoor.com/List/Best-Jobs-in-America-LST_KQ0,20.htm)\n",
    "    * 주요 대학에서 강의 개설 - UC Berkeley, NYU, MIT, U Columbia, Univ. of Michigan\n",
    "    * [기사](http://v.media.daum.net/v/20170214093203675)\n",
    "        * 면접에서 높은 급여 제안을 받은 데이터 과학자의 전문기술은 기계 학습, 데이터 분석, 파이썬, SQL, 통계 등. \n",
    "        * 댓글 가운데 하나 \"...대신 우리나라 개발자들은 미래가 보장되있어요 치킨집 사장...\""
   ]
  },
  {
   "cell_type": "markdown",
   "metadata": {
    "slideshow": {
     "slide_type": "subslide"
    }
   },
   "source": [
    "### 1.2.3 데이터사이언스, 빅데이터, 통계학\n",
    "\n",
    "* 데이터분석을 한다는 공통점이 있다.\n",
    "    * \"Data Science\" means the scientific study of the creation, validation and transformation of data to create meaning.(http://www.datascienceassn.org/code-of-conduct.html)\n",
    "* 그러나 다루는 데이터의 양에 차이가 있다. 보통 테라급 이상을 처리 한다.\n",
    "    * 따라서 컴퓨터 1대에서 처리할 수 없다.\n",
    "    * 샘플링 - 보통 통계학은 샘플링을 해서 모집단을 추정한다.\n",
    "    * 빅데이터인 경우, 분산처리가 필요 - Hadoop\n",
    "\n",
    "* 데이터 규모가 적더라도 수집, 분석, 보고하는 프로세스는 수행한다.    \n",
    "\n",
    "* 문제 - garbage in, garbage out\n",
    "    * 데이터가 대량이다.\n",
    "    * 발생하는 속도가 빠르다 (실시간 또는 거의실시간)\n",
    "    * 데이터가 비구조적이다.\n",
    "    * 데이터가 이질적이다 (비디오, 오디오, 이미지, 문자...)"
   ]
  },
  {
   "cell_type": "markdown",
   "metadata": {
    "slideshow": {
     "slide_type": "subslide"
    }
   },
   "source": [
    "### 1.2.4 Questions to ask in this lecture\n",
    "\n",
    "* 빅데이터 경험을 취업 인터뷰에서 물으면:\n",
    "    * 가장 큰 데이터는 무엇이었나?\n",
    "    * 그 데이터를 처리한 절차?\n",
    "        * 프로그래밍을 사용하였는가?\n",
    "        * 어떻게 수집, 어떻게 분석하였나, 어떻게 시각화?\n",
    "    * 그 결과는 무엇이었나? 성공이었다면 무엇으로 성공이라고 말하는가?\n",
    "        * 단순 통계만 사용하였는가?\n",
    "        * 추천은 하였는가? 머신러닝으로 예측하였는가?\n"
   ]
  },
  {
   "cell_type": "markdown",
   "metadata": {
    "slideshow": {
     "slide_type": "slide"
    }
   },
   "source": [
    "## 1.3 why python\n",
    "\n",
    "* 가장 많이 사용되는 언어\n",
    "    http://www.kdnuggets.com/2017/01/most-popular-language-machine-learning-data-science.html\n"
   ]
  },
  {
   "cell_type": "markdown",
   "metadata": {
    "slideshow": {
     "slide_type": "slide"
    }
   },
   "source": [
    "## 1.4 process\n",
    "\n",
    "* business value 먼저\n",
    "    * 문제를 먼저 생각하고 가설을 설정한다. 그리고 어떤 데이터를 수집해서, 분석할지 생각한다.\n",
    "    * biz value -> data -> info -> decision making (Simon, Mintzberg)\n",
    "* 질문의 예로는:\n",
    "    * 매출을 늘리려면 무엇을 해야하나?\n",
    "    * 누가 당선이 될까?\n",
    "    * 왜 커피를 차보다 더 마실까?\n",
    "    * 대중교통을 더 많이 사용하게 하려면?\n",
    "    * 뉴요커는 어떻게 자전거를 탈까\n",
    "    * 뉴욕에서 가장 바쁜 Uber base?\n",
    "    * 날씨 분석\n",
    "    * 잘 사는 나라가 교육수준\n",
    "    * 서울 사람들은 자전거를 왜 타나?\n",
    "    * 날씨가 흐릴 때는 사람들은 무엇을 먹고 싶어할까?\n",
    "    * 왜 '돌아와요 부산항에' 노래를 좋아하나?"
   ]
  },
  {
   "cell_type": "markdown",
   "metadata": {
    "slideshow": {
     "slide_type": "subslide"
    }
   },
   "source": [
    "* 절차\n",
    "\n",
    "단계 | 설명 | 도구\n",
    "-----|-----|-----\n",
    "문제정의 | 목적이 무엇인지? 답하려는 문제가 무엇인지 정의 | 브레인스토밍\n",
    "데이터 수집 | 웹크롤링, REST API | scrapy, urllib...\n",
    "데이터 정제 | 정리하여 분석가능한 구조로 만들 수 있게 함 | map-reduce...\n",
    "데이터 저장 | 파일, DB, NoSQL | csv, MongoDB, Apache Cassandra\n",
    "데이터 분석 | 통계분석, 머신러닝, 예측 | knn, decision tree, nbayesian...\n",
    "데이터 시각화 | 리포팅 | d3.js..."
   ]
  },
  {
   "cell_type": "markdown",
   "metadata": {
    "slideshow": {
     "slide_type": "subslide"
    }
   },
   "source": [
    "### 1.4.1 문제를 정의하기\n",
    "\n",
    "* 어떤 문제를 해결하려고 하는가? 고객은? 그 영향은?\n",
    "* 문제를 해결하려면, 필요한 데이터는 무엇인가?\n",
    "* 정량화 할 수 있는가?"
   ]
  },
  {
   "cell_type": "markdown",
   "metadata": {
    "slideshow": {
     "slide_type": "subslide"
    }
   },
   "source": [
    "### 1.4.2 데이터 가져오기\n",
    "\n",
    "* 필요한 데이터는 어디에 있는가? 어떻게 수집할 수 있는가?\n",
    "* how big?\n",
    "* quantitative vs text - 문자데이터는 어떻게 처리하는가? 숫자데이터는 평균, 표준편차, 통계를 사용하지만.\n",
    "* 보통 웹에서 데이터를 가져온다.\n",
    "    * 텍스트처리\n",
    "    * api - json, xml로 결과를 반환\n",
    "    * OAuth\n",
    "    "
   ]
  },
  {
   "cell_type": "markdown",
   "metadata": {
    "slideshow": {
     "slide_type": "subslide"
    }
   },
   "source": [
    "### 1.4.3 데이터 변환\n",
    "\n",
    "* 수집한 데이터(raw)를 분석가능한 형태로 변환. 유사한 개념\n",
    "    * cleansing - 데이터에 잘 못된 오류가 있으면 정제한다는 의미 \n",
    "    * pre-processing - 데이터를 사전처리해서 머신러닝을 함. 정규화, 데이터속성 추출, 데이터 선별 등.\n",
    "    * wrangling or munging - \n",
    "\n",
    "* 구조적인지 비구조적인지?"
   ]
  },
  {
   "cell_type": "markdown",
   "metadata": {
    "slideshow": {
     "slide_type": "subslide"
    }
   },
   "source": [
    "### 1.4.4 데이터 저장\n",
    "\n",
    "* 저장 - 파일 또는 DB로 저장"
   ]
  },
  {
   "cell_type": "markdown",
   "metadata": {
    "slideshow": {
     "slide_type": "subslide"
    }
   },
   "source": [
    "### 1.4.5 데이터분석 - '문제'에 대해 답을 찾기 위해, 가능한 대안을 찾아서 검증하는 과정\n",
    "\n",
    "* network graph\n",
    "* clustering\n",
    "* recommendation\n",
    "* mapreduce -> hadoop, pyspark\n",
    "* apache libcloud, scrapy"
   ]
  },
  {
   "cell_type": "markdown",
   "metadata": {
    "slideshow": {
     "slide_type": "subslide"
    }
   },
   "source": [
    "### 1.4.6 데이터시각화\n",
    "\n",
    "* 그래프, 테이블, 워드클라우드..."
   ]
  },
  {
   "cell_type": "markdown",
   "metadata": {
    "slideshow": {
     "slide_type": "slide"
    }
   },
   "source": [
    "## 1.6 환경\n",
    "\n",
    "구분 | 설명\n",
    "-----|-----\n",
    "운영체제 | 윈도우 또는 리눅스 (추천)\n",
    "프로그래밍 언어 | Python 2.7+ (추천), Python 3.0+는 사용하지 않는다.\n",
    "Editor | Jupyter Notebook\n",
    "소스관리 | git\n",
    "\n",
    "* Python: anaconda 설치\n",
    "* Project Directory 설정\n",
    "    ```\n",
    "    Code/\n",
    "        spark-1.6.0-bin-hadoop2.6\n",
    "        s-2015xxxxx/\n",
    "            /src\n",
    "            /lib\n",
    "            /doc\n",
    "\n",
    "    ~/.ipython/kernels/pyspark/kernel.json\n",
    "    ```"
   ]
  },
  {
   "cell_type": "markdown",
   "metadata": {
    "slideshow": {
     "slide_type": "slide"
    }
   },
   "source": [
    "## 1.7 강의자료\n",
    "\n",
    "* [강의노트북 보기](http://nbviewer.jupyter.org/)\n",
    "* [온라인채팅](https://gitter.im/)\n",
    "* [강의자료](https://github.com/)"
   ]
  },
  {
   "cell_type": "markdown",
   "metadata": {
    "slideshow": {
     "slide_type": "slide"
    }
   },
   "source": [
    "## 1.8 저작권\n",
    "\n",
    "* [2016-03-03 법률신문뉴스 [판결] ‘웹사이트 무단 크롤링’ 소송… 잡코리아, 사람인에 승소-\"'잡코리아'의 웹사이트 무단 크롤링 '사람인'은 1억9800만원 배상하라\"](https://www.lawtimes.co.kr/legal-news/Legal-News-View?Serial=98844&kind=AA)\n",
    "* [robots.txt](http://www.robotstxt.org/) 로봇이 데이터를 수집할 경우 허용할 수 있는 범위를 정의하는 표준\n",
    "    * 예\n",
    "    ```\n",
    "    User-agent: *\n",
    "    Disallow: /cgi-bin/\n",
    "    Disallow: /tmp/\n",
    "    Disallow: /~joe/\n",
    "    ```\n",
    "    \n",
    "* 개인정보보호법\n",
    "* [정보기술 보호법](http://www.boannews.com/media/view.asp?idx=43974)\n",
    "방송통신위원회는 2013년 12월에 ‘빅데이터 개인정보보호 가이드라인’을 제정하면서, 기술적 쿠키와 일반적으로 공개된 개인정보의 동의 없는 수집을 추진했으나, 개인정보보호에 관한 상위 법령에 위반된다는 이유로 현재 가이드라인 통과가 보류 중이다. "
   ]
  },
  {
   "cell_type": "markdown",
   "metadata": {
    "slideshow": {
     "slide_type": "slide"
    }
   },
   "source": [
    "## 문제 시작-1: ipython notebook에서 word count를 한다.\n",
    "\n",
    "* source: data_strcutre.ipynb"
   ]
  },
  {
   "cell_type": "markdown",
   "metadata": {},
   "source": [
    "### 문자 세기"
   ]
  },
  {
   "cell_type": "code",
   "execution_count": 5,
   "metadata": {
    "collapsed": false,
    "scrolled": true
   },
   "outputs": [
    {
     "name": "stdout",
     "output_type": "stream",
     "text": [
      "키-키값 {'a': 1, ' ': 1, 'e': 1, 'g': 2, 'i': 2, 'm': 1, 'n': 3, 's': 2, 'r': 1, 'u': 2, 't': 1, 'v': 1, 'y': 2}\n",
      " 저장된 문자의 갯수 (중복을 빼고) 13\n",
      "키:  ['a', ' ', 'e', 'g', 'i', 'm', 'n', 's', 'r', 'u', 't', 'v', 'y']\n",
      "키값: [1, 1, 1, 2, 2, 1, 3, 2, 1, 2, 1, 1, 2]\n"
     ]
    }
   ],
   "source": [
    "word = 'sangmyung university'\n",
    "\n",
    "d = dict()\n",
    "for c in word:\n",
    "    if c not in d:\n",
    "        d[c]=1\n",
    "    else:\n",
    "        d[c]=d[c]+1\n",
    "print \"키-키값\",d \n",
    "print \"저장된 문자의 갯수 (중복을 빼고)\", len(d)\n",
    "print \"키: \",d.keys()\n",
    "print \"키값:\", d.values()"
   ]
  },
  {
   "cell_type": "markdown",
   "metadata": {},
   "source": [
    "### 단어 세기\n",
    "\n",
    "* 문장을 리스트로 구성"
   ]
  },
  {
   "cell_type": "code",
   "execution_count": 6,
   "metadata": {
    "collapsed": false,
    "scrolled": true
   },
   "outputs": [
    {
     "name": "stdout",
     "output_type": "stream",
     "text": [
      "키-키값 {'university': 1, 'sangmyung university': 1}\n",
      " 저장된 문자의 갯수 (중복을 빼고) 2\n",
      "키:  ['university', 'sangmyung university']\n",
      "키값: [1, 1]\n"
     ]
    }
   ],
   "source": [
    "word = ['sangmyung university', 'university']\n",
    "\n",
    "d = dict()\n",
    "for c in word:\n",
    "    if c not in d:\n",
    "        d[c]=1\n",
    "    else:\n",
    "        d[c]=d[c]+1\n",
    "print \"키-키값\",d \n",
    "print \"저장된 문자의 갯수 (중복을 빼고)\", len(d)\n",
    "print \"키: \",d.keys()\n",
    "print \"키값:\", d.values()"
   ]
  },
  {
   "cell_type": "markdown",
   "metadata": {},
   "source": [
    "* 문장을 단어로 분리\n",
    "* 중첩 for문 을 사용해서:\n",
    "    * 리스트의 요소 분리\n",
    "    * 문장의 단어 분리"
   ]
  },
  {
   "cell_type": "code",
   "execution_count": 7,
   "metadata": {
    "collapsed": false,
    "scrolled": true
   },
   "outputs": [
    {
     "name": "stdout",
     "output_type": "stream",
     "text": [
      "키-키값 {'university': 2, 'sangmyung': 1}\n",
      " 저장된 문자의 갯수 (중복을 빼고) 2\n",
      "키:  ['university', 'sangmyung']\n",
      "키값: [2, 1]\n"
     ]
    }
   ],
   "source": [
    "word = ['sangmyung university', 'university']\n",
    "\n",
    "d = dict()\n",
    "for e in word:\n",
    "    for w in e.split(): \n",
    "        if w not in d:\n",
    "            d[w]=1\n",
    "        else:\n",
    "            d[w]=d[w]+1\n",
    "print \"키-키값\",d \n",
    "print \"저장된 문자의 갯수 (중복을 빼고)\", len(d)\n",
    "print \"키: \",d.keys()\n",
    "print \"키값:\", d.values()"
   ]
  },
  {
   "cell_type": "markdown",
   "metadata": {},
   "source": [
    "* file"
   ]
  },
  {
   "cell_type": "code",
   "execution_count": 10,
   "metadata": {
    "collapsed": true
   },
   "outputs": [],
   "source": [
    "!echo \"Hello sangmyung university\\nthis is a line\\nHello\" > tmp.txt"
   ]
  },
  {
   "cell_type": "code",
   "execution_count": 8,
   "metadata": {
    "collapsed": false
   },
   "outputs": [
    {
     "name": "stdout",
     "output_type": "stream",
     "text": [
      "Hello sangmyung university\n",
      "\n",
      "this is a line\n",
      "\n"
     ]
    }
   ],
   "source": [
    "f=open('tmp.txt')\n",
    "\n",
    "for line in f.readlines():\n",
    "    print line\n",
    "f.close()"
   ]
  },
  {
   "cell_type": "code",
   "execution_count": 11,
   "metadata": {
    "collapsed": false
   },
   "outputs": [
    {
     "name": "stdout",
     "output_type": "stream",
     "text": [
      "키-키값 {'a': 1, 'this': 1, 'university': 1, 'line': 1, 'sangmyung': 1, 'Hello': 2, 'is': 1}\n",
      "저장된 문자의 갯수 (중복을 빼고) 7\n",
      "키:  ['a', 'this', 'university', 'line', 'sangmyung', 'Hello', 'is']\n",
      "키값: [1, 1, 1, 1, 1, 2, 1]\n"
     ]
    }
   ],
   "source": [
    "d = dict()\n",
    "f=open('tmp.txt')\n",
    "for e in f.readlines():\n",
    "    for w in e.split(): \n",
    "        if w not in d:\n",
    "            d[w]=1\n",
    "        else:\n",
    "            d[w]=d[w]+1\n",
    "f.close()\n",
    "print \"키-키값\",d \n",
    "print \"저장된 문자의 갯수 (중복을 빼고)\", len(d)\n",
    "print \"키: \",d.keys()\n",
    "print \"키값:\", d.values()"
   ]
  },
  {
   "cell_type": "markdown",
   "metadata": {},
   "source": [
    "* 단어를 세는 경우의 시각화\n",
    "    * x축은 키를 (단어)\n",
    "    * y축은 키 값을 넣는다 (단어의 빈도수)"
   ]
  },
  {
   "cell_type": "code",
   "execution_count": 2,
   "metadata": {
    "collapsed": false
   },
   "outputs": [
    {
     "name": "stderr",
     "output_type": "stream",
     "text": [
      "/usr/lib/python2.7/dist-packages/matplotlib/font_manager.py:273: UserWarning: Matplotlib is building the font cache using fc-list. This may take a moment.\n",
      "  warnings.warn('Matplotlib is building the font cache using fc-list. This may take a moment.')\n"
     ]
    },
    {
     "data": {
      "image/png": "[encoded data removed]",
      "text/plain": [
       "<matplotlib.figure.Figure at 0x7f0fa67933d0>"
      ]
     },
     "metadata": {},
     "output_type": "display_data"
    }
   ],
   "source": [
    "%matplotlib inline\n",
    "\n",
    "import matplotlib\n",
    "import matplotlib.pyplot as plt \n",
    "# 2단계로 나누어 그림\n",
    "plt.bar(range(len(d)), d.values(), align='center')\n",
    "plt.xticks(range(len(d)), list(d.keys()))\n",
    "plt.show()"
   ]
  },
  {
   "cell_type": "markdown",
   "metadata": {
    "slideshow": {
     "slide_type": "slide"
    }
   },
   "source": [
    "## 문제 시작-2: 문제를 정의하고, 문제해결을 위한 방법을 계획한다.\n",
    "\n",
    "* 데이터 사이언스 절차에 따라:\n",
    "    * 문제는 무엇이며 어떤 데이터가 필요한가?\n",
    "        * 환경, 교통, 경제...\n",
    "        * 정부에서 제공하는 열린광장\n",
    "    * 필요한 데이터가 수집할 수 있는 것인가? 어떻게 수집해야 하는가?\n",
    "    * 문제에 대한 답을 구하려면 수집된 데이터를 어떻게 구조화하는가?\n",
    "    * 필요한 데이터 항목을 어떻게 추출하는가?\n",
    "    * 수집된 데이터를 어떻게 분석하는가?\n",
    "    * 단순 집계, 평균으로 적절한가?\n",
    "    * 추론, 예측이 필요한가?\n"
   ]
  },
  {
   "cell_type": "markdown",
   "metadata": {
    "slideshow": {
     "slide_type": "slide"
    }
   },
   "source": [
    "## 문제 시작-3: 포털사이트와 페이스북 사이트의 robots.txt를 출력한다.\n",
    "\n",
    "* 사이트 주소의 robots.txt를 입력한다.\n",
    "* 페이스북 http://www.facebook.com/robots.txt "
   ]
  }
 ],
 "metadata": {
  "celltoolbar": "Slideshow",
  "kernelspec": {
   "display_name": "Python 2",
   "language": "python",
   "name": "python2"
  },
  "language_info": {
   "codemirror_mode": {
    "name": "ipython",
    "version": 2
   },
   "file_extension": ".py",
   "mimetype": "text/x-python",
   "name": "python",
   "nbconvert_exporter": "python",
   "pygments_lexer": "ipython2",
   "version": "2.7.12"
  }
 },
 "nbformat": 4,
 "nbformat_minor": 0
}
