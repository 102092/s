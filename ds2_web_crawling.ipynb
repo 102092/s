{
 "cells": [
  {
   "cell_type": "markdown",
   "metadata": {
    "slideshow": {
     "slide_type": "slide"
    }
   },
   "source": [
    "# 웹 데이터 수집\n",
    "\n",
    "* Last updated: 20170325 20161004\n",
    "\n",
    "## 1.1 학습내용\n",
    "\n",
    "### 1.1.1 목표\n",
    "\n",
    "* 웹 페이지를 크롤링해서 가져올 수 있다.\n",
    "* 가져온 웹 페이지에서 데이터를 가져올 수 있다."
   ]
  },
  {
   "cell_type": "markdown",
   "metadata": {
    "slideshow": {
     "slide_type": "subslide"
    }
   },
   "source": [
    "### 1.1.2 목차\n",
    "\n",
    "* 1.2 웹으로 나가기\n",
    "* 1.2.1 웹데이터란?\n",
    "* 1.2.2 웹 데이터 가져오기\n",
    "* 1.3 uri\n",
    "* 1.3.1 domain\n",
    "* 1.3.2 params\n",
    "* 1.4 url 가져오기\n",
    "* 1.4.1 library\n",
    "* 1.4.2 HTTP errors\n",
    "* 1.5 BeautifulSoup"
   ]
  },
  {
   "cell_type": "markdown",
   "metadata": {
    "slideshow": {
     "slide_type": "subslide"
    }
   },
   "source": [
    "### 1.1.3 문제\n",
    "\n",
    "* 웹데이터-1: python.org 페이지를 크롤링해서 http url를 출력하기\n"
   ]
  },
  {
   "cell_type": "markdown",
   "metadata": {
    "slideshow": {
     "slide_type": "slide"
    }
   },
   "source": [
    "## 1.2 웹으로 나가기\n",
    "\n",
    "### 1.2.1  웹데이터란?\n",
    "\n",
    "* 웹은 클라이언트와 서버로 구성된다.\n",
    "    * 웹클라이언트\n",
    "        * 웹클라이언트는 보통 웹브라우저를 말한다. Chrome, Internet Explorer, Firefox\n",
    "        * 웹서버에서 html을 전송하면, 이를 받아서 브라우저에 보여준다.\n",
    "    * 웹서버\n",
    "        * 웹서버는 보통 http 서버를 말한다. Microsoft's IIS, Apache server\n",
    "        * 웹서버는 보통 원격에 위치하며, http 통신을 하기 위해 설치된 소프트웨어를 말한다."
   ]
  },
  {
   "cell_type": "markdown",
   "metadata": {
    "slideshow": {
     "slide_type": "subslide"
    }
   },
   "source": [
    "* 웹데이터는 웹 사이트에서 추출된 정보를 말한다.\n",
    "    * 웹데이터는 웹 사이트에서 http통신으로 교환되는 데이터를 말한다.\n",
    "    * 데이터를 추출하는 것을 마이닝 (mining), 스크레이핑 (scraping), 크롤링 (crawling)이라고 한다.\n",
    "    * 웹에서 추출하는 것을 밝혀 앞에 웹을 넣어 웹마이닝, 웹크롤링, 웹스크레이핑이라고도 한다.\n",
    "    * 서버가 반환하는 웹데이터는 보통 html, xml, json 형식을 가진다."
   ]
  },
  {
   "cell_type": "markdown",
   "metadata": {
    "slideshow": {
     "slide_type": "subslide"
    }
   },
   "source": [
    "* http\n",
    "    * http (HpyerText Transfer Protocol)는 웹프로토콜, 서로 데이터를 주고 받는 약속이다.\n",
    "    * socket 80번 포트를 사용한다.\n",
    "    * request(s)로 요청하고, response(s)를 반환한다."
   ]
  },
  {
   "cell_type": "code",
   "execution_count": 1,
   "metadata": {
    "collapsed": true,
    "slideshow": {
     "slide_type": "subslide"
    }
   },
   "outputs": [],
   "source": [
    "import iplantuml"
   ]
  },
  {
   "cell_type": "code",
   "execution_count": 4,
   "metadata": {
    "collapsed": false,
    "scrolled": true,
    "slideshow": {
     "slide_type": "-"
    }
   },
   "outputs": [
    {
     "data": {
      "image/svg+xml": [
       "<svg height=\"124px\" style=\"width:221px;height:124px;\" version=\"1.1\" viewBox=\"0 0 221 124\" width=\"221px\" xmlns=\"http://www.w3.org/2000/svg\" xmlns:xlink=\"http://www.w3.org/1999/xlink\"><defs><filter height=\"300%\" id=\"f1\" width=\"300%\" x=\"-1\" y=\"-1\"><feGaussianBlur result=\"blurOut\" stdDeviation=\"2.0\"/><feColorMatrix in=\"blurOut\" result=\"blurOut2\" type=\"matrix\" values=\"0 0 0 0 0 0 0 0 0 0 0 0 0 0 0 0 0 0 .4 0\"/><feOffset dx=\"4.0\" dy=\"4.0\" in=\"blurOut2\" result=\"blurOut3\"/><feBlend in=\"SourceGraphic\" in2=\"blurOut3\" mode=\"normal\"/></filter></defs><g><line style=\"stroke: #A80036; stroke-width: 1.0; stroke-dasharray: 5.0,5.0;\" x1=\"61\" x2=\"61\" y1=\"38.2969\" y2=\"86.2969\"/><line style=\"stroke: #A80036; stroke-width: 1.0; stroke-dasharray: 5.0,5.0;\" x1=\"170\" x2=\"170\" y1=\"38.2969\" y2=\"86.2969\"/><rect fill=\"#FEFECE\" filter=\"url(#f1)\" height=\"30.2969\" style=\"stroke: #A80036; stroke-width: 1.5;\" width=\"103\" x=\"8\" y=\"3\"/><text fill=\"#000000\" font-family=\"sans-serif\" font-size=\"14\" lengthAdjust=\"spacingAndGlyphs\" textLength=\"89\" x=\"15\" y=\"22.9951\">web browser</text><rect fill=\"#FEFECE\" filter=\"url(#f1)\" height=\"30.2969\" style=\"stroke: #A80036; stroke-width: 1.5;\" width=\"103\" x=\"8\" y=\"85.2969\"/><text fill=\"#000000\" font-family=\"sans-serif\" font-size=\"14\" lengthAdjust=\"spacingAndGlyphs\" textLength=\"89\" x=\"15\" y=\"105.292\">web browser</text><rect fill=\"#FEFECE\" filter=\"url(#f1)\" height=\"30.2969\" style=\"stroke: #A80036; stroke-width: 1.5;\" width=\"87\" x=\"125\" y=\"3\"/><text fill=\"#000000\" font-family=\"sans-serif\" font-size=\"14\" lengthAdjust=\"spacingAndGlyphs\" textLength=\"73\" x=\"132\" y=\"22.9951\">webServer</text><rect fill=\"#FEFECE\" filter=\"url(#f1)\" height=\"30.2969\" style=\"stroke: #A80036; stroke-width: 1.5;\" width=\"87\" x=\"125\" y=\"85.2969\"/><text fill=\"#000000\" font-family=\"sans-serif\" font-size=\"14\" lengthAdjust=\"spacingAndGlyphs\" textLength=\"73\" x=\"132\" y=\"105.292\">webServer</text><polygon fill=\"#A80036\" points=\"158.5,50.2969,168.5,54.2969,158.5,58.2969,162.5,54.2969\" style=\"stroke: #A80036; stroke-width: 1.0;\"/><line style=\"stroke: #A80036; stroke-width: 1.0;\" x1=\"61.5\" x2=\"164.5\" y1=\"54.2969\" y2=\"54.2969\"/><polygon fill=\"#A80036\" points=\"72.5,64.2969,62.5,68.2969,72.5,72.2969,68.5,68.2969\" style=\"stroke: #A80036; stroke-width: 1.0;\"/><line style=\"stroke: #A80036; stroke-width: 1.0;\" x1=\"66.5\" x2=\"169.5\" y1=\"68.2969\" y2=\"68.2969\"/></g></svg>"
      ],
      "text/plain": [
       "<IPython.core.display.SVG object>"
      ]
     },
     "execution_count": 4,
     "metadata": {},
     "output_type": "execute_result"
    }
   ],
   "source": [
    "%%plantuml\n",
    "\n",
    "@startuml\n",
    "\"web browser\" -> webServer\n",
    "webServer -> \"web browser\"\n",
    "@enduml"
   ]
  },
  {
   "cell_type": "markdown",
   "metadata": {
    "slideshow": {
     "slide_type": "subslide"
    }
   },
   "source": [
    "###  1.2.2 웹 데이터 가져오기\n",
    "\n",
    "* 웹페이지에서 필요한 정보를 추출하는 과정, 크롤링을 프로그램으로 자동화할 수 있다.\n",
    "* 웹클라이언트에서 웹페이지를 여는 경우:\n",
    "    * 자신의 컴퓨터에서(클라이언트) 웹브라우저를 열어서 주소창에 웹주소를 입력하고,\n",
    "    * 네트워크를 통해 서버에 요청(Requests)하고, 웹페이지를 반환(Responses) 받고,\n",
    "    * 반환된 페이지 html을 스타일에 따라 브라우저에 표현한다. 이를 렌더링 (rendering)이라고 한다.\n",
    "    * html은 그대로 읽기가 불편하기 때문에, 웹브라우저를 사용하여 html을 보기 좋게 표현한다."
   ]
  },
  {
   "cell_type": "markdown",
   "metadata": {
    "slideshow": {
     "slide_type": "subslide"
    }
   },
   "source": [
    "* 가져오는 방식은 api를 제공하는지에 따라 구분할 수 있다. api를 제공하지 않는 경우로 좁혀서 크롤링이라고 한다.\n",
    "\n",
    "방식 | 설명\n",
    "-----|-----\n",
    "웹크롤링 | api를 제공하지 않는 경우, 프로그램을 작성해서 웹데이터, 대개의 경우 html을 가져온다.\n",
    "api | api를 사용하여 가져온다. xml, json 형식의 데이터를 반환한다."
   ]
  },
  {
   "cell_type": "markdown",
   "metadata": {
    "slideshow": {
     "slide_type": "subslide"
    }
   },
   "source": [
    "* 절차\n",
    "    * '데이터 분석'을 크롤링부터 시작하고, 정리-분석-시각화 추가적인 절차를 통해 완성할 수 있다.\n",
    "    * 데이터를 수집하는 크롤링을 세부적으로 구분하면 다음과 같다.\n",
    "\n",
    "단계 | 설명\n",
    "-------|-------\n",
    "url | 데이터를 가져올 도메인을 정한다. params까지 정해서 주소창에 연습해 본다.\n",
    "웹사이트에 요청(request) | url의 요청방식 GET, header를 정의한다.\n",
    "웹사이트 결과(response) 가져오기 | version, response code, body\n",
    "데이터항목 추출 | response에서 가져온 결과를 tree로 만들어 추출한다 (parser). 대개 html, xml, json형식을 가진다.\n",
    "저장 | csv, Sql, NoSql을 사용한다.\n",
    "반복하기 | 다음 페이지를 연속해서 가져올 경우, 다음 requests는 어떻게 정의할지 정의한다.\n"
   ]
  },
  {
   "cell_type": "code",
   "execution_count": 3,
   "metadata": {
    "collapsed": false,
    "slideshow": {
     "slide_type": "subslide"
    }
   },
   "outputs": [
    {
     "data": {
      "image/svg+xml": [
       "<svg height=\"154px\" style=\"width:265px;height:154px;\" version=\"1.1\" viewBox=\"0 0 265 154\" width=\"265px\" xmlns=\"http://www.w3.org/2000/svg\" xmlns:xlink=\"http://www.w3.org/1999/xlink\"><defs><filter height=\"300%\" id=\"f1\" width=\"300%\" x=\"-1\" y=\"-1\"><feGaussianBlur result=\"blurOut\" stdDeviation=\"2.0\"/><feColorMatrix in=\"blurOut\" result=\"blurOut2\" type=\"matrix\" values=\"0 0 0 0 0 0 0 0 0 0 0 0 0 0 0 0 0 0 .4 0\"/><feOffset dx=\"4.0\" dy=\"4.0\" in=\"blurOut2\" result=\"blurOut3\"/><feBlend in=\"SourceGraphic\" in2=\"blurOut3\" mode=\"normal\"/></filter></defs><g><line style=\"stroke: #A80036; stroke-width: 1.0; stroke-dasharray: 5.0,5.0;\" x1=\"45\" x2=\"45\" y1=\"38.2969\" y2=\"116.5625\"/><line style=\"stroke: #A80036; stroke-width: 1.0; stroke-dasharray: 5.0,5.0;\" x1=\"214.5\" x2=\"214.5\" y1=\"38.2969\" y2=\"116.5625\"/><rect fill=\"#FEFECE\" filter=\"url(#f1)\" height=\"30.2969\" style=\"stroke: #A80036; stroke-width: 1.5;\" width=\"70\" x=\"8\" y=\"3\"/><text fill=\"#000000\" font-family=\"sans-serif\" font-size=\"14\" lengthAdjust=\"spacingAndGlyphs\" textLength=\"56\" x=\"15\" y=\"22.9951\">browser</text><rect fill=\"#FEFECE\" filter=\"url(#f1)\" height=\"30.2969\" style=\"stroke: #A80036; stroke-width: 1.5;\" width=\"70\" x=\"8\" y=\"115.5625\"/><text fill=\"#000000\" font-family=\"sans-serif\" font-size=\"14\" lengthAdjust=\"spacingAndGlyphs\" textLength=\"56\" x=\"15\" y=\"135.5576\">browser</text><rect fill=\"#FEFECE\" filter=\"url(#f1)\" height=\"30.2969\" style=\"stroke: #A80036; stroke-width: 1.5;\" width=\"87\" x=\"169.5\" y=\"3\"/><text fill=\"#000000\" font-family=\"sans-serif\" font-size=\"14\" lengthAdjust=\"spacingAndGlyphs\" textLength=\"73\" x=\"176.5\" y=\"22.9951\">webServer</text><rect fill=\"#FEFECE\" filter=\"url(#f1)\" height=\"30.2969\" style=\"stroke: #A80036; stroke-width: 1.5;\" width=\"87\" x=\"169.5\" y=\"115.5625\"/><text fill=\"#000000\" font-family=\"sans-serif\" font-size=\"14\" lengthAdjust=\"spacingAndGlyphs\" textLength=\"73\" x=\"176.5\" y=\"135.5576\">webServer</text><polygon fill=\"#A80036\" points=\"203,65.2969,213,69.2969,203,73.2969,207,69.2969\" style=\"stroke: #A80036; stroke-width: 1.0;\"/><line style=\"stroke: #A80036; stroke-width: 1.0;\" x1=\"45\" x2=\"209\" y1=\"69.2969\" y2=\"69.2969\"/><text fill=\"#000000\" font-family=\"sans-serif\" font-size=\"13\" lengthAdjust=\"spacingAndGlyphs\" textLength=\"79\" x=\"52\" y=\"64.3638\">request (url)</text><polygon fill=\"#A80036\" points=\"56,94.4297,46,98.4297,56,102.4297,52,98.4297\" style=\"stroke: #A80036; stroke-width: 1.0;\"/><line style=\"stroke: #A80036; stroke-width: 1.0;\" x1=\"50\" x2=\"214\" y1=\"98.4297\" y2=\"98.4297\"/><text fill=\"#000000\" font-family=\"sans-serif\" font-size=\"13\" lengthAdjust=\"spacingAndGlyphs\" textLength=\"146\" x=\"62\" y=\"93.4966\">response (a web page)</text></g></svg>"
      ],
      "text/plain": [
       "<IPython.core.display.SVG object>"
      ]
     },
     "execution_count": 3,
     "metadata": {},
     "output_type": "execute_result"
    }
   ],
   "source": [
    "%%plantuml\n",
    "@startuml\n",
    "browser -> webServer:request (url)\n",
    "webServer -> browser:response (a web page)\n",
    "@enduml"
   ]
  },
  {
   "cell_type": "markdown",
   "metadata": {
    "slideshow": {
     "slide_type": "slide"
    }
   },
   "source": [
    "## 1.3 uri\n",
    "\n",
    "### 1.3.1 domain\n",
    "\n",
    "* URI Uniform Resource Identifier 특정자원을 지칭하는 고유명사\n",
    "* 형식\n",
    "    ```\n",
    "    scheme:[//[user:password@]host[:port]][/]path[?query][#fragment]\n",
    "    ```"
   ]
  },
  {
   "cell_type": "markdown",
   "metadata": {
    "slideshow": {
     "slide_type": "subslide"
    }
   },
   "source": [
    "* 가운데 많이 쓰이는 인터넷주소 url (Uniform Resource Locator)\n",
    "    * scheme에 http를 적는다. 예: http://www.smu.ac.kr\n",
    "    * 도메인 네임\n",
    "        * 영어로 된 도메인네임(www.smu.ac.kr)은 사람이, 컴퓨터는 숫자로 된 ip 주소\n",
    "        * DNS에서 도메인네임을 ip주소로 변환한다.\n",
    "    * 도메인에 전송되는 명령어 역할을 하는 params에서 설명"
   ]
  },
  {
   "cell_type": "markdown",
   "metadata": {
    "slideshow": {
     "slide_type": "subslide"
    }
   },
   "source": [
    "* 로컬 html 파일보기\n",
    "    * 주소창에 '로컬파일 주소'를 형식에 맞추어 입력한다.\n",
    "        ```\n",
    "        file://host/path/to/html\n",
    "        ```\n",
    "\n",
    "    * Python webbrowser를 사용할 수 있다.\n",
    "        * 로컬에 저장된 파일을 읽어오는 uri를 구성한다.\n",
    "        * 'localhost'는 자신의 컴퓨터 명칭 'hostname'이다. 그 IP주소는 127.0.0.1이다.\n",
    "        * 로컬파일을 부를 경우 'localhost'는 생략할 수 있다. \n",
    "            ```\n",
    "            file://localhost/home/jsl/Code/src/mypage1.html\n",
    "            file:///home/jsl/Code/src/mypage1.html\n",
    "            ```\n",
    "\n",
    "        * Python 웹브라우저webbrowser에서 파일을 여는 경우, **시간**이 좀 걸린다 (몇 초 정도)\n"
   ]
  },
  {
   "cell_type": "code",
   "execution_count": 18,
   "metadata": {
    "collapsed": false,
    "slideshow": {
     "slide_type": "subslide"
    }
   },
   "outputs": [
    {
     "name": "stdout",
     "output_type": "stream",
     "text": [
      "Overwriting src/mypage1.html\n"
     ]
    }
   ],
   "source": [
    "%%writefile src/mypage1.html\n",
    "<!DOCTYPE html>\n",
    "<html>\n",
    "<head>\n",
    "<title>My Home Page</title>\n",
    "</head>\n",
    "<body>\n",
    "<h1>안녕하십니까</h1>\n",
    "<p>오늘은 프로그래밍 하는 날...</p>\n",
    "<p>Today we do programming...</p>\n",
    "</body>\n",
    "</html>"
   ]
  },
  {
   "cell_type": "markdown",
   "metadata": {
    "slideshow": {
     "slide_type": "subslide"
    }
   },
   "source": [
    "* os.path.join()을 사용하여 디렉토리 구분자로 인한 오류를 막아준다.\n",
    "* os.path.join()은 현재 작업디렉토리 'os.getcwd()' + 'src' + 'mypage1.html'을 합쳐 준다.\n",
    "\n",
    "운영체제 | 디렉토리 구분자\n",
    "-----|-----\n",
    "윈도우 | ```\\```\n",
    "리눅스 | ```/```"
   ]
  },
  {
   "cell_type": "code",
   "execution_count": 1,
   "metadata": {
    "collapsed": false,
    "slideshow": {
     "slide_type": "subslide"
    }
   },
   "outputs": [
    {
     "data": {
      "text/plain": [
       "True"
      ]
     },
     "execution_count": 1,
     "metadata": {},
     "output_type": "execute_result"
    }
   ],
   "source": [
    "import webbrowser\n",
    "import os\n",
    "\n",
    "myuri='file://'+'localhost'+os.path.join(os.getcwd(), 'src','mypage1.html')\n",
    "#print myuri\n",
    "webbrowser.open(myuri)"
   ]
  },
  {
   "cell_type": "markdown",
   "metadata": {
    "slideshow": {
     "slide_type": "subslide"
    }
   },
   "source": [
    "* 인터넷에서는 'UTF-8'을 사용한다. https://www.w3.org/International/questions/qa-choosing-encodings\n",
    "* 한글을 깨지지 않게 하려면, meta charset을 utf-8로 지정한다."
   ]
  },
  {
   "cell_type": "code",
   "execution_count": 2,
   "metadata": {
    "collapsed": false,
    "slideshow": {
     "slide_type": "-"
    }
   },
   "outputs": [
    {
     "name": "stdout",
     "output_type": "stream",
     "text": [
      "Overwriting src/mypage2.html\n"
     ]
    }
   ],
   "source": [
    "%%writefile src/mypage2.html\n",
    "<!DOCTYPE html>\n",
    "<html>\n",
    "<head>\n",
    "<meta charset=\"UTF-8\">\n",
    "<title>My Home Page</title>\n",
    "</head>\n",
    "<body>\n",
    "<h1>안녕하십니까</h1>\n",
    "<p>오늘은 프로그래밍 하는 날...</p>\n",
    "<p>Today we do programming...</p>\n",
    "</body>\n",
    "</html>"
   ]
  },
  {
   "cell_type": "code",
   "execution_count": 4,
   "metadata": {
    "collapsed": false,
    "slideshow": {
     "slide_type": "-"
    }
   },
   "outputs": [
    {
     "data": {
      "text/plain": [
       "True"
      ]
     },
     "execution_count": 4,
     "metadata": {},
     "output_type": "execute_result"
    }
   ],
   "source": [
    "webbrowser.open(myuri)"
   ]
  },
  {
   "cell_type": "markdown",
   "metadata": {
    "slideshow": {
     "slide_type": "subslide"
    }
   },
   "source": [
    "* ipython notebook에서 html을 표현한다.\n",
    "    * 셀에 내용을 입력하고 '%%html' 명령어를 사용한다."
   ]
  },
  {
   "cell_type": "code",
   "execution_count": 3,
   "metadata": {
    "collapsed": false,
    "slideshow": {
     "slide_type": "-"
    }
   },
   "outputs": [
    {
     "data": {
      "text/html": [
       "<!DOCTYPE html>\n",
       "<html>\n",
       "<head>\n",
       "<meta charset=\"UTF-8\">\n",
       "<title>My Home Page</title>\n",
       "</head>\n",
       "<body>\n",
       "<h1>안녕하십니까</h1>\n",
       "<p>오늘은 프로그래밍 하는 날...</p>\n",
       "<p>Today we do programming...</p>\n",
       "</body>\n",
       "</html>"
      ],
      "text/plain": [
       "<IPython.core.display.HTML object>"
      ]
     },
     "metadata": {},
     "output_type": "display_data"
    }
   ],
   "source": [
    "%%HTML\n",
    "<!DOCTYPE html>\n",
    "<html>\n",
    "<head>\n",
    "<meta charset=\"UTF-8\">\n",
    "<title>My Home Page</title>\n",
    "</head>\n",
    "<body>\n",
    "<h1>안녕하십니까</h1>\n",
    "<p>오늘은 프로그래밍 하는 날...</p>\n",
    "<p>Today we do programming...</p>\n",
    "</body>\n",
    "</html>"
   ]
  },
  {
   "cell_type": "markdown",
   "metadata": {
    "slideshow": {
     "slide_type": "subslide"
    }
   },
   "source": [
    "* 원격 url\n",
    "    * 주소창에 http 프로토콜을 사용하여 url을 열 수 있다.\n",
    "    * Python에 직접 하려면 webbrowser를 사용하면 된다.\n",
    "        * google maps에 접속해서,\n",
    "        * 'jongro gu hongji dong' 문자열을 입력한다.\n",
    "        * 그리고 주소창의 domain과 그 뒤에 붙는 검색어를 보면 '/maps/place/'에 주소가 '+'로 연결되어 있다."
   ]
  },
  {
   "cell_type": "code",
   "execution_count": 32,
   "metadata": {
    "collapsed": false,
    "slideshow": {
     "slide_type": "-"
    }
   },
   "outputs": [
    {
     "data": {
      "text/plain": [
       "True"
      ]
     },
     "execution_count": 32,
     "metadata": {},
     "output_type": "execute_result"
    }
   ],
   "source": [
    "#브라우저에서 지도 열기\n",
    "import webbrowser\n",
    "myurl='https://www.google.co.kr/maps/place/Hongji-dong,+Jongno-gu,+Seoul/'\n",
    "webbrowser.open(myurl)"
   ]
  },
  {
   "cell_type": "markdown",
   "metadata": {
    "collapsed": true,
    "slideshow": {
     "slide_type": "subslide"
    }
   },
   "source": [
    "### 1.3.2 params\n",
    "\n",
    "* query string은 다음과 같이 구성한다.\n",
    "```\n",
    "http://example.com/over/there?name=ferret\n",
    "```\n",
    "* web form을 사용할 경우 query string\n",
    "    * field와 값을 한 쌍으로 구성, field=value\n",
    "    * 구분자는 & (또는 세미콜론 ;)\n",
    "```\n",
    "field1=value1&field2=value2&field3=value3...\n",
    "```\n",
    "\n",
    "* 위 지도를 열 경우와 같이, 검색어를 '+'로 붙여 쓰기도 한다."
   ]
  },
  {
   "cell_type": "code",
   "execution_count": 9,
   "metadata": {
    "collapsed": false,
    "slideshow": {
     "slide_type": "subslide"
    }
   },
   "outputs": [
    {
     "name": "stdout",
     "output_type": "stream",
     "text": [
      "a=4&c=2016&b=20&e=30&d=6&f=2016&s=%5EKS11\n"
     ]
    }
   ],
   "source": [
    "import urllib\n",
    "params = urllib.urlencode({\"a\":4,\"b\":20,\"c\":2016,\"d\":6,\"e\":30,\"f\":2016,\"s\":\"^KS11\"})\n",
    "print params"
   ]
  },
  {
   "cell_type": "markdown",
   "metadata": {
    "slideshow": {
     "slide_type": "subslide"
    }
   },
   "source": [
    "* URL 인코딩\n",
    "    * 인터넷에서는 ASCII문자를 사용한다.\n",
    "    * 특수문자는 '%xx', 즉'%'와 그 뒤 16진수로 문자로 부호화 한다.\n",
    "        * 공백의 경우 '+' 또는 '%20'으로 표현한다.\n",
    "        * '#'은 '%23'으로 표현된다.\n",
    "    * quote()를 사용 (참조, ds_REST.ipynb)"
   ]
  },
  {
   "cell_type": "markdown",
   "metadata": {
    "slideshow": {
     "slide_type": "subslide"
    }
   },
   "source": [
    "* 구글 검색에서의 params\n",
    "    * python을 검색하는 경우\n",
    "```\n",
    "https://www.google.co.kr/#q=python\n",
    "https://www.google.co.kr/search?q=python\n",
    "```\n",
    "\n",
    "    * 'python tutorial'을 검색할 경우\n",
    "```\n",
    "https://www.google.co.kr/#q=python+tutorial\n",
    "```"
   ]
  },
  {
   "cell_type": "code",
   "execution_count": 1,
   "metadata": {
    "collapsed": false,
    "slideshow": {
     "slide_type": "subslide"
    }
   },
   "outputs": [
    {
     "name": "stdout",
     "output_type": "stream",
     "text": [
      "%23q=python+tutorial\n"
     ]
    }
   ],
   "source": [
    "import urllib\n",
    "params = urllib.urlencode({\"#q\": \"python tutorial\"})\n",
    "print params"
   ]
  },
  {
   "cell_type": "code",
   "execution_count": 15,
   "metadata": {
    "collapsed": false,
    "scrolled": true,
    "slideshow": {
     "slide_type": "subslide"
    }
   },
   "outputs": [
    {
     "name": "stdout",
     "output_type": "stream",
     "text": [
      "%7E\n",
      "~\n"
     ]
    }
   ],
   "source": [
    "print urllib.quote('~');\n",
    "print urllib.quote('~', safe='~');"
   ]
  },
  {
   "cell_type": "code",
   "execution_count": 17,
   "metadata": {
    "collapsed": false,
    "slideshow": {
     "slide_type": "subslide"
    }
   },
   "outputs": [
    {
     "name": "stdout",
     "output_type": "stream",
     "text": [
      "%20\n",
      "+\n"
     ]
    }
   ],
   "source": [
    "print urllib.quote(' ')\n",
    "print urllib.quote_plus(' ')"
   ]
  },
  {
   "cell_type": "code",
   "execution_count": 11,
   "metadata": {
    "collapsed": false,
    "slideshow": {
     "slide_type": "subslide"
    }
   },
   "outputs": [
    {
     "name": "stdout",
     "output_type": "stream",
     "text": [
      "http://www.google.com/#q=python+tutorial\n"
     ]
    }
   ],
   "source": [
    "url = 'http://www.google.com/#q='\n",
    "print url + urllib.quote_plus('python tutorial')"
   ]
  },
  {
   "cell_type": "markdown",
   "metadata": {
    "slideshow": {
     "slide_type": "slide"
    }
   },
   "source": [
    "## 1.4 url 가져오기\n",
    "\n",
    "### 1.4.1 library\n",
    "\n",
    "* urllib - handles opening and reading URLs\n",
    "    * Python 3.x에서 urllib를 개정해서 1) urllib.request, 2) urllib.parse, 3) urllib.error로 나눔.\n",
    "    * 제공하는 기능이 서로 차이가 있어, urllib과 urllib2를 같이 사용하기도 한다.\n",
    "\n",
    "구분 | 차이\n",
    "-----|-----\n",
    "urllib | GET query를 생성하기 위한 urlencode()를 사용할 수 있다.\n",
    "urllib2 | 'Request'를 사용할 수 있다.\n",
    "\n",
    "* httplib - handles http requests, urllib내부에서 사용하고 있슴.\n",
    "* requests - web page가져오거나, API를 사용할 때. 아래는 서로 같은 기능을 한다.\n",
    "```\n",
    "urllib2.urlopen(url).read()\n",
    "requests.get(url).text\n",
    "```"
   ]
  },
  {
   "cell_type": "markdown",
   "metadata": {
    "slideshow": {
     "slide_type": "subslide"
    }
   },
   "source": [
    "* urllib2에서 페이지 가져오는 함수 urlopen()\n",
    "* 사용하고 close() 한다."
   ]
  },
  {
   "cell_type": "code",
   "execution_count": 5,
   "metadata": {
    "collapsed": false,
    "slideshow": {
     "slide_type": "-"
    }
   },
   "outputs": [],
   "source": [
    "import urllib2\n",
    "response = urllib2.urlopen(\"https://www.python.org/\")\n",
    "html=response.read()\n",
    "response.close()"
   ]
  },
  {
   "cell_type": "markdown",
   "metadata": {
    "slideshow": {
     "slide_type": "subslide"
    }
   },
   "source": [
    "* urllib2 라이브러리는 Request를 사용할 수 있다.\n",
    "* response의 결과 html을 500자만 읽어서 확인했다."
   ]
  },
  {
   "cell_type": "code",
   "execution_count": 26,
   "metadata": {
    "collapsed": false,
    "slideshow": {
     "slide_type": "subslide"
    }
   },
   "outputs": [
    {
     "name": "stdout",
     "output_type": "stream",
     "text": [
      "<!doctype html>\n",
      "<!--[if lt IE 7]>   <html class=\"no-js ie6 lt-ie7 lt-ie8 lt-ie9\">   <![endif]-->\n",
      "<!--[if IE 7]>      <html class=\"no-js ie7 lt-ie8 lt-ie9\">          <![endif]-->\n",
      "<!--[if IE 8]>      <html class=\"no-js ie8 lt-ie9\">                 <![endif]-->\n",
      "<!--[if gt IE 8]><!--><html class=\"no-js\" lang=\"en\" dir=\"ltr\">  <!--<![endif]-->\n",
      "\n",
      "<head>\n",
      "    <meta charset=\"utf-8\">\n",
      "    <meta http-equiv=\"X-UA-Compatible\" content=\"IE=edge\">\n",
      "\n",
      "    <link rel=\"prefetch\" href=\"//ajax.googleapis.com/ajax/libs/jqu\n"
     ]
    }
   ],
   "source": [
    "import urllib2\n",
    "url = 'http://www.python.org'\n",
    "request = urllib2.Request(url)\n",
    "response = urllib2.urlopen(request)\n",
    "html = response.read()\n",
    "print html[:500]"
   ]
  },
  {
   "cell_type": "markdown",
   "metadata": {
    "collapsed": true,
    "slideshow": {
     "slide_type": "subslide"
    }
   },
   "source": [
    "### 1.4.2 HTTP errors\n",
    "\n",
    "* urllib2.HTTPError 또는 urllib2.URLError\n",
    "* error.code (참조 https://en.wikipedia.org/wiki/List_of_HTTP_status_codes)\n",
    "\n",
    "코드 | 구분 | 예\n",
    "-----|-----|-----\n",
    "1xx | Informational | \n",
    "2xx | Success | 200 OK, 201 Created, 202 Accepted\n",
    "3xx | Redirection | \n",
    "4xx | 클라이언트 오류 | 400 Bad Request, 404 Not Found\n",
    "5xx | 서버 오류 | 500 Internal Server Error\n",
    "\n",
    "* 오류의 처리\n",
    "    * 오류가 발생하였는지 try, except문으로 처리할 수 있다.\n",
    "    * html에 저장된 내용이 없는 경우 'None'으로 확인할 수 있다."
   ]
  },
  {
   "cell_type": "code",
   "execution_count": 27,
   "metadata": {
    "collapsed": false,
    "slideshow": {
     "slide_type": "subslide"
    }
   },
   "outputs": [
    {
     "name": "stdout",
     "output_type": "stream",
     "text": [
      "404 OK\n"
     ]
    }
   ],
   "source": [
    "req = urllib2.Request('http://www.python.org/fish.html')\n",
    "\n",
    "try:\n",
    "    response=urllib2.urlopen(req)\n",
    "except urllib2.HTTPError, e:\n",
    "    print e.code, e.reason"
   ]
  },
  {
   "cell_type": "code",
   "execution_count": 28,
   "metadata": {
    "collapsed": false,
    "slideshow": {
     "slide_type": "subslide"
    }
   },
   "outputs": [
    {
     "name": "stdout",
     "output_type": "stream",
     "text": [
      "html has something!\n"
     ]
    }
   ],
   "source": [
    "if html is None:\n",
    "    print(\"URL is not found\")\n",
    "else:\n",
    "    print \"html has something!\""
   ]
  },
  {
   "cell_type": "markdown",
   "metadata": {
    "slideshow": {
     "slide_type": "slide"
    }
   },
   "source": [
    "## 1.5 BeautifulSoup\n",
    "\n",
    "* 많이 사용되는 Python 라이브러리\n",
    "* html, xml을 파싱할 수 있다.\n",
    "* 이전 버전은 더 이상 지원되지 않으므로, 버전은 4로 한다.\n",
    "```\n",
    "pip install beautifulsoup4\n",
    "```\n",
    "\n",
    "* 파서를 넣어주지 않으면 기본 파서를 사용한다.\n",
    "\n",
    "파서 | 설정\n",
    "-----|-----\n",
    "Python html.parser | BeautifulSoup(markup, \"html.parser\")\n",
    "lxml parser | BeautifulSoup(markup, \"lxml\")"
   ]
  },
  {
   "cell_type": "markdown",
   "metadata": {
    "slideshow": {
     "slide_type": "subslide"
    }
   },
   "source": [
    "* requests로 url의 페이지를 가져와서, 그 페이지를 BeautifulSoup으로 parsing한다.\n",
    "* class 다음에는 _를 넣어 준다. 또는 key-value 형식으로 맞추어 준다."
   ]
  },
  {
   "cell_type": "code",
   "execution_count": 5,
   "metadata": {
    "collapsed": false,
    "scrolled": true,
    "slideshow": {
     "slide_type": "-"
    }
   },
   "outputs": [
    {
     "name": "stdout",
     "output_type": "stream",
     "text": [
      "<title>Welcome to Python.org</title>\n",
      "[<div class=\"top-bar do-not-print\" id=\"top\">\\n<nav class=\"meta-navigation container\" role=\"navigation\">\\n<div class=\"skip-link screen-reader-text\">\\n<a href=\"#content\" title=\"Skip to content\">Skip to content</a>\\n</div>\\n<a aria-hidden=\"true\" class=\"jump-link\" href=\"#python-network\" id=\"close-python-network\">\\n<span aria-hidden=\"true\" class=\"icon-arrow-down\"><span>\\u25bc</span></span> Close\\n                </a>\\n<ul class=\"menu\" role=\"tree\">\\n<li class=\"python-meta current_item selectedcurrent_branch selected\">\\n<a class=\"current_item selectedcurrent_branch selected\" href=\"/\" title=\"The Python Programming Language\">Python</a>\\n</li>\\n<li class=\"psf-meta \">\\n<a href=\"/psf-landing/\" title=\"The Python Software Foundation\">PSF</a>\\n</li>\\n<li class=\"docs-meta \">\\n<a href=\"https://docs.python.org\" title=\"Python Documentation\">Docs</a>\\n</li>\\n<li class=\"pypi-meta \">\\n<a href=\"https://pypi.python.org/\" title=\"Python Package Index\">PyPI</a>\\n</li>\\n<li class=\"jobs-meta \">\\n<a href=\"/jobs/\" title=\"Python Job Board\">Jobs</a>\\n</li>\\n<li class=\"shop-meta \">\\n<a href=\"/community/\" title=\"Python Community\">Community</a>\\n</li>\\n</ul>\\n<a aria-hidden=\"true\" class=\"jump-link\" href=\"#top\" id=\"python-network\">\\n<span aria-hidden=\"true\" class=\"icon-arrow-up\"><span>\\u25b2</span></span> The Python Network\\n                </a>\\n</nav>\\n</div>]\n"
     ]
    }
   ],
   "source": [
    "from bs4 import BeautifulSoup\n",
    "import requests\n",
    "page = requests.get(\"https://www.python.org/\")\n",
    "soup = BeautifulSoup(page.content)\n",
    "print soup.title\n",
    "print soup.find_all('div',class_=\"do-not-print\", id=\"top\")"
   ]
  },
  {
   "cell_type": "code",
   "execution_count": 12,
   "metadata": {
    "collapsed": false,
    "slideshow": {
     "slide_type": "subslide"
    }
   },
   "outputs": [
    {
     "name": "stdout",
     "output_type": "stream",
     "text": [
      "[<div class=\"top-bar do-not-print\" id=\"top\">\\n<nav class=\"meta-navigation container\" role=\"navigation\">\\n<div class=\"skip-link screen-reader-text\">\\n<a href=\"#content\" title=\"Skip to content\">Skip to content</a>\\n</div>\\n<a aria-hidden=\"true\" class=\"jump-link\" href=\"#python-network\" id=\"close-python-network\">\\n<span aria-hidden=\"true\" class=\"icon-arrow-down\"><span>\\u25bc</span></span> Close\\n                </a>\\n<ul class=\"menu\" role=\"tree\">\\n<li class=\"python-meta current_item selectedcurrent_branch selected\">\\n<a class=\"current_item selectedcurrent_branch selected\" href=\"/\" title=\"The Python Programming Language\">Python</a>\\n</li>\\n<li class=\"psf-meta \">\\n<a href=\"/psf-landing/\" title=\"The Python Software Foundation\">PSF</a>\\n</li>\\n<li class=\"docs-meta \">\\n<a href=\"https://docs.python.org\" title=\"Python Documentation\">Docs</a>\\n</li>\\n<li class=\"pypi-meta \">\\n<a href=\"https://pypi.python.org/\" title=\"Python Package Index\">PyPI</a>\\n</li>\\n<li class=\"jobs-meta \">\\n<a href=\"/jobs/\" title=\"Python Job Board\">Jobs</a>\\n</li>\\n<li class=\"shop-meta \">\\n<a href=\"/community/\" title=\"Python Community\">Community</a>\\n</li>\\n</ul>\\n<a aria-hidden=\"true\" class=\"jump-link\" href=\"#top\" id=\"python-network\">\\n<span aria-hidden=\"true\" class=\"icon-arrow-up\"><span>\\u25b2</span></span> The Python Network\\n                </a>\\n</nav>\\n</div>]\n"
     ]
    }
   ],
   "source": [
    "print soup.find_all('div',{'class': 'do-not-print','id':'top'})"
   ]
  },
  {
   "cell_type": "markdown",
   "metadata": {
    "slideshow": {
     "slide_type": "subslide"
    }
   },
   "source": [
    "* a link의 href를 구할 수 있다."
   ]
  },
  {
   "cell_type": "code",
   "execution_count": 11,
   "metadata": {
    "collapsed": false,
    "slideshow": {
     "slide_type": "-"
    }
   },
   "outputs": [
    {
     "name": "stdout",
     "output_type": "stream",
     "text": [
      "0 #content\n",
      "1 #python-network\n",
      "2 /\n",
      "3 /psf-landing/\n",
      "4 https://docs.python.org\n",
      "5 https://pypi.python.org/\n",
      "6 /jobs/\n",
      "7 /community/\n",
      "8 #top\n",
      "9 /\n",
      "10 #site-map\n",
      "11 #\n",
      "12 javascript:;\n",
      "13 javascript:;\n",
      "14 javascript:;\n",
      "15 #\n",
      "16 http://plus.google.com/+Python\n",
      "17 http://www.facebook.com/pythonlang?fref=ts\n",
      "18 http://twitter.com/ThePSF\n",
      "19 /community/irc/\n"
     ]
    }
   ],
   "source": [
    "for counter,link in enumerate(soup.find_all('a')):\n",
    "    if(counter<20):\n",
    "        print counter,link.get('href')"
   ]
  },
  {
   "cell_type": "markdown",
   "metadata": {
    "slideshow": {
     "slide_type": "slide"
    }
   },
   "source": [
    "## 웹데이터-1: python.org 페이지를 크롤링해서 http url 출력하기\n",
    "\n",
    "* 사용자가 웹브라우저 주소창에 url을 입력하고 웹페이지를 요청하는 것과 같이 Python.org페이지를 크롤링해 온다.\n",
    "* 다음 방식으로 해 본다.\n",
    "    * BeautifulSoup"
   ]
  },
  {
   "cell_type": "markdown",
   "metadata": {
    "slideshow": {
     "slide_type": "slide"
    }
   },
   "source": [
    "### BeautifulSoup\n",
    "\n",
    "* 태그를 파싱하는 라이브러리\n",
    "* 설치를 하지 않았다면:\n",
    "    * 윈도우 아나콘다창 또는 맥/리눅스 Terminal에서 설치를 한다. 'sudo'는 관리자 권한이다.\n",
    "    ```\n",
    "    sudo pip install BeautifulSoup\n",
    "    ```\n",
    "\n",
    "* 위 예제, p 태그의 처음에 있는 strong 태그 가져오기\n",
    "* 파서parser, lxml을 추가한다."
   ]
  },
  {
   "cell_type": "code",
   "execution_count": 1,
   "metadata": {
    "collapsed": false,
    "slideshow": {
     "slide_type": "-"
    }
   },
   "outputs": [
    {
     "name": "stdout",
     "output_type": "stream",
     "text": [
      "47425\n"
     ]
    }
   ],
   "source": [
    "import urllib\n",
    "uResponse = urllib.urlopen('http://python.org/')\n",
    "_html = uResponse.read()\n",
    "print len(_html)"
   ]
  },
  {
   "cell_type": "code",
   "execution_count": 2,
   "metadata": {
    "collapsed": false,
    "slideshow": {
     "slide_type": "slide"
    }
   },
   "outputs": [
    {
     "name": "stdout",
     "output_type": "stream",
     "text": [
      "<strong>Notice:</strong>\n",
      "<strong><small>A</small> A</strong>\n",
      "<strong>relaunched community-run job board</strong>\n"
     ]
    }
   ],
   "source": [
    "from bs4 import BeautifulSoup\n",
    "tree=BeautifulSoup(_html, \"lxml\")\n",
    "strongtags=tree('strong')\n",
    "for tag in strongtags:\n",
    "    print tag"
   ]
  },
  {
   "cell_type": "markdown",
   "metadata": {
    "slideshow": {
     "slide_type": "slide"
    }
   },
   "source": [
    "* urllib을 사용해서, html을 가져온다.\n",
    "* 20개만 출력한다. 전체 개수는 맨 마지막 줄에 출력한다."
   ]
  },
  {
   "cell_type": "code",
   "execution_count": 3,
   "metadata": {
    "collapsed": false,
    "scrolled": true,
    "slideshow": {
     "slide_type": "slide"
    }
   },
   "outputs": [
    {
     "name": "stdout",
     "output_type": "stream",
     "text": [
      "0 /wiki/Wikipedia:Protection_policy#semi\n",
      "1 #mw-head\n",
      "2 #p-search\n",
      "3 /wiki/HTM_(disambiguation)\n",
      "4 /wiki/Help:HTML_in_wikitext\n",
      "5 /wiki/File:HTML.svg\n",
      "6 /wiki/Filename_extension\n",
      "7 /wiki/Media_type\n",
      "8 /wiki/Type_code\n",
      "9 /wiki/World_Wide_Web_Consortium\n",
      "10 /wiki/WHATWG\n",
      "11 /wiki/Software_release_life_cycle\n",
      "12 /wiki/HTML5\n",
      "13 /wiki/Document_file_format\n",
      "14 /wiki/Standard_Generalized_Markup_Language\n",
      "15 /wiki/XHTML\n",
      "16 /wiki/International_standard\n",
      "17 http://www.w3.org/TR/html/\n",
      "18 http://whatwg.org/html\n",
      "19 http://www.w3.org/TR/html51/\n",
      "Total:  1610\n"
     ]
    }
   ],
   "source": [
    "from urllib import urlopen\n",
    "from bs4 import BeautifulSoup\n",
    "#_html = urlopen(\"http://en.wikipedia.org/wiki/Kevin_Bacon\")\n",
    "_html = urlopen(\"http://en.wikipedia.org/wiki/HTML\").read()\n",
    "tree = BeautifulSoup(_html, \"lxml\")\n",
    "counter=0\n",
    "for link in tree.findAll(\"a\"):\n",
    "    if 'href' in link.attrs:\n",
    "        if counter<20:\n",
    "            print counter, link.attrs['href']\n",
    "        counter+=1\n",
    "print \"Total: \", counter"
   ]
  },
  {
   "cell_type": "code",
   "execution_count": null,
   "metadata": {
    "collapsed": true
   },
   "outputs": [],
   "source": []
  }
 ],
 "metadata": {
  "celltoolbar": "Slideshow",
  "kernelspec": {
   "display_name": "Python 2",
   "language": "python",
   "name": "python2"
  },
  "language_info": {
   "codemirror_mode": {
    "name": "ipython",
    "version": 2
   },
   "file_extension": ".py",
   "mimetype": "text/x-python",
   "name": "python",
   "nbconvert_exporter": "python",
   "pygments_lexer": "ipython2",
   "version": "2.7.12"
  }
 },
 "nbformat": 4,
 "nbformat_minor": 0
}
