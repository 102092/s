{
 "cells": [
  {
   "cell_type": "markdown",
   "metadata": {
    "slideshow": {
     "slide_type": "slide"
    }
   },
   "source": [
    "# 저장\n",
    "\n",
    "* Last Updated: 20170401 20161006\n",
    "\n",
    "## S.1 학습내용\n",
    "\n",
    "### S.1.1 목표\n",
    "\n",
    "* 데이터를 json, csv 파일로 쓰고, 읽을 수 있다.\n",
    "* 데이터를 NoSql로 저장하고, 사용할 수 있다."
   ]
  },
  {
   "cell_type": "markdown",
   "metadata": {
    "slideshow": {
     "slide_type": "slide"
    }
   },
   "source": [
    "### S.1.2 목차\n",
    "\n",
    "* S.2 파일\n",
    "* S.2.1 JSON 파일\n",
    "* S.2.2 csv 파일\n",
    "* S.2 MongoDB\n",
    "* S.2.1 설치\n",
    "* S.2.2 MongoDB shell\n",
    "* S.2.3 pymongo\n",
    "* S.3 CouchDB\n",
    "* S.3.1 설치\n",
    "* S.3.2 cURL\n",
    "* S.3.3 데이터베이스\n",
    "* S.3.4 View\n",
    "* S.3.5 Shows\n",
    "* S.3.6 Replication"
   ]
  },
  {
   "cell_type": "markdown",
   "metadata": {
    "slideshow": {
     "slide_type": "subslide"
    }
   },
   "source": [
    "### S.1.3 문제\n",
    "\n",
    "* 문제 S-1: JSON 파일 쓰기\n",
    "* 문제 S-2: JSON 파일 읽기\n",
    "* 문제 S-3: url에서 JSON을 읽기\n",
    "* 문제 S-4: 웹파일을 가져와서 자료구조에 넣기\n",
    "* 문제 S-5: Mongo shell\n",
    "* 문제 S-6: Python으로 MongoDB 사용하기\n",
    "* 문제 S-7: CouchDB 문서\n",
    "\n",
    "### S.1.4 연습\n",
    "\n",
    "* 웹크롤링 데이터를 MongoDB로 저장한다."
   ]
  },
  {
   "cell_type": "markdown",
   "metadata": {
    "slideshow": {
     "slide_type": "slide"
    }
   },
   "source": [
    "## S.2 파일\n",
    "\n",
    "### S.2.1 JSON 파일\n",
    "\n",
    "* JSON은 데이터를 저장하는 형식이다.\n",
    "* JSON은 자바스크립트에서 사용하는 형식이다 (JavaScript Object Notation).\n",
    "* Javascript뿐만 아니라, 다른 프로그래밍 언어도 JSON을 많이 사용한다.\n"
   ]
  },
  {
   "cell_type": "markdown",
   "metadata": {
    "slideshow": {
     "slide_type": "subslide"
    }
   },
   "source": [
    "* JSON 형식\n",
    "    * 형식은 key와 value의 쌍으로 이루어져 있다.\n",
    "    * 콜론으로 구분하여 key, value를 구성한다.\n",
    "    * id='405'의 JSON 예:\n",
    "```\n",
    "\"id\": \"405\"\n",
    "```\n"
   ]
  },
  {
   "cell_type": "markdown",
   "metadata": {
    "slideshow": {
     "slide_type": "subslide"
    }
   },
   "source": [
    "* JSON 객체\n",
    "    * JSON 객체로 key, value를 저장할 수 있다.\n",
    "    * key가 ASCII문자이면 'str', non-ASCII 문자가 포함되면 'unicode'로 변환된다.\n",
    "    * JSON은 Python dict와 서로 호환된다.\n",
    "    * id,405 및 name,js인 JSON 객체의 예:\n",
    "```\n",
    "{ \"id\": \"405\", \"name\": \"js\" }\n",
    "```\n"
   ]
  },
  {
   "cell_type": "markdown",
   "metadata": {
    "slideshow": {
     "slide_type": "subslide"
    }
   },
   "source": [
    "* key의 데이터타잎을 확인한다. key가 한글일 경우, 즉 non-ASCII문자를 포함하고 있으면 'unicode'를 출력한다.\n",
    "* '\\x'는 16진수, '\\u'는 unicode이다.\n",
    "* ord()는 ordinal integer, hex()는 16진수를 출력하는 함수이다."
   ]
  },
  {
   "cell_type": "code",
   "execution_count": 124,
   "metadata": {
    "collapsed": false,
    "slideshow": {
     "slide_type": "-"
    }
   },
   "outputs": [
    {
     "name": "stdout",
     "output_type": "stream",
     "text": [
      "{'id': '405', 'name': 'js'}\n",
      "{'id': '405', '\\xec\\x9d\\xb4\\xeb\\xa6\\x84': 'js'}\n",
      "{u'\\uc774\\ub984': 'js', 'id': '405'}\n"
     ]
    }
   ],
   "source": [
    "import json\n",
    "\n",
    "user1={ \"id\": \"405\", \"name\": \"js\" }\n",
    "user2={ \"id\": \"405\", \"이름\": \"js\" }\n",
    "user3={ \"id\": \"405\", u\"이름\": \"js\" }\n",
    "\n",
    "print user1\n",
    "print user2\n",
    "print user3"
   ]
  },
  {
   "cell_type": "code",
   "execution_count": 10,
   "metadata": {
    "collapsed": false,
    "scrolled": true,
    "slideshow": {
     "slide_type": "-"
    }
   },
   "outputs": [
    {
     "name": "stdout",
     "output_type": "stream",
     "text": [
      "이\n",
      "236\n",
      "0xec\n"
     ]
    }
   ],
   "source": [
    "print '\\xec\\x9d\\xb4'\n",
    "print ord('\\xec')\n",
    "print hex(ord('\\xec'))"
   ]
  },
  {
   "cell_type": "code",
   "execution_count": 122,
   "metadata": {
    "collapsed": false,
    "slideshow": {
     "slide_type": "-"
    }
   },
   "outputs": [
    {
     "name": "stdout",
     "output_type": "stream",
     "text": [
      "<type 'dict'>\n"
     ]
    }
   ],
   "source": [
    "print type(user1)"
   ]
  },
  {
   "cell_type": "markdown",
   "metadata": {
    "slideshow": {
     "slide_type": "slide"
    }
   },
   "source": [
    "* JSON Array\n",
    "    * value가 배열을 가질 수 있다. 이 경우 배열은 Python list로 구성한다.\n",
    "```\n",
    "[ { ... } ]\n",
    "```\n",
    "\n",
    "    * key는 'Persons', value는 배열로 구성한 예:\n",
    "```\n",
    "{\"Persons\":[\n",
    "    {\"id\":\"405\", \"name\":\"js1\"},\n",
    "    {\"id\":\"406\", \"name\":\"js2\"},\n",
    "]}\n",
    "```"
   ]
  },
  {
   "cell_type": "code",
   "execution_count": 1,
   "metadata": {
    "collapsed": false,
    "slideshow": {
     "slide_type": "subslide"
    }
   },
   "outputs": [
    {
     "name": "stdout",
     "output_type": "stream",
     "text": [
      "{'Persons': [{'id': '405', 'name': 'js1'}, {'id': '406', 'name': 'js2'}]}\n"
     ]
    }
   ],
   "source": [
    "import json\n",
    "\n",
    "p={\"Persons\":[\n",
    "    {\"id\":\"405\", \"name\":\"js1\"},\n",
    "    {\"id\":\"406\", \"name\":\"js2\"},\n",
    "]}\n",
    "\n",
    "print p"
   ]
  },
  {
   "cell_type": "markdown",
   "metadata": {
    "slideshow": {
     "slide_type": "subslide"
    }
   },
   "source": [
    "* JSON 파일 함수\n",
    "    * 함수의 맨끝 's'를 string으로 생각하면 편리하다.\n",
    "\n",
    "함수 | 설명\n",
    "-----|-----\n",
    "loads() | JSON을 문자열에서 읽기\n",
    "dumps() | JSON을 문자열로 쓰기\n",
    "load() | JSON을 파일에서 읽기\n",
    "dump() | JSON을 파일에 쓰기\n"
   ]
  },
  {
   "cell_type": "markdown",
   "metadata": {
    "slideshow": {
     "slide_type": "slide"
    }
   },
   "source": [
    "## 문제 JSON-1: JSON 파일 쓰기\n",
    "\n",
    "* 파일 확장자 .json\n",
    "* 문자열로 변환할 경우, dumps()를 사용한다.\n",
    "* 문자열을 나타내는 따옴표로 둘러싸여 출력된다."
   ]
  },
  {
   "cell_type": "code",
   "execution_count": 1,
   "metadata": {
    "collapsed": false,
    "slideshow": {
     "slide_type": "-"
    }
   },
   "outputs": [
    {
     "name": "stdout",
     "output_type": "stream",
     "text": [
      "{\"Persons\": [{\"name\": \"js1\", \"\\uc774\\ub984\": \"405\"}, {\"name\": \"js2\", \"\\uc774\\ub984\": \"406\"}]}\n"
     ]
    }
   ],
   "source": [
    "import json\n",
    "\n",
    "p={\"Persons\":[\n",
    "    {\"이름\":\"405\", \"name\":\"js1\"},\n",
    "    {\"이름\":\"406\", \"name\":\"js2\"},\n",
    "]}\n",
    "\n",
    "print json.dumps(p)"
   ]
  },
  {
   "cell_type": "markdown",
   "metadata": {
    "slideshow": {
     "slide_type": "subslide"
    }
   },
   "source": [
    "* key에 한글은 Non-ASCII이므로 unicode로 변환된다."
   ]
  },
  {
   "cell_type": "code",
   "execution_count": 46,
   "metadata": {
    "collapsed": false,
    "slideshow": {
     "slide_type": "-"
    }
   },
   "outputs": [],
   "source": [
    "import io, json\n",
    "with io.open('data/ds_sql_employee.json', 'w', encoding='utf8') as json_file:\n",
    "    data=json.dumps(p, json_file, ensure_ascii=False, encoding='utf8')\n",
    "    json_file.write(data)"
   ]
  },
  {
   "cell_type": "markdown",
   "metadata": {
    "slideshow": {
     "slide_type": "subslide"
    }
   },
   "source": [
    "* dump()는 파일에 바로 쓴다.\n",
    "    * 버그: Python 2.x 문제가 있다. TypeError가 발생한다 ('unicode'대신 'str'을 사용해야 한다는 오류)\n",
    "    * io.open() 대신 open()을 사용하면 오류를 피할 수 있다. Python 3으로 전환되면서 문제가 있는 듯하다.\n",
    "        * Python 2.6에서 'unicode'처리를 위해 'io' 모듈을 추가해서 codes.open()를 대체했다.\n",
    "        * Python 3.x에서는 io.open()을 사용하는 것을 권고하고 있다.\n"
   ]
  },
  {
   "cell_type": "code",
   "execution_count": 9,
   "metadata": {
    "collapsed": false,
    "slideshow": {
     "slide_type": "-"
    }
   },
   "outputs": [
    {
     "ename": "TypeError",
     "evalue": "write() argument 1 must be unicode, not str",
     "output_type": "error",
     "traceback": [
      "\u001b[0;31m---------------------------------------------------------------------------\u001b[0m",
      "\u001b[0;31mTypeError\u001b[0m                                 Traceback (most recent call last)",
      "\u001b[0;32m<ipython-input-9-f16619204925>\u001b[0m in \u001b[0;36m<module>\u001b[0;34m()\u001b[0m\n\u001b[1;32m      1\u001b[0m \u001b[0;32mimport\u001b[0m \u001b[0mio\u001b[0m\u001b[0;34m,\u001b[0m \u001b[0mjson\u001b[0m\u001b[0;34m\u001b[0m\u001b[0m\n\u001b[1;32m      2\u001b[0m \u001b[0;32mwith\u001b[0m \u001b[0mio\u001b[0m\u001b[0;34m.\u001b[0m\u001b[0mopen\u001b[0m\u001b[0;34m(\u001b[0m\u001b[0;34m'data/ds_sql_persons.json'\u001b[0m\u001b[0;34m,\u001b[0m \u001b[0;34m'w'\u001b[0m\u001b[0;34m)\u001b[0m \u001b[0;32mas\u001b[0m \u001b[0mjson_file\u001b[0m\u001b[0;34m:\u001b[0m\u001b[0;34m\u001b[0m\u001b[0m\n\u001b[0;32m----> 3\u001b[0;31m     \u001b[0mdata\u001b[0m\u001b[0;34m=\u001b[0m\u001b[0mjson\u001b[0m\u001b[0;34m.\u001b[0m\u001b[0mdump\u001b[0m\u001b[0;34m(\u001b[0m\u001b[0mp\u001b[0m\u001b[0;34m,\u001b[0m \u001b[0mjson_file\u001b[0m\u001b[0;34m)\u001b[0m\u001b[0;34m\u001b[0m\u001b[0m\n\u001b[0m\u001b[1;32m      4\u001b[0m     \u001b[0mjson_file\u001b[0m\u001b[0;34m.\u001b[0m\u001b[0mwrite\u001b[0m\u001b[0;34m(\u001b[0m\u001b[0mdata\u001b[0m\u001b[0;34m)\u001b[0m\u001b[0;34m\u001b[0m\u001b[0m\n",
      "\u001b[0;32m/usr/lib/python2.7/json/__init__.pyc\u001b[0m in \u001b[0;36mdump\u001b[0;34m(obj, fp, skipkeys, ensure_ascii, check_circular, allow_nan, cls, indent, separators, encoding, default, sort_keys, **kw)\u001b[0m\n\u001b[1;32m    188\u001b[0m     \u001b[0;31m# a debuggability cost\u001b[0m\u001b[0;34m\u001b[0m\u001b[0;34m\u001b[0m\u001b[0m\n\u001b[1;32m    189\u001b[0m     \u001b[0;32mfor\u001b[0m \u001b[0mchunk\u001b[0m \u001b[0;32min\u001b[0m \u001b[0miterable\u001b[0m\u001b[0;34m:\u001b[0m\u001b[0;34m\u001b[0m\u001b[0m\n\u001b[0;32m--> 190\u001b[0;31m         \u001b[0mfp\u001b[0m\u001b[0;34m.\u001b[0m\u001b[0mwrite\u001b[0m\u001b[0;34m(\u001b[0m\u001b[0mchunk\u001b[0m\u001b[0;34m)\u001b[0m\u001b[0;34m\u001b[0m\u001b[0m\n\u001b[0m\u001b[1;32m    191\u001b[0m \u001b[0;34m\u001b[0m\u001b[0m\n\u001b[1;32m    192\u001b[0m \u001b[0;34m\u001b[0m\u001b[0m\n",
      "\u001b[0;31mTypeError\u001b[0m: write() argument 1 must be unicode, not str"
     ]
    }
   ],
   "source": [
    "import io, json\n",
    "with io.open('data/ds_sql_persons.json', 'w') as json_file:\n",
    "    data=json.dump(p, json_file)\n",
    "    json_file.write(data)"
   ]
  },
  {
   "cell_type": "code",
   "execution_count": 10,
   "metadata": {
    "collapsed": false,
    "slideshow": {
     "slide_type": "subslide"
    }
   },
   "outputs": [],
   "source": [
    "import io, json\n",
    "with open('data/ds_sql_persons.json', 'w') as json_file:\n",
    "    json.dump(p, json_file)"
   ]
  },
  {
   "cell_type": "code",
   "execution_count": 11,
   "metadata": {
    "collapsed": false,
    "slideshow": {
     "slide_type": "subslide"
    }
   },
   "outputs": [
    {
     "name": "stdout",
     "output_type": "stream",
     "text": [
      "{\"Persons\": [{\"name\": \"js1\", \"\\uc774\\ub984\": \"405\"}, {\"name\": \"js2\", \"\\uc774\\ub984\": \"406\"}]}"
     ]
    }
   ],
   "source": [
    "!cat data/ds_sql_persons.json"
   ]
  },
  {
   "cell_type": "markdown",
   "metadata": {
    "slideshow": {
     "slide_type": "slide"
    }
   },
   "source": [
    "## 문제 JSON-2:  JSON 파일 읽기\n",
    "\n",
    "* file에서 JSON 문자열을 읽어오는 경우\n"
   ]
  },
  {
   "cell_type": "markdown",
   "metadata": {
    "slideshow": {
     "slide_type": "subslide"
    }
   },
   "source": [
    "* loads()함수로 json을 읽는다.\n",
    "    * Persons json을 파일에서 읽는다.\n",
    "    * json.loads()는 문자열을 반환한다 ('str' 또는 'unicode').\n",
    "    * 한 번 더 json.loads()를 하면, unicode -> dictionary로 변환한다.\n"
   ]
  },
  {
   "cell_type": "code",
   "execution_count": 11,
   "metadata": {
    "collapsed": true,
    "slideshow": {
     "slide_type": "subslide"
    }
   },
   "outputs": [],
   "source": [
    "import json\n",
    "fp=open('data/ds_sql_persons.json','r')\n",
    "data=fp.read()"
   ]
  },
  {
   "cell_type": "code",
   "execution_count": 12,
   "metadata": {
    "collapsed": false,
    "slideshow": {
     "slide_type": "-"
    }
   },
   "outputs": [
    {
     "name": "stdout",
     "output_type": "stream",
     "text": [
      "{\"Persons\": [{\"name\": \"js1\", \"\\uc774\\ub984\": \"405\"}, {\"name\": \"js2\", \"\\uc774\\ub984\": \"406\"}]}\n"
     ]
    }
   ],
   "source": [
    "print data"
   ]
  },
  {
   "cell_type": "code",
   "execution_count": 14,
   "metadata": {
    "collapsed": false,
    "slideshow": {
     "slide_type": "-"
    }
   },
   "outputs": [
    {
     "data": {
      "text/plain": [
       "str"
      ]
     },
     "execution_count": 14,
     "metadata": {},
     "output_type": "execute_result"
    }
   ],
   "source": [
    "type(data)"
   ]
  },
  {
   "cell_type": "code",
   "execution_count": 13,
   "metadata": {
    "collapsed": false,
    "scrolled": true,
    "slideshow": {
     "slide_type": "-"
    }
   },
   "outputs": [
    {
     "name": "stdout",
     "output_type": "stream",
     "text": [
      "{u'Persons': [{u'\\uc774\\ub984': u'405', u'name': u'js1'}, {u'\\uc774\\ub984': u'406', u'name': u'js2'}]}\n"
     ]
    }
   ],
   "source": [
    "pjson=json.loads(data)\n",
    "print pjson"
   ]
  },
  {
   "cell_type": "code",
   "execution_count": 15,
   "metadata": {
    "collapsed": false,
    "slideshow": {
     "slide_type": "-"
    }
   },
   "outputs": [
    {
     "data": {
      "text/plain": [
       "dict"
      ]
     },
     "execution_count": 15,
     "metadata": {},
     "output_type": "execute_result"
    }
   ],
   "source": [
    "type(pjson)"
   ]
  },
  {
   "cell_type": "markdown",
   "metadata": {
    "slideshow": {
     "slide_type": "subslide"
    }
   },
   "source": [
    "* load()는 dict를 반환한다."
   ]
  },
  {
   "cell_type": "code",
   "execution_count": 16,
   "metadata": {
    "collapsed": false,
    "scrolled": false,
    "slideshow": {
     "slide_type": "-"
    }
   },
   "outputs": [
    {
     "name": "stdout",
     "output_type": "stream",
     "text": [
      "<type 'dict'> {u'Persons': [{u'\\uc774\\ub984': u'405', u'name': u'js1'}, {u'\\uc774\\ub984': u'406', u'name': u'js2'}]}\n"
     ]
    }
   ],
   "source": [
    "import json\n",
    "import os\n",
    "with open(os.path.join('data','ds_sql_persons.json')) as json_data:\n",
    "    d = json.load(json_data)\n",
    "    print type(d), d\n"
   ]
  },
  {
   "cell_type": "markdown",
   "metadata": {
    "slideshow": {
     "slide_type": "subslide"
    }
   },
   "source": [
    "* key, value에 u는 유니코드를 의미한다."
   ]
  },
  {
   "cell_type": "code",
   "execution_count": 32,
   "metadata": {
    "collapsed": false,
    "slideshow": {
     "slide_type": "subslide"
    }
   },
   "outputs": [
    {
     "name": "stdout",
     "output_type": "stream",
     "text": [
      "405 js1\n",
      "406 js2\n"
     ]
    }
   ],
   "source": [
    "for p in d['Persons']:\n",
    "    print p[u'이름'], p['name']"
   ]
  },
  {
   "cell_type": "code",
   "execution_count": 1,
   "metadata": {
    "collapsed": false,
    "slideshow": {
     "slide_type": "subslide"
    }
   },
   "outputs": [
    {
     "data": {
      "text/plain": [
       "{'name': 'A', 'primary_key': 1}"
      ]
     },
     "execution_count": 1,
     "metadata": {},
     "output_type": "execute_result"
    }
   ],
   "source": [
    "import json, ast\n",
    "r = {u'name': u'A', u'primary_key': 1}\n",
    "ast.literal_eval(json.dumps(r))"
   ]
  },
  {
   "cell_type": "markdown",
   "metadata": {
    "slideshow": {
     "slide_type": "slide"
    }
   },
   "source": [
    "* JSON을 url에서 읽을 경우\n",
    "\n",
    "함수 | 설명\n",
    "-----|-----\n",
    "json.load(response) | read chunk from the network, then process it, repeat until done\n",
    "json.loads(response.read()) | url에서 데이터를 한 번에 read()한 모든 문자열string을 loads() 읽는다.\n",
    "\n"
   ]
  },
  {
   "cell_type": "markdown",
   "metadata": {
    "slideshow": {
     "slide_type": "slide"
    }
   },
   "source": [
    "## 문제 JSON-3: url에서 JSON을 읽기\n",
    "\n",
    "* url에 데이터가 저장되어 있는 구조를 먼저 확인해야 한다.\n",
    "    * 사례1: list > 그 안에는 dictionary로 저장\n",
    "    * 사례2: dict > meta, data > data 안에는 key없이 값만 list로 저장 (key는 meta에 저장)\n",
    "* read from url (taken from spark.ipynb)"
   ]
  },
  {
   "cell_type": "markdown",
   "metadata": {
    "slideshow": {
     "slide_type": "subslide"
    }
   },
   "source": [
    "* 사례1: 월드컵 참가 선수 데이터\n",
    "    * JSON 배열\n",
    "\n",
    "```\n",
    "[\n",
    "  {\n",
    "    \"Competition\": \"World Cup\",\n",
    "    \"Year\": 1930,\n",
    "    \"Team\": \"Argentina\",\n",
    "    \"Number\": \"\",\n",
    "    \"Position\": \"GK\",\n",
    "    \"FullName\": \"Ãngel Bossio\",\n",
    "    \"Club\": \"Club AtlÃ©tico Talleres de Remedios de Escalada\",\n",
    "    \"ClubCountry\": \"Argentina\",\n",
    "    \"DateOfBirth\": \"1905-5-5\",\n",
    "    \"IsCaptain\": false\n",
    "  },\n",
    "  ...\n",
    "]\n",
    "```"
   ]
  },
  {
   "cell_type": "code",
   "execution_count": 1,
   "metadata": {
    "collapsed": true,
    "slideshow": {
     "slide_type": "-"
    }
   },
   "outputs": [],
   "source": [
    "import requests\n",
    "_url=\"https://raw.githubusercontent.com/jokecamp/FootballData/master/World%20Cups/all-world-cup-players.json\"\n",
    "r=requests.get(_url)"
   ]
  },
  {
   "cell_type": "code",
   "execution_count": 2,
   "metadata": {
    "collapsed": false,
    "slideshow": {
     "slide_type": "-"
    }
   },
   "outputs": [],
   "source": [
    "if r.status_code==200:\n",
    "    _json=r.json()"
   ]
  },
  {
   "cell_type": "code",
   "execution_count": 3,
   "metadata": {
    "collapsed": false,
    "slideshow": {
     "slide_type": "-"
    }
   },
   "outputs": [
    {
     "data": {
      "text/plain": [
       "list"
      ]
     },
     "execution_count": 3,
     "metadata": {},
     "output_type": "execute_result"
    }
   ],
   "source": [
    "type(_json)"
   ]
  },
  {
   "cell_type": "code",
   "execution_count": 4,
   "metadata": {
    "collapsed": false,
    "slideshow": {
     "slide_type": "-"
    }
   },
   "outputs": [
    {
     "name": "stdout",
     "output_type": "stream",
     "text": [
      "[u'Club', u'ClubCountry', u'Year', u'Number', u'Competition', u'DateOfBirth', u'Team', u'Position', u'FullName', u'IsCaptain']\n"
     ]
    }
   ],
   "source": [
    "print _json[0].keys()"
   ]
  },
  {
   "cell_type": "code",
   "execution_count": 5,
   "metadata": {
    "collapsed": false
   },
   "outputs": [
    {
     "name": "stdout",
     "output_type": "stream",
     "text": [
      "{u'Club': u'Club Atl\\xc3\\xa9tico Talleres de Remedios de Escalada', u'ClubCountry': u'Argentina', u'Year': 1930, u'Number': u'', u'Competition': u'World Cup', u'DateOfBirth': u'1905-5-5', u'Team': u'Argentina', u'Position': u'GK', u'FullName': u'\\xc3ngel Bossio', u'IsCaptain': False}\n"
     ]
    }
   ],
   "source": [
    "print _json[0]"
   ]
  },
  {
   "cell_type": "markdown",
   "metadata": {
    "collapsed": true,
    "slideshow": {
     "slide_type": "subslide"
    }
   },
   "source": [
    "* 사례2\n",
    "    * New York State Baby Names, https://www.healthdata.gov/dataset/baby-names-beginning-2007"
   ]
  },
  {
   "cell_type": "code",
   "execution_count": 6,
   "metadata": {
    "collapsed": true,
    "slideshow": {
     "slide_type": "-"
    }
   },
   "outputs": [],
   "source": [
    "import requests\n",
    "_url=\"https://health.data.ny.gov/api/views/jxy9-yhdk/rows.json?accessType=DOWNLOAD\"\n",
    "r=requests.get(_url)"
   ]
  },
  {
   "cell_type": "code",
   "execution_count": 7,
   "metadata": {
    "collapsed": true,
    "slideshow": {
     "slide_type": "-"
    }
   },
   "outputs": [],
   "source": [
    "_json=r.json()"
   ]
  },
  {
   "cell_type": "markdown",
   "metadata": {
    "slideshow": {
     "slide_type": "subslide"
    }
   },
   "source": [
    "* json데이터는 meta, data로 구분해서 만들어져 있슴\n",
    "* data는 52252건"
   ]
  },
  {
   "cell_type": "code",
   "execution_count": 14,
   "metadata": {
    "collapsed": false,
    "slideshow": {
     "slide_type": "-"
    }
   },
   "outputs": [
    {
     "data": {
      "text/plain": [
       "dict"
      ]
     },
     "execution_count": 14,
     "metadata": {},
     "output_type": "execute_result"
    }
   ],
   "source": [
    "type(_json)"
   ]
  },
  {
   "cell_type": "code",
   "execution_count": 16,
   "metadata": {
    "collapsed": false,
    "slideshow": {
     "slide_type": "-"
    }
   },
   "outputs": [
    {
     "data": {
      "text/plain": [
       "[u'meta', u'data']"
      ]
     },
     "execution_count": 16,
     "metadata": {},
     "output_type": "execute_result"
    }
   ],
   "source": [
    "_json.keys()"
   ]
  },
  {
   "cell_type": "code",
   "execution_count": 17,
   "metadata": {
    "collapsed": true,
    "slideshow": {
     "slide_type": "-"
    }
   },
   "outputs": [],
   "source": [
    "_jsonList=_json['data']"
   ]
  },
  {
   "cell_type": "code",
   "execution_count": 18,
   "metadata": {
    "collapsed": false,
    "slideshow": {
     "slide_type": "-"
    }
   },
   "outputs": [
    {
     "data": {
      "text/plain": [
       "52252"
      ]
     },
     "execution_count": 18,
     "metadata": {},
     "output_type": "execute_result"
    }
   ],
   "source": [
    "len(_jsonList)"
   ]
  },
  {
   "cell_type": "code",
   "execution_count": 19,
   "metadata": {
    "collapsed": false,
    "scrolled": false,
    "slideshow": {
     "slide_type": "-"
    }
   },
   "outputs": [
    {
     "name": "stdout",
     "output_type": "stream",
     "text": [
      "[1, u'5DC7F285-052B-4739-8DC3-62827014A4CD', 1, 1425450997, u'714909', 1425450997, u'714909', u'{\\n}', u'2013', u'GAVIN', u'ST LAWRENCE', u'M', u'9']\n"
     ]
    }
   ],
   "source": [
    "print _json['data'][0]"
   ]
  },
  {
   "cell_type": "markdown",
   "metadata": {
    "slideshow": {
     "slide_type": "subslide"
    }
   },
   "source": [
    "### S.2.2 csv 파일\n",
    "\n",
    "* csv파일은 데이터 항목을 쉼표로 분리한 파일 Comma Separated Values\n",
    "* 엑셀형식으로 이해할 수 있다.\n",
    "    * '줄'을 행\n",
    "    * '열'은 데이터 항목\n"
   ]
  },
  {
   "cell_type": "code",
   "execution_count": 63,
   "metadata": {
    "collapsed": false,
    "scrolled": true
   },
   "outputs": [
    {
     "name": "stdout",
     "output_type": "stream",
     "text": [
      "key1 key2 key3 value1 value1 value2\n",
      "c1 one a 82 1 2\n",
      "c1 one b 83 3 4\n",
      "c1 one c 97 5 6\n",
      "c2 one d 83 7 8\n",
      "c2 two a 78 9 10\n",
      "c2 two b 68 11 12\n",
      "c3 two c 38 13 14\n",
      "c3 two d 59 15 16\n",
      "c3 two d 55 15 16\n"
     ]
    }
   ],
   "source": [
    "import csv\n",
    " \n",
    "_file = open(\"data/jsldata2.csv\", \"rb\")\n",
    "reader = csv.reader(_file)\n",
    " \n",
    "rownum = 0\n",
    "for row in reader:\n",
    "    for col in row:\n",
    "        print '%s' % (col),\n",
    "    print\n",
    "_file.close()"
   ]
  },
  {
   "cell_type": "code",
   "execution_count": 63,
   "metadata": {
    "collapsed": false,
    "scrolled": true,
    "slideshow": {
     "slide_type": "subslide"
    }
   },
   "outputs": [
    {
     "name": "stdout",
     "output_type": "stream",
     "text": [
      "key1 key2 key3 value1 value1 value2\n",
      "c1 one a 82 1 2\n",
      "c1 one b 83 3 4\n",
      "c1 one c 97 5 6\n",
      "c2 one d 83 7 8\n",
      "c2 two a 78 9 10\n",
      "c2 two b 68 11 12\n",
      "c3 two c 38 13 14\n",
      "c3 two d 59 15 16\n",
      "c3 two d 55 15 16\n"
     ]
    }
   ],
   "source": [
    "import csv\n",
    " \n",
    "_file = open(\"data/jsldata2.csv\", \"rb\")\n",
    "reader = csv.reader(_file)\n",
    " \n",
    "rownum = 0\n",
    "for row in reader:\n",
    "    for col in row:\n",
    "        print '%s' % (col),\n",
    "    print\n",
    "_file.close()"
   ]
  },
  {
   "cell_type": "markdown",
   "metadata": {
    "slideshow": {
     "slide_type": "slide"
    }
   },
   "source": [
    "## 문제 S-4: 웹파일을 가져와서 자료구조에 넣기\n",
    "\n",
    "* uci 기계학습 데이터 파일 읽기\n",
    "* 로컬 파일을 읽는 것과 비교\n",
    "* 전체 문자 수는 25,437\n",
    "* 데이터는 300행 x 28열"
   ]
  },
  {
   "cell_type": "code",
   "execution_count": 8,
   "metadata": {
    "collapsed": false
   },
   "outputs": [
    {
     "name": "stdout",
     "output_type": "stream",
     "text": [
      "25437\n"
     ]
    }
   ],
   "source": [
    "import urllib2\n",
    "url='http://archive.ics.uci.edu/ml/machine-learning-databases/horse-colic/horse-colic.data'\n",
    "res=urllib2.urlopen(url)\n",
    "html = res.read()\n",
    "res.close()\n",
    "print len(html)"
   ]
  },
  {
   "cell_type": "code",
   "execution_count": 9,
   "metadata": {
    "collapsed": false
   },
   "outputs": [
    {
     "name": "stdout",
     "output_type": "stream",
     "text": [
      "300 28\n",
      "['2', '1', '530101', '38.50', '66', '28', '3', '3', '?', '2', '5', '4', '4', '?', '?', '?', '3', '5', '45.00', '8.40', '?', '?', '2', '2', '11300', '00000', '00000', '2']\n"
     ]
    }
   ],
   "source": [
    "lines=html.splitlines()\n",
    "data=[]\n",
    "for line in lines:\n",
    "    data.append(line.split())\n",
    "print len(data), len(data[0])\n",
    "print data[0]"
   ]
  },
  {
   "cell_type": "markdown",
   "metadata": {},
   "source": [
    "### 데이터 확인\n",
    "\n",
    "* 모든 300행에대해 28개 컬럼이 있는지\n",
    "* 처음 20개만 3번째 컬럼 평균내보기"
   ]
  },
  {
   "cell_type": "code",
   "execution_count": 10,
   "metadata": {
    "collapsed": true
   },
   "outputs": [],
   "source": [
    "for i in range(0,len(data)):\n",
    "    if len(data[i]) != len(data[0]):\n",
    "        print \"wrong size at\", i"
   ]
  },
  {
   "cell_type": "code",
   "execution_count": 11,
   "metadata": {
    "collapsed": false
   },
   "outputs": [
    {
     "name": "stdout",
     "output_type": "stream",
     "text": [
      "38.50\n",
      "39.2\n",
      "38.30\n",
      "39.10\n",
      "37.30\n",
      "?\n",
      "37.90\n",
      "?\n",
      "?\n",
      "38.30\n",
      "38.10\n",
      "39.10\n",
      "37.20\n",
      "38.00\n",
      "38.2\n",
      "37.60\n",
      "?\n",
      "37.50\n",
      "37.60\n",
      "39.4\n"
     ]
    }
   ],
   "source": [
    "for i in range(0,20):\n",
    "    print data[i][3]"
   ]
  },
  {
   "cell_type": "code",
   "execution_count": 12,
   "metadata": {
    "collapsed": false
   },
   "outputs": [
    {
     "name": "stdout",
     "output_type": "stream",
     "text": [
      "0 38.50 38.5\n",
      "1 39.2 77.7\n",
      "2 38.30 116.0\n",
      "3 39.10 155.1\n",
      "4 37.30 192.4\n",
      "5 None\n",
      "6 37.90 230.3\n",
      "7 None\n",
      "8 None\n",
      "9 38.30 268.6\n",
      "10 38.10 306.7\n",
      "11 39.10 345.8\n",
      "12 37.20 383.0\n",
      "13 38.00 421.0\n",
      "14 38.2 459.2\n",
      "15 37.60 496.8\n",
      "16 None\n",
      "17 37.50 534.3\n",
      "18 37.60 571.9\n",
      "19 39.4 611.3\n",
      "count=16 sum=611.3 average=38.21\n"
     ]
    }
   ],
   "source": [
    "sum=0\n",
    "cnt=0\n",
    "for i in range(0,20):\n",
    "    val=data[i][3]\n",
    "    if val is '?':\n",
    "        print i,\"None\"\n",
    "    else:\n",
    "        sum+=float(val)\n",
    "        cnt+=1\n",
    "        print i,val, sum\n",
    "average=float(sum/cnt)\n",
    "print \"count={0} sum={1} average={2:2.2f}\".format(cnt,sum,average)"
   ]
  },
  {
   "cell_type": "markdown",
   "metadata": {
    "slideshow": {
     "slide_type": "subslide"
    }
   },
   "source": [
    "## S.2 MongoDB\n",
    "\n",
    "* Why nosql - 모델링 없이 (schema free) 문서를 저장.\n",
    "    * Database - mongo는 데이터베이스를 생성하는 명령어가 없다. mongodb는 bson으로 저장\n",
    "    * Collections (RDB table)\n",
    "    * Document (RDB record)\n",
    "\n",
    "RDBMS | MongoDB\n",
    "-------|-------\n",
    "Database | Database\n",
    "Table | Collection\n",
    "Row | Document\n",
    "primary key | primary key (_id를 기본으로 제공)\n",
    "schema | schema free"
   ]
  },
  {
   "cell_type": "markdown",
   "metadata": {
    "slideshow": {
     "slide_type": "subslide"
    }
   },
   "source": [
    "### S.2.1 설치\n",
    "\n",
    "* linux 설치\n",
    "```\n",
    "sudo apt-get install mongodb-org\n",
    "sudo pip install pymongo\n",
    "```\n",
    "\n",
    "* 윈도우 설치\n",
    "    * 다운로드 32,64비트 선택, msi 설치"
   ]
  },
  {
   "cell_type": "markdown",
   "metadata": {
    "slideshow": {
     "slide_type": "subslide"
    }
   },
   "source": [
    "* config 설정\n",
    "    * 리눅스 /etc/mongodb.conf\n",
    "    * 윈도우 mongodb/conf 디렉토리 아래 설정파일\n",
    "    * 설정은 YAML 또는 init 형식으로 한다.\n",
    "    * 예:\n",
    "```\n",
    "fork = true\n",
    "bind_ip = 127.0.0.1\n",
    "port = 27017\n",
    "quiet = true\n",
    "dbpath = /var/lib/mongodb\n",
    "logpath = /var/log/mongodb/mongod.log\n",
    "logappend = true\n",
    "journal = true\n",
    "```"
   ]
  },
  {
   "cell_type": "markdown",
   "metadata": {
    "slideshow": {
     "slide_type": "subslide"
    }
   },
   "source": [
    "* DB 저장 디렉토리 설정변경\n",
    "    * 설정 파일 '/etc/mongodb.conf' 에서 변경할 수 있다. 기본 디렉토리는 '/data/db' 현재 설정은:\n",
    "```\n",
    "dbpath=/var/lib/mongodb\n",
    "```\n",
    "        \n",
    "    * cli로 변경\n",
    "```\n",
    "mongod --dbpath\n",
    "```"
   ]
  },
  {
   "cell_type": "markdown",
   "metadata": {
    "slideshow": {
     "slide_type": "subslide"
    }
   },
   "source": [
    "* 실행\n",
    "    * 단계 1: 'mongod' 서버 (서버를 실행하면서 config 및 db경로를 설정한다)\n",
    "        * 리눅스 cli (osx도 동일하게 실행한다):\n",
    "```\n",
    "mongod --config ./mongodb.conf --dbpath ./data --port 27017\n",
    "```\n",
    "\n",
    "        * daemon으로 실행할 경우:\n",
    "```\n",
    "sudo service mongodb start\n",
    "sudo service mongodb stop\n",
    "```\n",
    " \n",
    "        * 윈도우 cli:\n",
    "            * 경로를 설정한다. cli로 할 수 있다 (제어판에서 하는 것이 쉽다)\n",
    "```\n",
    "setx mongodb \"C:\\Program Files\\MongdDB\\Server\\3.2\"\n",
    "setx path \"%path%\";\"%mongodb%\\bin\"\n",
    "mongod\n",
    "```\n",
    "\n",
    "            * 32비트 설치 후 실행하는 경우, storageEngine오류 발생. 오류메시지 읽어보고 따라 함.\n",
    "```\n",
    "mongod --storageEngine=mmapv1 --dbpath [your-path]\n",
    "```\n",
    "\n",
    "        * 문제가 있으면 위 명령문에 --repair 붙여서 한 후, --repair 빼고 다시 실행"
   ]
  },
  {
   "cell_type": "markdown",
   "metadata": {},
   "source": [
    "    * 단계 2: 클라이언트 'mongo'\n",
    "```\n",
    "mongo\n",
    "또는\n",
    "mongo -u new_user -p new_password new_database\n",
    "```"
   ]
  },
  {
   "cell_type": "markdown",
   "metadata": {
    "slideshow": {
     "slide_type": "subslide"
    }
   },
   "source": [
    "* 오류\n",
    "    * 'Failed to connect to 127.0.0.1:27017' 서버를 실행하지 않고 하는 경우 발생한다.\n",
    "    * 'port already in use' 사용하는 port를 해제한다.\n",
    "        * netstat -nlp | grep 하거나 lsof -i tcp:27017\n",
    "```\n",
    "$ ps -ax | grep mongo\n",
    "$ kill -9 15302\n",
    "```"
   ]
  },
  {
   "cell_type": "markdown",
   "metadata": {
    "slideshow": {
     "slide_type": "subslide"
    }
   },
   "source": [
    "### S.2.2 클라이언트 MongoDB shell\n",
    "\n",
    "* sample cli\n",
    "```\n",
    "$ mongo\n",
    "> show dbs\n",
    "> use test\n",
    "> db.createCollection(\"myCollection\")\n",
    "> show collections\n",
    "> db.getCollectionNames() or show collections or show tables\n",
    "> db.dropDatabase()\n",
    "> db.help()\n",
    "```\n",
    "\n",
    "* mongofiles cli\n",
    "```\n",
    "mongofiles list\n",
    "```\n",
    "\n",
    "* help는 --help\n"
   ]
  },
  {
   "cell_type": "markdown",
   "metadata": {
    "slideshow": {
     "slide_type": "subslide"
    }
   },
   "source": [
    "* cli 명령어\n",
    "\n",
    "\n",
    "구분 | 예 | 설명\n",
    "-------|-------\n",
    "db create | > use DB_NAME | use mydb\n",
    "db insert | > db.mydb.insert_one( {\"name\":\"js\"} ) | 데이터 입력\n",
    "drop db | > use mydb <br> > db.dropDatabase() | mydb를 삭제함\n",
    "create Collection | > db.createCOllection(\"mycollection\") | mycollection을 생성\n",
    "drop collection | db.mycollection.drop() | mycollection을 삭제\n",
    "insert into collection | db.mycollection.insert( {\"name\":\"js\"} ) | 데이터 입력\n",
    "read | db.mycollection.find() | 데이터 검색 limit(), sort()\n",
    "read | db.mycol.find({\"likes\":{$lt:50}}) | 조건 검색 (less than)\n",
    "update | db.mycol.update_one( {'name':'js 1'} ) | 갱신\n",
    "remove | db.mycol.remove() | 삭제 1건\n",
    "remove | db.mycol.remove( {'name':'js' } ) | 조건 삭제"
   ]
  },
  {
   "cell_type": "markdown",
   "metadata": {
    "slideshow": {
     "slide_type": "subslide"
    }
   },
   "source": [
    "* admin\n",
    "\n",
    "예 | 설명\n",
    "-------|-------\n",
    "show dbs | show dbs show db list\n",
    "show collections | show collection list\n",
    "db.seoul.count() | record 갯수"
   ]
  },
  {
   "cell_type": "code",
   "execution_count": null,
   "metadata": {
    "collapsed": false,
    "scrolled": true,
    "slideshow": {
     "slide_type": "-"
    }
   },
   "outputs": [
    {
     "name": "stdout",
     "output_type": "stream",
     "text": [
      "MongoDB shell version: 2.6.10\n",
      "connecting to: test\n",
      "> "
     ]
    }
   ],
   "source": [
    "!mongo"
   ]
  },
  {
   "cell_type": "code",
   "execution_count": 5,
   "metadata": {
    "collapsed": false,
    "slideshow": {
     "slide_type": "subslide"
    }
   },
   "outputs": [
    {
     "name": "stdout",
     "output_type": "stream",
     "text": [
      "Overwriting src/ds_sql_mongo_test.js\n"
     ]
    }
   ],
   "source": [
    "%%writefile src/ds_sql_mongo_test.js\n",
    "db.test.save({x:1})\n",
    "db.test.find()\n",
    "db.stats()"
   ]
  },
  {
   "cell_type": "code",
   "execution_count": null,
   "metadata": {
    "collapsed": false,
    "slideshow": {
     "slide_type": "subslide"
    }
   },
   "outputs": [],
   "source": [
    "!mongo < src/ds_sql_mongo_test.js"
   ]
  },
  {
   "cell_type": "code",
   "execution_count": 6,
   "metadata": {
    "collapsed": false,
    "slideshow": {
     "slide_type": "subslide"
    }
   },
   "outputs": [
    {
     "name": "stdout",
     "output_type": "stream",
     "text": [
      "MongoDB shell version: 2.6.10\r\n",
      "connecting to: test\r\n",
      "WriteResult({ \"nInserted\" : 1 })\r\n",
      "{ \"_id\" : ObjectId(\"581121af5010767f01441c77\"), \"a\" : 1 }\r\n",
      "{ \"_id\" : ObjectId(\"581122e4e994a927d3601173\"), \"a\" : 1 }\r\n",
      "{ \"_id\" : ObjectId(\"581122f5136ebba424709b37\"), \"x\" : 1 }\r\n",
      "{ \"_id\" : ObjectId(\"5811232186d1fbf960da31b9\"), \"x\" : 1 }\r\n",
      "{\r\n",
      "\t\"db\" : \"test\",\r\n",
      "\t\"collections\" : 5,\r\n",
      "\t\"objects\" : 18,\r\n",
      "\t\"avgObjSize\" : 65.77777777777777,\r\n",
      "\t\"dataSize\" : 1184,\r\n",
      "\t\"storageSize\" : 40960,\r\n",
      "\t\"numExtents\" : 5,\r\n",
      "\t\"indexes\" : 5,\r\n",
      "\t\"indexSize\" : 40880,\r\n",
      "\t\"fileSize\" : 67108864,\r\n",
      "\t\"nsSizeMB\" : 16,\r\n",
      "\t\"dataFileVersion\" : {\r\n",
      "\t\t\"major\" : 4,\r\n",
      "\t\t\"minor\" : 5\r\n",
      "\t},\r\n",
      "\t\"extentFreeList\" : {\r\n",
      "\t\t\"num\" : 0,\r\n",
      "\t\t\"totalSize\" : 0\r\n",
      "\t},\r\n",
      "\t\"ok\" : 1\r\n",
      "}\r\n",
      "bye\r\n"
     ]
    }
   ],
   "source": [
    "!mongo < src/ds_sql_mongo_test.js"
   ]
  },
  {
   "cell_type": "markdown",
   "metadata": {
    "slideshow": {
     "slide_type": "slide"
    }
   },
   "source": [
    "## 문제 S-5: Mongo shell\n",
    "\n",
    "* javascript 파일을 저장하고 실행한다."
   ]
  },
  {
   "cell_type": "code",
   "execution_count": 10,
   "metadata": {
    "collapsed": false,
    "slideshow": {
     "slide_type": "subslide"
    }
   },
   "outputs": [
    {
     "name": "stdout",
     "output_type": "stream",
     "text": [
      "Overwriting src/ds_sql_mongo_cli.js\n"
     ]
    }
   ],
   "source": [
    "%%writefile src/ds_sql_mongo_cli.js\n",
    "db\n",
    "use myDB\n",
    "show tables\n",
    "db.myTable.find({ \"id\": 1 })"
   ]
  },
  {
   "cell_type": "code",
   "execution_count": 11,
   "metadata": {
    "collapsed": false,
    "slideshow": {
     "slide_type": "subslide"
    }
   },
   "outputs": [
    {
     "name": "stdout",
     "output_type": "stream",
     "text": [
      "MongoDB shell version: 2.6.10\r\n",
      "connecting to: test\r\n",
      "test\r\n",
      "switched to db myDB\r\n",
      "myTable\r\n",
      "system.indexes\r\n",
      "{ \"_id\" : ObjectId(\"5819f2b7f5e6e92403bee9d2\"), \"country\" : \"ko\", \"age\" : 11, \"id\" : 1, \"name\" : \"js\" }\r\n",
      "bye\r\n"
     ]
    }
   ],
   "source": [
    "!mongo < src/ds_sql_mongo_cli.js"
   ]
  },
  {
   "cell_type": "markdown",
   "metadata": {
    "slideshow": {
     "slide_type": "subslide"
    }
   },
   "source": [
    "### S.2.3 pymongo\n",
    "\n",
    "* 설치\n",
    "    * 리눅스 pip install pymongo\n",
    "    * 윈도우\n",
    "```\n",
    "conda install pymongo\n",
    "```"
   ]
  },
  {
   "cell_type": "markdown",
   "metadata": {
    "slideshow": {
     "slide_type": "slide"
    }
   },
   "source": [
    "* 실행\n",
    "    * mongod가 백그라운드에서 실행되고 있어야 한다 (대기 상태 실행)\n",
    "    * 아래 문제와 같이 pymongo 세션을 시작하면, 백그라운드 mongod가 \"connection accpeted from localhost...\"\n",
    "    * connection은 close할 수 있다."
   ]
  },
  {
   "cell_type": "markdown",
   "metadata": {
    "slideshow": {
     "slide_type": "slide"
    }
   },
   "source": [
    "## 문제 S-6: Python으로 MongoDB 사용하기\n",
    "\n",
    "* Employees 데이터베이스를 생성하고, 그 안에 mytable을 생성한다.\n",
    "* client는 conf 파일을 읽어서 설정한다. 'localhost:27017'는 생략할 수 있다.\n",
    "    ``\n",
    "    client = MongoClient('localhost:27017')\n",
    "    ```\n",
    "\n",
    "* dictionary 스타일로 database를 사용할 수 있다.\n",
    "    ```\n",
    "    client['myDB']\n",
    "    ```"
   ]
  },
  {
   "cell_type": "code",
   "execution_count": 4,
   "metadata": {
    "collapsed": false,
    "slideshow": {
     "slide_type": "subslide"
    }
   },
   "outputs": [],
   "source": [
    "import pymongo"
   ]
  },
  {
   "cell_type": "code",
   "execution_count": 5,
   "metadata": {
    "collapsed": true,
    "slideshow": {
     "slide_type": "subslide"
    }
   },
   "outputs": [],
   "source": [
    "from pymongo import MongoClient\n",
    "\n",
    "client = MongoClient()\n",
    "db=client.myDB"
   ]
  },
  {
   "cell_type": "markdown",
   "metadata": {
    "collapsed": true,
    "slideshow": {
     "slide_type": "subslide"
    }
   },
   "source": [
    "* insert"
   ]
  },
  {
   "cell_type": "code",
   "execution_count": 6,
   "metadata": {
    "collapsed": true,
    "slideshow": {
     "slide_type": "-"
    }
   },
   "outputs": [],
   "source": [
    "_id=1\n",
    "_name='js'\n",
    "_age=11\n",
    "_country='ko'"
   ]
  },
  {
   "cell_type": "markdown",
   "metadata": {
    "slideshow": {
     "slide_type": "subslide"
    }
   },
   "source": [
    "* 입력은 insert_one(), insert_many()를 사용한다."
   ]
  },
  {
   "cell_type": "code",
   "execution_count": 21,
   "metadata": {
    "collapsed": false,
    "scrolled": true,
    "slideshow": {
     "slide_type": "-"
    }
   },
   "outputs": [
    {
     "data": {
      "text/plain": [
       "<pymongo.results.InsertOneResult at 0x7fe4300610a0>"
      ]
     },
     "execution_count": 21,
     "metadata": {},
     "output_type": "execute_result"
    }
   ],
   "source": [
    "db.myDB.insert_one({\n",
    "    \"id\": _id,\n",
    "    \"name\": _name,\n",
    "    \"age\": _age,\n",
    "    \"country\": _country\n",
    "})"
   ]
  },
  {
   "cell_type": "markdown",
   "metadata": {
    "collapsed": true,
    "slideshow": {
     "slide_type": "-"
    }
   },
   "source": [
    "* find()함수는 pymongo.cursor.Cursor 객체를 반환하고, key로 결과를 조회할 수 있다."
   ]
  },
  {
   "cell_type": "code",
   "execution_count": 16,
   "metadata": {
    "collapsed": false,
    "scrolled": true,
    "slideshow": {
     "slide_type": "-"
    }
   },
   "outputs": [
    {
     "name": "stdout",
     "output_type": "stream",
     "text": [
      "js\n"
     ]
    }
   ],
   "source": [
    "results = db.myDB.find()\n",
    "for r in results:\n",
    "        print r['name']"
   ]
  },
  {
   "cell_type": "markdown",
   "metadata": {
    "collapsed": true,
    "slideshow": {
     "slide_type": "subslide"
    }
   },
   "source": [
    "* update"
   ]
  },
  {
   "cell_type": "code",
   "execution_count": 20,
   "metadata": {
    "collapsed": false,
    "slideshow": {
     "slide_type": "-"
    }
   },
   "outputs": [
    {
     "data": {
      "text/plain": [
       "<pymongo.results.UpdateResult at 0x7fe4300612d0>"
      ]
     },
     "execution_count": 20,
     "metadata": {},
     "output_type": "execute_result"
    }
   ],
   "source": [
    "_name='jslim'\n",
    "_age=123\n",
    "db.myDB.update_one(\n",
    "        {\"id\": _id},\n",
    "        {\n",
    "            \"$set\": {\n",
    "                \"name\":_name,\n",
    "                \"age\":_age,\n",
    "            }\n",
    "        }\n",
    "    )"
   ]
  },
  {
   "cell_type": "code",
   "execution_count": 23,
   "metadata": {
    "collapsed": false,
    "scrolled": true,
    "slideshow": {
     "slide_type": "subslide"
    }
   },
   "outputs": [
    {
     "name": "stdout",
     "output_type": "stream",
     "text": [
      "1 jslim\n",
      "1 jslim\n"
     ]
    }
   ],
   "source": [
    "results = db.myDB.find()\n",
    "for r in results:\n",
    "        print r['id'],r['name']"
   ]
  },
  {
   "cell_type": "markdown",
   "metadata": {
    "collapsed": true,
    "slideshow": {
     "slide_type": "subslide"
    }
   },
   "source": [
    "* delete"
   ]
  },
  {
   "cell_type": "code",
   "execution_count": 25,
   "metadata": {
    "collapsed": false,
    "slideshow": {
     "slide_type": "-"
    }
   },
   "outputs": [
    {
     "data": {
      "text/plain": [
       "<pymongo.results.DeleteResult at 0x7fe4300472d0>"
      ]
     },
     "execution_count": 25,
     "metadata": {},
     "output_type": "execute_result"
    }
   ],
   "source": [
    "db.myDB.delete_many({\"id\":1})"
   ]
  },
  {
   "cell_type": "markdown",
   "metadata": {
    "slideshow": {
     "slide_type": "subslide"
    }
   },
   "source": [
    "## S.3 CouchDB\n",
    "\n",
    "* Apache 오픈소스 데이터베이스\n",
    "* NoSql 데이터베이스이다.\n",
    "* json을 저장"
   ]
  },
  {
   "cell_type": "markdown",
   "metadata": {
    "slideshow": {
     "slide_type": "subslide"
    }
   },
   "source": [
    "### S.3.1 설치\n",
    "\n",
    "* http://couchdb.apache.org로 가서 설치파일을 내려받아 설치할 수 있다.\n",
    "* 리눅스에서는 apt를 사용하여 설치할 수 있다. 최신 버전이 아닐 수 있다.\n",
    "```\n",
    "sudo apt-get install couchdb\n",
    "```\n"
   ]
  },
  {
   "cell_type": "markdown",
   "metadata": {
    "slideshow": {
     "slide_type": "subslide"
    }
   },
   "source": [
    "* 서버의 실행\n",
    "    * '/etc/init.d/couchdb'를 사용해 start, stop할 수 있다."
   ]
  },
  {
   "cell_type": "code",
   "execution_count": 1,
   "metadata": {
    "collapsed": false,
    "slideshow": {
     "slide_type": "subslide"
    }
   },
   "outputs": [
    {
     "name": "stdout",
     "output_type": "stream",
     "text": [
      "\u001b[0;1;32m●\u001b[0m couchdb.service - System-wide CouchDB instance\n",
      "   Loaded: loaded (/lib/systemd/system/couchdb.service; enabled; vendor preset: enabled)\n",
      "   Active: \u001b[0;1;32mactive (running)\u001b[0m since 화 2017-03-28 11:47:56 KST; 2 days ago\n",
      " Main PID: 1408 (beam.smp)\n",
      "   CGroup: /system.slice/couchdb.service\n",
      "           ├─1408 /usr/lib/erlang/erts-7.3/bin/beam.smp -Bd -K true -A 4 -- -...\n",
      "           └─1645 sh -s disksup\n",
      "\n",
      " 3월 28 11:48:04 jsl-smu couchdb[1408]: File operation error: eacces. Targe....\n",
      " 3월 28 11:48:04 jsl-smu couchdb[1408]: =ERROR REPORT==== 28-Mar-2017::20:4...=\n",
      " 3월 28 11:48:04 jsl-smu couchdb[1408]: File operation error: eacces. Targe....\n",
      " 3월 28 11:48:09 jsl-smu couchdb[1408]: Apache CouchDB 1.6.0 (LogLevel=info....\n",
      " 3월 28 11:48:10 jsl-smu couchdb[1408]: Apache CouchDB has started. Time to....\n",
      " 3월 28 11:48:10 jsl-smu couchdb[1408]: [info] [<0.33.0>] Apache CouchDB ha.../\n",
      " 3월 31 06:29:34 jsl-smu couchdb[1408]: [info] [<0.100.0>] 127.0.0.1 - - PU...5\n",
      " 3월 31 06:29:52 jsl-smu couchdb[1408]: [info] [<0.17729.7>] 127.0.0.1 - - ...0\n",
      " 3월 31 06:30:09 jsl-smu couchdb[1408]: [info] [<0.17750.7>] 127.0.0.1 - - ...0\n",
      " 3월 31 06:34:55 jsl-smu couchdb[1408]: [info] [<0.104.0>] 127.0.0.1 - - GE...0\n",
      "Hint: Some lines were ellipsized, use -l to show in full.\n"
     ]
    }
   ],
   "source": [
    "!/etc/init.d/couchdb status"
   ]
  },
  {
   "cell_type": "markdown",
   "metadata": {
    "slideshow": {
     "slide_type": "subslide"
    }
   },
   "source": [
    "* 설치 확인\n",
    "    * 웹브라우저 http://127.0.0.1:5984/\n",
    "    * 명령창\n",
    "```\n",
    "$ curl http://localhost:5984\n",
    "```\n",
    "\n",
    "* fution: CouchDB의 웹인터페이스\n",
    "```\n",
    "http://127.0.0.1:5984/_utils/\n",
    "```"
   ]
  },
  {
   "cell_type": "code",
   "execution_count": 2,
   "metadata": {
    "collapsed": false,
    "scrolled": true,
    "slideshow": {
     "slide_type": "subslide"
    }
   },
   "outputs": [
    {
     "name": "stdout",
     "output_type": "stream",
     "text": [
      "{\"couchdb\":\"Welcome\",\"uuid\":\"a7461e0dccf40fd1e03a8d8f48bebcda\",\"version\":\"1.6.0\",\"vendor\":{\"name\":\"Ubuntu\",\"version\":\"15.10\"}}\r\n"
     ]
    }
   ],
   "source": [
    "!curl http://localhost:5984"
   ]
  },
  {
   "cell_type": "markdown",
   "metadata": {
    "slideshow": {
     "slide_type": "subslide"
    }
   },
   "source": [
    "* 설정\n",
    "    * 원격 접근을 하려면 설정을 변경해야 한다.\n",
    "        * 로컬 127.0.0.1에서 사용하도록 설정되어 있다.\n",
    "        * /etc/couchdb/아래의 ini파일을 변경한다 (default.ini, local.ini어는 것을 변경해도 된다.)\n",
    "```\n",
    "[httpd]\n",
    "port = 5984\n",
    "bind_address = 0.0.0.0\n",
    "```\n"
   ]
  },
  {
   "cell_type": "markdown",
   "metadata": {
    "slideshow": {
     "slide_type": "subslide"
    }
   },
   "source": [
    "### S.3.2 cURL\n",
    "\n",
    "flags | 설명\n",
    "-----|-----\n",
    "X | http request 함수를 설정할 경우 사용한다. GET은 생략할 수 있다.\n",
    "H | header 정보를 설정할 경우 사용한다.\n",
    "d | http POST를 사용하여, 데이터를 전송할 경우 사용한다.\n",
    "o | 결과를 파일에 쓸 경우 사용한다."
   ]
  },
  {
   "cell_type": "markdown",
   "metadata": {
    "slideshow": {
     "slide_type": "subslide"
    }
   },
   "source": [
    "* 변수를 저장해서 사용할 수 있다."
   ]
  },
  {
   "cell_type": "code",
   "execution_count": 2,
   "metadata": {
    "collapsed": true,
    "slideshow": {
     "slide_type": "subslide"
    }
   },
   "outputs": [],
   "source": [
    "host='http://127.0.0.1:5984'"
   ]
  },
  {
   "cell_type": "code",
   "execution_count": 3,
   "metadata": {
    "collapsed": false,
    "slideshow": {
     "slide_type": "subslide"
    }
   },
   "outputs": [
    {
     "name": "stdout",
     "output_type": "stream",
     "text": [
      "{\"couchdb\":\"Welcome\",\"uuid\":\"a7461e0dccf40fd1e03a8d8f48bebcda\",\"version\":\"1.6.0\",\"vendor\":{\"name\":\"Ubuntu\",\"version\":\"15.10\"}}\r\n"
     ]
    }
   ],
   "source": [
    "!curl {host}"
   ]
  },
  {
   "cell_type": "markdown",
   "metadata": {
    "slideshow": {
     "slide_type": "subslide"
    }
   },
   "source": [
    "* 데이터베이스 목록 출력하기"
   ]
  },
  {
   "cell_type": "code",
   "execution_count": 15,
   "metadata": {
    "collapsed": false,
    "slideshow": {
     "slide_type": "subslide"
    }
   },
   "outputs": [
    {
     "name": "stdout",
     "output_type": "stream",
     "text": [
      "[\"_replicator\",\"_users\",\"mydb\"]\r\n"
     ]
    }
   ],
   "source": [
    "!curl -X GET http://127.0.0.1:5984/_all_dbs"
   ]
  },
  {
   "cell_type": "markdown",
   "metadata": {
    "slideshow": {
     "slide_type": "subslide"
    }
   },
   "source": [
    "### S.3.3 데이터베이스\n",
    "\n",
    "기능 | 예\n",
    "-----|-----\n",
    "데이터베이스 생성 | curl -X PUT http://127.0.0.1:5984/mytest\n",
    "조회\t| curl http://127.0.0.1:5984/mytest\n",
    "삭제 | curl -X DELETE http://127.0.0.1:5984/mytest\n",
    "문서 생성 | curl -X POST -H \"Content-Type: application/json\" --data '{ \"id\" : \"405\", \"name\": \"js\" } 'http://127.0.0.1:5984/mytest"
   ]
  },
  {
   "cell_type": "markdown",
   "metadata": {
    "slideshow": {
     "slide_type": "subslide"
    }
   },
   "source": [
    "* 데이터베이스 생성"
   ]
  },
  {
   "cell_type": "code",
   "execution_count": 75,
   "metadata": {
    "collapsed": true,
    "slideshow": {
     "slide_type": "subslide"
    }
   },
   "outputs": [],
   "source": [
    "host='http://127.0.0.1:5984'\n",
    "dbname='mydb'"
   ]
  },
  {
   "cell_type": "code",
   "execution_count": 21,
   "metadata": {
    "collapsed": false,
    "slideshow": {
     "slide_type": "subslide"
    }
   },
   "outputs": [
    {
     "name": "stdout",
     "output_type": "stream",
     "text": [
      "{\"ok\":true}\r\n"
     ]
    }
   ],
   "source": [
    "!curl -X PUT {host}/{dbname}"
   ]
  },
  {
   "cell_type": "markdown",
   "metadata": {
    "slideshow": {
     "slide_type": "subslide"
    }
   },
   "source": [
    "* 데이터베이스 조회"
   ]
  },
  {
   "cell_type": "code",
   "execution_count": 73,
   "metadata": {
    "collapsed": false,
    "slideshow": {
     "slide_type": "subslide"
    }
   },
   "outputs": [
    {
     "name": "stdout",
     "output_type": "stream",
     "text": [
      "{\"db_name\":\"mydb\",\"doc_count\":1,\"doc_del_count\":0,\"update_seq\":5,\"purge_seq\":0,\"compact_running\":false,\"disk_size\":20578,\"data_size\":636,\"instance_start_time\":\"1491001015142484\",\"disk_format_version\":6,\"committed_update_seq\":5}\r\n"
     ]
    }
   ],
   "source": [
    "!curl {host}/{dbname}"
   ]
  },
  {
   "cell_type": "markdown",
   "metadata": {
    "slideshow": {
     "slide_type": "subslide"
    }
   },
   "source": [
    "* 데이터베이스 삭제"
   ]
  },
  {
   "cell_type": "code",
   "execution_count": 20,
   "metadata": {
    "collapsed": false,
    "slideshow": {
     "slide_type": "subslide"
    }
   },
   "outputs": [
    {
     "name": "stdout",
     "output_type": "stream",
     "text": [
      "{\"ok\":true}\r\n"
     ]
    }
   ],
   "source": [
    "!curl -X DELETE http://127.0.0.1:5984/{dbname}"
   ]
  },
  {
   "cell_type": "markdown",
   "metadata": {
    "slideshow": {
     "slide_type": "subslide"
    }
   },
   "source": [
    "### 문제 S-7: CouchDB 문서\n",
    "\n",
    "* 문서 저장\n",
    "    * 'mypage1.html'을 저장하기\n",
    "    * '--data-binary'를 사용할 수 있다. '@'는 파일을 첨부할 경우 사용한다.\n",
    "    * 또는 '-d'를 사용할 수 있다."
   ]
  },
  {
   "cell_type": "code",
   "execution_count": 7,
   "metadata": {
    "collapsed": false,
    "slideshow": {
     "slide_type": "subslide"
    }
   },
   "outputs": [],
   "source": [
    "docname='webpage'"
   ]
  },
  {
   "cell_type": "code",
   "execution_count": 93,
   "metadata": {
    "collapsed": false,
    "slideshow": {
     "slide_type": "subslide"
    }
   },
   "outputs": [
    {
     "name": "stdout",
     "output_type": "stream",
     "text": [
      "{\"error\":\"conflict\",\"reason\":\"Document update conflict.\"}\r\n"
     ]
    }
   ],
   "source": [
    "!curl -X PUT {host}/{dbname}/{docname}/mypage4.html --data-binary @mypage1.html -H \"Content-Type: text/html\""
   ]
  },
  {
   "cell_type": "markdown",
   "metadata": {
    "slideshow": {
     "slide_type": "subslide"
    }
   },
   "source": [
    "* 문서 조회"
   ]
  },
  {
   "cell_type": "code",
   "execution_count": 18,
   "metadata": {
    "collapsed": false,
    "slideshow": {
     "slide_type": "subslide"
    }
   },
   "outputs": [
    {
     "name": "stdout",
     "output_type": "stream",
     "text": [
      "{\"total_rows\":2,\"offset\":0,\"rows\":[\r",
      "\r\n",
      "{\"id\":\"_design/example\",\"key\":\"_design/example\",\"value\":{\"rev\":\"1-230141dfa7e07c3dbfef0789bf11773a\"}},\r",
      "\r\n",
      "{\"id\":\"webpage\",\"key\":\"webpage\",\"value\":{\"rev\":\"8-73f2eb26728b6664161a9d3137056663\"}}\r",
      "\r\n",
      "]}\r\n"
     ]
    }
   ],
   "source": [
    "!curl -X GET http://127.0.0.1:5984/mydb/_all_docs"
   ]
  },
  {
   "cell_type": "code",
   "execution_count": 17,
   "metadata": {
    "collapsed": false,
    "slideshow": {
     "slide_type": "subslide"
    }
   },
   "outputs": [
    {
     "name": "stdout",
     "output_type": "stream",
     "text": [
      "{\"_id\":\"webpage\",\"_rev\":\"7-aaca1213cef074aff492232a71f3faa5\",\"_attachments\":{\"mypage1.html\":{\"content_type\":\"application/x-www-form-urlencoded\",\"revpos\":1,\"digest\":\"md5-bZ4eW97EQcd/NFs0+kTFwg==\",\"length\":197,\"stub\":true}}}\r\n"
     ]
    }
   ],
   "source": [
    "!curl -X GET {host}/{dbname}/{docname}"
   ]
  },
  {
   "cell_type": "code",
   "execution_count": 15,
   "metadata": {
    "collapsed": false,
    "scrolled": true,
    "slideshow": {
     "slide_type": "subslide"
    }
   },
   "outputs": [
    {
     "name": "stdout",
     "output_type": "stream",
     "text": [
      "<!DOCTYPE html>\r\n",
      "<html>\r\n",
      "<head>\r\n",
      "<title>My Home Page</title>\r\n",
      "</head>\r\n",
      "<body>\r\n",
      "<h1>안녕하십니까</h1>\r\n",
      "<p>오늘은 프로그래밍 하는 날...</p>\r\n",
      "<p>Today we do programming...</p>\r\n",
      "</body>\r\n",
      "</html>"
     ]
    }
   ],
   "source": [
    "!curl -X GET {host}/{dbname}/{docname}/mypage1.html"
   ]
  },
  {
   "cell_type": "markdown",
   "metadata": {
    "slideshow": {
     "slide_type": "subslide"
    }
   },
   "source": [
    "* 문서 삭제\n",
    "    * '_id?rev=_rev'로 삭제할 수 있다.\n",
    "    * '_id'와 '_rev'는 조회해서 확인한다."
   ]
  },
  {
   "cell_type": "code",
   "execution_count": 18,
   "metadata": {
    "collapsed": false,
    "slideshow": {
     "slide_type": "subslide"
    }
   },
   "outputs": [
    {
     "name": "stdout",
     "output_type": "stream",
     "text": [
      "{\"ok\":true,\"id\":\"webpage\",\"rev\":\"8-73f2eb26728b6664161a9d3137056663\"}\r\n"
     ]
    }
   ],
   "source": [
    "!curl -X DELETE {host}/{dbname}/{docname}/webpage?rev=7-aaca1213cef074aff492232a71f3faa5"
   ]
  },
  {
   "cell_type": "code",
   "execution_count": 86,
   "metadata": {
    "collapsed": false,
    "slideshow": {
     "slide_type": "subslide"
    }
   },
   "outputs": [
    {
     "name": "stdout",
     "output_type": "stream",
     "text": [
      "{\"error\":\"bad_request\",\"reason\":\"Document must be a JSON object\"}\r\n"
     ]
    }
   ],
   "source": [
    "!curl -X PUT {host}/{dbname}/{docname} -H 'Content-Type: application/json' -d @ds_web_data_kospi200.json"
   ]
  },
  {
   "cell_type": "code",
   "execution_count": 103,
   "metadata": {
    "collapsed": false,
    "slideshow": {
     "slide_type": "subslide"
    }
   },
   "outputs": [],
   "source": [
    "a={\"id\": \"405\"}"
   ]
  },
  {
   "cell_type": "code",
   "execution_count": 108,
   "metadata": {
    "collapsed": false,
    "slideshow": {
     "slide_type": "subslide"
    }
   },
   "outputs": [
    {
     "name": "stdout",
     "output_type": "stream",
     "text": [
      "curl: (6) Could not resolve host: host\r\n"
     ]
    }
   ],
   "source": [
    "!curl -X POST {host}/{dbname} -H \"Content-Type: application/json\" -d '{\"id\": \"405\"}'"
   ]
  },
  {
   "cell_type": "markdown",
   "metadata": {
    "slideshow": {
     "slide_type": "subslide"
    }
   },
   "source": [
    "### S.3.4 View\n",
    "\n",
    "* 문서에 대해 map-reduce 등의 처리 기능을 실행\n",
    "* permanent, temporary views 기능\n",
    "\n",
    "```\n",
    "# curl -H \"Content-type: application/json\"\\\n",
    "#     -X POST $host/$dbname\\\n",
    "#     -d \"{\n",
    "#     \\\"firstname\\\" : \\\"Martin\\\",\n",
    "#     \\\"address\\\" : {\n",
    "#             \\\"home\\\" : [\n",
    "#                 \\\"Some road\\\",\n",
    "#                 \\\"Some town\\\",\n",
    "#                 \\\"Postcode\\\",\n",
    "#                 \\\"Country\\\"\n",
    "#             ]\n",
    "#         },\n",
    "#         \\\"title\\\" : \\\"Mr\\\",\n",
    "#         \\\"lastname\\\" : \\\"Brown\\\",\n",
    "#         \\\"phones\\\" : {\n",
    "#             \\\"home\\\" : \\\"09874978\\\",\n",
    "#             \\\"mobile\\\" : \\\"0892374908\\\"\n",
    "#         }\n",
    "#     }\"\n",
    "# curl -X GET http://127.0.0.1:5984\n",
    "    /mydb/_design/example/_view/viewjsl\n",
    "    /mydb/_design/example/_view/viewjsl?group=true\n",
    "```"
   ]
  },
  {
   "cell_type": "markdown",
   "metadata": {
    "slideshow": {
     "slide_type": "subslide"
    }
   },
   "source": [
    "* permanent views\n",
    "    * URI /{dbname}/{docid}/{viewname}\n",
    "    * {docid} has the prefix _design/\n",
    "    * {viewname} has the prefix _view"
   ]
  },
  {
   "cell_type": "code",
   "execution_count": 108,
   "metadata": {
    "collapsed": false,
    "slideshow": {
     "slide_type": "subslide"
    }
   },
   "outputs": [
    {
     "name": "stdout",
     "output_type": "stream",
     "text": [
      "Overwriting mydesign.json\n"
     ]
    }
   ],
   "source": [
    "%%writefile mydesign.json\n",
    "{\n",
    "  \"_id\" : \"_design/example\",\n",
    "  \"views\" : {\n",
    "    \"foo\" : {\n",
    "      \"map\" : \"function(doc){ emit(doc._id, doc._rev)}\"\n",
    "    }\n",
    "  }\n",
    "}"
   ]
  },
  {
   "cell_type": "code",
   "execution_count": 109,
   "metadata": {
    "collapsed": false,
    "slideshow": {
     "slide_type": "subslide"
    }
   },
   "outputs": [
    {
     "name": "stdout",
     "output_type": "stream",
     "text": [
      "{\"ok\":true,\"id\":\"_design/example\",\"rev\":\"3-5dac715cb734d6331128995ab3094fb7\"}\r\n"
     ]
    }
   ],
   "source": [
    "!curl -X PUT http://127.0.0.1:5984/mydb/_design/example --data-binary @mydesign.json"
   ]
  },
  {
   "cell_type": "markdown",
   "metadata": {
    "slideshow": {
     "slide_type": "subslide"
    }
   },
   "source": [
    "* 조회\n",
    "    * id로 설정한 값으로 생성"
   ]
  },
  {
   "cell_type": "code",
   "execution_count": 110,
   "metadata": {
    "collapsed": false,
    "slideshow": {
     "slide_type": "subslide"
    }
   },
   "outputs": [
    {
     "name": "stdout",
     "output_type": "stream",
     "text": [
      "{\"total_rows\":4,\"offset\":0,\"rows\":[\r",
      "\r\n",
      "{\"id\":\"_design/example\",\"key\":\"_design/example\",\"value\":{\"rev\":\"3-5dac715cb734d6331128995ab3094fb7\"}},\r",
      "\r\n",
      "{\"id\":\"_design/testmyshow1\",\"key\":\"_design/testmyshow1\",\"value\":{\"rev\":\"1-90ae5096a64b292624ff6b98374209a0\"}},\r",
      "\r\n",
      "{\"id\":\"_design/testmyshow2\",\"key\":\"_design/testmyshow2\",\"value\":{\"rev\":\"1-25f1d246b18629889f2d1aca7baac2c6\"}},\r",
      "\r\n",
      "{\"id\":\"_design/testmyshow3\",\"key\":\"_design/testmyshow3\",\"value\":{\"rev\":\"1-2373f745c69bd72654522986a2033138\"}}\r",
      "\r\n",
      "]}\r\n"
     ]
    }
   ],
   "source": [
    "!curl -X GET http://127.0.0.1:5984/mydb/_all_docs"
   ]
  },
  {
   "cell_type": "code",
   "execution_count": 111,
   "metadata": {
    "collapsed": false,
    "slideshow": {
     "slide_type": "subslide"
    }
   },
   "outputs": [
    {
     "name": "stdout",
     "output_type": "stream",
     "text": [
      "{\"_id\":\"_design/example\",\"_rev\":\"3-5dac715cb734d6331128995ab3094fb7\",\"views\":{\"foo\":{\"map\":\"function(doc){ emit(doc._id, doc._rev)}\"}}}\r\n"
     ]
    }
   ],
   "source": [
    "!curl -X GET http://127.0.0.1:5984/mydb/_design/example"
   ]
  },
  {
   "cell_type": "code",
   "execution_count": 112,
   "metadata": {
    "collapsed": false,
    "slideshow": {
     "slide_type": "subslide"
    }
   },
   "outputs": [
    {
     "name": "stdout",
     "output_type": "stream",
     "text": [
      "{\"total_rows\":0,\"offset\":0,\"rows\":[\r",
      "\r\n",
      "\r",
      "\r\n",
      "]}\r\n"
     ]
    }
   ],
   "source": [
    "!curl -X GET http://127.0.0.1:5984/mydb/_design/example/_view/foo"
   ]
  },
  {
   "cell_type": "markdown",
   "metadata": {
    "slideshow": {
     "slide_type": "subslide"
    }
   },
   "source": [
    "* temporary views: not stored in the database, but rather executed on demand\n",
    "    * URI /{dbname}/_temp_view\n",
    "    * Content-Type header is set to application/json"
   ]
  },
  {
   "cell_type": "code",
   "execution_count": 118,
   "metadata": {
    "collapsed": false,
    "slideshow": {
     "slide_type": "subslide"
    }
   },
   "outputs": [
    {
     "name": "stdout",
     "output_type": "stream",
     "text": [
      "{\"error\":\"not_found\",\"reason\":\"missing_named_view\"}\r\n"
     ]
    }
   ],
   "source": [
    "!curl -X POST http://127.0.0.1:5984/mydb/_temp_view -H \"Content-Type: application/json\" -d '{\"id\": \"405\"}'"
   ]
  },
  {
   "cell_type": "code",
   "execution_count": 82,
   "metadata": {
    "collapsed": false,
    "slideshow": {
     "slide_type": "subslide"
    }
   },
   "outputs": [
    {
     "name": "stdout",
     "output_type": "stream",
     "text": [
      "curl: (6) Could not resolve host: host\r\n"
     ]
    }
   ],
   "source": [
    "!curl -X POST {host}/{dbname}/_temp_view -H \"Content-Type: application/json\" -d '{\"map\": \"function(doc) { \\\n",
    "            if (doc.type==\"quote\") { \\\n",
    "                emit(doc.work.year,doc);\\\n",
    "            }\\\n",
    "        }\\\n",
    "    }'"
   ]
  },
  {
   "cell_type": "markdown",
   "metadata": {
    "slideshow": {
     "slide_type": "subslide"
    }
   },
   "source": [
    "### S.3.5 Shows\n",
    "\n",
    "* html문서를 생성하는 기능, 문서doc를 사용할 수 있다.\n",
    "```\n",
    "function(doc, req) {\n",
    "  return '<h1>' + doc.title + '</h1>';\n",
    "}\n",
    "```\n",
    "\n",
    "* design 내에 생성된다.\n"
   ]
  },
  {
   "cell_type": "markdown",
   "metadata": {
    "slideshow": {
     "slide_type": "subslide"
    }
   },
   "source": [
    "* 연습1\n",
    "    * doc을 인자로 사용한다. doc 인자로 넘겨주지 않으면 오류가 발생한다."
   ]
  },
  {
   "cell_type": "code",
   "execution_count": 82,
   "metadata": {
    "collapsed": false,
    "slideshow": {
     "slide_type": "subslide"
    }
   },
   "outputs": [
    {
     "name": "stdout",
     "output_type": "stream",
     "text": [
      "Overwriting myshow1.json\n"
     ]
    }
   ],
   "source": [
    "%%writefile myshow1.json\n",
    "{\n",
    "    \"shows\": {\n",
    "         \"recipe\" : \"function (doc,req) { return '<h1>' + doc.title + '</h1>'}\"\n",
    "    }\n",
    "}"
   ]
  },
  {
   "cell_type": "code",
   "execution_count": 83,
   "metadata": {
    "collapsed": false,
    "slideshow": {
     "slide_type": "subslide"
    }
   },
   "outputs": [
    {
     "name": "stdout",
     "output_type": "stream",
     "text": [
      "{\"ok\":true,\"id\":\"_design/testmyshow1\",\"rev\":\"1-90ae5096a64b292624ff6b98374209a0\"}\r\n"
     ]
    }
   ],
   "source": [
    "!curl -X PUT http://127.0.0.1:5984/mydb/_design/testmyshow1 --data-binary @myshow1.json"
   ]
  },
  {
   "cell_type": "code",
   "execution_count": 97,
   "metadata": {
    "collapsed": false,
    "slideshow": {
     "slide_type": "subslide"
    }
   },
   "outputs": [
    {
     "name": "stdout",
     "output_type": "stream",
     "text": [
      "{\"total_rows\":1,\"offset\":0,\"rows\":[\r",
      "\r\n",
      "{\"id\":\"_design/testmyshow1\",\"key\":\"_design/testmyshow1\",\"value\":{\"rev\":\"1-90ae5096a64b292624ff6b98374209a0\"}}\r",
      "\r\n",
      "]}\r\n"
     ]
    }
   ],
   "source": [
    "!curl http://127.0.0.1:5984/mydb/_all_docs"
   ]
  },
  {
   "cell_type": "markdown",
   "metadata": {
    "slideshow": {
     "slide_type": "subslide"
    }
   },
   "source": [
    "* 연습 1의 삭제"
   ]
  },
  {
   "cell_type": "code",
   "execution_count": 96,
   "metadata": {
    "collapsed": false,
    "scrolled": true,
    "slideshow": {
     "slide_type": "subslide"
    }
   },
   "outputs": [
    {
     "name": "stdout",
     "output_type": "stream",
     "text": [
      "{\"ok\":true,\"id\":\"webpage\",\"rev\":\"9-15a13d4279bdddd50900db99e7e7a8d6\"}\r\n"
     ]
    }
   ],
   "source": [
    "!curl -X DELETE {host}/{dbname}/_design/testmyshow1?rev=1-90ae5096a64b292624ff6b98374209a0"
   ]
  },
  {
   "cell_type": "markdown",
   "metadata": {
    "slideshow": {
     "slide_type": "subslide"
    }
   },
   "source": [
    "* 연습 2"
   ]
  },
  {
   "cell_type": "code",
   "execution_count": 98,
   "metadata": {
    "collapsed": false,
    "slideshow": {
     "slide_type": "subslide"
    }
   },
   "outputs": [
    {
     "name": "stdout",
     "output_type": "stream",
     "text": [
      "Overwriting myshow2.json\n"
     ]
    }
   ],
   "source": [
    "%%writefile myshow2.json\n",
    "{\n",
    "    \"shows\":{\n",
    "        \"myshow\": \"function(doc, req) {return '<p>Aye aye, ' + req.query.parrot + '!</p>';}\"\n",
    "    }\n",
    "}"
   ]
  },
  {
   "cell_type": "code",
   "execution_count": 99,
   "metadata": {
    "collapsed": false,
    "slideshow": {
     "slide_type": "subslide"
    }
   },
   "outputs": [
    {
     "name": "stdout",
     "output_type": "stream",
     "text": [
      "{\"ok\":true,\"id\":\"_design/testmyshow2\",\"rev\":\"1-25f1d246b18629889f2d1aca7baac2c6\"}\r\n"
     ]
    }
   ],
   "source": [
    "!curl -X PUT http://127.0.0.1:5984/mydb/_design/testmyshow2 --data-binary @myshow2.json"
   ]
  },
  {
   "cell_type": "code",
   "execution_count": 102,
   "metadata": {
    "collapsed": false,
    "slideshow": {
     "slide_type": "subslide"
    }
   },
   "outputs": [
    {
     "name": "stdout",
     "output_type": "stream",
     "text": [
      "<p>Aye aye, Captain!</p>"
     ]
    }
   ],
   "source": [
    "!curl http://127.0.0.1:5984/mydb/_design/testmyshow2/_show/myshow?parrot=Captain"
   ]
  },
  {
   "cell_type": "markdown",
   "metadata": {
    "slideshow": {
     "slide_type": "subslide"
    }
   },
   "source": [
    "* id를 사용할 수 있다."
   ]
  },
  {
   "cell_type": "code",
   "execution_count": 120,
   "metadata": {
    "collapsed": false,
    "slideshow": {
     "slide_type": "subslide"
    }
   },
   "outputs": [
    {
     "name": "stdout",
     "output_type": "stream",
     "text": [
      "<p>Aye aye, undefined!</p>"
     ]
    }
   ],
   "source": [
    "!curl http://127.0.0.1:5984/mydb/_design/testmyshow2/_show/myshow/1-25f1d246b18629889f2d1aca7baac2c6"
   ]
  },
  {
   "cell_type": "markdown",
   "metadata": {
    "slideshow": {
     "slide_type": "subslide"
    }
   },
   "source": [
    "* 연습 3"
   ]
  },
  {
   "cell_type": "code",
   "execution_count": 103,
   "metadata": {
    "collapsed": false,
    "slideshow": {
     "slide_type": "subslide"
    }
   },
   "outputs": [
    {
     "name": "stdout",
     "output_type": "stream",
     "text": [
      "Writing myshow3.json\n"
     ]
    }
   ],
   "source": [
    "%%writefile myshow3.json\n",
    "{\n",
    "    \"shows\":{\n",
    "        \"hello\": \"function(doc, req) {return { body: 'Hellooo World'}}\",\n",
    "        \"test\": \"function(doc, req) {return {body: '<foo>'+doc.title+'</foo>',headers: {'Content-Type':'application/xml','X-My-Own-Header':'own headers'}}}\"\n",
    "    }\n",
    "}"
   ]
  },
  {
   "cell_type": "code",
   "execution_count": 104,
   "metadata": {
    "collapsed": false,
    "slideshow": {
     "slide_type": "subslide"
    }
   },
   "outputs": [
    {
     "name": "stdout",
     "output_type": "stream",
     "text": [
      "{\"ok\":true,\"id\":\"_design/testmyshow3\",\"rev\":\"1-2373f745c69bd72654522986a2033138\"}\r\n"
     ]
    }
   ],
   "source": [
    "!curl -X PUT http://127.0.0.1:5984/mydb/_design/testmyshow3 --data-binary @myshow3.json"
   ]
  },
  {
   "cell_type": "code",
   "execution_count": 105,
   "metadata": {
    "collapsed": false,
    "slideshow": {
     "slide_type": "subslide"
    }
   },
   "outputs": [
    {
     "name": "stdout",
     "output_type": "stream",
     "text": [
      "Hellooo World"
     ]
    }
   ],
   "source": [
    "!curl http://127.0.0.1:5984/mydb/_design/testmyshow3/_show/hello"
   ]
  },
  {
   "cell_type": "markdown",
   "metadata": {
    "slideshow": {
     "slide_type": "slide"
    }
   },
   "source": [
    "### S.3.6 Replication\n",
    "\n",
    "* CouchDB의 특별한 기능\n",
    "* 데이터베이스 동기화\n",
    "    * 소스의 데이터변경을 타켓에 동기화"
   ]
  },
  {
   "cell_type": "code",
   "execution_count": null,
   "metadata": {
    "collapsed": true,
    "slideshow": {
     "slide_type": "subslide"
    }
   },
   "outputs": [],
   "source": [
    "curl -X POST http://localhost:5984/_replicate\\\n",
    "     -H \"Content-Type: application/json\" \\\n",
    "     -d '{\n",
    "        \"source\":\"http://117.16.47.18:5984/tweets-user-timeline-228329122\",\n",
    "        \"target\":\"http://localhost:5984/jsl\"\n",
    "     }'"
   ]
  },
  {
   "cell_type": "code",
   "execution_count": null,
   "metadata": {
    "collapsed": true,
    "slideshow": {
     "slide_type": "subslide"
    }
   },
   "outputs": [],
   "source": [
    "curl -X POST http://localhost:5984/_replicate\\\n",
    "     -H \"Content-Type: application/json\" \\\n",
    "     -d '{\n",
    "        \"source\":\"http://117.16.47.18:5984/tweets-user-timeline-111162906\",\n",
    "        \"target\":\"http://localhost:5984/jsl\"\n",
    "     }'"
   ]
  },
  {
   "cell_type": "code",
   "execution_count": null,
   "metadata": {
    "collapsed": true
   },
   "outputs": [],
   "source": []
  }
 ],
 "metadata": {
  "celltoolbar": "Slideshow",
  "kernelspec": {
   "display_name": "Python 2",
   "language": "python",
   "name": "python2"
  },
  "language_info": {
   "codemirror_mode": {
    "name": "ipython",
    "version": 2
   },
   "file_extension": ".py",
   "mimetype": "text/x-python",
   "name": "python",
   "nbconvert_exporter": "python",
   "pygments_lexer": "ipython2",
   "version": "2.7.12"
  }
 },
 "nbformat": 4,
 "nbformat_minor": 0
}
