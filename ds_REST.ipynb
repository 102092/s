{
 "cells": [
  {
   "cell_type": "markdown",
   "metadata": {},
   "source": [
    "# REST\n",
    "\n",
    "## R.1 학습내용\n",
    "\n",
    "### 1) 목표\n",
    "\n",
    "* API를 사용하여 열린데이터, 공공데이터포털 데이터를 가져올 수 있다.\n",
    "* API로 가져온 xml, json 데이터를 분석가능한 형식으로 변환할 수 있다.\n",
    "* nosql, 파일로 저장할 수 있다.\n",
    "* 웹에서 사용되는 한글의 인코딩 방식을 사용할 수 있다.\n",
    "\n",
    "### 2) 문제\n",
    "\n",
    "* 문제 REST-1: ip주소에서 지역정보 알아내기\n",
    "* 문제 REST-2: 키를 저장하고 읽기\n",
    "* 문제 REST-3: 서울시 노선별 지하철역 목록 구하기 \n",
    "* 문제 REST-4: 서울시 외국인 주민 자녀 국적취득 년도별 시군구 합계 구하기 \n",
    "* 문제 REST-5: 2015년 서울시 지하철역별 월별 승하차인원 구하기\n",
    "* 문제 REST-6: 2015년 1년 동안 지하철역 승하차 인원\n",
    "* 문제 REST-7: '2015년 1년 동안 지하철역 승하차 인원' 저장하기\n",
    "    * 파일, nosql 저장\n",
    "* 문제 REST-8: 서울 7016번 광화문~상명대까지 2015년 승하차 인원 월별 정류장별 최대 최소 구하기\n",
    "* 문제 REST-9: 서울시 종로구 관측소 현재 온도, 습도, 강수량 구하기\n",
    "* 문제 REST-10: 공공데이터포털에서 제공하는 2015년 서울시 구별 교통사고 사망자 수 구하기\n",
    "* 문제 REST-11: 공공데이터포털 대기 오염 정보\n",
    "* 문제 REST-12: 공공데이터포털 서울특별시교육청 공공도서관 소장도서정보\n",
    "\n",
    "### 3) 연습\n",
    "\n",
    "* 광화문 지역 2015년 11월 하루 동안 시간대별 미세먼지량\n",
    "* 공공데이터포털 의료빅데이터\n",
    "* 연습 REST: pandas로 웹 데이터 야후 주식 읽기\n",
    "* 연습 REST: etc\n",
    "    * 다음\n",
    "    * http://kosis.kr\n",
    "    * 지오코딩 - T Map, 다음, 네이버, 구글 (구글맵에 사용)"
   ]
  },
  {
   "cell_type": "markdown",
   "metadata": {},
   "source": [
    "## R.2 소개\n",
    "\n",
    "### Open Data\n",
    "\n",
    "* [Open](http://opendefinition.org/)이란 누구나 원하는대로 자유롭게 사용하고, 수정하고, 공유할 수 있는 개념을 말하는 것이고, Open Data는 그러한 데이터를 말한다. \"Open data and content can be freely used, modified, and shared by anyone for any purpose\"\n",
    "* Open API (Application Programming Interface)는 오픈 데이터를 누구나 (보통 개발자) 사용할 수 있도록 제공되는 표준화된 api를 말한다.\n",
    "* Web API - HTTP프로토콜을 사용하여 웹 데이터를 제공하는 API.\n",
    "\n",
    "### REST\n",
    "\n",
    "* REpresentational State Transfer는 '웹서비스'를 사용하기 위한 아키텍처를 말한다.\n",
    "* '웹서비스'는 웹에서 제공하는 서비스, 자원을 가져오거나 저장하는 기능을 말한다.\n",
    "* SOAP (Simple Object Access Protocol) 보다는 REST가 간편하여 많이 사용된다.\n",
    "* '웹서비스'는 'http 프로토콜'을 통하여 '자원'을 사용할 수 있게 한다.\n",
    "    * 자원 resource는 html pages, xml, videos 등을 말한다.\n",
    "    * resource는 xml 또는 json으로 표현된다 (representation).\n",
    "    * 클라이언트와 서버는 http request, http response 형식으로 데이터를 주고 받는다.\n",
    "    * http 프로토콜과 같이 상태를 보관하지 않는 특성을 가진다 (stateless).\n",
    "* REST uniform interface를 사용한다.\n",
    "    * uri, 자원 id, 방법(HTTP의 post, delete, get, put)을 명시하여 resource를 읽어 온다.\n",
    "    * 주로 XML, json 형식으로 정보를 제공한다.\n",
    "\n",
    "### RESTful api\n",
    "\n",
    "* api의 설계\n",
    "* endpoint url을 지정해서 자원을 가져오고, 대량 데이터를 가져오는 경우 pging, rate limit를 주의한다.\n",
    "\n",
    "http 방법 | 설명 | 예제\n",
    "----------|----------|----------\n",
    "GET | 자원을 읽어 온다. | http://httpbin.org/get\n",
    "PUT | 새로운 자원을 입력하거나 갱신한다. | http://<url>/put (x) http://<url>/put/id (o)\n",
    "POST | 새로운 자원을 입력하거나 갱신한다. | http://<url>/post (o)\n",
    "DELETE | 자원을 삭제한다. | http://<url>/delete/id"
   ]
  },
  {
   "cell_type": "markdown",
   "metadata": {},
   "source": [
    "### 열린데이터와 공공데이터포털\n",
    "\n",
    "* 모두 공공데이터이고, Open Data이다.\n",
    "    * 공공데이터포털은 포털형식으로 제공한다 (교통, 재난, 의료 등).\n",
    "    * 열린데이터는 시군구별 공공데이터를 제공한다.\n",
    "\n",
    "열린데이터 | 공공데이터포털\n",
    "----------|----------\n",
    "시군구별로 제공하는 Open Data | 정부가 제공, 여러 관공서에서 제공하는 Open Data의 포털\n",
    "data.seoul.go.kr<br>data.busan.go.kr<br>data.jongno.go.kr | data.go.kr\n",
    "'/'를 사용하여 api endpoint를 제공한다. | url에 query parameters를 추가해서 사용한다. '?'로 시작하여 key, value의 쌍을 '&'로 묶음 예: '?k1=v1&k2=v2'\n",
    "\n",
    "\n",
    "* 예제\n",
    "    * 서울시 열린데이터 data.seoul.go.kr의 지하철 역사정보\n",
    "    * 공공데이터 포털 go.kr의 대기정보"
   ]
  },
  {
   "cell_type": "code",
   "execution_count": 4,
   "metadata": {
    "collapsed": false
   },
   "outputs": [
    {
     "name": "stdout",
     "output_type": "stream",
     "text": [
      "Overwriting src/ds_rest_dataseoul_ex.py\n"
     ]
    }
   ],
   "source": [
    "%%writefile src/ds_rest_dataseoul_ex.py\n",
    "import os\n",
    "import requests\n",
    "import urlparse\n",
    "\n",
    "# (1) make params with resource IDs\n",
    "KEY='73725974496a736c34395757705847'\n",
    "TYPE='json'\n",
    "SERVICE='SearchSTNBySubwayLineService'\n",
    "START_INDEX=str(1)\n",
    "END_INDEX=str(10)\n",
    "LINE_NUM=str(2)\n",
    "params=os.path.join(KEY,TYPE,SERVICE,START_INDEX,END_INDEX,LINE_NUM)\n",
    "\n",
    "# (2) make a full url\n",
    "_url='http://openAPI.seoul.go.kr:8088/'\n",
    "url=urlparse.urljoin(_url,params)\n",
    "\n",
    "# (3) get data\n",
    "data=requests.get(url).text\n",
    "print data[:300]"
   ]
  },
  {
   "cell_type": "code",
   "execution_count": 5,
   "metadata": {
    "collapsed": false
   },
   "outputs": [
    {
     "name": "stdout",
     "output_type": "stream",
     "text": [
      "{\"SearchSTNBySubwayLineService\":{\"list_total_count\":51,\"RESULT\":{\"CODE\":\"INFO-000\",\"MESSAGE\":\"정상 처리되었습니다\"},\"row\":[{\"STATION_CD\":\"0201\",\"STATION_NM\":\"시청\",\"LINE_NUM\":\"2\",\"FR_CODE\":\"201\"},{\"STATION_CD\":\"0202\",\"STATION_NM\":\"을지로입구\",\"LINE_NUM\":\"2\",\"FR_CODE\":\"202\"},{\"STATION_CD\":\"0203\",\"STATION_NM\":\"을지로3가\"\r\n"
     ]
    }
   ],
   "source": [
    "!python src/ds_rest_dataseoul_ex.py"
   ]
  },
  {
   "cell_type": "code",
   "execution_count": 6,
   "metadata": {
    "collapsed": false
   },
   "outputs": [
    {
     "name": "stdout",
     "output_type": "stream",
     "text": [
      "Overwriting src/ds_rest_gokr_ex.py\n"
     ]
    }
   ],
   "source": [
    "%%writefile src/ds_rest_gokr_ex.py\n",
    "import os\n",
    "import requests\n",
    "import urlparse\n",
    "import urllib\n",
    "\n",
    "# (1) service + operation\n",
    "SERVICE='ArpltnInforInqireSvc'\n",
    "OPERATION_NAME='getMinuDustFrcstDspth'\n",
    "params1=os.path.join(SERVICE,OPERATION_NAME)\n",
    "\n",
    "# (2) query params encoding\n",
    "_d=dict()\n",
    "_d['dataTerm']='month'\n",
    "params2 = urllib.urlencode(_d)\n",
    "\n",
    "# (3) add my service key\n",
    "keygokr='8Bx4C1%2Bbogiu3i0M5k7aqOf%2BTA5yCWK%2BFDI7nTSJ0oAhDj1NC5CtbI1TMgFmnpuZxJ9LBoCScqBhuw5sul2tmQ%3D%3D'\n",
    "params=params1+'?'+'serviceKey='+keygokr+'&'+params2\n",
    "\n",
    "# (4) make a full url\n",
    "_url='http://openapi.airkorea.or.kr/openapi/services/rest/ArpltnInforInqireSvc'\n",
    "url=urlparse.urljoin(_url,params)\n",
    "\n",
    "# (5) get data\n",
    "\n",
    "data=requests.get(url).text\n",
    "print data[:300]"
   ]
  },
  {
   "cell_type": "code",
   "execution_count": 7,
   "metadata": {
    "collapsed": false
   },
   "outputs": [
    {
     "name": "stdout",
     "output_type": "stream",
     "text": [
      "<?xml version=\"1.0\" encoding=\"UTF-8\"?>\r",
      "\r\n",
      "\r",
      "\r\n",
      "\r",
      "\r\n",
      "\r",
      "\r\n",
      "\r",
      "\r\n",
      "<response>\r",
      "\r\n",
      "\t<header>\r",
      "\r\n",
      "\t\t<resultCode>00</resultCode>\r",
      "\r\n",
      "\t\t<resultMsg>NORMAL SERVICE.</resultMsg>\r",
      "\r\n",
      "\t</header>\r",
      "\r\n",
      "\t<body>\r",
      "\r\n",
      "\t\t<items>\r",
      "\r\n",
      "\t\t\t\r",
      "\r\n",
      "\t\t\t\t<item>\r",
      "\r\n",
      "\t\t\t\t\t<dataTime>2016-10-11</dataTime>\r",
      "\r\n",
      "\t\t\t\t\t<informCode>PM25</informCode>\r",
      "\r\n",
      "\t\t\t\t</item>\r",
      "\r\n",
      "\t\t\t\r",
      "\r\n",
      "\t\t\t\t<item>\r",
      "\r\n",
      "\t\t\t\r\n"
     ]
    }
   ],
   "source": [
    "!python src/ds_rest_gokr_ex.py"
   ]
  },
  {
   "cell_type": "markdown",
   "metadata": {},
   "source": [
    "## R.3 API 연습\n",
    "\n",
    "* cURL 또는 python을 사용할 수 있다.\n",
    "* [cURL](https://en.wikipedia.org/wiki/CURL)\n",
    "    * 서버와 데이터를 교환하는 도구. 다양한 통신 프로토콜을 지원한다.\n",
    "    * 리눅스 설치 apt install curl\n",
    "    * 윈도우 설치\n",
    "        * (cURL 다운로드)[https://curl.haxx.se/download.html]\n",
    "        * 운영체제 선택 Win32 또는 Win64. 그리고 보통 윈도우면 Generic 선택.\n",
    "        * unzip\n",
    "        * PATH 설정 (C:\\Windows\\System32에 이동)\n",
    "* 연습 사이트\n",
    "    * http://httpbin.org\n",
    "    * http://postbin.org\n"
   ]
  },
  {
   "cell_type": "markdown",
   "metadata": {},
   "source": [
    "### postbin.org\n",
    "\n",
    "* http:postbin.org post를 연습할 수 있는 사이트로, http://requestb.in/ 로 연결된다"
   ]
  },
  {
   "cell_type": "markdown",
   "metadata": {},
   "source": [
    "* post에 이용될 resource는 임시로 만들어 준다.\n",
    "* key, value로 입력할 데이터를 만들어 준다."
   ]
  },
  {
   "cell_type": "code",
   "execution_count": 15,
   "metadata": {
    "collapsed": false
   },
   "outputs": [
    {
     "name": "stdout",
     "output_type": "stream",
     "text": [
      "ok"
     ]
    }
   ],
   "source": [
    "!curl -X POST -d \"jsl=test\" http://requestb.in/v6a6lhv6"
   ]
  },
  {
   "cell_type": "markdown",
   "metadata": {},
   "source": [
    "* python을 사용해서 입력한다."
   ]
  },
  {
   "cell_type": "code",
   "execution_count": 19,
   "metadata": {
    "collapsed": false
   },
   "outputs": [
    {
     "name": "stdout",
     "output_type": "stream",
     "text": [
      "200\n",
      "ok\n"
     ]
    }
   ],
   "source": [
    "import requests, time\n",
    "r = requests.post('http://requestb.in/v6a6lhv6', data={\"ts\":time.time()})\n",
    "print r.status_code\n",
    "print r.content"
   ]
  },
  {
   "cell_type": "markdown",
   "metadata": {},
   "source": [
    "### httpbin.org\n",
    "\n",
    "* (httpbin)[https://github.com/Runscope/httpbin] api를 테스트하기 좋은 사이트.\n",
    "* postbin.org는 post 인터페이스만 제공한다."
   ]
  },
  {
   "cell_type": "code",
   "execution_count": 35,
   "metadata": {
    "collapsed": false
   },
   "outputs": [
    {
     "name": "stdout",
     "output_type": "stream",
     "text": [
      "{\r\n",
      "  \"origin\": \"117.16.44.45\"\r\n",
      "}\r\n"
     ]
    }
   ],
   "source": [
    "!curl http://httpbin.org/ip"
   ]
  },
  {
   "cell_type": "code",
   "execution_count": 36,
   "metadata": {
    "collapsed": false
   },
   "outputs": [
    {
     "name": "stdout",
     "output_type": "stream",
     "text": [
      "{\r\n",
      "  \"args\": {}, \r\n",
      "  \"headers\": {\r\n",
      "    \"Accept\": \"*/*\", \r\n",
      "    \"Host\": \"httpbin.org\", \r\n",
      "    \"User-Agent\": \"curl/7.47.0\"\r\n",
      "  }, \r\n",
      "  \"origin\": \"117.16.44.45\", \r\n",
      "  \"url\": \"http://httpbin.org/get\"\r\n",
      "}\r\n"
     ]
    }
   ],
   "source": [
    "!curl http://httpbin.org/get"
   ]
  },
  {
   "cell_type": "markdown",
   "metadata": {},
   "source": [
    "* param을 key,value 쌍으로 넘겨줄 수 있다."
   ]
  },
  {
   "cell_type": "code",
   "execution_count": 37,
   "metadata": {
    "collapsed": false
   },
   "outputs": [
    {
     "name": "stdout",
     "output_type": "stream",
     "text": [
      "{\r\n",
      "  \"args\": {\r\n",
      "    \"show_env\": \"1\"\r\n",
      "  }, \r\n",
      "  \"headers\": {\r\n",
      "    \"Accept\": \"*/*\", \r\n",
      "    \"Host\": \"httpbin.org\", \r\n",
      "    \"Runscope-Service\": \"httpbin\", \r\n",
      "    \"User-Agent\": \"curl/7.47.0\", \r\n",
      "    \"X-Forwarded-For\": \"117.16.44.45\", \r\n",
      "    \"X-Real-Ip\": \"117.16.44.45\"\r\n",
      "  }, \r\n",
      "  \"origin\": \"117.16.44.45\", \r\n",
      "  \"url\": \"http://httpbin.org/get?show_env=1\"\r\n",
      "}\r\n"
     ]
    }
   ],
   "source": [
    "!curl http://httpbin.org/get?show_env=1"
   ]
  },
  {
   "cell_type": "markdown",
   "metadata": {},
   "source": [
    "* python requests 라이브러리를 사용해 본다"
   ]
  },
  {
   "cell_type": "code",
   "execution_count": 40,
   "metadata": {
    "collapsed": true
   },
   "outputs": [],
   "source": [
    "r = requests.options(\"http://httpbin.org/get\")"
   ]
  },
  {
   "cell_type": "code",
   "execution_count": 42,
   "metadata": {
    "collapsed": false
   },
   "outputs": [
    {
     "data": {
      "text/plain": [
       "200"
      ]
     },
     "execution_count": 42,
     "metadata": {},
     "output_type": "execute_result"
    }
   ],
   "source": [
    "r.status_code"
   ]
  },
  {
   "cell_type": "code",
   "execution_count": 43,
   "metadata": {
    "collapsed": true
   },
   "outputs": [],
   "source": [
    "bad_r = requests.get('http://httpbin.org/status/404')"
   ]
  },
  {
   "cell_type": "code",
   "execution_count": 44,
   "metadata": {
    "collapsed": false
   },
   "outputs": [
    {
     "data": {
      "text/plain": [
       "404"
      ]
     },
     "execution_count": 44,
     "metadata": {},
     "output_type": "execute_result"
    }
   ],
   "source": [
    "bad_r.status_code"
   ]
  },
  {
   "cell_type": "code",
   "execution_count": 45,
   "metadata": {
    "collapsed": false
   },
   "outputs": [
    {
     "data": {
      "text/plain": [
       "{'Content-Length': '0', 'Access-Control-Max-Age': '3600', 'Server': 'nginx', 'Connection': 'keep-alive', 'Allow': 'HEAD, OPTIONS, GET', 'Access-Control-Allow-Credentials': 'true', 'Date': 'Sun, 09 Oct 2016 01:47:03 GMT', 'Access-Control-Allow-Origin': '*', 'Access-Control-Allow-Methods': 'GET, POST, PUT, DELETE, PATCH, OPTIONS', 'Content-Type': 'text/html; charset=utf-8'}"
      ]
     },
     "execution_count": 45,
     "metadata": {},
     "output_type": "execute_result"
    }
   ],
   "source": [
    "r.headers"
   ]
  },
  {
   "cell_type": "code",
   "execution_count": 46,
   "metadata": {
    "collapsed": false
   },
   "outputs": [
    {
     "data": {
      "text/plain": [
       "'text/html; charset=utf-8'"
      ]
     },
     "execution_count": 46,
     "metadata": {},
     "output_type": "execute_result"
    }
   ],
   "source": [
    "r.headers['Content-Type']"
   ]
  },
  {
   "cell_type": "markdown",
   "metadata": {},
   "source": [
    "* post, put, delete 서비스는 사용할 자원이 저장되어 있지 않으므로, 실행 결과는 의미가 없다.\n",
    "    ```\n",
    "    r = requests.post(\"http://httpbin.org/post\")\n",
    "    r = requests.put(\"http://httpbin.org/put\")\n",
    "    r = requests.delete(\"http://httpbin.org/delete\")\n",
    "    ```"
   ]
  },
  {
   "cell_type": "code",
   "execution_count": 47,
   "metadata": {
    "collapsed": true
   },
   "outputs": [],
   "source": [
    "r = requests.post(\"http://httpbin.org/post\")"
   ]
  },
  {
   "cell_type": "code",
   "execution_count": 48,
   "metadata": {
    "collapsed": false
   },
   "outputs": [
    {
     "data": {
      "text/plain": [
       "{u'args': {},\n",
       " u'data': u'',\n",
       " u'files': {},\n",
       " u'form': {},\n",
       " u'headers': {u'Accept': u'*/*',\n",
       "  u'Accept-Encoding': u'gzip, deflate',\n",
       "  u'Content-Length': u'0',\n",
       "  u'Host': u'httpbin.org',\n",
       "  u'User-Agent': u'python-requests/2.11.1'},\n",
       " u'json': None,\n",
       " u'origin': u'117.16.44.45',\n",
       " u'url': u'http://httpbin.org/post'}"
      ]
     },
     "execution_count": 48,
     "metadata": {},
     "output_type": "execute_result"
    }
   ],
   "source": [
    "r.json()"
   ]
  },
  {
   "cell_type": "markdown",
   "metadata": {},
   "source": [
    "## R.4 한글\n",
    "\n",
    "* 운영체제에서 사용하는 인코딩 방식\n",
    "    * unicode를 사용하는 것이 문제를 줄일 수 있다.\n",
    "    * locale을 'utf-8'로 정의한다.\n",
    "* urllib을 사용할 경우\n",
    "    * urlencode: urlopen()에 사용될 param을 만든다.\n",
    "        * dict형식을 key=value, '&' 문자로 분리.\n",
    "    * urllib.quote (quote_plus()는 key, value를 따옴표)"
   ]
  },
  {
   "cell_type": "code",
   "execution_count": 49,
   "metadata": {
    "collapsed": false
   },
   "outputs": [
    {
     "name": "stdout",
     "output_type": "stream",
     "text": [
      "<h1>Unicode Demo</h1>\r\n",
      "\r\n",
      "<p>Taken from <a\r\n",
      "href=\"http://www.cl.cam.ac.uk/~mgk25/ucs/examples/UTF-8-demo.txt\">http://www.cl.cam.ac.uk/~mgk25/ucs/examples/UTF-8-demo.txt</a></p>\r\n",
      "\r\n",
      "<pre>\r\n",
      "\r\n",
      "UTF-8 encoded sample plain-text file\r\n",
      "‾‾‾‾‾‾‾‾‾‾‾‾‾‾‾‾‾‾‾‾‾‾‾‾‾‾‾‾‾‾‾‾‾‾‾‾\r\n",
      "\r\n",
      "Markus Kuhn [ˈmaʳkʊs kuːn] <http://www.cl.cam.ac.uk/~mgk25/> — 2002-07-25\r\n",
      "\r\n",
      "\r\n",
      "The ASCII compatible UTF-8 encoding used in this plain-text file\r\n",
      "is defined in Unicode, ISO 10646-1, and RFC 2279.\r\n",
      "\r\n",
      "\r\n",
      "Using Unicode/UTF-8, you can write in emails and source code things such as\r\n",
      "\r\n",
      "Mathematics and sciences:\r\n",
      "\r\n",
      "  ∮ E⋅da = Q,  n → ∞, ∑ f(i) = ∏ g(i),      ⎧⎡⎛┌─────┐⎞⎤⎫\r\n",
      "                                            ⎪⎢⎜│a²+b³ ⎟⎥⎪\r\n",
      "  ∀x∈ℝ: ⌈x⌉ = −⌊−x⌋, α ∧ ¬β = ¬(¬α ∨ β),    ⎪⎢⎜│───── ⎟⎥⎪\r\n",
      "                                            ⎪⎢⎜⎷ c₈   ⎟⎥⎪\r\n",
      "  ℕ ⊆ ℕ₀ ⊂ ℤ ⊂ ℚ ⊂ ℝ ⊂ ℂ,                   ⎨⎢⎜       ⎟⎥⎬\r\n",
      "                                            ⎪⎢⎜ ∞     ⎟⎥⎪\r\n",
      "  ⊥ < a ≠ b ≡ c ≤ d ≪ ⊤ ⇒ (⟦A⟧ ⇔ ⟪B⟫),      ⎪⎢⎜ ⎲     ⎟⎥⎪\r\n",
      "                                            ⎪⎢⎜ ⎳aⁱ-bⁱ⎟⎥⎪\r\n",
      "  2H₂ + O₂ ⇌ 2H₂O, R = 4.7 kΩ, ⌀ 200 mm     ⎩⎣⎝i=1    ⎠⎦⎭\r\n",
      "\r\n",
      "Linguistics and dictionaries:\r\n",
      "\r\n",
      "  ði ıntəˈnæʃənəl fəˈnɛtık əsoʊsiˈeıʃn\r\n",
      "  Y [ˈʏpsilɔn], Yen [jɛn], Yoga [ˈjoːgɑ]\r\n",
      "\r\n",
      "APL:\r\n",
      "\r\n",
      "  ((V⍳V)=⍳⍴V)/V←,V    ⌷←⍳→⍴∆∇⊃‾⍎⍕⌈\r\n",
      "\r\n",
      "Nicer typography in plain text files:\r\n",
      "\r\n",
      "  ╔══════════════════════════════════════════╗\r\n",
      "  ║                                          ║\r\n",
      "  ║   • ‘single’ and “double” quotes         ║\r\n",
      "  ║                                          ║\r\n",
      "  ║   • Curly apostrophes: “We’ve been here” ║\r\n",
      "  ║                                          ║\r\n",
      "  ║   • Latin-1 apostrophe and accents: '´`  ║\r\n",
      "  ║                                          ║\r\n",
      "  ║   • ‚deutsche‘ „Anführungszeichen“       ║\r\n",
      "  ║                                          ║\r\n",
      "  ║   • †, ‡, ‰, •, 3–4, —, −5/+5, ™, …      ║\r\n",
      "  ║                                          ║\r\n",
      "  ║   • ASCII safety test: 1lI|, 0OD, 8B     ║\r\n",
      "  ║                      ╭─────────╮         ║\r\n",
      "  ║   • the euro symbol: │ 14.95 € │         ║\r\n",
      "  ║                      ╰─────────╯         ║\r\n",
      "  ╚══════════════════════════════════════════╝\r\n",
      "\r\n",
      "Combining characters:\r\n",
      "\r\n",
      "  STARGΛ̊TE SG-1, a = v̇ = r̈, a⃑ ⊥ b⃑\r\n",
      "\r\n",
      "Greek (in Polytonic):\r\n",
      "\r\n",
      "  The Greek anthem:\r\n",
      "\r\n",
      "  Σὲ γνωρίζω ἀπὸ τὴν κόψη\r\n",
      "  τοῦ σπαθιοῦ τὴν τρομερή,\r\n",
      "  σὲ γνωρίζω ἀπὸ τὴν ὄψη\r\n",
      "  ποὺ μὲ βία μετράει τὴ γῆ.\r\n",
      "\r\n",
      "  ᾿Απ᾿ τὰ κόκκαλα βγαλμένη\r\n",
      "  τῶν ῾Ελλήνων τὰ ἱερά\r\n",
      "  καὶ σὰν πρῶτα ἀνδρειωμένη\r\n",
      "  χαῖρε, ὦ χαῖρε, ᾿Ελευθεριά!\r\n",
      "\r\n",
      "  From a speech of Demosthenes in the 4th century BC:\r\n",
      "\r\n",
      "  Οὐχὶ ταὐτὰ παρίσταταί μοι γιγνώσκειν, ὦ ἄνδρες ᾿Αθηναῖοι,\r\n",
      "  ὅταν τ᾿ εἰς τὰ πράγματα ἀποβλέψω καὶ ὅταν πρὸς τοὺς\r\n",
      "  λόγους οὓς ἀκούω· τοὺς μὲν γὰρ λόγους περὶ τοῦ\r\n",
      "  τιμωρήσασθαι Φίλιππον ὁρῶ γιγνομένους, τὰ δὲ πράγματ᾿\r\n",
      "  εἰς τοῦτο προήκοντα,  ὥσθ᾿ ὅπως μὴ πεισόμεθ᾿ αὐτοὶ\r\n",
      "  πρότερον κακῶς σκέψασθαι δέον. οὐδέν οὖν ἄλλο μοι δοκοῦσιν\r\n",
      "  οἱ τὰ τοιαῦτα λέγοντες ἢ τὴν ὑπόθεσιν, περὶ ἧς βουλεύεσθαι,\r\n",
      "  οὐχὶ τὴν οὖσαν παριστάντες ὑμῖν ἁμαρτάνειν. ἐγὼ δέ, ὅτι μέν\r\n",
      "  ποτ᾿ ἐξῆν τῇ πόλει καὶ τὰ αὑτῆς ἔχειν ἀσφαλῶς καὶ Φίλιππον\r\n",
      "  τιμωρήσασθαι, καὶ μάλ᾿ ἀκριβῶς οἶδα· ἐπ᾿ ἐμοῦ γάρ, οὐ πάλαι\r\n",
      "  γέγονεν ταῦτ᾿ ἀμφότερα· νῦν μέντοι πέπεισμαι τοῦθ᾿ ἱκανὸν\r\n",
      "  προλαβεῖν ἡμῖν εἶναι τὴν πρώτην, ὅπως τοὺς συμμάχους\r\n",
      "  σώσομεν. ἐὰν γὰρ τοῦτο βεβαίως ὑπάρξῃ, τότε καὶ περὶ τοῦ\r\n",
      "  τίνα τιμωρήσεταί τις καὶ ὃν τρόπον ἐξέσται σκοπεῖν· πρὶν δὲ\r\n",
      "  τὴν ἀρχὴν ὀρθῶς ὑποθέσθαι, μάταιον ἡγοῦμαι περὶ τῆς\r\n",
      "  τελευτῆς ὁντινοῦν ποιεῖσθαι λόγον.\r\n",
      "\r\n",
      "  Δημοσθένους, Γ´ ᾿Ολυνθιακὸς\r\n",
      "\r\n",
      "Georgian:\r\n",
      "\r\n",
      "  From a Unicode conference invitation:\r\n",
      "\r\n",
      "  გთხოვთ ახლავე გაიაროთ რეგისტრაცია Unicode-ის მეათე საერთაშორისო\r\n",
      "  კონფერენციაზე დასასწრებად, რომელიც გაიმართება 10-12 მარტს,\r\n",
      "  ქ. მაინცში, გერმანიაში. კონფერენცია შეჰკრებს ერთად მსოფლიოს\r\n",
      "  ექსპერტებს ისეთ დარგებში როგორიცაა ინტერნეტი და Unicode-ი,\r\n",
      "  ინტერნაციონალიზაცია და ლოკალიზაცია, Unicode-ის გამოყენება\r\n",
      "  ოპერაციულ სისტემებსა, და გამოყენებით პროგრამებში, შრიფტებში,\r\n",
      "  ტექსტების დამუშავებასა და მრავალენოვან კომპიუტერულ სისტემებში.\r\n",
      "\r\n",
      "Russian:\r\n",
      "\r\n",
      "  From a Unicode conference invitation:\r\n",
      "\r\n",
      "  Зарегистрируйтесь сейчас на Десятую Международную Конференцию по\r\n",
      "  Unicode, которая состоится 10-12 марта 1997 года в Майнце в Германии.\r\n",
      "  Конференция соберет широкий круг экспертов по  вопросам глобального\r\n",
      "  Интернета и Unicode, локализации и интернационализации, воплощению и\r\n",
      "  применению Unicode в различных операционных системах и программных\r\n",
      "  приложениях, шрифтах, верстке и многоязычных компьютерных системах.\r\n",
      "\r\n",
      "Thai (UCS Level 2):\r\n",
      "\r\n",
      "  Excerpt from a poetry on The Romance of The Three Kingdoms (a Chinese\r\n",
      "  classic 'San Gua'):\r\n",
      "\r\n",
      "  [----------------------------|------------------------]\r\n",
      "    ๏ แผ่นดินฮั่นเสื่อมโทรมแสนสังเวช  พระปกเกศกองบู๊กู้ขึ้นใหม่\r\n",
      "  สิบสองกษัตริย์ก่อนหน้าแลถัดไป       สององค์ไซร้โง่เขลาเบาปัญญา\r\n",
      "    ทรงนับถือขันทีเป็นที่พึ่ง           บ้านเมืองจึงวิปริตเป็นนักหนา\r\n",
      "  โฮจิ๋นเรียกทัพทั่วหัวเมืองมา         หมายจะฆ่ามดชั่วตัวสำคัญ\r\n",
      "    เหมือนขับไสไล่เสือจากเคหา      รับหมาป่าเข้ามาเลยอาสัญ\r\n",
      "  ฝ่ายอ้องอุ้นยุแยกให้แตกกัน          ใช้สาวนั้นเป็นชนวนชื่นชวนใจ\r\n",
      "    พลันลิฉุยกุยกีกลับก่อเหตุ          ช่างอาเพศจริงหนาฟ้าร้องไห้\r\n",
      "  ต้องรบราฆ่าฟันจนบรรลัย           ฤๅหาใครค้ำชูกู้บรรลังก์ ฯ\r\n",
      "\r\n",
      "  (The above is a two-column text. If combining characters are handled\r\n",
      "  correctly, the lines of the second column should be aligned with the\r\n",
      "  | character above.)\r\n",
      "\r\n",
      "Ethiopian:\r\n",
      "\r\n",
      "  Proverbs in the Amharic language:\r\n",
      "\r\n",
      "  ሰማይ አይታረስ ንጉሥ አይከሰስ።\r\n",
      "  ብላ ካለኝ እንደአባቴ በቆመጠኝ።\r\n",
      "  ጌጥ ያለቤቱ ቁምጥና ነው።\r\n",
      "  ደሀ በሕልሙ ቅቤ ባይጠጣ ንጣት በገደለው።\r\n",
      "  የአፍ ወለምታ በቅቤ አይታሽም።\r\n",
      "  አይጥ በበላ ዳዋ ተመታ።\r\n",
      "  ሲተረጉሙ ይደረግሙ።\r\n",
      "  ቀስ በቀስ፥ ዕንቁላል በእግሩ ይሄዳል።\r\n",
      "  ድር ቢያብር አንበሳ ያስር።\r\n",
      "  ሰው እንደቤቱ እንጅ እንደ ጉረቤቱ አይተዳደርም።\r\n",
      "  እግዜር የከፈተውን ጉሮሮ ሳይዘጋው አይድርም።\r\n",
      "  የጎረቤት ሌባ፥ ቢያዩት ይስቅ ባያዩት ያጠልቅ።\r\n",
      "  ሥራ ከመፍታት ልጄን ላፋታት።\r\n",
      "  ዓባይ ማደሪያ የለው፥ ግንድ ይዞ ይዞራል።\r\n",
      "  የእስላም አገሩ መካ የአሞራ አገሩ ዋርካ።\r\n",
      "  ተንጋሎ ቢተፉ ተመልሶ ባፉ።\r\n",
      "  ወዳጅህ ማር ቢሆን ጨርስህ አትላሰው።\r\n",
      "  እግርህን በፍራሽህ ልክ ዘርጋ።\r\n",
      "\r\n",
      "Runes:\r\n",
      "\r\n",
      "  ᚻᛖ ᚳᚹᚫᚦ ᚦᚫᛏ ᚻᛖ ᛒᚢᛞᛖ ᚩᚾ ᚦᚫᛗ ᛚᚪᚾᛞᛖ ᚾᚩᚱᚦᚹᛖᚪᚱᛞᚢᛗ ᚹᛁᚦ ᚦᚪ ᚹᛖᛥᚫ\r\n",
      "\r\n",
      "  (Old English, which transcribed into Latin reads 'He cwaeth that he\r\n",
      "  bude thaem lande northweardum with tha Westsae.' and means 'He said\r\n",
      "  that he lived in the northern land near the Western Sea.')\r\n",
      "\r\n",
      "Braille:\r\n",
      "\r\n",
      "  ⡌⠁⠧⠑ ⠼⠁⠒  ⡍⠜⠇⠑⠹⠰⠎ ⡣⠕⠌\r\n",
      "\r\n",
      "  ⡍⠜⠇⠑⠹ ⠺⠁⠎ ⠙⠑⠁⠙⠒ ⠞⠕ ⠃⠑⠛⠔ ⠺⠊⠹⠲ ⡹⠻⠑ ⠊⠎ ⠝⠕ ⠙⠳⠃⠞\r\n",
      "  ⠱⠁⠞⠑⠧⠻ ⠁⠃⠳⠞ ⠹⠁⠞⠲ ⡹⠑ ⠗⠑⠛⠊⠌⠻ ⠕⠋ ⠙⠊⠎ ⠃⠥⠗⠊⠁⠇ ⠺⠁⠎\r\n",
      "  ⠎⠊⠛⠝⠫ ⠃⠹ ⠹⠑ ⠊⠇⠻⠛⠹⠍⠁⠝⠂ ⠹⠑ ⠊⠇⠻⠅⠂ ⠹⠑ ⠥⠝⠙⠻⠞⠁⠅⠻⠂\r\n",
      "  ⠁⠝⠙ ⠹⠑ ⠡⠊⠑⠋ ⠍⠳⠗⠝⠻⠲ ⡎⠊⠗⠕⠕⠛⠑ ⠎⠊⠛⠝⠫ ⠊⠞⠲ ⡁⠝⠙\r\n",
      "  ⡎⠊⠗⠕⠕⠛⠑⠰⠎ ⠝⠁⠍⠑ ⠺⠁⠎ ⠛⠕⠕⠙ ⠥⠏⠕⠝ ⠰⡡⠁⠝⠛⠑⠂ ⠋⠕⠗ ⠁⠝⠹⠹⠔⠛ ⠙⠑\r\n",
      "  ⠡⠕⠎⠑ ⠞⠕ ⠏⠥⠞ ⠙⠊⠎ ⠙⠁⠝⠙ ⠞⠕⠲\r\n",
      "\r\n",
      "  ⡕⠇⠙ ⡍⠜⠇⠑⠹ ⠺⠁⠎ ⠁⠎ ⠙⠑⠁⠙ ⠁⠎ ⠁ ⠙⠕⠕⠗⠤⠝⠁⠊⠇⠲\r\n",
      "\r\n",
      "  ⡍⠔⠙⠖ ⡊ ⠙⠕⠝⠰⠞ ⠍⠑⠁⠝ ⠞⠕ ⠎⠁⠹ ⠹⠁⠞ ⡊ ⠅⠝⠪⠂ ⠕⠋ ⠍⠹\r\n",
      "  ⠪⠝ ⠅⠝⠪⠇⠫⠛⠑⠂ ⠱⠁⠞ ⠹⠻⠑ ⠊⠎ ⠏⠜⠞⠊⠊⠥⠇⠜⠇⠹ ⠙⠑⠁⠙ ⠁⠃⠳⠞\r\n",
      "  ⠁ ⠙⠕⠕⠗⠤⠝⠁⠊⠇⠲ ⡊ ⠍⠊⠣⠞ ⠙⠁⠧⠑ ⠃⠑⠲ ⠔⠊⠇⠔⠫⠂ ⠍⠹⠎⠑⠇⠋⠂ ⠞⠕\r\n",
      "  ⠗⠑⠛⠜⠙ ⠁ ⠊⠕⠋⠋⠔⠤⠝⠁⠊⠇ ⠁⠎ ⠹⠑ ⠙⠑⠁⠙⠑⠌ ⠏⠊⠑⠊⠑ ⠕⠋ ⠊⠗⠕⠝⠍⠕⠝⠛⠻⠹\r\n",
      "  ⠔ ⠹⠑ ⠞⠗⠁⠙⠑⠲ ⡃⠥⠞ ⠹⠑ ⠺⠊⠎⠙⠕⠍ ⠕⠋ ⠳⠗ ⠁⠝⠊⠑⠌⠕⠗⠎\r\n",
      "  ⠊⠎ ⠔ ⠹⠑ ⠎⠊⠍⠊⠇⠑⠆ ⠁⠝⠙ ⠍⠹ ⠥⠝⠙⠁⠇⠇⠪⠫ ⠙⠁⠝⠙⠎\r\n",
      "  ⠩⠁⠇⠇ ⠝⠕⠞ ⠙⠊⠌⠥⠗⠃ ⠊⠞⠂ ⠕⠗ ⠹⠑ ⡊⠳⠝⠞⠗⠹⠰⠎ ⠙⠕⠝⠑ ⠋⠕⠗⠲ ⡹⠳\r\n",
      "  ⠺⠊⠇⠇ ⠹⠻⠑⠋⠕⠗⠑ ⠏⠻⠍⠊⠞ ⠍⠑ ⠞⠕ ⠗⠑⠏⠑⠁⠞⠂ ⠑⠍⠏⠙⠁⠞⠊⠊⠁⠇⠇⠹⠂ ⠹⠁⠞\r\n",
      "  ⡍⠜⠇⠑⠹ ⠺⠁⠎ ⠁⠎ ⠙⠑⠁⠙ ⠁⠎ ⠁ ⠙⠕⠕⠗⠤⠝⠁⠊⠇⠲\r\n",
      "\r\n",
      "  (The first couple of paragraphs of \"A Christmas Carol\" by Dickens)\r\n",
      "\r\n",
      "Compact font selection example text:\r\n",
      "\r\n",
      "  ABCDEFGHIJKLMNOPQRSTUVWXYZ /0123456789\r\n",
      "  abcdefghijklmnopqrstuvwxyz £©µÀÆÖÞßéöÿ\r\n",
      "  –—‘“”„†•…‰™œŠŸž€ ΑΒΓΔΩαβγδω АБВГДабвгд\r\n",
      "  ∀∂∈ℝ∧∪≡∞ ↑↗↨↻⇣ ┐┼╔╘░►☺♀ ﬁ�⑀₂ἠḂӥẄɐː⍎אԱა\r\n",
      "\r\n",
      "Greetings in various languages:\r\n",
      "\r\n",
      "  Hello world, Καλημέρα κόσμε, コンニチハ\r\n",
      "\r\n",
      "Box drawing alignment tests:                                          █\r\n",
      "                                                                      ▉\r\n",
      "  ╔══╦══╗  ┌──┬──┐  ╭──┬──╮  ╭──┬──╮  ┏━━┳━━┓  ┎┒┏┑   ╷  ╻ ┏┯┓ ┌┰┐    ▊ ╱╲╱╲╳╳╳\r\n",
      "  ║┌─╨─┐║  │╔═╧═╗│  │╒═╪═╕│  │╓─╁─╖│  ┃┌─╂─┐┃  ┗╃╄┙  ╶┼╴╺╋╸┠┼┨ ┝╋┥    ▋ ╲╱╲╱╳╳╳\r\n",
      "  ║│╲ ╱│║  │║   ║│  ││ │ ││  │║ ┃ ║│  ┃│ ╿ │┃  ┍╅╆┓   ╵  ╹ ┗┷┛ └┸┘    ▌ ╱╲╱╲╳╳╳\r\n",
      "  ╠╡ ╳ ╞╣  ├╢   ╟┤  ├┼─┼─┼┤  ├╫─╂─╫┤  ┣┿╾┼╼┿┫  ┕┛┖┚     ┌┄┄┐ ╎ ┏┅┅┓ ┋ ▍ ╲╱╲╱╳╳╳\r\n",
      "  ║│╱ ╲│║  │║   ║│  ││ │ ││  │║ ┃ ║│  ┃│ ╽ │┃  ░░▒▒▓▓██ ┊  ┆ ╎ ╏  ┇ ┋ ▎\r\n",
      "  ║└─╥─┘║  │╚═╤═╝│  │╘═╪═╛│  │╙─╀─╜│  ┃└─╂─┘┃  ░░▒▒▓▓██ ┊  ┆ ╎ ╏  ┇ ┋ ▏\r\n",
      "  ╚══╩══╝  └──┴──┘  ╰──┴──╯  ╰──┴──╯  ┗━━┻━━┛  ▗▄▖▛▀▜   └╌╌┘ ╎ ┗╍╍┛ ┋  ▁▂▃▄▅▆▇█\r\n",
      "                                               ▝▀▘▙▄▟\r\n",
      "\r\n",
      "</pre>"
     ]
    }
   ],
   "source": [
    "!curl http://httpbin.org/encoding/utf8"
   ]
  },
  {
   "cell_type": "markdown",
   "metadata": {},
   "source": [
    "* curl로 처리하면 결과를 볼 수 있지만, python은 unicode 문자열을 가지고 있다."
   ]
  },
  {
   "cell_type": "code",
   "execution_count": 58,
   "metadata": {
    "collapsed": false
   },
   "outputs": [],
   "source": [
    "r = requests.get(\"http://httpbin.org/encoding/utf8\")"
   ]
  },
  {
   "cell_type": "markdown",
   "metadata": {},
   "source": [
    "* 맨 앞 u는 unicode라는 의미, 따옴표 안의 문자열이 유니코드이다."
   ]
  },
  {
   "cell_type": "code",
   "execution_count": 63,
   "metadata": {
    "collapsed": false,
    "scrolled": true
   },
   "outputs": [
    {
     "data": {
      "text/plain": [
       "u'<h1>Unicode Demo</h1>\\n\\n<p>Taken from <a\\nhref=\"http://www.cl.cam.ac.uk/~mgk25/ucs/examples/UTF-8-demo.txt\">http://www.cl.cam.ac.uk/~mgk25/ucs/examples/UTF-8-demo.txt</a></p>\\n\\n<pre>\\n\\nUTF-8 encoded sample plain-text file\\n\\u203e\\u203e\\u203e\\u203e\\u203e\\u203e\\u203e\\u203e\\u203e\\u203e\\u203e\\u203e\\u203e\\u203e\\u203e\\u203e\\u203e\\u203e\\u203e\\u203e\\u203e\\u203e\\u203e\\u203e\\u203e\\u203e\\u203e\\u203e\\u203e\\u203e\\u203e\\u203e\\u203e\\u203e\\u203e\\u203e\\n\\nMarkus Kuhn [\\u02c8ma\\u02b3k\\u028as ku\\u02d0n] <http://www.cl.cam.ac.uk/~mgk25/> \\u2014 2002-07-25\\n\\n\\nThe ASCII compatible UTF-8 encoding used in this plain-text file\\nis defined in Unicode, ISO 10646-1, and RFC 2279.\\n\\n\\nUsing Unicode/UTF-8, you can write in emails and so'"
      ]
     },
     "execution_count": 63,
     "metadata": {},
     "output_type": "execute_result"
    }
   ],
   "source": [
    "r.text[0:500]"
   ]
  },
  {
   "cell_type": "code",
   "execution_count": 64,
   "metadata": {
    "collapsed": true
   },
   "outputs": [],
   "source": [
    "teststr=r.text[0:500]"
   ]
  },
  {
   "cell_type": "markdown",
   "metadata": {},
   "source": [
    "* python print문은 시스템에서 사용하는 encoding을 사용한다.\n",
    "    * locale은 utf-8을 사용하므로, 출력하면 unicode를 이해하고 출력한다."
   ]
  },
  {
   "cell_type": "code",
   "execution_count": 71,
   "metadata": {
    "collapsed": false
   },
   "outputs": [
    {
     "data": {
      "text/plain": [
       "('en_US', 'UTF-8')"
      ]
     },
     "execution_count": 71,
     "metadata": {},
     "output_type": "execute_result"
    }
   ],
   "source": [
    "import locale\n",
    "locale.getdefaultlocale()"
   ]
  },
  {
   "cell_type": "code",
   "execution_count": 72,
   "metadata": {
    "collapsed": false,
    "scrolled": true
   },
   "outputs": [
    {
     "name": "stdout",
     "output_type": "stream",
     "text": [
      "<h1>Unicode Demo</h1>\n",
      "\n",
      "<p>Taken from <a\n",
      "href=\"http://www.cl.cam.ac.uk/~mgk25/ucs/examples/UTF-8-demo.txt\">http://www.cl.cam.ac.uk/~mgk25/ucs/examples/UTF-8-demo.txt</a></p>\n",
      "\n",
      "<pre>\n",
      "\n",
      "UTF-8 encoded sample plain-text file\n",
      "‾‾‾‾‾‾‾‾‾‾‾‾‾‾‾‾‾‾‾‾‾‾‾‾‾‾‾‾‾‾‾‾‾‾‾‾\n",
      "\n",
      "Markus Kuhn [ˈmaʳkʊs kuːn] <http://www.cl.cam.ac.uk/~mgk25/> — 2002-07-25\n",
      "\n",
      "\n",
      "The ASCII compatible UTF-8 encoding used in this plain-text file\n",
      "is defined in Unicode, ISO 10646-1, and RFC 2279.\n",
      "\n",
      "\n",
      "Using Unicode/UTF-8, you can write in emails and so\n"
     ]
    }
   ],
   "source": [
    "print teststr"
   ]
  },
  {
   "cell_type": "markdown",
   "metadata": {},
   "source": [
    "### python의 인코딩\n",
    "\n",
    "* Python 3에서는 default to utf-8 (when LC_CTYPE is unicode-aware)"
   ]
  },
  {
   "cell_type": "markdown",
   "metadata": {},
   "source": [
    "* Python의 print문은 기본 defaultencoding을 사용한다."
   ]
  },
  {
   "cell_type": "code",
   "execution_count": 18,
   "metadata": {
    "collapsed": false,
    "scrolled": false
   },
   "outputs": [
    {
     "name": "stdout",
     "output_type": "stream",
     "text": [
      "ascii\n",
      "None\n",
      "UTF-8\n"
     ]
    }
   ],
   "source": [
    "import sys\n",
    "print sys.getdefaultencoding()\n",
    "print sys.stdin.encoding\n",
    "print sys.stdout.encoding"
   ]
  },
  {
   "cell_type": "markdown",
   "metadata": {},
   "source": [
    "* os locale로 정의되어 있다.\n",
    "* os env를 보면, LANG이 정의되어 있다."
   ]
  },
  {
   "cell_type": "code",
   "execution_count": 19,
   "metadata": {
    "collapsed": false
   },
   "outputs": [
    {
     "name": "stdout",
     "output_type": "stream",
     "text": [
      "LANG=en_US.UTF-8\r\n",
      "LANGUAGE=en_US:en\r\n",
      "LC_CTYPE=\"en_US.UTF-8\"\r\n",
      "LC_NUMERIC=ko_KR.UTF-8\r\n",
      "LC_TIME=ko_KR.UTF-8\r\n",
      "LC_COLLATE=\"en_US.UTF-8\"\r\n",
      "LC_MONETARY=ko_KR.UTF-8\r\n",
      "LC_MESSAGES=\"en_US.UTF-8\"\r\n",
      "LC_PAPER=ko_KR.UTF-8\r\n",
      "LC_NAME=ko_KR.UTF-8\r\n",
      "LC_ADDRESS=ko_KR.UTF-8\r\n",
      "LC_TELEPHONE=ko_KR.UTF-8\r\n",
      "LC_MEASUREMENT=ko_KR.UTF-8\r\n",
      "LC_IDENTIFICATION=ko_KR.UTF-8\r\n",
      "LC_ALL=\r\n"
     ]
    }
   ],
   "source": [
    "!locale"
   ]
  },
  {
   "cell_type": "code",
   "execution_count": 11,
   "metadata": {
    "collapsed": false
   },
   "outputs": [
    {
     "data": {
      "text/plain": [
       "'en_US.UTF-8'"
      ]
     },
     "execution_count": 11,
     "metadata": {},
     "output_type": "execute_result"
    }
   ],
   "source": [
    "import os\n",
    "os.environ['LANG']"
   ]
  },
  {
   "cell_type": "markdown",
   "metadata": {},
   "source": [
    "* python의 기본 encoding을 변경한다."
   ]
  },
  {
   "cell_type": "markdown",
   "metadata": {},
   "source": [
    "import sys\n",
    "reload(sys)\n",
    "sys.setdefaultencoding('utf-8')"
   ]
  },
  {
   "cell_type": "markdown",
   "metadata": {},
   "source": [
    "* ascii는 unicode로 encoding할 수 없다."
   ]
  },
  {
   "cell_type": "code",
   "execution_count": 12,
   "metadata": {
    "collapsed": false
   },
   "outputs": [
    {
     "data": {
      "text/plain": [
       "'\\xed\\x95\\x9c'"
      ]
     },
     "execution_count": 12,
     "metadata": {},
     "output_type": "execute_result"
    }
   ],
   "source": [
    "str('한')"
   ]
  },
  {
   "cell_type": "code",
   "execution_count": 13,
   "metadata": {
    "collapsed": false
   },
   "outputs": [
    {
     "data": {
      "text/plain": [
       "u'\\ud55c'"
      ]
     },
     "execution_count": 13,
     "metadata": {},
     "output_type": "execute_result"
    }
   ],
   "source": [
    "u'한'"
   ]
  },
  {
   "cell_type": "code",
   "execution_count": 31,
   "metadata": {
    "collapsed": false
   },
   "outputs": [
    {
     "data": {
      "text/plain": [
       "'\\xed\\x95\\x9c'"
      ]
     },
     "execution_count": 31,
     "metadata": {},
     "output_type": "execute_result"
    }
   ],
   "source": [
    "(u'한').encode('utf-8')"
   ]
  },
  {
   "cell_type": "code",
   "execution_count": 33,
   "metadata": {
    "collapsed": false
   },
   "outputs": [
    {
     "ename": "UnicodeDecodeError",
     "evalue": "'ascii' codec can't decode byte 0xed in position 0: ordinal not in range(128)",
     "output_type": "error",
     "traceback": [
      "\u001b[0;31m---------------------------------------------------------------------------\u001b[0m",
      "\u001b[0;31mUnicodeDecodeError\u001b[0m                        Traceback (most recent call last)",
      "\u001b[0;32m<ipython-input-33-872cdbea1ae2>\u001b[0m in \u001b[0;36m<module>\u001b[0;34m()\u001b[0m\n\u001b[0;32m----> 1\u001b[0;31m \u001b[0;34m'한'\u001b[0m\u001b[0;34m.\u001b[0m\u001b[0mencode\u001b[0m\u001b[0;34m(\u001b[0m\u001b[0;34m'utf-8'\u001b[0m\u001b[0;34m)\u001b[0m\u001b[0;34m\u001b[0m\u001b[0m\n\u001b[0m",
      "\u001b[0;31mUnicodeDecodeError\u001b[0m: 'ascii' codec can't decode byte 0xed in position 0: ordinal not in range(128)"
     ]
    }
   ],
   "source": [
    "'한'.encode('utf-8')"
   ]
  },
  {
   "cell_type": "markdown",
   "metadata": {},
   "source": [
    "* stdout encoding 'utf-8'에 따라 출력한다."
   ]
  },
  {
   "cell_type": "code",
   "execution_count": 73,
   "metadata": {
    "collapsed": false
   },
   "outputs": [
    {
     "name": "stdout",
     "output_type": "stream",
     "text": [
      "한\n"
     ]
    }
   ],
   "source": [
    "print u'한'"
   ]
  },
  {
   "cell_type": "markdown",
   "metadata": {},
   "source": [
    "### URL 인코딩\n",
    "\n",
    "* 인코딩이 필요 없는 문자\n",
    "    ```\n",
    "    A-Z a-z 0-9 - _ . ~\n",
    "    ```\n",
    "\n",
    "* 인코딩이 필요한 문자\n",
    "    ```\n",
    "    ! * ' ( ) ; : @ & = + $ , / ? % # [ ]\n",
    "    ```\n",
    "\n",
    "* urllib.quote()\n",
    "    * URL을 부호화할 경우, 특수문자를 %xx 형식으로 표현 (문자, 숫자, '_', '.', '-' 제외)\n",
    "    * safe문자를 추가로 정의할 수 있다 \n",
    "    ```\n",
    "    urllib.quote('hello~@#$', safe='~@#$&()*!+=:;,.?/\\'');\n",
    "    ```\n",
    "\n",
    "* urllib.quote_plus()\n",
    "    * urllib.quote()과 다른 점은 'spaces by plus signs'"
   ]
  },
  {
   "cell_type": "code",
   "execution_count": 2,
   "metadata": {
    "collapsed": false,
    "scrolled": true
   },
   "outputs": [
    {
     "name": "stdout",
     "output_type": "stream",
     "text": [
      "%ED%95%9C\n",
      "%ED%95%9C\n"
     ]
    }
   ],
   "source": [
    "import urllib\n",
    "\n",
    "mystr = u\"한\"\n",
    "utf8str=mystr.encode('utf-8')  # error without encoding\n",
    "print urllib.quote(utf8str)\n",
    "print urllib.quote_plus(utf8str)"
   ]
  },
  {
   "cell_type": "code",
   "execution_count": 3,
   "metadata": {
    "collapsed": false
   },
   "outputs": [
    {
     "name": "stdout",
     "output_type": "stream",
     "text": [
      "+\n",
      "%20\n"
     ]
    }
   ],
   "source": [
    "print urllib.quote_plus(' ')\n",
    "print urllib.quote(' ')"
   ]
  },
  {
   "cell_type": "code",
   "execution_count": 7,
   "metadata": {
    "collapsed": false
   },
   "outputs": [
    {
     "data": {
      "text/plain": [
       "'%25%23'"
      ]
     },
     "execution_count": 7,
     "metadata": {},
     "output_type": "execute_result"
    }
   ],
   "source": [
    "urllib.quote_plus('%#')"
   ]
  },
  {
   "cell_type": "code",
   "execution_count": 8,
   "metadata": {
    "collapsed": false
   },
   "outputs": [
    {
     "data": {
      "text/plain": [
       "'%25%23'"
      ]
     },
     "execution_count": 8,
     "metadata": {},
     "output_type": "execute_result"
    }
   ],
   "source": [
    "urllib.quote('%#')"
   ]
  },
  {
   "cell_type": "markdown",
   "metadata": {},
   "source": [
    "* 물결표시 '~'가 %xx형식으로 변환된다."
   ]
  },
  {
   "cell_type": "code",
   "execution_count": 31,
   "metadata": {
    "collapsed": false,
    "scrolled": true
   },
   "outputs": [
    {
     "data": {
      "text/plain": [
       "'/%7Econnolly/'"
      ]
     },
     "execution_count": 31,
     "metadata": {},
     "output_type": "execute_result"
    }
   ],
   "source": [
    "urllib.quote('/~connolly/')"
   ]
  },
  {
   "cell_type": "code",
   "execution_count": 32,
   "metadata": {
    "collapsed": false,
    "scrolled": true
   },
   "outputs": [
    {
     "data": {
      "text/plain": [
       "'%2F%7Econnolly%2F'"
      ]
     },
     "execution_count": 32,
     "metadata": {},
     "output_type": "execute_result"
    }
   ],
   "source": [
    "urllib.quote_plus('/~connolly/')"
   ]
  },
  {
   "cell_type": "markdown",
   "metadata": {},
   "source": [
    "### percent encoding 문제\n",
    "\n",
    "* urlencode는 utf-8에서 사용하는 '%'를 '%25'로 encoding하는 문제\n",
    "* 공공데이터포털 utf-8로 변환된 키 값은 urlencode()를 하지 않는다."
   ]
  },
  {
   "cell_type": "code",
   "execution_count": 11,
   "metadata": {
    "collapsed": false
   },
   "outputs": [
    {
     "name": "stdout",
     "output_type": "stream",
     "text": [
      "k=%253D\n",
      "k=%253D\n"
     ]
    }
   ],
   "source": [
    "import urllib\n",
    "params=urllib.urlencode({'key':'%3D'})\n",
    "print params"
   ]
  },
  {
   "cell_type": "markdown",
   "metadata": {},
   "source": [
    "## R.5 XML\n",
    "\n",
    "### XML 소개\n",
    "\n",
    "* Extensible Markup Language (XML). html과 같은 마크업 언어.\n",
    "* element는 (1) 루트 element (맨 처음 나오는 element) + (2) 루트 아래에 있는 elements로 계층적으로 구성\n",
    "    * start tag $<$foo$>$\n",
    "    * end tag $<$/foo$>$\n",
    "* nesting element\n",
    "* root 한 개만 허용. 아래와 같이 2개를 사용하면 xml이 아님.\n",
    "    ```\n",
    "    <kim></kim>\n",
    "    <lee></lee>\n",
    "    ```\n",
    "    \n",
    "* attributes\n",
    "    * 여러 속성은 공백으로 구분\n",
    "    * key=value 짝으로 구성\n",
    "    * start tag안에 적음\n",
    "    * value는 따옴표\n",
    "    ```\n",
    "    <kim x='1'>I am kim</kim>\n",
    "    ```\n",
    "    \n",
    "* xml header\n",
    "    * version - 1.0과 같이 버전 정보를 넣는다.\n",
    "    * encoding - utf-8을 지정할 수 있다.\n",
    "    * root 앞에 위치한다.\n",
    "    ```\n",
    "    <?xml version='1.0' encoding='utf-8'?>\n",
    "    ```\n",
    "    \n",
    "* parser\n",
    "    * built-in - ElementTree\n",
    "    * larger xml - lxml (따로 설치해야 함)"
   ]
  },
  {
   "cell_type": "markdown",
   "metadata": {},
   "source": [
    "### XML 읽기\n",
    "\n",
    "* ElementTree를 사용하여 xml데이터 처리\n",
    "* string에서 읽거나, 파일에서 읽어 온다. 루트는 getroot() 함수를 이용함.\n",
    "\n",
    "구분 | string | file\n",
    "---|---|---\n",
    "읽기 | ET.fromstring() | ET.parse()\n",
    "root | 읽으면 root | getroot()를 사용해서 root를 얻음"
   ]
  },
  {
   "cell_type": "code",
   "execution_count": 1,
   "metadata": {
    "collapsed": false
   },
   "outputs": [
    {
     "name": "stdout",
     "output_type": "stream",
     "text": [
      "<students>\n",
      "<student x=\"1\">\n",
      "    <id>001</id>\n",
      "    <name>Kim</name>\n",
      "</student>\n",
      "<student x=\"2\">\n",
      "    <id>002</id>\n",
      "    <name>Lee</name>\n",
      "</student>\n",
      "</students>\n",
      "\n",
      "students {}\n",
      "student {'x': '1'}\n",
      "id {}\n",
      "name {}\n",
      "student {'x': '2'}\n",
      "id {}\n",
      "name {}\n"
     ]
    }
   ],
   "source": [
    "input = '''<students>\n",
    "<student x=\"1\">\n",
    "    <id>001</id>\n",
    "    <name>Kim</name>\n",
    "</student>\n",
    "<student x=\"2\">\n",
    "    <id>002</id>\n",
    "    <name>Lee</name>\n",
    "</student>\n",
    "</students>\n",
    "'''\n",
    "print input\n",
    "import xml.etree.ElementTree as ET\n",
    "nodes=ET.fromstring(input)\n",
    "for node in nodes.getiterator():\n",
    "    print node.tag, node.attrib\n"
   ]
  },
  {
   "cell_type": "code",
   "execution_count": 2,
   "metadata": {
    "collapsed": false
   },
   "outputs": [
    {
     "name": "stdout",
     "output_type": "stream",
     "text": [
      "Writing src/ds_rest_hello.xml\n"
     ]
    }
   ],
   "source": [
    "%%writefile src/ds_rest_hello.xml\n",
    "<students>\n",
    "<student x=\"1\">\n",
    "    <id>001</id>\n",
    "    <name>Kim</name>\n",
    "</student>\n",
    "<student x=\"2\">\n",
    "    <id>002</id>\n",
    "    <name>Lee</name>\n",
    "</student>\n",
    "</students>"
   ]
  },
  {
   "cell_type": "code",
   "execution_count": 5,
   "metadata": {
    "collapsed": false
   },
   "outputs": [
    {
     "name": "stdout",
     "output_type": "stream",
     "text": [
      "students {}\n",
      "student {'x': '1'}\n",
      "id {}\n",
      "name {}\n",
      "student {'x': '2'}\n",
      "id {}\n",
      "name {}\n"
     ]
    }
   ],
   "source": [
    "xml=ET.parse('src/ds_rest_hello.xml')\n",
    "root=xml.getroot()\n",
    "for node in root.getiterator():\n",
    "    print node.tag, node.attrib\n"
   ]
  },
  {
   "cell_type": "code",
   "execution_count": 6,
   "metadata": {
    "collapsed": false
   },
   "outputs": [
    {
     "name": "stdout",
     "output_type": "stream",
     "text": [
      "001\n",
      "Kim\n"
     ]
    }
   ],
   "source": [
    "std=root.find('student')\n",
    "for node in std:\n",
    "    print node.text"
   ]
  },
  {
   "cell_type": "code",
   "execution_count": 8,
   "metadata": {
    "collapsed": false
   },
   "outputs": [
    {
     "name": "stdout",
     "output_type": "stream",
     "text": [
      "001\n",
      "Kim\n",
      "002\n",
      "Lee\n"
     ]
    }
   ],
   "source": [
    "stds=root.findall('student')\n",
    "for node in stds:\n",
    "    for item in node:\n",
    "        print item.text"
   ]
  },
  {
   "cell_type": "code",
   "execution_count": 9,
   "metadata": {
    "collapsed": false
   },
   "outputs": [
    {
     "name": "stdout",
     "output_type": "stream",
     "text": [
      "{'x': '1'}\n",
      "{'x': '2'}\n"
     ]
    },
    {
     "data": {
      "text/plain": [
       "'student'"
      ]
     },
     "execution_count": 9,
     "metadata": {},
     "output_type": "execute_result"
    }
   ],
   "source": [
    "print std.attrib\n",
    "print stds[1].attrib\n",
    "std.tag"
   ]
  },
  {
   "cell_type": "markdown",
   "metadata": {},
   "source": [
    "## R.6 json\n",
    "\n",
    "* json (JavaScript Object Notation)은 javascript에서 사용하는 표기\n",
    "* python의 dictionary형식과 같다."
   ]
  },
  {
   "cell_type": "code",
   "execution_count": 65,
   "metadata": {
    "collapsed": true
   },
   "outputs": [],
   "source": [
    "import json\n",
    "input = '''[\n",
    "    { \"id\" : \"001\", \"x\" : \"2\", \"name\" : \"Chuck\"},\n",
    "    { \"id\" : \"009\",\"x\" : \"7\",\"name\" : \"Brent\" }\n",
    "]'''"
   ]
  },
  {
   "cell_type": "code",
   "execution_count": 66,
   "metadata": {
    "collapsed": false
   },
   "outputs": [
    {
     "name": "stdout",
     "output_type": "stream",
     "text": [
      "User count: 2\n",
      "001 Chuck\n",
      "009 Brent\n"
     ]
    }
   ],
   "source": [
    "info = json.loads(input)\n",
    "print 'User count:', len(info)\n",
    "\n",
    "for item in info:\n",
    "    print item['id'], item['name']"
   ]
  },
  {
   "cell_type": "code",
   "execution_count": 67,
   "metadata": {
    "collapsed": false
   },
   "outputs": [
    {
     "data": {
      "text/plain": [
       "'[\"foo\", {\"bar\": [\"baz\", null, 1.0, 2]}]'"
      ]
     },
     "execution_count": 67,
     "metadata": {},
     "output_type": "execute_result"
    }
   ],
   "source": [
    "import json\n",
    "json.dumps(\n",
    "    ['foo', {'bar': ('baz', None, 1.0, 2)}]\n",
    ")"
   ]
  },
  {
   "cell_type": "markdown",
   "metadata": {},
   "source": [
    "## 문제 REST-1: ip주소에서 지역정보 알아내기\n",
    "\n",
    "* freegeoip.net은 ip주소의 국가, 위경도, 지역을 조회"
   ]
  },
  {
   "cell_type": "code",
   "execution_count": 19,
   "metadata": {
    "collapsed": false
   },
   "outputs": [
    {
     "name": "stdout",
     "output_type": "stream",
     "text": [
      "{\"ip\":\"117.16.44.45\",\"country_code\":\"KR\",\"country_name\":\"Republic of Korea\",\"region_code\":\"\",\"region_name\":\"\",\"city\":\"\",\"zip_code\":\"\",\"time_zone\":\"Asia/Seoul\",\"latitude\":37.5112,\"longitude\":126.9741,\"metro_code\":0}\n",
      "\n"
     ]
    }
   ],
   "source": [
    "import requests\n",
    "url='http://freegeoip.net/json/'\n",
    "geostr=requests.get(url).text\n",
    "print geostr"
   ]
  },
  {
   "cell_type": "markdown",
   "metadata": {},
   "source": [
    "* 읽어온 데이터가 string, unicode이다.\n",
    "* json.loads()를 하면, unicode -> dictionary로 만들어 줌."
   ]
  },
  {
   "cell_type": "code",
   "execution_count": 16,
   "metadata": {
    "collapsed": false
   },
   "outputs": [
    {
     "data": {
      "text/plain": [
       "unicode"
      ]
     },
     "execution_count": 16,
     "metadata": {},
     "output_type": "execute_result"
    }
   ],
   "source": [
    "type(geostr)"
   ]
  },
  {
   "cell_type": "code",
   "execution_count": 20,
   "metadata": {
    "collapsed": false
   },
   "outputs": [],
   "source": [
    "import json\n",
    "geojson=json.loads(geostr)"
   ]
  },
  {
   "cell_type": "code",
   "execution_count": 27,
   "metadata": {
    "collapsed": false
   },
   "outputs": [
    {
     "data": {
      "text/plain": [
       "dict"
      ]
     },
     "execution_count": 27,
     "metadata": {},
     "output_type": "execute_result"
    }
   ],
   "source": [
    "type(geojson)"
   ]
  },
  {
   "cell_type": "code",
   "execution_count": 21,
   "metadata": {
    "collapsed": false
   },
   "outputs": [
    {
     "name": "stdout",
     "output_type": "stream",
     "text": [
      "117.16.44.45\n"
     ]
    }
   ],
   "source": [
    "print geojson['ip']"
   ]
  },
  {
   "cell_type": "markdown",
   "metadata": {
    "collapsed": true
   },
   "source": [
    "* 앞에 보이는 u는 유니코드라는 의미."
   ]
  },
  {
   "cell_type": "code",
   "execution_count": 22,
   "metadata": {
    "collapsed": false
   },
   "outputs": [
    {
     "data": {
      "text/plain": [
       "u'117.16.44.45'"
      ]
     },
     "execution_count": 22,
     "metadata": {},
     "output_type": "execute_result"
    }
   ],
   "source": [
    "geojson.get('ip')"
   ]
  },
  {
   "cell_type": "code",
   "execution_count": 25,
   "metadata": {
    "collapsed": false
   },
   "outputs": [],
   "source": [
    "country=geojson.get('country_code')"
   ]
  },
  {
   "cell_type": "code",
   "execution_count": 26,
   "metadata": {
    "collapsed": false
   },
   "outputs": [
    {
     "name": "stdout",
     "output_type": "stream",
     "text": [
      "KR\n"
     ]
    }
   ],
   "source": [
    "print country.decode('utf-8')"
   ]
  },
  {
   "cell_type": "markdown",
   "metadata": {},
   "source": [
    "* getCountry()함수 만들어보기\n",
    "    * urllib라이브러리 urlopen.read()로 읽어온다.\n",
    "    * json자료에서 country_code key를 찾는다."
   ]
  },
  {
   "cell_type": "code",
   "execution_count": 10,
   "metadata": {
    "collapsed": false
   },
   "outputs": [
    {
     "name": "stdout",
     "output_type": "stream",
     "text": [
      "KR\n"
     ]
    }
   ],
   "source": [
    "import json\n",
    "import urllib\n",
    "\n",
    "def getCountry(ipAddress):\n",
    "    response = urllib.urlopen(\"http://freegeoip.net/json/\"+ipAddress).read().decode('utf-8')\n",
    "    responseJson = json.loads(response)\n",
    "    return responseJson.get(\"country_code\")\n",
    "\n",
    "print(getCountry(\"39.118.87.152\"))"
   ]
  },
  {
   "cell_type": "markdown",
   "metadata": {},
   "source": [
    "* requests.get(url)은 url에서 페이지를 가져오기"
   ]
  },
  {
   "cell_type": "code",
   "execution_count": 26,
   "metadata": {
    "collapsed": true
   },
   "outputs": [],
   "source": [
    "import requests\n",
    "send_url = 'http://freegeoip.net/json/39.118.87.152'\n",
    "r = requests.get(send_url)"
   ]
  },
  {
   "cell_type": "code",
   "execution_count": 47,
   "metadata": {
    "collapsed": false
   },
   "outputs": [],
   "source": [
    "j=json.loads(r.text)"
   ]
  },
  {
   "cell_type": "code",
   "execution_count": 48,
   "metadata": {
    "collapsed": false
   },
   "outputs": [
    {
     "data": {
      "text/plain": [
       "dict"
      ]
     },
     "execution_count": 48,
     "metadata": {},
     "output_type": "execute_result"
    }
   ],
   "source": [
    "type(j)"
   ]
  },
  {
   "cell_type": "code",
   "execution_count": 49,
   "metadata": {
    "collapsed": false
   },
   "outputs": [
    {
     "name": "stdout",
     "output_type": "stream",
     "text": [
      "[u'city', u'region_code', u'region_name', u'ip', u'time_zone', u'longitude', u'metro_code', u'latitude', u'country_code', u'country_name', u'zip_code']\n"
     ]
    }
   ],
   "source": [
    "print j.keys()"
   ]
  },
  {
   "cell_type": "code",
   "execution_count": 50,
   "metadata": {
    "collapsed": false
   },
   "outputs": [
    {
     "name": "stdout",
     "output_type": "stream",
     "text": [
      "Seoul\n"
     ]
    }
   ],
   "source": [
    "print j['city']"
   ]
  },
  {
   "cell_type": "code",
   "execution_count": 61,
   "metadata": {
    "collapsed": false
   },
   "outputs": [
    {
     "name": "stdout",
     "output_type": "stream",
     "text": [
      "city \t:  Seoul\n",
      "region_code \t:  11\n",
      "region_name \t:  Seoul\n",
      "ip \t:  39.118.87.152\n",
      "time_zone \t:  Asia/Seoul\n",
      "longitude \t:  126.9783\n",
      "metro_code \t:  0\n",
      "latitude \t:  37.5985\n",
      "country_code \t:  KR\n",
      "country_name \t:  Republic of Korea\n",
      "zip_code \t:  \n"
     ]
    }
   ],
   "source": [
    "for k,v in j.iteritems():\n",
    "    print k,\"\\t: \",v"
   ]
  },
  {
   "cell_type": "markdown",
   "metadata": {},
   "source": [
    "## 문제 REST-2: 키를 저장하고 읽기\n",
    "\n",
    "* 사용자id, 비밀번호를 사용하는 방식은 보안에 취약하다.\n",
    "* OAuth를 사용하여 제3자에게 접근권한을 부여하는 방법이 보다 안전하다.\n",
    "* 파일에 안전하게 저장하여, '비밀번호'와 같은 보안내용이 프로그램에 직접 사용되지 않도록 주의한다."
   ]
  },
  {
   "cell_type": "code",
   "execution_count": 5,
   "metadata": {
    "collapsed": true
   },
   "outputs": [],
   "source": [
    "def getKey(keyPath):\n",
    "    d=dict()\n",
    "    f=open(keyPath,'r')\n",
    "    for line in f.readlines():\n",
    "        row=line.split('=')\n",
    "        row0=row[0]\n",
    "        d[row0]=row[1].strip()\n",
    "    return d"
   ]
  },
  {
   "cell_type": "code",
   "execution_count": 6,
   "metadata": {
    "collapsed": false
   },
   "outputs": [],
   "source": [
    "import os\n",
    "\n",
    "keyPath=os.path.join(os.getcwd(), 'src', 'key.properties')\n",
    "key=getKey(keyPath)"
   ]
  },
  {
   "cell_type": "markdown",
   "metadata": {},
   "source": [
    "## 문제 REST-3: 서울시 노선별 지하철역 목록 구하기\n",
    "\n",
    "* '서울시 노선별 지하철역 정보' - 호선, 역 명, 외부에 지하철 역 이름과 같이 적혀 있는 역 번호\n",
    "* 샘플URL\n",
    "\n",
    "호선 | 샘플URL\n",
    "-----|-----\n",
    "1호선 | http://openAPI.seoul.go.kr:8088/(인증키)/xml/SearchSTNBySubwayLineService/1/5/1/\n",
    "2호선 | http://openAPI.seoul.go.kr:8088/(인증키)/xml/SearchSTNBySubwayLineService/1/5/2/\n",
    "5호선 | http://openAPI.seoul.go.kr:8088/(인증키)/xml/SearchSTNBySubwayLineService/1/5/5/\n",
    "\n",
    "* 호선\n",
    "1~9: 1~9호선, I: 인천1호선, K: 경의중앙선, B: 분당선, A: 공항철도, G: 경춘선, S:신분당선, SU:수인선"
   ]
  },
  {
   "cell_type": "markdown",
   "metadata": {},
   "source": [
    "* params 앞의 32자리 비밀번호는 제외하고 출력한다.\n",
    "* 페이징을 하려면 INDEX를 조정한다."
   ]
  },
  {
   "cell_type": "code",
   "execution_count": 125,
   "metadata": {
    "collapsed": false
   },
   "outputs": [
    {
     "name": "stdout",
     "output_type": "stream",
     "text": [
      "xml/SearchSTNBySubwayLineService/1/10/2\n"
     ]
    }
   ],
   "source": [
    "KEY=str(key['dataseoul'])\n",
    "TYPE='xml'\n",
    "SERVICE='SearchSTNBySubwayLineService'\n",
    "START_INDEX=str(1)\n",
    "END_INDEX=str(10)\n",
    "LINE_NUM=str(2)\n",
    "\n",
    "params=os.path.join(KEY,TYPE,SERVICE,START_INDEX,END_INDEX,LINE_NUM)\n",
    "print params[31:]"
   ]
  },
  {
   "cell_type": "markdown",
   "metadata": {},
   "source": [
    "* 사례에는 모두 동일한 url이 사용된다. 'http://openAPI.seoul.go.kr:8088/'"
   ]
  },
  {
   "cell_type": "code",
   "execution_count": 126,
   "metadata": {
    "collapsed": false
   },
   "outputs": [],
   "source": [
    "import urlparse\n",
    "_url='http://openAPI.seoul.go.kr:8088/'\n",
    "url=urlparse.urljoin(_url,params)\n",
    "#print url"
   ]
  },
  {
   "cell_type": "code",
   "execution_count": 127,
   "metadata": {
    "collapsed": false
   },
   "outputs": [
    {
     "name": "stdout",
     "output_type": "stream",
     "text": [
      "<?xml version=\"1.0\" encoding=\"UTF-8\"?><SearchSTNBySubwayLineService>\n",
      "<list_total_count>51</list_total_count>\n",
      "<RESULT>\n",
      "<CODE>INFO-000</CODE>\n",
      "<MESSAGE>정상 처리되었습니다</MESSAGE>\n",
      "</RESULT>\n",
      "<row>\n",
      "<STATION_CD>0201</STATION_CD>\n",
      "<STATION_NM>시청</STATION_NM>\n",
      "<LINE_NUM>2</LINE_NUM>\n",
      "<FR_CODE>201</FR_CODE>\n",
      "</row>\n",
      "<row>\n",
      "<STATION_CD>0202</STATION_CD>\n",
      "<STATION_NM>을지로입구</STATION_NM>\n",
      "<LINE_NUM>2</LINE_NUM>\n",
      "<FR_CODE>202</FR_CODE>\n",
      "</row>\n",
      "<row>\n",
      "<STATION_CD>0203</STATION_CD>\n",
      "<STATION_NM>을지로3가</STATION_NM>\n",
      "<LINE_NUM>2</LINE_NUM>\n",
      "<FR_CODE>203</FR_CODE>\n",
      "</row>\n",
      "<row>\n",
      "<STATION_CD>0204</STATION_CD>\n",
      "<STATION_NM>을지로4가</STATION_NM>\n",
      "<LINE_NUM>2</LINE_NUM>\n",
      "<FR_CODE>204</FR_CODE>\n",
      "</row>\n",
      "<row>\n",
      "<STATION_CD>0205</STATION_CD>\n",
      "<STATION_NM>동대문역사문화공원</STATION_NM>\n",
      "<LINE_NUM>2</LINE_NUM>\n",
      "<FR_CODE>205</FR_CODE>\n",
      "</row>\n",
      "<row>\n",
      "<STATION_CD>0206</STATION_CD>\n",
      "<STATION_NM>신당</STATION_NM>\n",
      "<LINE_NUM>2</LINE_NUM>\n",
      "<FR_CODE>206</FR_CODE>\n",
      "</row>\n",
      "<row>\n",
      "<STATION_CD>0207</STATION_CD>\n",
      "<STATION_NM>상왕십리</STATION_NM>\n",
      "<LINE_NUM>2</LINE_NUM>\n",
      "<FR_CODE>207</FR_CODE>\n",
      "</row>\n",
      "<row>\n",
      "<STATION_CD>0208</STATION_CD>\n",
      "<STATION_NM>왕십리</STATION_NM>\n",
      "<LINE_NUM>2</LINE_NUM>\n",
      "<FR_CODE>208</FR_CODE>\n",
      "</row>\n",
      "<row>\n",
      "<STATION_CD>0209</STATION_CD>\n",
      "<STATION_NM>한양대</STATION_NM>\n",
      "<LINE_NUM>2</LINE_NUM>\n",
      "<FR_CODE>209</FR_CODE>\n",
      "</row>\n",
      "<row>\n",
      "<STATION_CD>0210</STATION_CD>\n",
      "<STATION_NM>뚝섬</STATION_NM>\n",
      "<LINE_NUM>2</LINE_NUM>\n",
      "<FR_CODE>210</FR_CODE>\n",
      "</row>\n",
      "</SearchSTNBySubwayLineService>\n",
      "\n"
     ]
    }
   ],
   "source": [
    "import requests\n",
    "data=requests.get(url).text\n",
    "print data"
   ]
  },
  {
   "cell_type": "code",
   "execution_count": 76,
   "metadata": {
    "collapsed": false
   },
   "outputs": [
    {
     "data": {
      "text/plain": [
       "unicode"
      ]
     },
     "execution_count": 76,
     "metadata": {},
     "output_type": "execute_result"
    }
   ],
   "source": [
    "type(data)"
   ]
  },
  {
   "cell_type": "code",
   "execution_count": 77,
   "metadata": {
    "collapsed": false
   },
   "outputs": [
    {
     "name": "stdout",
     "output_type": "stream",
     "text": [
      "시청\n",
      "을지로입구\n",
      "을지로3가\n",
      "을지로4가\n",
      "동대문역사문화공원\n",
      "신당\n",
      "상왕십리\n",
      "왕십리\n",
      "한양대\n",
      "뚝섬\n"
     ]
    }
   ],
   "source": [
    "import re\n",
    "p=re.compile('<STATION_NM>(.+?)</STATION_NM>')\n",
    "res=p.findall(data)\n",
    "for item in res:\n",
    "    print item"
   ]
  },
  {
   "cell_type": "code",
   "execution_count": 78,
   "metadata": {
    "collapsed": false
   },
   "outputs": [],
   "source": [
    "import xml.etree.ElementTree as ET\n",
    "tree=ET.fromstring(data.encode('utf-8'))"
   ]
  },
  {
   "cell_type": "code",
   "execution_count": 110,
   "metadata": {
    "collapsed": false
   },
   "outputs": [
    {
     "name": "stdout",
     "output_type": "stream",
     "text": [
      "0201\n",
      "시청\n",
      "2\n",
      "201\n",
      "0202\n",
      "을지로입구\n",
      "2\n",
      "202\n",
      "0203\n",
      "을지로3가\n",
      "2\n",
      "203\n",
      "0204\n",
      "을지로4가\n",
      "2\n",
      "204\n",
      "0205\n",
      "동대문역사문화공원\n",
      "2\n",
      "205\n",
      "0206\n",
      "신당\n",
      "2\n",
      "206\n",
      "0207\n",
      "상왕십리\n",
      "2\n",
      "207\n",
      "0208\n",
      "왕십리\n",
      "2\n",
      "208\n",
      "0209\n",
      "한양대\n",
      "2\n",
      "209\n",
      "0210\n",
      "뚝섬\n",
      "2\n",
      "210\n"
     ]
    }
   ],
   "source": [
    "stds=tree.findall('row')\n",
    "for elements in stds:\n",
    "    for elm in elements:\n",
    "        print elm.text"
   ]
  },
  {
   "cell_type": "code",
   "execution_count": 128,
   "metadata": {
    "collapsed": false
   },
   "outputs": [
    {
     "name": "stdout",
     "output_type": "stream",
     "text": [
      "시청\n",
      "을지로입구\n",
      "을지로3가\n",
      "을지로4가\n",
      "동대문역사문화공원\n",
      "신당\n",
      "상왕십리\n",
      "왕십리\n",
      "한양대\n",
      "뚝섬\n"
     ]
    }
   ],
   "source": [
    "import lxml\n",
    "import lxml.etree\n",
    "import StringIO\n",
    "\n",
    "#tree=lxml.etree.parse(StringIO.StringIO(data.encode('utf-8')))\n",
    "tree=lxml.etree.fromstring(data.encode('utf-8'))\n",
    "\n",
    "nodes=tree.xpath('//STATION_NM')\n",
    "for node in nodes:\n",
    "    print node.text"
   ]
  },
  {
   "cell_type": "markdown",
   "metadata": {},
   "source": [
    "## 문제 REST-4: 서울시 외국인 주민 자녀 국적취득 년도별 시군구 합계 구하기\n",
    "\n",
    "* '서울시 외국인 주민 자녀 국적취득 현황 정보'\n",
    "* 샘플URL\n",
    "http://openapi.seoul.go.kr:8088/(인증키)/xml/ListLocaldata470401S/1/5/\n",
    "\n",
    "* 년도별 시군구 합계"
   ]
  },
  {
   "cell_type": "code",
   "execution_count": 23,
   "metadata": {
    "collapsed": false
   },
   "outputs": [
    {
     "name": "stdout",
     "output_type": "stream",
     "text": [
      "xml/ListLocaldata470401S/1/5\n"
     ]
    }
   ],
   "source": [
    "KEY=str(key['dataseoul'])\n",
    "TYPE='xml'\n",
    "SERVICE='ListLocaldata470401S'\n",
    "START_INDEX=str(1)\n",
    "END_INDEX=str(5)\n",
    "\n",
    "params=os.path.join(KEY,TYPE,SERVICE,START_INDEX,END_INDEX)\n",
    "\n",
    "print params[31:]"
   ]
  },
  {
   "cell_type": "code",
   "execution_count": 130,
   "metadata": {
    "collapsed": false
   },
   "outputs": [],
   "source": [
    "import urlparse\n",
    "_url='http://openapi.seoul.go.kr:8088/'\n",
    "url=urlparse.urljoin(_url,params)\n",
    "#print url"
   ]
  },
  {
   "cell_type": "code",
   "execution_count": 131,
   "metadata": {
    "collapsed": false
   },
   "outputs": [
    {
     "name": "stdout",
     "output_type": "stream",
     "text": [
      "<?xml version=\"1.0\" encoding=\"UTF-8\"?><ListLocaldata470401S>\n",
      "<list_total_count>319</list_total_count>\n",
      "<RESULT>\n",
      "<CODE>INFO-000</CODE>\n",
      "<MESSAGE>정상 처리되었습니다</MESSAGE>\n",
      "</RESULT>\n",
      "<row>\n",
      "<SITUYM>2012</SITUYM>\n",
      "<CGGNM>서울특별시 양천구</CGGNM>\n",
      "<KDDETAILSENM>국적취득한 자녀 만 18세 이하</KDDETAILSENM>\n",
      "<STATMAN>41</STATMAN>\n",
      "</row>\n",
      "<row>\n",
      "<SITUYM>2013</SITUYM>\n",
      "<CGGNM>서울특별시 양천구</CGGNM>\n",
      "<KDDETAILSENM>국적을 미취득한 자녀 만 19세 이상</KDDETAILSENM>\n",
      "<STATMAN>1</STATMAN>\n",
      "</row>\n",
      "<row>\n",
      "<SITUYM>2014</SITUYM>\n",
      "<CGGNM>서울특별시 강서구</CGGNM>\n",
      "<KDDETAILSENM>국적을 미취득한 자녀 만 19세 이상</KDDETAILSENM>\n",
      "<STATMAN>2</STATMAN>\n",
      "</row>\n",
      "<row>\n",
      "<SITUYM>2014</SITUYM>\n",
      "<CGGNM>서울특별시 금천구</CGGNM>\n",
      "<KDDETAILSENM>국적취득한 자녀 만 18세 이하</KDDETAILSENM>\n",
      "<STATMAN>1409</STATMAN>\n",
      "</row>\n",
      "<row>\n",
      "<SITUYM>2013</SITUYM>\n",
      "<CGGNM>서울특별시 금천구</CGGNM>\n",
      "<KDDETAILSENM>국적취득한 자녀 만 18세 이하</KDDETAILSENM>\n",
      "<STATMAN>1397</STATMAN>\n",
      "</row>\n",
      "</ListLocaldata470401S>\n",
      "\n"
     ]
    }
   ],
   "source": [
    "import requests\n",
    "\n",
    "data=requests.get(url).text\n",
    "print data"
   ]
  },
  {
   "cell_type": "code",
   "execution_count": 122,
   "metadata": {
    "collapsed": false
   },
   "outputs": [
    {
     "name": "stdout",
     "output_type": "stream",
     "text": [
      "<type 'str'>\n"
     ]
    }
   ],
   "source": [
    "print type(data.encode('utf-8'))"
   ]
  },
  {
   "cell_type": "code",
   "execution_count": 132,
   "metadata": {
    "collapsed": false
   },
   "outputs": [
    {
     "name": "stdout",
     "output_type": "stream",
     "text": [
      "41\n",
      "1\n",
      "2\n",
      "1409\n",
      "1397\n"
     ]
    }
   ],
   "source": [
    "import lxml\n",
    "import lxml.etree\n",
    "import StringIO\n",
    "\n",
    "#tree=lxml.etree.parse(StringIO.StringIO(data.encode('utf-8')))\n",
    "tree=lxml.etree.fromstring(data.encode('utf-8'))\n",
    "\n",
    "nodes=tree.xpath('//STATMAN')\n",
    "for node in nodes:\n",
    "    print node.text"
   ]
  },
  {
   "cell_type": "markdown",
   "metadata": {
    "collapsed": true
   },
   "source": [
    "## 문제 REST-5: 2015년 서울시 지하철역별 월별 승하차인원 구하기\n",
    "\n",
    "* '서울시 지하철역별 승하차인원'\n",
    "    * 월별 지하철역별 승하차 인원\n",
    "\n",
    "* 샘플URL 2013년 6월의 지하철역 승하차인원\n",
    "http://openAPI.seoul.go.kr:8088/(인증키)/xml/CardSubwayStatisticsService/1/5/201306/\n"
   ]
  },
  {
   "cell_type": "code",
   "execution_count": null,
   "metadata": {
    "collapsed": true
   },
   "outputs": [],
   "source": [
    "import os\n",
    "import requests\n",
    "_url='http://openAPI.seoul.go.kr:8088'\n",
    "_key=str(key['dataseoul'])\n",
    "_type='xml'\n",
    "_service='CardSubwayStatisticsService'\n",
    "_start_index=1\n",
    "_end_index=5\n",
    "_use_mon='201306'\n",
    "_api=os.path.join(_url,_key,_type,_service,str(_start_index),str(_end_index),_use_mon)"
   ]
  },
  {
   "cell_type": "code",
   "execution_count": 134,
   "metadata": {
    "collapsed": false
   },
   "outputs": [
    {
     "name": "stdout",
     "output_type": "stream",
     "text": [
      "<?xml version=\"1.0\" encoding=\"UTF-8\"?><CardSubwayStatisticsService>\n",
      "<list_total_count>530</list_total_count>\n",
      "<RESULT>\n",
      "<CODE>INFO-000</CODE>\n",
      "<MESSAGE>정상 처리되었습니다</MESSAGE>\n",
      "</RESULT>\n",
      "<row>\n",
      "<USE_MON>201306</USE_MON>\n",
      "<LINE_NUM>중앙선</LINE_NUM>\n",
      "<SUB_STA_NM>용문</SUB_STA_NM>\n",
      "<RIDE_PASGR_NUM>111275</RIDE_PASGR_NUM>\n",
      "<ALIGHT_PASGR_NUM>108878</ALIGHT_PASGR_NUM>\n",
      "<WORK_DT>20130723</WORK_DT>\n",
      "<COMMT/>\n",
      "</row>\n",
      "<row>\n",
      "<USE_MON>201306</USE_MON>\n",
      "<LINE_NUM>중앙선</LINE_NUM>\n",
      "<SUB_STA_NM>원덕</SUB_STA_NM>\n",
      "<RIDE_PASGR_NUM>11495</RIDE_PASGR_NUM>\n",
      "<ALIGHT_PASGR_NUM>10964</ALIGHT_PASGR_NUM>\n",
      "<WORK_DT>20130723</WORK_DT>\n",
      "<COMMT/>\n",
      "</row>\n",
      "<row>\n",
      "<USE_MON>201306</USE_MON>\n",
      "<LINE_NUM>중앙선</LINE_NUM>\n",
      "<SUB_STA_NM>양평</SUB_STA_NM>\n",
      "<RIDE_PASGR_NUM>118103</RIDE_PASGR_NUM>\n",
      "<ALIGHT_PASGR_NUM>116604</ALIGHT_PASGR_NUM>\n",
      "<WORK_DT>20130723</WORK_DT>\n",
      "<COMMT/>\n",
      "</row>\n",
      "<row>\n",
      "<USE_MON>201306</USE_MON>\n",
      "<LINE_NUM>중앙선</LINE_NUM>\n",
      "<SUB_STA_NM>오빈</SUB_STA_NM>\n",
      "<RIDE_PASGR_NUM>10590</RIDE_PASGR_NUM>\n",
      "<ALIGHT_PASGR_NUM>10020</ALIGHT_PASGR_NUM>\n",
      "<WORK_DT>20130723</WORK_DT>\n",
      "<COMMT/>\n",
      "</row>\n",
      "<row>\n",
      "<USE_MON>201306</USE_MON>\n",
      "<LINE_NUM>중앙선</LINE_NUM>\n",
      "<SUB_STA_NM>아신</SUB_STA_NM>\n",
      "<RIDE_PASGR_NUM>26304</RIDE_PASGR_NUM>\n",
      "<ALIGHT_PASGR_NUM>26358</ALIGHT_PASGR_NUM>\n",
      "<WORK_DT>20130723</WORK_DT>\n",
      "<COMMT/>\n",
      "</row>\n",
      "</CardSubwayStatisticsService>\n",
      "\n"
     ]
    }
   ],
   "source": [
    "response = requests.get(_api).text\n",
    "print response"
   ]
  },
  {
   "cell_type": "markdown",
   "metadata": {},
   "source": [
    "## 문제 REST-6: 2013년 1년 동안 지하철역 승하차 인원\n",
    "\n",
    "* 2013년 1년 동안 호선별 승하차 인원을 계산한다.\n",
    "* 페이징\n",
    "    * index를 사용하여 모든 데이터를 가져올 수 있다.\n",
    "    * 반복문을 사용하여 모든 데이터를 가져올 수 있다. 반복 종료 조건을 사용하려면 메시지를 판단한다.\n",
    "\n",
    "메시지 | 메시지 설명\n",
    "------|-------\n",
    "INFO-000 | 정상 처리되었습니다.\n",
    "INFO-100 | 인증키가 유효하지 않습니다.\n",
    "INFO-200 | 해당하는 데이터가 없습니다.\n"
   ]
  },
  {
   "cell_type": "markdown",
   "metadata": {},
   "source": [
    "* ds_rest_subwayPassengetrs.py에 저장"
   ]
  },
  {
   "cell_type": "code",
   "execution_count": 144,
   "metadata": {
    "collapsed": false
   },
   "outputs": [
    {
     "name": "stdout",
     "output_type": "stream",
     "text": [
      "-rw-rw-r-- 1 jsl jsl  152 10월  9 07:10 src/ds_rest_hello.xml\r\n",
      "-rw-rw-r-- 1 jsl jsl 1391  8월 30 21:09 src/ds_rest_subwayPassengers.py\r\n"
     ]
    }
   ],
   "source": [
    "!ls -l src/ds_rest_*"
   ]
  },
  {
   "cell_type": "code",
   "execution_count": null,
   "metadata": {
    "collapsed": true
   },
   "outputs": [],
   "source": [
    "import os\n",
    "import requests\n",
    "_url='http://openAPI.seoul.go.kr:8088'\n",
    "_key=str(key['dataseoul'])\n",
    "_type='xml'\n",
    "_service='CardSubwayStatisticsService'\n",
    "_start_index=1\n",
    "_end_index=5\n",
    "_use_mon='201306'"
   ]
  },
  {
   "cell_type": "code",
   "execution_count": 135,
   "metadata": {
    "collapsed": false,
    "scrolled": true
   },
   "outputs": [
    {
     "name": "stdout",
     "output_type": "stream",
     "text": [
      "<?xml version=\"1.0\" encoding=\"UTF-8\"?><CardSubwayStatisticsService>\n",
      "<list_total_count>530</list_total_count>\n",
      "<RESULT>\n",
      "<CODE>INFO-000</CODE>\n",
      "<MESSAGE>정상 처리되었습니다</MESSAGE>\n",
      "</RESULT>\n",
      "<row>\n",
      "<USE_MON>201306</USE_MON>\n",
      "<LINE_NUM>중앙선</LINE_NUM>\n",
      "<SUB_STA_NM>용문</SUB_STA_NM>\n",
      "<RIDE_PASGR_NUM>111275</RIDE_PASGR_NUM>\n",
      "<ALIGHT_PASGR_NUM>108878</ALIGHT_PASGR_NUM>\n",
      "<WORK_DT>20130723</WORK_DT>\n",
      "<COMMT/>\n",
      "</row>\n",
      "<row>\n",
      "<USE_MON>201306</USE_MON>\n",
      "<LINE_NUM>중앙선</LINE_NUM>\n",
      "<SUB_STA_NM>원덕</SUB_STA_NM>\n",
      "<RIDE_PASGR_NUM>11495</RIDE_PASGR_NUM>\n",
      "<ALIGHT_PASGR_NUM>10964</ALIGHT_PASGR_NUM>\n",
      "<WORK_DT>20130723</WORK_DT>\n",
      "<COMMT/>\n",
      "</row>\n",
      "<row>\n",
      "<USE_MON>201306</USE_MON>\n",
      "<LINE_NUM>중앙선</LINE_NUM>\n",
      "<SUB_STA_NM>양평</SUB_STA_NM>\n",
      "<RIDE_PASGR_NUM>118103</RIDE_PASGR_NUM>\n",
      "<ALIGHT_PASGR_NUM>116604</ALIGHT_PASGR_NUM>\n",
      "<WORK_DT>20130723</WORK_DT>\n",
      "<COMMT/>\n",
      "</row>\n",
      "<row>\n",
      "<USE_MON>201306</USE_MON>\n",
      "<LINE_NUM>중앙선</LINE_NUM>\n",
      "<SUB_STA_NM>오빈</SUB_STA_NM>\n",
      "<RIDE_PASGR_NUM>10590</RIDE_PASGR_NUM>\n",
      "<ALIGHT_PASGR_NUM>10020</ALIGHT_PASGR_NUM>\n",
      "<WORK_DT>20130723</WORK_DT>\n",
      "<COMMT/>\n",
      "</row>\n",
      "<row>\n",
      "<USE_MON>201306</USE_MON>\n",
      "<LINE_NUM>중앙선</LINE_NUM>\n",
      "<SUB_STA_NM>아신</SUB_STA_NM>\n",
      "<RIDE_PASGR_NUM>26304</RIDE_PASGR_NUM>\n",
      "<ALIGHT_PASGR_NUM>26358</ALIGHT_PASGR_NUM>\n",
      "<WORK_DT>20130723</WORK_DT>\n",
      "<COMMT/>\n",
      "</row>\n",
      "</CardSubwayStatisticsService>\n",
      "\n",
      "<?xml version=\"1.0\" encoding=\"UTF-8\"?><CardSubwayStatisticsService>\n",
      "<list_total_count>530</list_total_count>\n",
      "<RESULT>\n",
      "<CODE>INFO-000</CODE>\n",
      "<MESSAGE>정상 처리되었습니다</MESSAGE>\n",
      "</RESULT>\n",
      "<row>\n",
      "<USE_MON>201306</USE_MON>\n",
      "<LINE_NUM>중앙선</LINE_NUM>\n",
      "<SUB_STA_NM>국수</SUB_STA_NM>\n",
      "<RIDE_PASGR_NUM>30281</RIDE_PASGR_NUM>\n",
      "<ALIGHT_PASGR_NUM>29456</ALIGHT_PASGR_NUM>\n",
      "<WORK_DT>20130723</WORK_DT>\n",
      "<COMMT/>\n",
      "</row>\n",
      "<row>\n",
      "<USE_MON>201306</USE_MON>\n",
      "<LINE_NUM>중앙선</LINE_NUM>\n",
      "<SUB_STA_NM>신원</SUB_STA_NM>\n",
      "<RIDE_PASGR_NUM>10832</RIDE_PASGR_NUM>\n",
      "<ALIGHT_PASGR_NUM>7603</ALIGHT_PASGR_NUM>\n",
      "<WORK_DT>20130723</WORK_DT>\n",
      "<COMMT/>\n",
      "</row>\n",
      "<row>\n",
      "<USE_MON>201306</USE_MON>\n",
      "<LINE_NUM>중앙선</LINE_NUM>\n",
      "<SUB_STA_NM>양수</SUB_STA_NM>\n",
      "<RIDE_PASGR_NUM>61889</RIDE_PASGR_NUM>\n",
      "<ALIGHT_PASGR_NUM>62370</ALIGHT_PASGR_NUM>\n",
      "<WORK_DT>20130723</WORK_DT>\n",
      "<COMMT/>\n",
      "</row>\n",
      "<row>\n",
      "<USE_MON>201306</USE_MON>\n",
      "<LINE_NUM>중앙선</LINE_NUM>\n",
      "<SUB_STA_NM>운길산</SUB_STA_NM>\n",
      "<RIDE_PASGR_NUM>45870</RIDE_PASGR_NUM>\n",
      "<ALIGHT_PASGR_NUM>44030</ALIGHT_PASGR_NUM>\n",
      "<WORK_DT>20130723</WORK_DT>\n",
      "<COMMT/>\n",
      "</row>\n",
      "<row>\n",
      "<USE_MON>201306</USE_MON>\n",
      "<LINE_NUM>중앙선</LINE_NUM>\n",
      "<SUB_STA_NM>팔당</SUB_STA_NM>\n",
      "<RIDE_PASGR_NUM>34122</RIDE_PASGR_NUM>\n",
      "<ALIGHT_PASGR_NUM>35559</ALIGHT_PASGR_NUM>\n",
      "<WORK_DT>20130723</WORK_DT>\n",
      "<COMMT/>\n",
      "</row>\n",
      "</CardSubwayStatisticsService>\n",
      "\n"
     ]
    }
   ],
   "source": [
    "_maxIter=2\n",
    "_iter=0\n",
    "while _iter<_maxIter:\n",
    "    _api=os.path.join(_url,_key,_type,_service,str(_start_index),str(_end_index),_use_mon)\n",
    "    #print _api\n",
    "    response = requests.get(_api).text\n",
    "    print response\n",
    "    _start_index+=5\n",
    "    _end_index+=5\n",
    "    _iter+=1"
   ]
  },
  {
   "cell_type": "markdown",
   "metadata": {},
   "source": [
    "* how to insert into mongodb"
   ]
  },
  {
   "cell_type": "code",
   "execution_count": 146,
   "metadata": {
    "collapsed": false
   },
   "outputs": [
    {
     "data": {
      "text/plain": [
       "unicode"
      ]
     },
     "execution_count": 146,
     "metadata": {},
     "output_type": "execute_result"
    }
   ],
   "source": [
    "type(response)"
   ]
  },
  {
   "cell_type": "markdown",
   "metadata": {},
   "source": [
    "### 위 예제의 json 반환"
   ]
  },
  {
   "cell_type": "code",
   "execution_count": 137,
   "metadata": {
    "collapsed": true
   },
   "outputs": [],
   "source": [
    "_type='json'"
   ]
  },
  {
   "cell_type": "code",
   "execution_count": 138,
   "metadata": {
    "collapsed": true
   },
   "outputs": [],
   "source": [
    "_api=os.path.join(_url,_key,_type,_service,str(_start_index),str(_end_index),_use_mon)"
   ]
  },
  {
   "cell_type": "code",
   "execution_count": 141,
   "metadata": {
    "collapsed": false
   },
   "outputs": [
    {
     "name": "stdout",
     "output_type": "stream",
     "text": [
      "{\"CardSubwayStatisticsService\":{\"list_total_count\":530,\"RESULT\":{\"CODE\":\"INFO-000\",\"MESSAGE\":\"정상 처리되었습니다\"},\"row\":[{\"USE_MON\":\"201306\",\"LINE_NUM\":\"중앙선\",\"SUB_STA_NM\":\"도심\",\"RIDE_PASGR_NUM\":75553.0,\"ALIGHT_PASGR_NUM\":67667.0,\"WORK_DT\":\"20130723\",\"COMMT\":\"\"},{\"USE_MON\":\"201306\",\"LINE_NUM\":\"중앙선\",\"SUB_STA_NM\":\"덕소\",\"RIDE_PASGR_NUM\":189783.0,\"ALIGHT_PASGR_NUM\":189419.0,\"WORK_DT\":\"20130723\",\"COMMT\":\"\"},{\"USE_MON\":\"201306\",\"LINE_NUM\":\"중앙선\",\"SUB_STA_NM\":\"양정\",\"RIDE_PASGR_NUM\":27878.0,\"ALIGHT_PASGR_NUM\":23735.0,\"WORK_DT\":\"20130723\",\"COMMT\":\"\"},{\"USE_MON\":\"201306\",\"LINE_NUM\":\"중앙선\",\"SUB_STA_NM\":\"도농\",\"RIDE_PASGR_NUM\":267402.0,\"ALIGHT_PASGR_NUM\":228445.0,\"WORK_DT\":\"20130723\",\"COMMT\":\"\"},{\"USE_MON\":\"201306\",\"LINE_NUM\":\"중앙선\",\"SUB_STA_NM\":\"구리\",\"RIDE_PASGR_NUM\":399287.0,\"ALIGHT_PASGR_NUM\":418036.0,\"WORK_DT\":\"20130723\",\"COMMT\":\"\"}]}}\n"
     ]
    }
   ],
   "source": [
    "data=requests.get(_api).text\n",
    "print data"
   ]
  },
  {
   "cell_type": "code",
   "execution_count": 104,
   "metadata": {
    "collapsed": false
   },
   "outputs": [
    {
     "name": "stdout",
     "output_type": "stream",
     "text": [
      "{u'STATION_CD': u'0201', u'STATION_NM': u'\\uc2dc\\uccad', u'FR_CODE': u'201', u'LINE_NUM': u'2'}\n",
      "[u'STATION_CD', u'STATION_NM', u'FR_CODE', u'LINE_NUM']\n",
      "0201시청2012\n",
      "시청\n",
      "[u'STATION_CD', u'STATION_NM', u'FR_CODE', u'LINE_NUM']\n",
      "0202을지로입구2022\n",
      "을지로입구\n",
      "[u'STATION_CD', u'STATION_NM', u'FR_CODE', u'LINE_NUM']\n",
      "0203을지로3가2032\n",
      "을지로3가\n",
      "[u'STATION_CD', u'STATION_NM', u'FR_CODE', u'LINE_NUM']\n",
      "0204을지로4가2042\n",
      "을지로4가\n",
      "[u'STATION_CD', u'STATION_NM', u'FR_CODE', u'LINE_NUM']\n",
      "0205동대문역사문화공원2052\n",
      "동대문역사문화공원\n",
      "[u'STATION_CD', u'STATION_NM', u'FR_CODE', u'LINE_NUM']\n",
      "0206신당2062\n",
      "신당\n",
      "[u'STATION_CD', u'STATION_NM', u'FR_CODE', u'LINE_NUM']\n",
      "0207상왕십리2072\n",
      "상왕십리\n",
      "[u'STATION_CD', u'STATION_NM', u'FR_CODE', u'LINE_NUM']\n",
      "0208왕십리2082\n",
      "왕십리\n",
      "[u'STATION_CD', u'STATION_NM', u'FR_CODE', u'LINE_NUM']\n",
      "0209한양대2092\n",
      "한양대\n",
      "[u'STATION_CD', u'STATION_NM', u'FR_CODE', u'LINE_NUM']\n",
      "0210뚝섬2102\n",
      "뚝섬\n"
     ]
    }
   ],
   "source": [
    "import json\n",
    "jd = json.loads(data)\n",
    "#print jd['STATION_NM']\n",
    "#for key,value in jd.items():\n",
    "#    print \"---\",key,value\n",
    "\n",
    "print jd['SearchSTNBySubwayLineService']['row'][0]\n",
    "#n=len(jd['SearchSTNBySubwayLineService']['row'])\n",
    "#for i in range(0,n):\n",
    "#    print jd['SearchSTNBySubwayLineService']['row'][i]\n",
    "for item in jd['SearchSTNBySubwayLineService']['row']:\n",
    "    print item.keys()\n",
    "    for i in item.keys():\n",
    "        if i=='STATION_NM':\n",
    "            print ''.join(item.values())\n",
    "            print item.values()[1]\n"
   ]
  },
  {
   "cell_type": "markdown",
   "metadata": {},
   "source": [
    "## 문제 REST-7: '2013년 1년 동안 지하철역 승하차 인원' 저장하기\n",
    "\n",
    "* 앞 문제를 python 일괄 실행하기\n",
    "* 결과 저장하기 - 파일, nosql mongodb로 저장"
   ]
  },
  {
   "cell_type": "markdown",
   "metadata": {},
   "source": [
    "### python으로 일괄 실행하기\n",
    "\n",
    "* json 파일 저장 'src/ds_rest_subwayPassengers.json'\n",
    "* mongo 저장한다. 한글 unicode 지원한다.\n",
    "    * db명: use ds_rest_subwayPassengers_mongo_db\n",
    "    * table (또는 Collection)명: db_rest_subway\n"
   ]
  },
  {
   "cell_type": "code",
   "execution_count": 1,
   "metadata": {
    "collapsed": false
   },
   "outputs": [
    {
     "name": "stdout",
     "output_type": "stream",
     "text": [
      "Overwriting src/ds_rest_subwayPassengers.py\n"
     ]
    }
   ],
   "source": [
    "%%writefile src/ds_rest_subwayPassengers.py\n",
    "\n",
    "import os\n",
    "import requests\n",
    "import json\n",
    "from pymongo import MongoClient\n",
    "\n",
    "Client = MongoClient('localhost:27017')\n",
    "_db=Client['ds_rest_subwayPassengersDb'] # db is created by mongo\n",
    "_table=_db['db_rest_subwayTable'] # 'db table' is 'collection'\n",
    "#db=Client.ds_rest_subwayPassengers\n",
    "\n",
    "def saveJson(_fname,_data):\n",
    "    import io\n",
    "    with io.open(_fname, 'a', encoding='utf8') as json_file:\n",
    "        _j=json.dumps(_data, json_file, ensure_ascii=False, encoding='utf8')\n",
    "        json_file.write(_j+\"\\n\")\n",
    "\n",
    "def readJson(_fname):\n",
    "    for line in open(_fname, 'r').readlines():\n",
    "        _j=json.loads(line)\n",
    "        #print _j['id'],_j['text']\n",
    "        print _j['id']\n",
    "\n",
    "def saveDB(_data):\n",
    "    _table.insert_one(_data)\n",
    "\n",
    "def readDB():\n",
    "    for tweet in _table.find():\n",
    "        print tweet['id'],tweet['text']\n",
    "\n",
    "def saveFile(_fname,_data):\n",
    "    fp=open(_fname,'a')\n",
    "    fp.write(_data+\"\\n\")\n",
    "\n",
    "_url='http://openAPI.seoul.go.kr:8088'\n",
    "_key='73725974496a736c34395757705847'\n",
    "_type='json'\n",
    "_service='CardSubwayStatisticsService'\n",
    "_start_index=1\n",
    "_end_index=5\n",
    "_use_mon='201306'\n",
    "_maxIter=20\n",
    "_iter=0\n",
    "_jfname='src/ds_rest_subwayPassengers.json'\n",
    "while _iter<_maxIter:\n",
    "    _api=os.path.join(_url,_key,_type,_service,str(_start_index),str(_end_index),_use_mon)\n",
    "    #print _api\n",
    "    r=requests.get(_api)\n",
    "    _json=r.json()\n",
    "    print _json\n",
    "    saveJson(_jfname,_json)\n",
    "    saveDB(_json)\n",
    "    _start_index+=5\n",
    "    _end_index+=5\n",
    "    _iter+=1"
   ]
  },
  {
   "cell_type": "code",
   "execution_count": 2,
   "metadata": {
    "collapsed": false
   },
   "outputs": [
    {
     "name": "stdout",
     "output_type": "stream",
     "text": [
      "{u'CardSubwayStatisticsService': {u'row': [{u'COMMT': u'', u'RIDE_PASGR_NUM': 111275.0, u'WORK_DT': u'20130723', u'LINE_NUM': u'\\uc911\\uc559\\uc120', u'SUB_STA_NM': u'\\uc6a9\\ubb38', u'ALIGHT_PASGR_NUM': 108878.0, u'USE_MON': u'201306'}, {u'COMMT': u'', u'RIDE_PASGR_NUM': 11495.0, u'WORK_DT': u'20130723', u'LINE_NUM': u'\\uc911\\uc559\\uc120', u'SUB_STA_NM': u'\\uc6d0\\ub355', u'ALIGHT_PASGR_NUM': 10964.0, u'USE_MON': u'201306'}, {u'COMMT': u'', u'RIDE_PASGR_NUM': 118103.0, u'WORK_DT': u'20130723', u'LINE_NUM': u'\\uc911\\uc559\\uc120', u'SUB_STA_NM': u'\\uc591\\ud3c9', u'ALIGHT_PASGR_NUM': 116604.0, u'USE_MON': u'201306'}, {u'COMMT': u'', u'RIDE_PASGR_NUM': 10590.0, u'WORK_DT': u'20130723', u'LINE_NUM': u'\\uc911\\uc559\\uc120', u'SUB_STA_NM': u'\\uc624\\ube48', u'ALIGHT_PASGR_NUM': 10020.0, u'USE_MON': u'201306'}, {u'COMMT': u'', u'RIDE_PASGR_NUM': 26304.0, u'WORK_DT': u'20130723', u'LINE_NUM': u'\\uc911\\uc559\\uc120', u'SUB_STA_NM': u'\\uc544\\uc2e0', u'ALIGHT_PASGR_NUM': 26358.0, u'USE_MON': u'201306'}], u'RESULT': {u'MESSAGE': u'\\uc815\\uc0c1 \\ucc98\\ub9ac\\ub418\\uc5c8\\uc2b5\\ub2c8\\ub2e4', u'CODE': u'INFO-000'}, u'list_total_count': 530}}\n",
      "{u'CardSubwayStatisticsService': {u'row': [{u'COMMT': u'', u'RIDE_PASGR_NUM': 30281.0, u'WORK_DT': u'20130723', u'LINE_NUM': u'\\uc911\\uc559\\uc120', u'SUB_STA_NM': u'\\uad6d\\uc218', u'ALIGHT_PASGR_NUM': 29456.0, u'USE_MON': u'201306'}, {u'COMMT': u'', u'RIDE_PASGR_NUM': 10832.0, u'WORK_DT': u'20130723', u'LINE_NUM': u'\\uc911\\uc559\\uc120', u'SUB_STA_NM': u'\\uc2e0\\uc6d0', u'ALIGHT_PASGR_NUM': 7603.0, u'USE_MON': u'201306'}, {u'COMMT': u'', u'RIDE_PASGR_NUM': 61889.0, u'WORK_DT': u'20130723', u'LINE_NUM': u'\\uc911\\uc559\\uc120', u'SUB_STA_NM': u'\\uc591\\uc218', u'ALIGHT_PASGR_NUM': 62370.0, u'USE_MON': u'201306'}, {u'COMMT': u'', u'RIDE_PASGR_NUM': 45870.0, u'WORK_DT': u'20130723', u'LINE_NUM': u'\\uc911\\uc559\\uc120', u'SUB_STA_NM': u'\\uc6b4\\uae38\\uc0b0', u'ALIGHT_PASGR_NUM': 44030.0, u'USE_MON': u'201306'}, {u'COMMT': u'', u'RIDE_PASGR_NUM': 34122.0, u'WORK_DT': u'20130723', u'LINE_NUM': u'\\uc911\\uc559\\uc120', u'SUB_STA_NM': u'\\ud314\\ub2f9', u'ALIGHT_PASGR_NUM': 35559.0, u'USE_MON': u'201306'}], u'RESULT': {u'MESSAGE': u'\\uc815\\uc0c1 \\ucc98\\ub9ac\\ub418\\uc5c8\\uc2b5\\ub2c8\\ub2e4', u'CODE': u'INFO-000'}, u'list_total_count': 530}}\n",
      "{u'CardSubwayStatisticsService': {u'row': [{u'COMMT': u'', u'RIDE_PASGR_NUM': 75553.0, u'WORK_DT': u'20130723', u'LINE_NUM': u'\\uc911\\uc559\\uc120', u'SUB_STA_NM': u'\\ub3c4\\uc2ec', u'ALIGHT_PASGR_NUM': 67667.0, u'USE_MON': u'201306'}, {u'COMMT': u'', u'RIDE_PASGR_NUM': 189783.0, u'WORK_DT': u'20130723', u'LINE_NUM': u'\\uc911\\uc559\\uc120', u'SUB_STA_NM': u'\\ub355\\uc18c', u'ALIGHT_PASGR_NUM': 189419.0, u'USE_MON': u'201306'}, {u'COMMT': u'', u'RIDE_PASGR_NUM': 27878.0, u'WORK_DT': u'20130723', u'LINE_NUM': u'\\uc911\\uc559\\uc120', u'SUB_STA_NM': u'\\uc591\\uc815', u'ALIGHT_PASGR_NUM': 23735.0, u'USE_MON': u'201306'}, {u'COMMT': u'', u'RIDE_PASGR_NUM': 267402.0, u'WORK_DT': u'20130723', u'LINE_NUM': u'\\uc911\\uc559\\uc120', u'SUB_STA_NM': u'\\ub3c4\\ub18d', u'ALIGHT_PASGR_NUM': 228445.0, u'USE_MON': u'201306'}, {u'COMMT': u'', u'RIDE_PASGR_NUM': 399287.0, u'WORK_DT': u'20130723', u'LINE_NUM': u'\\uc911\\uc559\\uc120', u'SUB_STA_NM': u'\\uad6c\\ub9ac', u'ALIGHT_PASGR_NUM': 418036.0, u'USE_MON': u'201306'}], u'RESULT': {u'MESSAGE': u'\\uc815\\uc0c1 \\ucc98\\ub9ac\\ub418\\uc5c8\\uc2b5\\ub2c8\\ub2e4', u'CODE': u'INFO-000'}, u'list_total_count': 530}}\n",
      "{u'CardSubwayStatisticsService': {u'row': [{u'COMMT': u'', u'RIDE_PASGR_NUM': 62789.0, u'WORK_DT': u'20130723', u'LINE_NUM': u'\\uc911\\uc559\\uc120', u'SUB_STA_NM': u'\\uc591\\uc6d0', u'ALIGHT_PASGR_NUM': 68407.0, u'USE_MON': u'201306'}, {u'COMMT': u'', u'RIDE_PASGR_NUM': 220544.0, u'WORK_DT': u'20130723', u'LINE_NUM': u'\\uc911\\uc559\\uc120', u'SUB_STA_NM': u'\\ub9dd\\uc6b0', u'ALIGHT_PASGR_NUM': 215484.0, u'USE_MON': u'201306'}, {u'COMMT': u'', u'RIDE_PASGR_NUM': 157679.0, u'WORK_DT': u'20130723', u'LINE_NUM': u'\\uc911\\uc559\\uc120', u'SUB_STA_NM': u'\\uc0c1\\ubd09', u'ALIGHT_PASGR_NUM': 158208.0, u'USE_MON': u'201306'}, {u'COMMT': u'', u'RIDE_PASGR_NUM': 175937.0, u'WORK_DT': u'20130723', u'LINE_NUM': u'\\uc911\\uc559\\uc120', u'SUB_STA_NM': u'\\uc911\\ub791', u'ALIGHT_PASGR_NUM': 165876.0, u'USE_MON': u'201306'}, {u'COMMT': u'', u'RIDE_PASGR_NUM': 883471.0, u'WORK_DT': u'20130723', u'LINE_NUM': u'\\uc911\\uc559\\uc120', u'SUB_STA_NM': u'\\ud68c\\uae30', u'ALIGHT_PASGR_NUM': 867156.0, u'USE_MON': u'201306'}], u'RESULT': {u'MESSAGE': u'\\uc815\\uc0c1 \\ucc98\\ub9ac\\ub418\\uc5c8\\uc2b5\\ub2c8\\ub2e4', u'CODE': u'INFO-000'}, u'list_total_count': 530}}\n",
      "{u'CardSubwayStatisticsService': {u'row': [{u'COMMT': u'', u'RIDE_PASGR_NUM': 74486.0, u'WORK_DT': u'20130723', u'LINE_NUM': u'\\uc7a5\\ud56d\\uc120', u'SUB_STA_NM': u'\\uc2e0\\ucc3d', u'ALIGHT_PASGR_NUM': 70390.0, u'USE_MON': u'201306'}, {u'COMMT': u'', u'RIDE_PASGR_NUM': 152381.0, u'WORK_DT': u'20130723', u'LINE_NUM': u'\\uc7a5\\ud56d\\uc120', u'SUB_STA_NM': u'\\uc628\\uc591\\uc628\\ucc9c', u'ALIGHT_PASGR_NUM': 153093.0, u'USE_MON': u'201306'}, {u'COMMT': u'', u'RIDE_PASGR_NUM': 27353.0, u'WORK_DT': u'20130723', u'LINE_NUM': u'\\uc7a5\\ud56d\\uc120', u'SUB_STA_NM': u'\\ubc30\\ubc29', u'ALIGHT_PASGR_NUM': 26155.0, u'USE_MON': u'201306'}, {u'COMMT': u'', u'RIDE_PASGR_NUM': 71486.0, u'WORK_DT': u'20130723', u'LINE_NUM': u'\\uc7a5\\ud56d\\uc120', u'SUB_STA_NM': u'\\uc544\\uc0b0', u'ALIGHT_PASGR_NUM': 62545.0, u'USE_MON': u'201306'}, {u'COMMT': u'', u'RIDE_PASGR_NUM': 86078.0, u'WORK_DT': u'20130723', u'LINE_NUM': u'\\uc7a5\\ud56d\\uc120', u'SUB_STA_NM': u'\\uc30d\\uc6a9\\ub3d9', u'ALIGHT_PASGR_NUM': 79395.0, u'USE_MON': u'201306'}], u'RESULT': {u'MESSAGE': u'\\uc815\\uc0c1 \\ucc98\\ub9ac\\ub418\\uc5c8\\uc2b5\\ub2c8\\ub2e4', u'CODE': u'INFO-000'}, u'list_total_count': 530}}\n",
      "{u'CardSubwayStatisticsService': {u'row': [{u'COMMT': u'', u'RIDE_PASGR_NUM': 43418.0, u'WORK_DT': u'20130723', u'LINE_NUM': u'\\uc7a5\\ud56d\\uc120', u'SUB_STA_NM': u'\\ubd09\\uba85', u'ALIGHT_PASGR_NUM': 42388.0, u'USE_MON': u'201306'}, {u'COMMT': u'', u'RIDE_PASGR_NUM': 413533.0, u'WORK_DT': u'20130723', u'LINE_NUM': u'\\uc77c\\uc0b0\\uc120', u'SUB_STA_NM': u'\\ub300\\ud654', u'ALIGHT_PASGR_NUM': 324864.0, u'USE_MON': u'201306'}, {u'COMMT': u'', u'RIDE_PASGR_NUM': 287340.0, u'WORK_DT': u'20130723', u'LINE_NUM': u'\\uc77c\\uc0b0\\uc120', u'SUB_STA_NM': u'\\uc8fc\\uc5fd', u'ALIGHT_PASGR_NUM': 293083.0, u'USE_MON': u'201306'}, {u'COMMT': u'', u'RIDE_PASGR_NUM': 282531.0, u'WORK_DT': u'20130723', u'LINE_NUM': u'\\uc77c\\uc0b0\\uc120', u'SUB_STA_NM': u'\\uc815\\ubc1c\\uc0b0', u'ALIGHT_PASGR_NUM': 298514.0, u'USE_MON': u'201306'}, {u'COMMT': u'', u'RIDE_PASGR_NUM': 248026.0, u'WORK_DT': u'20130723', u'LINE_NUM': u'\\uc77c\\uc0b0\\uc120', u'SUB_STA_NM': u'\\ub9c8\\ub450', u'ALIGHT_PASGR_NUM': 258045.0, u'USE_MON': u'201306'}], u'RESULT': {u'MESSAGE': u'\\uc815\\uc0c1 \\ucc98\\ub9ac\\ub418\\uc5c8\\uc2b5\\ub2c8\\ub2e4', u'CODE': u'INFO-000'}, u'list_total_count': 530}}\n",
      "{u'CardSubwayStatisticsService': {u'row': [{u'COMMT': u'', u'RIDE_PASGR_NUM': 301856.0, u'WORK_DT': u'20130723', u'LINE_NUM': u'\\uc77c\\uc0b0\\uc120', u'SUB_STA_NM': u'\\ubc31\\uc11d', u'ALIGHT_PASGR_NUM': 286143.0, u'USE_MON': u'201306'}, {u'COMMT': u'', u'RIDE_PASGR_NUM': 37978.0, u'WORK_DT': u'20130723', u'LINE_NUM': u'\\uc77c\\uc0b0\\uc120', u'SUB_STA_NM': u'\\ub300\\uace1', u'ALIGHT_PASGR_NUM': 30033.0, u'USE_MON': u'201306'}, {u'COMMT': u'', u'RIDE_PASGR_NUM': 584539.0, u'WORK_DT': u'20130723', u'LINE_NUM': u'\\uc77c\\uc0b0\\uc120', u'SUB_STA_NM': u'\\ud654\\uc815', u'ALIGHT_PASGR_NUM': 597382.0, u'USE_MON': u'201306'}, {u'COMMT': u'', u'RIDE_PASGR_NUM': 384868.0, u'WORK_DT': u'20130723', u'LINE_NUM': u'\\uc77c\\uc0b0\\uc120', u'SUB_STA_NM': u'\\uc6d0\\ub2f9', u'ALIGHT_PASGR_NUM': 364047.0, u'USE_MON': u'201306'}, {u'COMMT': u'', u'RIDE_PASGR_NUM': 253470.0, u'WORK_DT': u'20130723', u'LINE_NUM': u'\\uc77c\\uc0b0\\uc120', u'SUB_STA_NM': u'\\uc0bc\\uc1a1', u'ALIGHT_PASGR_NUM': 233074.0, u'USE_MON': u'201306'}], u'RESULT': {u'MESSAGE': u'\\uc815\\uc0c1 \\ucc98\\ub9ac\\ub418\\uc5c8\\uc2b5\\ub2c8\\ub2e4', u'CODE': u'INFO-000'}, u'list_total_count': 530}}\n",
      "{u'CardSubwayStatisticsService': {u'row': [{u'COMMT': u'', u'RIDE_PASGR_NUM': 146909.0, u'WORK_DT': u'20130723', u'LINE_NUM': u'\\uc548\\uc0b0\\uc120', u'SUB_STA_NM': u'\\uc218\\ub9ac\\uc0b0', u'ALIGHT_PASGR_NUM': 122149.0, u'USE_MON': u'201306'}, {u'COMMT': u'', u'RIDE_PASGR_NUM': 227066.0, u'WORK_DT': u'20130723', u'LINE_NUM': u'\\uc548\\uc0b0\\uc120', u'SUB_STA_NM': u'\\uc624\\uc774\\ub3c4', u'ALIGHT_PASGR_NUM': 224118.0, u'USE_MON': u'201306'}, {u'COMMT': u'', u'RIDE_PASGR_NUM': 289305.0, u'WORK_DT': u'20130723', u'LINE_NUM': u'\\uc548\\uc0b0\\uc120', u'SUB_STA_NM': u'\\uc815\\uc655', u'ALIGHT_PASGR_NUM': 309927.0, u'USE_MON': u'201306'}, {u'COMMT': u'', u'RIDE_PASGR_NUM': 54276.0, u'WORK_DT': u'20130723', u'LINE_NUM': u'\\uc548\\uc0b0\\uc120', u'SUB_STA_NM': u'\\uc2e0\\uae38\\uc628\\ucc9c', u'ALIGHT_PASGR_NUM': 51249.0, u'USE_MON': u'201306'}, {u'COMMT': u'', u'RIDE_PASGR_NUM': 581120.0, u'WORK_DT': u'20130723', u'LINE_NUM': u'\\uc548\\uc0b0\\uc120', u'SUB_STA_NM': u'\\uc548\\uc0b0', u'ALIGHT_PASGR_NUM': 533836.0, u'USE_MON': u'201306'}], u'RESULT': {u'MESSAGE': u'\\uc815\\uc0c1 \\ucc98\\ub9ac\\ub418\\uc5c8\\uc2b5\\ub2c8\\ub2e4', u'CODE': u'INFO-000'}, u'list_total_count': 530}}\n",
      "{u'CardSubwayStatisticsService': {u'row': [{u'COMMT': u'', u'RIDE_PASGR_NUM': 152275.0, u'WORK_DT': u'20130723', u'LINE_NUM': u'\\uc548\\uc0b0\\uc120', u'SUB_STA_NM': u'\\ucd08\\uc9c0', u'ALIGHT_PASGR_NUM': 145611.0, u'USE_MON': u'201306'}, {u'COMMT': u'', u'RIDE_PASGR_NUM': 285263.0, u'WORK_DT': u'20130723', u'LINE_NUM': u'\\uc548\\uc0b0\\uc120', u'SUB_STA_NM': u'\\uace0\\uc794', u'ALIGHT_PASGR_NUM': 281189.0, u'USE_MON': u'201306'}, {u'COMMT': u'', u'RIDE_PASGR_NUM': 504850.0, u'WORK_DT': u'20130723', u'LINE_NUM': u'\\uc548\\uc0b0\\uc120', u'SUB_STA_NM': u'\\uc911\\uc559', u'ALIGHT_PASGR_NUM': 519455.0, u'USE_MON': u'201306'}, {u'COMMT': u'', u'RIDE_PASGR_NUM': 308890.0, u'WORK_DT': u'20130723', u'LINE_NUM': u'\\uc548\\uc0b0\\uc120', u'SUB_STA_NM': u'\\ud55c\\ub300\\uc55e', u'ALIGHT_PASGR_NUM': 302989.0, u'USE_MON': u'201306'}, {u'COMMT': u'', u'RIDE_PASGR_NUM': 662510.0, u'WORK_DT': u'20130723', u'LINE_NUM': u'\\uc548\\uc0b0\\uc120', u'SUB_STA_NM': u'\\uc0c1\\ub85d\\uc218', u'ALIGHT_PASGR_NUM': 648908.0, u'USE_MON': u'201306'}], u'RESULT': {u'MESSAGE': u'\\uc815\\uc0c1 \\ucc98\\ub9ac\\ub418\\uc5c8\\uc2b5\\ub2c8\\ub2e4', u'CODE': u'INFO-000'}, u'list_total_count': 530}}\n",
      "{u'CardSubwayStatisticsService': {u'row': [{u'COMMT': u'', u'RIDE_PASGR_NUM': 161298.0, u'WORK_DT': u'20130723', u'LINE_NUM': u'\\uc548\\uc0b0\\uc120', u'SUB_STA_NM': u'\\ubc18\\uc6d4', u'ALIGHT_PASGR_NUM': 150608.0, u'USE_MON': u'201306'}, {u'COMMT': u'', u'RIDE_PASGR_NUM': 117720.0, u'WORK_DT': u'20130723', u'LINE_NUM': u'\\uc548\\uc0b0\\uc120', u'SUB_STA_NM': u'\\ub300\\uc57c\\ubbf8', u'ALIGHT_PASGR_NUM': 107344.0, u'USE_MON': u'201306'}, {u'COMMT': u'', u'RIDE_PASGR_NUM': 580508.0, u'WORK_DT': u'20130723', u'LINE_NUM': u'\\uc548\\uc0b0\\uc120', u'SUB_STA_NM': u'\\uc0b0\\ubcf8', u'ALIGHT_PASGR_NUM': 608627.0, u'USE_MON': u'201306'}, {u'COMMT': u'', u'RIDE_PASGR_NUM': 91054.0, u'WORK_DT': u'20130723', u'LINE_NUM': u'\\uc218\\uc778\\uc120', u'SUB_STA_NM': u'\\uc1a1\\ub3c4', u'ALIGHT_PASGR_NUM': 92244.0, u'USE_MON': u'201306'}, {u'COMMT': u'', u'RIDE_PASGR_NUM': 88462.0, u'WORK_DT': u'20130723', u'LINE_NUM': u'\\uc218\\uc778\\uc120', u'SUB_STA_NM': u'\\uc5f0\\uc218', u'ALIGHT_PASGR_NUM': 85543.0, u'USE_MON': u'201306'}], u'RESULT': {u'MESSAGE': u'\\uc815\\uc0c1 \\ucc98\\ub9ac\\ub418\\uc5c8\\uc2b5\\ub2c8\\ub2e4', u'CODE': u'INFO-000'}, u'list_total_count': 530}}\n",
      "{u'CardSubwayStatisticsService': {u'row': [{u'COMMT': u'', u'RIDE_PASGR_NUM': 95996.0, u'WORK_DT': u'20130723', u'LINE_NUM': u'\\uc218\\uc778\\uc120', u'SUB_STA_NM': u'\\uc6d0\\uc778\\uc7ac', u'ALIGHT_PASGR_NUM': 99581.0, u'USE_MON': u'201306'}, {u'COMMT': u'', u'RIDE_PASGR_NUM': 39150.0, u'WORK_DT': u'20130723', u'LINE_NUM': u'\\uc218\\uc778\\uc120', u'SUB_STA_NM': u'\\ub0a8\\ub3d9\\uc778\\ub354\\uc2a4\\ud30c\\ud06c', u'ALIGHT_PASGR_NUM': 43400.0, u'USE_MON': u'201306'}, {u'COMMT': u'', u'RIDE_PASGR_NUM': 61721.0, u'WORK_DT': u'20130723', u'LINE_NUM': u'\\uc218\\uc778\\uc120', u'SUB_STA_NM': u'\\ud638\\uad6c\\ud3ec', u'ALIGHT_PASGR_NUM': 62169.0, u'USE_MON': u'201306'}, {u'COMMT': u'', u'RIDE_PASGR_NUM': 121774.0, u'WORK_DT': u'20130723', u'LINE_NUM': u'\\uc218\\uc778\\uc120', u'SUB_STA_NM': u'\\uc778\\ucc9c\\ub17c\\ud604', u'ALIGHT_PASGR_NUM': 124227.0, u'USE_MON': u'201306'}, {u'COMMT': u'', u'RIDE_PASGR_NUM': 131865.0, u'WORK_DT': u'20130723', u'LINE_NUM': u'\\uc218\\uc778\\uc120', u'SUB_STA_NM': u'\\uc18c\\ub798\\ud3ec\\uad6c', u'ALIGHT_PASGR_NUM': 127177.0, u'USE_MON': u'201306'}], u'RESULT': {u'MESSAGE': u'\\uc815\\uc0c1 \\ucc98\\ub9ac\\ub418\\uc5c8\\uc2b5\\ub2c8\\ub2e4', u'CODE': u'INFO-000'}, u'list_total_count': 530}}\n",
      "{u'CardSubwayStatisticsService': {u'row': [{u'COMMT': u'', u'RIDE_PASGR_NUM': 59900.0, u'WORK_DT': u'20130723', u'LINE_NUM': u'\\uc218\\uc778\\uc120', u'SUB_STA_NM': u'\\uc6d4\\uacf6', u'ALIGHT_PASGR_NUM': 51589.0, u'USE_MON': u'201306'}, {u'COMMT': u'', u'RIDE_PASGR_NUM': 201035.0, u'WORK_DT': u'20130723', u'LINE_NUM': u'\\ubd84\\ub2f9\\uc120', u'SUB_STA_NM': u'\\ub9dd\\ud3ec', u'ALIGHT_PASGR_NUM': 188814.0, u'USE_MON': u'201306'}, {u'COMMT': u'', u'RIDE_PASGR_NUM': 118599.0, u'WORK_DT': u'20130723', u'LINE_NUM': u'\\ubd84\\ub2f9\\uc120', u'SUB_STA_NM': u'\\uc601\\ud1b5', u'ALIGHT_PASGR_NUM': 127341.0, u'USE_MON': u'201306'}, {u'COMMT': u'', u'RIDE_PASGR_NUM': 72304.0, u'WORK_DT': u'20130723', u'LINE_NUM': u'\\ubd84\\ub2f9\\uc120', u'SUB_STA_NM': u'\\uccad\\uba85', u'ALIGHT_PASGR_NUM': 66968.0, u'USE_MON': u'201306'}, {u'COMMT': u'', u'RIDE_PASGR_NUM': 101338.0, u'WORK_DT': u'20130723', u'LINE_NUM': u'\\ubd84\\ub2f9\\uc120', u'SUB_STA_NM': u'\\uc0c1\\uac08', u'ALIGHT_PASGR_NUM': 94764.0, u'USE_MON': u'201306'}], u'RESULT': {u'MESSAGE': u'\\uc815\\uc0c1 \\ucc98\\ub9ac\\ub418\\uc5c8\\uc2b5\\ub2c8\\ub2e4', u'CODE': u'INFO-000'}, u'list_total_count': 530}}\n",
      "{u'CardSubwayStatisticsService': {u'row': [{u'COMMT': u'', u'RIDE_PASGR_NUM': 228737.0, u'WORK_DT': u'20130723', u'LINE_NUM': u'\\ubd84\\ub2f9\\uc120', u'SUB_STA_NM': u'\\uae30\\ud765', u'ALIGHT_PASGR_NUM': 228749.0, u'USE_MON': u'201306'}, {u'COMMT': u'', u'RIDE_PASGR_NUM': 108938.0, u'WORK_DT': u'20130723', u'LINE_NUM': u'\\ubd84\\ub2f9\\uc120', u'SUB_STA_NM': u'\\uc2e0\\uac08', u'ALIGHT_PASGR_NUM': 104952.0, u'USE_MON': u'201306'}, {u'COMMT': u'', u'RIDE_PASGR_NUM': 140537.0, u'WORK_DT': u'20130723', u'LINE_NUM': u'\\ubd84\\ub2f9\\uc120', u'SUB_STA_NM': u'\\uad6c\\uc131', u'ALIGHT_PASGR_NUM': 141905.0, u'USE_MON': u'201306'}, {u'COMMT': u'', u'RIDE_PASGR_NUM': 621050.0, u'WORK_DT': u'20130723', u'LINE_NUM': u'\\ubd84\\ub2f9\\uc120', u'SUB_STA_NM': u'\\uc8fd\\uc804', u'ALIGHT_PASGR_NUM': 666114.0, u'USE_MON': u'201306'}, {u'COMMT': u'', u'RIDE_PASGR_NUM': 94365.0, u'WORK_DT': u'20130723', u'LINE_NUM': u'\\ubd84\\ub2f9\\uc120', u'SUB_STA_NM': u'\\ubcf4\\uc815', u'ALIGHT_PASGR_NUM': 73437.0, u'USE_MON': u'201306'}], u'RESULT': {u'MESSAGE': u'\\uc815\\uc0c1 \\ucc98\\ub9ac\\ub418\\uc5c8\\uc2b5\\ub2c8\\ub2e4', u'CODE': u'INFO-000'}, u'list_total_count': 530}}\n",
      "{u'CardSubwayStatisticsService': {u'row': [{u'COMMT': u'', u'RIDE_PASGR_NUM': 164574.0, u'WORK_DT': u'20130723', u'LINE_NUM': u'\\ubd84\\ub2f9\\uc120', u'SUB_STA_NM': u'\\uc774\\ub9e4', u'ALIGHT_PASGR_NUM': 159217.0, u'USE_MON': u'201306'}, {u'COMMT': u'', u'RIDE_PASGR_NUM': 481998.0, u'WORK_DT': u'20130723', u'LINE_NUM': u'\\ubd84\\ub2f9\\uc120', u'SUB_STA_NM': u'\\uc624\\ub9ac', u'ALIGHT_PASGR_NUM': 408822.0, u'USE_MON': u'201306'}, {u'COMMT': u'', u'RIDE_PASGR_NUM': 640860.0, u'WORK_DT': u'20130723', u'LINE_NUM': u'\\ubd84\\ub2f9\\uc120', u'SUB_STA_NM': u'\\ubbf8\\uae08', u'ALIGHT_PASGR_NUM': 674635.0, u'USE_MON': u'201306'}, {u'COMMT': u'', u'RIDE_PASGR_NUM': 453680.0, u'WORK_DT': u'20130723', u'LINE_NUM': u'\\ubd84\\ub2f9\\uc120', u'SUB_STA_NM': u'\\uc815\\uc790', u'ALIGHT_PASGR_NUM': 481436.0, u'USE_MON': u'201306'}, {u'COMMT': u'', u'RIDE_PASGR_NUM': 412055.0, u'WORK_DT': u'20130723', u'LINE_NUM': u'\\ubd84\\ub2f9\\uc120', u'SUB_STA_NM': u'\\uc218\\ub0b4', u'ALIGHT_PASGR_NUM': 412858.0, u'USE_MON': u'201306'}], u'RESULT': {u'MESSAGE': u'\\uc815\\uc0c1 \\ucc98\\ub9ac\\ub418\\uc5c8\\uc2b5\\ub2c8\\ub2e4', u'CODE': u'INFO-000'}, u'list_total_count': 530}}\n",
      "{u'CardSubwayStatisticsService': {u'row': [{u'COMMT': u'', u'RIDE_PASGR_NUM': 748205.0, u'WORK_DT': u'20130723', u'LINE_NUM': u'\\ubd84\\ub2f9\\uc120', u'SUB_STA_NM': u'\\uc11c\\ud604', u'ALIGHT_PASGR_NUM': 777686.0, u'USE_MON': u'201306'}, {u'COMMT': u'', u'RIDE_PASGR_NUM': 817657.0, u'WORK_DT': u'20130723', u'LINE_NUM': u'\\ubd84\\ub2f9\\uc120', u'SUB_STA_NM': u'\\uc57c\\ud0d1', u'ALIGHT_PASGR_NUM': 854174.0, u'USE_MON': u'201306'}, {u'COMMT': u'', u'RIDE_PASGR_NUM': 720442.0, u'WORK_DT': u'20130723', u'LINE_NUM': u'\\ubd84\\ub2f9\\uc120', u'SUB_STA_NM': u'\\ubaa8\\ub780', u'ALIGHT_PASGR_NUM': 689209.0, u'USE_MON': u'201306'}, {u'COMMT': u'', u'RIDE_PASGR_NUM': 419774.0, u'WORK_DT': u'20130723', u'LINE_NUM': u'\\ubd84\\ub2f9\\uc120', u'SUB_STA_NM': u'\\ud0dc\\ud3c9', u'ALIGHT_PASGR_NUM': 396038.0, u'USE_MON': u'201306'}, {u'COMMT': u'', u'RIDE_PASGR_NUM': 285110.0, u'WORK_DT': u'20130723', u'LINE_NUM': u'\\ubd84\\ub2f9\\uc120', u'SUB_STA_NM': u'\\uac00\\ucc9c\\ub300', u'ALIGHT_PASGR_NUM': 321509.0, u'USE_MON': u'201306'}], u'RESULT': {u'MESSAGE': u'\\uc815\\uc0c1 \\ucc98\\ub9ac\\ub418\\uc5c8\\uc2b5\\ub2c8\\ub2e4', u'CODE': u'INFO-000'}, u'list_total_count': 530}}\n",
      "{u'CardSubwayStatisticsService': {u'row': [{u'COMMT': u'', u'RIDE_PASGR_NUM': 206631.0, u'WORK_DT': u'20130723', u'LINE_NUM': u'\\ubd84\\ub2f9\\uc120', u'SUB_STA_NM': u'\\uc120\\uc815\\ub989', u'ALIGHT_PASGR_NUM': 231260.0, u'USE_MON': u'201306'}, {u'COMMT': u'', u'RIDE_PASGR_NUM': 188076.0, u'WORK_DT': u'20130723', u'LINE_NUM': u'\\ubd84\\ub2f9\\uc120', u'SUB_STA_NM': u'\\uac15\\ub0a8\\uad6c\\uccad', u'ALIGHT_PASGR_NUM': 215608.0, u'USE_MON': u'201306'}, {u'COMMT': u'', u'RIDE_PASGR_NUM': 345902.0, u'WORK_DT': u'20130723', u'LINE_NUM': u'\\ubd84\\ub2f9\\uc120', u'SUB_STA_NM': u'\\uc555\\uad6c\\uc815\\ub85c\\ub370\\uc624', u'ALIGHT_PASGR_NUM': 393142.0, u'USE_MON': u'201306'}, {u'COMMT': u'', u'RIDE_PASGR_NUM': 143459.0, u'WORK_DT': u'20130723', u'LINE_NUM': u'\\ubd84\\ub2f9\\uc120', u'SUB_STA_NM': u'\\uc11c\\uc6b8\\uc232', u'ALIGHT_PASGR_NUM': 136147.0, u'USE_MON': u'201306'}, {u'COMMT': u'', u'RIDE_PASGR_NUM': 180522.0, u'WORK_DT': u'20130723', u'LINE_NUM': u'\\ubd84\\ub2f9\\uc120', u'SUB_STA_NM': u'\\uc218\\uc11c', u'ALIGHT_PASGR_NUM': 185810.0, u'USE_MON': u'201306'}], u'RESULT': {u'MESSAGE': u'\\uc815\\uc0c1 \\ucc98\\ub9ac\\ub418\\uc5c8\\uc2b5\\ub2c8\\ub2e4', u'CODE': u'INFO-000'}, u'list_total_count': 530}}\n",
      "{u'CardSubwayStatisticsService': {u'row': [{u'COMMT': u'', u'RIDE_PASGR_NUM': 112991.0, u'WORK_DT': u'20130723', u'LINE_NUM': u'\\ubd84\\ub2f9\\uc120', u'SUB_STA_NM': u'\\ub300\\ubaa8\\uc0b0\\uc785\\uad6c', u'ALIGHT_PASGR_NUM': 104169.0, u'USE_MON': u'201306'}, {u'COMMT': u'', u'RIDE_PASGR_NUM': 111791.0, u'WORK_DT': u'20130723', u'LINE_NUM': u'\\ubd84\\ub2f9\\uc120', u'SUB_STA_NM': u'\\uac1c\\ud3ec\\ub3d9', u'ALIGHT_PASGR_NUM': 112897.0, u'USE_MON': u'201306'}, {u'COMMT': u'', u'RIDE_PASGR_NUM': 64415.0, u'WORK_DT': u'20130723', u'LINE_NUM': u'\\ubd84\\ub2f9\\uc120', u'SUB_STA_NM': u'\\uad6c\\ub8e1', u'ALIGHT_PASGR_NUM': 63757.0, u'USE_MON': u'201306'}, {u'COMMT': u'', u'RIDE_PASGR_NUM': 157803.0, u'WORK_DT': u'20130723', u'LINE_NUM': u'\\ubd84\\ub2f9\\uc120', u'SUB_STA_NM': u'\\ub3c4\\uace1', u'ALIGHT_PASGR_NUM': 169985.0, u'USE_MON': u'201306'}, {u'COMMT': u'', u'RIDE_PASGR_NUM': 355886.0, u'WORK_DT': u'20130723', u'LINE_NUM': u'\\ubd84\\ub2f9\\uc120', u'SUB_STA_NM': u'\\ud55c\\ud2f0', u'ALIGHT_PASGR_NUM': 374308.0, u'USE_MON': u'201306'}], u'RESULT': {u'MESSAGE': u'\\uc815\\uc0c1 \\ucc98\\ub9ac\\ub418\\uc5c8\\uc2b5\\ub2c8\\ub2e4', u'CODE': u'INFO-000'}, u'list_total_count': 530}}\n",
      "{u'CardSubwayStatisticsService': {u'row': [{u'COMMT': u'', u'RIDE_PASGR_NUM': 225105.0, u'WORK_DT': u'20130723', u'LINE_NUM': u'\\ubd84\\ub2f9\\uc120', u'SUB_STA_NM': u'\\uc120\\ub989', u'ALIGHT_PASGR_NUM': 439758.0, u'USE_MON': u'201306'}, {u'COMMT': u'', u'RIDE_PASGR_NUM': 938296.0, u'WORK_DT': u'20130723', u'LINE_NUM': u'\\uacfc\\ucc9c\\uc120', u'SUB_STA_NM': u'\\ubc94\\uacc4', u'ALIGHT_PASGR_NUM': 943424.0, u'USE_MON': u'201306'}, {u'COMMT': u'', u'RIDE_PASGR_NUM': 405781.0, u'WORK_DT': u'20130723', u'LINE_NUM': u'\\uacfc\\ucc9c\\uc120', u'SUB_STA_NM': u'\\ud3c9\\ucd0c', u'ALIGHT_PASGR_NUM': 397350.0, u'USE_MON': u'201306'}, {u'COMMT': u'', u'RIDE_PASGR_NUM': 699997.0, u'WORK_DT': u'20130723', u'LINE_NUM': u'\\uacfc\\ucc9c\\uc120', u'SUB_STA_NM': u'\\uc778\\ub355\\uc6d0', u'ALIGHT_PASGR_NUM': 675735.0, u'USE_MON': u'201306'}, {u'COMMT': u'', u'RIDE_PASGR_NUM': 363053.0, u'WORK_DT': u'20130723', u'LINE_NUM': u'\\uacfc\\ucc9c\\uc120', u'SUB_STA_NM': u'\\uc815\\ubd80\\uacfc\\ucc9c\\uccad\\uc0ac', u'ALIGHT_PASGR_NUM': 355150.0, u'USE_MON': u'201306'}], u'RESULT': {u'MESSAGE': u'\\uc815\\uc0c1 \\ucc98\\ub9ac\\ub418\\uc5c8\\uc2b5\\ub2c8\\ub2e4', u'CODE': u'INFO-000'}, u'list_total_count': 530}}\n",
      "{u'CardSubwayStatisticsService': {u'row': [{u'COMMT': u'', u'RIDE_PASGR_NUM': 175909.0, u'WORK_DT': u'20130723', u'LINE_NUM': u'\\uacfc\\ucc9c\\uc120', u'SUB_STA_NM': u'\\uacfc\\ucc9c', u'ALIGHT_PASGR_NUM': 150565.0, u'USE_MON': u'201306'}, {u'COMMT': u'', u'RIDE_PASGR_NUM': 271844.0, u'WORK_DT': u'20130723', u'LINE_NUM': u'\\uacfc\\ucc9c\\uc120', u'SUB_STA_NM': u'\\ub300\\uacf5\\uc6d0', u'ALIGHT_PASGR_NUM': 284313.0, u'USE_MON': u'201306'}, {u'COMMT': u'', u'RIDE_PASGR_NUM': 229735.0, u'WORK_DT': u'20130723', u'LINE_NUM': u'\\uacfc\\ucc9c\\uc120', u'SUB_STA_NM': u'\\uacbd\\ub9c8\\uacf5\\uc6d0', u'ALIGHT_PASGR_NUM': 234848.0, u'USE_MON': u'201306'}, {u'COMMT': u'', u'RIDE_PASGR_NUM': 233096.0, u'WORK_DT': u'20130723', u'LINE_NUM': u'\\uacfc\\ucc9c\\uc120', u'SUB_STA_NM': u'\\uc120\\ubc14\\uc704', u'ALIGHT_PASGR_NUM': 199044.0, u'USE_MON': u'201306'}, {u'COMMT': u'', u'RIDE_PASGR_NUM': 263017.0, u'WORK_DT': u'20130723', u'LINE_NUM': u'\\uacf5\\ud56d\\ucca0\\ub3c4 1\\ud638\\uc120', u'SUB_STA_NM': u'\\uc778\\ucc9c\\uad6d\\uc81c\\uacf5\\ud56d', u'ALIGHT_PASGR_NUM': 248748.0, u'USE_MON': u'201306'}], u'RESULT': {u'MESSAGE': u'\\uc815\\uc0c1 \\ucc98\\ub9ac\\ub418\\uc5c8\\uc2b5\\ub2c8\\ub2e4', u'CODE': u'INFO-000'}, u'list_total_count': 530}}\n",
      "{u'CardSubwayStatisticsService': {u'row': [{u'COMMT': u'', u'RIDE_PASGR_NUM': 45047.0, u'WORK_DT': u'20130723', u'LINE_NUM': u'\\uacf5\\ud56d\\ucca0\\ub3c4 1\\ud638\\uc120', u'SUB_STA_NM': u'\\uacf5\\ud56d\\ud654\\ubb3c\\uccad\\uc0ac', u'ALIGHT_PASGR_NUM': 45225.0, u'USE_MON': u'201306'}, {u'COMMT': u'', u'RIDE_PASGR_NUM': 126837.0, u'WORK_DT': u'20130723', u'LINE_NUM': u'\\uacf5\\ud56d\\ucca0\\ub3c4 1\\ud638\\uc120', u'SUB_STA_NM': u'\\uc6b4\\uc11c', u'ALIGHT_PASGR_NUM': 121047.0, u'USE_MON': u'201306'}, {u'COMMT': u'', u'RIDE_PASGR_NUM': 451736.0, u'WORK_DT': u'20130723', u'LINE_NUM': u'\\uacf5\\ud56d\\ucca0\\ub3c4 1\\ud638\\uc120', u'SUB_STA_NM': u'\\uac80\\uc554', u'ALIGHT_PASGR_NUM': 415435.0, u'USE_MON': u'201306'}, {u'COMMT': u'', u'RIDE_PASGR_NUM': 251221.0, u'WORK_DT': u'20130723', u'LINE_NUM': u'\\uacf5\\ud56d\\ucca0\\ub3c4 1\\ud638\\uc120', u'SUB_STA_NM': u'\\uacc4\\uc591', u'ALIGHT_PASGR_NUM': 223588.0, u'USE_MON': u'201306'}, {u'COMMT': u'', u'RIDE_PASGR_NUM': 206576.0, u'WORK_DT': u'20130723', u'LINE_NUM': u'\\uacf5\\ud56d\\ucca0\\ub3c4 1\\ud638\\uc120', u'SUB_STA_NM': u'\\uae40\\ud3ec\\uacf5\\ud56d', u'ALIGHT_PASGR_NUM': 173194.0, u'USE_MON': u'201306'}], u'RESULT': {u'MESSAGE': u'\\uc815\\uc0c1 \\ucc98\\ub9ac\\ub418\\uc5c8\\uc2b5\\ub2c8\\ub2e4', u'CODE': u'INFO-000'}, u'list_total_count': 530}}\n"
     ]
    }
   ],
   "source": [
    "!python src/ds_rest_subwayPassengers.py"
   ]
  },
  {
   "cell_type": "markdown",
   "metadata": {},
   "source": [
    "### 결과의 저장\n",
    "\n",
    "* json파일\n",
    "* mongodb"
   ]
  },
  {
   "cell_type": "code",
   "execution_count": 6,
   "metadata": {
    "collapsed": false
   },
   "outputs": [
    {
     "name": "stdout",
     "output_type": "stream",
     "text": [
      "-rw-rw-r-- 1 jsl jsl 80290 10월  9 21:35 src/ds_rest_subwayPassengers.json\r\n"
     ]
    }
   ],
   "source": [
    "!ls -l src/ds_rest_subway*.json"
   ]
  },
  {
   "cell_type": "markdown",
   "metadata": {},
   "source": [
    "* mongodb는 /var/lib/mongodb에 생성된다."
   ]
  },
  {
   "cell_type": "code",
   "execution_count": 62,
   "metadata": {
    "collapsed": false
   },
   "outputs": [
    {
     "name": "stdout",
     "output_type": "stream",
     "text": [
      "-rw------- 1 mongodb nogroup 67108864 10월  9 21:35 /var/lib/mongodb/ds_rest_subwayPassengers_mongo_db.0\r\n",
      "-rw------- 1 mongodb nogroup 16777216 10월  9 21:35 /var/lib/mongodb/ds_rest_subwayPassengers_mongo_db.ns\r\n"
     ]
    }
   ],
   "source": [
    "!ls -l /var/lib/mongodb/ds_*"
   ]
  },
  {
   "cell_type": "markdown",
   "metadata": {},
   "source": [
    "* mongo cli\n",
    "    * db명: use ds_rest_subwayPassengers_mongo_db\n",
    "    * table (또는 Collection)명: db_rest_subway\n",
    "    * dictionary 하위 계층은 dot (.)으로 나타낸다.\n",
    "        ```\n",
    "        db.db_rest_subway.find({\"CardSubwayStatisticsService.row.LINE_NUM\":\"분당선\"})\n",
    "        ```"
   ]
  },
  {
   "cell_type": "code",
   "execution_count": 3,
   "metadata": {
    "collapsed": false
   },
   "outputs": [
    {
     "name": "stdout",
     "output_type": "stream",
     "text": [
      "Overwriting src/ds_rest_subway_mongo.js\n"
     ]
    }
   ],
   "source": [
    "%%writefile src/ds_rest_subway_mongo.js\n",
    "use ds_rest_subwayPassengers_mongo_db\n",
    "db.db_rest_subway.find({\"CardSubwayStatisticsService.row.SUB_STA_NM\":\"강남구청\"})"
   ]
  },
  {
   "cell_type": "code",
   "execution_count": 4,
   "metadata": {
    "collapsed": false
   },
   "outputs": [
    {
     "name": "stdout",
     "output_type": "stream",
     "text": [
      "MongoDB shell version: 2.6.10\r\n",
      "connecting to: test\r\n",
      "switched to db ds_rest_subwayPassengers_mongo_db\r\n",
      "{ \"_id\" : ObjectId(\"57fa3870f5e6e94359c033f8\"), \"CardSubwayStatisticsService\" : { \"row\" : [ { \"COMMT\" : \"\", \"RIDE_PASGR_NUM\" : 206631, \"WORK_DT\" : \"20130723\", \"LINE_NUM\" : \"분당선\", \"SUB_STA_NM\" : \"선정릉\", \"ALIGHT_PASGR_NUM\" : 231260, \"USE_MON\" : \"201306\" }, { \"COMMT\" : \"\", \"RIDE_PASGR_NUM\" : 188076, \"WORK_DT\" : \"20130723\", \"LINE_NUM\" : \"분당선\", \"SUB_STA_NM\" : \"강남구청\", \"ALIGHT_PASGR_NUM\" : 215608, \"USE_MON\" : \"201306\" }, { \"COMMT\" : \"\", \"RIDE_PASGR_NUM\" : 345902, \"WORK_DT\" : \"20130723\", \"LINE_NUM\" : \"분당선\", \"SUB_STA_NM\" : \"압구정로데오\", \"ALIGHT_PASGR_NUM\" : 393142, \"USE_MON\" : \"201306\" }, { \"COMMT\" : \"\", \"RIDE_PASGR_NUM\" : 143459, \"WORK_DT\" : \"20130723\", \"LINE_NUM\" : \"분당선\", \"SUB_STA_NM\" : \"서울숲\", \"ALIGHT_PASGR_NUM\" : 136147, \"USE_MON\" : \"201306\" }, { \"COMMT\" : \"\", \"RIDE_PASGR_NUM\" : 180522, \"WORK_DT\" : \"20130723\", \"LINE_NUM\" : \"분당선\", \"SUB_STA_NM\" : \"수서\", \"ALIGHT_PASGR_NUM\" : 185810, \"USE_MON\" : \"201306\" } ], \"RESULT\" : { \"MESSAGE\" : \"정상 처리되었습니다\", \"CODE\" : \"INFO-000\" }, \"list_total_count\" : 530 } }\r\n",
      "{ \"_id\" : ObjectId(\"57fa3980f5e6e945f1b3c381\"), \"CardSubwayStatisticsService\" : { \"row\" : [ { \"COMMT\" : \"\", \"RIDE_PASGR_NUM\" : 206631, \"WORK_DT\" : \"20130723\", \"LINE_NUM\" : \"분당선\", \"SUB_STA_NM\" : \"선정릉\", \"ALIGHT_PASGR_NUM\" : 231260, \"USE_MON\" : \"201306\" }, { \"COMMT\" : \"\", \"RIDE_PASGR_NUM\" : 188076, \"WORK_DT\" : \"20130723\", \"LINE_NUM\" : \"분당선\", \"SUB_STA_NM\" : \"강남구청\", \"ALIGHT_PASGR_NUM\" : 215608, \"USE_MON\" : \"201306\" }, { \"COMMT\" : \"\", \"RIDE_PASGR_NUM\" : 345902, \"WORK_DT\" : \"20130723\", \"LINE_NUM\" : \"분당선\", \"SUB_STA_NM\" : \"압구정로데오\", \"ALIGHT_PASGR_NUM\" : 393142, \"USE_MON\" : \"201306\" }, { \"COMMT\" : \"\", \"RIDE_PASGR_NUM\" : 143459, \"WORK_DT\" : \"20130723\", \"LINE_NUM\" : \"분당선\", \"SUB_STA_NM\" : \"서울숲\", \"ALIGHT_PASGR_NUM\" : 136147, \"USE_MON\" : \"201306\" }, { \"COMMT\" : \"\", \"RIDE_PASGR_NUM\" : 180522, \"WORK_DT\" : \"20130723\", \"LINE_NUM\" : \"분당선\", \"SUB_STA_NM\" : \"수서\", \"ALIGHT_PASGR_NUM\" : 185810, \"USE_MON\" : \"201306\" } ], \"RESULT\" : { \"MESSAGE\" : \"정상 처리되었습니다\", \"CODE\" : \"INFO-000\" }, \"list_total_count\" : 530 } }\r\n",
      "bye\r\n"
     ]
    }
   ],
   "source": [
    "!mongo < src/ds_rest_subway_mongo.js"
   ]
  },
  {
   "cell_type": "markdown",
   "metadata": {},
   "source": [
    "## 문제 REST-8: 서울 7016번 광화문~상명대까지 2015년 승하차 인원 월별 정류장별 최대 최소 구하기\n",
    "\n",
    "* 2015년 7016번 정류장별로 승하차인원을 월별로 합계구하기\n",
    "* '서울시 버스노선별/정류장별 승하차인원 정보'\n",
    "    * 월별 버스노선별, 정류장별 승하차 인원\n",
    "* 샘플URL\n",
    "\n",
    "조건 | 샘플URL\n",
    "-----|-----\n",
    "2013년 6월의 버스정류장별 승하차인원 | http://openAPI.seoul.go.kr:8088/(인증키)/xml/CardBusStatisticsService/1/5/201306/\n",
    "2013년 6월의 7013B 노선에 대한 승하차인원 | http://openAPI.seoul.go.kr:8088/(인증키)/xml/CardBusStatisticsService/1/5/201306/7013B/"
   ]
  },
  {
   "cell_type": "markdown",
   "metadata": {},
   "source": [
    "* 샘플 실행하기\n",
    "* regex"
   ]
  },
  {
   "cell_type": "code",
   "execution_count": 17,
   "metadata": {
    "collapsed": false,
    "scrolled": true
   },
   "outputs": [
    {
     "name": "stdout",
     "output_type": "stream",
     "text": [
      "<?xml version=\"1.0\" encoding=\"UTF-8\"?><CardBusStatisticsService>\n",
      "<list_total_count>106</list_total_count>\n",
      "<RESULT>\n",
      "<CODE>INFO-000</CODE>\n",
      "<MESSAGE>정상 처리되었습니다</MESSAGE>\n",
      "</RESULT>\n",
      "<row>\n",
      "<USE_MON>201510</USE_MON>\n",
      "<BUS_ROUTE_NO>7016</BUS_ROUTE_NO>\n",
      "<BUS_ROUTE_NM>7016번(은평차고지~상명대)</BUS_ROUTE_NM>\n",
      "<BUS_STA_NM>신촌오거리.현대백화점</BUS_STA_NM>\n",
      "<RIDE_PASGR_NUM>10423</RIDE_PASGR_NUM>\n",
      "<ALIGHT_PASGR_NUM>11121</ALIGHT_PASGR_NUM>\n",
      "<WORK_DT>20151108</WORK_DT>\n",
      "<COMMT/>\n",
      "</row>\n",
      "<row>\n",
      "<USE_MON>201510</USE_MON>\n",
      "<BUS_ROUTE_NO>7016</BUS_ROUTE_NO>\n",
      "<BUS_ROUTE_NM>7016번(은평차고지~상명대)</BUS_ROUTE_NM>\n",
      "<BUS_STA_NM>갈월동4호선숙대입구</BUS_STA_NM>\n",
      "<RIDE_PASGR_NUM>3912</RIDE_PASGR_NUM>\n",
      "<ALIGHT_PASGR_NUM>5539</ALIGHT_PASGR_NUM>\n",
      "<WORK_DT>20151108</WORK_DT>\n",
      "<COMMT/>\n",
      "</row>\n",
      "<row>\n",
      "<USE_MON>201510</USE_MON>\n",
      "<BUS_ROUTE_NO>7016</BUS_ROUTE_NO>\n",
      "<BUS_ROUTE_NM>7016번(은평차고지~상명대)</BUS_ROUTE_NM>\n",
      "<BUS_STA_NM>원효로1동.주민센터</BUS_STA_NM>\n",
      "<RIDE_PASGR_NUM>3268</RIDE_PASGR_NUM>\n",
      "<ALIGHT_PASGR_NUM>2603</ALIGHT_PASGR_NUM>\n",
      "<WORK_DT>20151108</WORK_DT>\n",
      "<COMMT/>\n",
      "</row>\n",
      "<row>\n",
      "<USE_MON>201510</USE_MON>\n",
      "<BUS_ROUTE_NO>7016</BUS_ROUTE_NO>\n",
      "<BUS_ROUTE_NM>7016번(은평차고지~상명대)</BUS_ROUTE_NM>\n",
      "<BUS_STA_NM>시청앞.덕수궁</BUS_STA_NM>\n",
      "<RIDE_PASGR_NUM>2806</RIDE_PASGR_NUM>\n",
      "<ALIGHT_PASGR_NUM>14868</ALIGHT_PASGR_NUM>\n",
      "<WORK_DT>20151108</WORK_DT>\n",
      "<COMMT/>\n",
      "</row>\n",
      "<row>\n",
      "<USE_MON>201510</USE_MON>\n",
      "<BUS_ROUTE_NO>7016</BUS_ROUTE_NO>\n",
      "<BUS_ROUTE_NM>7016번(은평차고지~상명대)</BUS_ROUTE_NM>\n",
      "<BUS_STA_NM>서울역버스환승센터</BUS_STA_NM>\n",
      "<RIDE_PASGR_NUM>7078</RIDE_PASGR_NUM>\n",
      "<ALIGHT_PASGR_NUM>17822</ALIGHT_PASGR_NUM>\n",
      "<WORK_DT>20151108</WORK_DT>\n",
      "<COMMT/>\n",
      "</row>\n",
      "</CardBusStatisticsService>\n",
      "\n",
      "신촌오거리.현대백화점\n",
      "갈월동4호선숙대입구\n",
      "원효로1동.주민센터\n",
      "시청앞.덕수궁\n",
      "서울역버스환승센터\n"
     ]
    }
   ],
   "source": [
    "import requests\n",
    "import re\n",
    "busstopurl='http://openAPI.seoul.go.kr:8088/sample/xml/CardBusStatisticsService/1/5/201510/7016'\n",
    "data=requests.get(busstopurl).text\n",
    "print data\n",
    "p=re.compile('<BUS_STA_NM>(.+?)</BUS_STA_NM>')\n",
    "res=p.findall(data)\n",
    "for item in res:\n",
    "    print item"
   ]
  },
  {
   "cell_type": "code",
   "execution_count": 16,
   "metadata": {
    "collapsed": false
   },
   "outputs": [
    {
     "name": "stdout",
     "output_type": "stream",
     "text": [
      "<?xml version=\"1.0\" encoding=\"UTF-8\"?><CardBusStatisticsService>\n",
      "<list_total_count>106</list_total_count>\n",
      "<RESULT>\n",
      "<CODE>INFO-000</CODE>\n",
      "<MESSAGE>정상 처리되었습니다</MESSAGE>\n",
      "</RESULT>\n",
      "<row>\n",
      "<USE_MON>201510</USE_MON>\n",
      "<BUS_ROUTE_NO>7016</BUS_ROUTE_NO>\n",
      "<BUS_ROUTE_NM>7016번(은평차고지~상명대)</BUS_ROUTE_NM>\n",
      "<BUS_STA_NM>신촌오거리.현대백화점</BUS_STA_NM>\n",
      "<RIDE_PASGR_NUM>10423</RIDE_PASGR_NUM>\n",
      "<ALIGHT_PASGR_NUM>11121</ALIGHT_PASGR_NUM>\n",
      "<WORK_DT>20151108</WORK_DT>\n",
      "<COMMT/>\n",
      "</row>\n",
      "<row>\n",
      "<USE_MON>201510</USE_MON>\n",
      "<BUS_ROUTE_NO>7016</BUS_ROUTE_NO>\n",
      "<BUS_ROUTE_NM>7016번(은평차고지~상명대)</BUS_ROUTE_NM>\n",
      "<BUS_STA_NM>갈월동4호선숙대입구</BUS_STA_NM>\n",
      "<RIDE_PASGR_NUM>3912</RIDE_PASGR_NUM>\n",
      "<ALIGHT_PASGR_NUM>5539</ALIGHT_PASGR_NUM>\n",
      "<WORK_DT>20151108</WORK_DT>\n",
      "<COMMT/>\n",
      "</row>\n",
      "<row>\n",
      "<USE_MON>201510</USE_MON>\n",
      "<BUS_ROUTE_NO>7016</BUS_ROUTE_NO>\n",
      "<BUS_ROUTE_NM>7016번(은평차고지~상명대)</BUS_ROUTE_NM>\n",
      "<BUS_STA_NM>원효로1동.주민센터</BUS_STA_NM>\n",
      "<RIDE_PASGR_NUM>3268</RIDE_PASGR_NUM>\n",
      "<ALIGHT_PASGR_NUM>2603</ALIGHT_PASGR_NUM>\n",
      "<WORK_DT>20151108</WORK_DT>\n",
      "<COMMT/>\n",
      "</row>\n",
      "<row>\n",
      "<USE_MON>201510</USE_MON>\n",
      "<BUS_ROUTE_NO>7016</BUS_ROUTE_NO>\n",
      "<BUS_ROUTE_NM>7016번(은평차고지~상명대)</BUS_ROUTE_NM>\n",
      "<BUS_STA_NM>시청앞.덕수궁</BUS_STA_NM>\n",
      "<RIDE_PASGR_NUM>2806</RIDE_PASGR_NUM>\n",
      "<ALIGHT_PASGR_NUM>14868</ALIGHT_PASGR_NUM>\n",
      "<WORK_DT>20151108</WORK_DT>\n",
      "<COMMT/>\n",
      "</row>\n",
      "<row>\n",
      "<USE_MON>201510</USE_MON>\n",
      "<BUS_ROUTE_NO>7016</BUS_ROUTE_NO>\n",
      "<BUS_ROUTE_NM>7016번(은평차고지~상명대)</BUS_ROUTE_NM>\n",
      "<BUS_STA_NM>서울역버스환승센터</BUS_STA_NM>\n",
      "<RIDE_PASGR_NUM>7078</RIDE_PASGR_NUM>\n",
      "<ALIGHT_PASGR_NUM>17822</ALIGHT_PASGR_NUM>\n",
      "<WORK_DT>20151108</WORK_DT>\n",
      "<COMMT/>\n",
      "</row>\n",
      "</CardBusStatisticsService>\n",
      "\n",
      "10423\n",
      "3912\n",
      "3268\n",
      "2806\n",
      "7078\n"
     ]
    }
   ],
   "source": [
    "buspassengers='http://openAPI.seoul.go.kr:8088/sample/xml/CardBusStatisticsService/1/5/201510/7016/'\n",
    "data=requests.get(busstopurl).text\n",
    "print data\n",
    "p=re.compile('<RIDE_PASGR_NUM>(.+?)</RIDE_PASGR_NUM>')\n",
    "res=p.findall(data)\n",
    "for item in res:\n",
    "    print item"
   ]
  },
  {
   "cell_type": "markdown",
   "metadata": {},
   "source": [
    "* 자신의 키로 실행하기"
   ]
  },
  {
   "cell_type": "code",
   "execution_count": 15,
   "metadata": {
    "collapsed": false
   },
   "outputs": [
    {
     "name": "stdout",
     "output_type": "stream",
     "text": [
      "xml/CardBusStatisticsService/1/5/201512/7016\n"
     ]
    }
   ],
   "source": [
    "KEY=str(key['dataseoul'])\n",
    "TYPE='xml'\n",
    "SERVICE='CardBusStatisticsService'\n",
    "START_INDEX=str(1)\n",
    "END_INDEX=str(5)\n",
    "USE_MON=str(201512)\n",
    "BUS_ROUTE_NO=str(7016)\n",
    "\n",
    "params=os.path.join(KEY,TYPE,SERVICE,START_INDEX,END_INDEX,USE_MON,BUS_ROUTE_NO)\n",
    "print params[31:]"
   ]
  },
  {
   "cell_type": "code",
   "execution_count": 22,
   "metadata": {
    "collapsed": false
   },
   "outputs": [],
   "source": [
    "import urlparse\n",
    "_url='http://openapi.seoul.go.kr:8088/'\n",
    "url=urlparse.urljoin(_url,params)\n",
    "#print url"
   ]
  },
  {
   "cell_type": "code",
   "execution_count": 17,
   "metadata": {
    "collapsed": false
   },
   "outputs": [
    {
     "name": "stdout",
     "output_type": "stream",
     "text": [
      "<?xml version=\"1.0\" encoding=\"UTF-8\"?><CardBusStatisticsService>\n",
      "<list_total_count>106</list_total_count>\n",
      "<RESULT>\n",
      "<CODE>INFO-000</CODE>\n",
      "<MESSAGE>정상 처리되었습니다</MESSAGE>\n",
      "</RESULT>\n",
      "<row>\n",
      "<USE_MON>201512</USE_MON>\n",
      "<BUS_ROUTE_NO>7016</BUS_ROUTE_NO>\n",
      "<BUS_ROUTE_NM>7016번(은평차고지~상명대)</BUS_ROUTE_NM>\n",
      "<BUS_STA_NM>신촌오거리.현대백화점</BUS_STA_NM>\n",
      "<RIDE_PASGR_NUM>10416</RIDE_PASGR_NUM>\n",
      "<ALIGHT_PASGR_NUM>11279</ALIGHT_PASGR_NUM>\n",
      "<WORK_DT>20160308</WORK_DT>\n",
      "<COMMT/>\n",
      "</row>\n",
      "<row>\n",
      "<USE_MON>201512</USE_MON>\n",
      "<BUS_ROUTE_NO>7016</BUS_ROUTE_NO>\n",
      "<BUS_ROUTE_NM>7016번(은평차고지~상명대)</BUS_ROUTE_NM>\n",
      "<BUS_STA_NM>갈월동4호선숙대입구</BUS_STA_NM>\n",
      "<RIDE_PASGR_NUM>3968</RIDE_PASGR_NUM>\n",
      "<ALIGHT_PASGR_NUM>4525</ALIGHT_PASGR_NUM>\n",
      "<WORK_DT>20160308</WORK_DT>\n",
      "<COMMT/>\n",
      "</row>\n",
      "<row>\n",
      "<USE_MON>201512</USE_MON>\n",
      "<BUS_ROUTE_NO>7016</BUS_ROUTE_NO>\n",
      "<BUS_ROUTE_NM>7016번(은평차고지~상명대)</BUS_ROUTE_NM>\n",
      "<BUS_STA_NM>원효로1동.주민센터</BUS_STA_NM>\n",
      "<RIDE_PASGR_NUM>3582</RIDE_PASGR_NUM>\n",
      "<ALIGHT_PASGR_NUM>2481</ALIGHT_PASGR_NUM>\n",
      "<WORK_DT>20160308</WORK_DT>\n",
      "<COMMT/>\n",
      "</row>\n",
      "<row>\n",
      "<USE_MON>201512</USE_MON>\n",
      "<BUS_ROUTE_NO>7016</BUS_ROUTE_NO>\n",
      "<BUS_ROUTE_NM>7016번(은평차고지~상명대)</BUS_ROUTE_NM>\n",
      "<BUS_STA_NM>시청앞.덕수궁</BUS_STA_NM>\n",
      "<RIDE_PASGR_NUM>2734</RIDE_PASGR_NUM>\n",
      "<ALIGHT_PASGR_NUM>13605</ALIGHT_PASGR_NUM>\n",
      "<WORK_DT>20160308</WORK_DT>\n",
      "<COMMT/>\n",
      "</row>\n",
      "<row>\n",
      "<USE_MON>201512</USE_MON>\n",
      "<BUS_ROUTE_NO>7016</BUS_ROUTE_NO>\n",
      "<BUS_ROUTE_NM>7016번(은평차고지~상명대)</BUS_ROUTE_NM>\n",
      "<BUS_STA_NM>서울역버스환승센터</BUS_STA_NM>\n",
      "<RIDE_PASGR_NUM>6736</RIDE_PASGR_NUM>\n",
      "<ALIGHT_PASGR_NUM>15158</ALIGHT_PASGR_NUM>\n",
      "<WORK_DT>20160308</WORK_DT>\n",
      "<COMMT/>\n",
      "</row>\n",
      "</CardBusStatisticsService>\n",
      "\n"
     ]
    }
   ],
   "source": [
    "import requests\n",
    "\n",
    "data=requests.get(url).text\n",
    "print data"
   ]
  },
  {
   "cell_type": "markdown",
   "metadata": {},
   "source": [
    "## 문제 REST-9: 서울시 종로구 관측소 현재 온도, 습도, 강수량 구하기\n",
    "\n",
    "* 서울시 관측소별 실시간 기상관측 현황\n",
    "* 샘플URL\n",
    "\n",
    "조건 | 샘플URL\n",
    "-----|-----\n",
    "관측소별 실시간 기상관측정보 조회 | http://openAPI.seoul.go.kr:8088/(인증키)/xml/RealtimeWeatherStation/1/5/\n",
    "중구 관측소 실시간 기상관측정보 조회 | http://openAPI.seoul.go.kr:8088/(인증키)/xml/RealtimeWeatherStation/1/5/중구\n",
    "\n",
    "* 결과\n",
    "    ```\n",
    "    1\tSAWS_OBS_TM\t측정일시\n",
    "    2\tSTN_NM\t지점명\n",
    "    3\tSAWS_TA_AVG\t기온(℃)\n",
    "    4\tSAWS_HD\t습도(%)\n",
    "    5\tCODE\t풍향1\n",
    "    6\tNAME\t풍향2\n",
    "    7\tSAWS_WS_AVG\t풍속(m/s)\n",
    "    8\tSAWS_RN_SUM\t강수(mm)\n",
    "    9\tSAWS_SOLAR\t일사(Mj/㎡)\n",
    "    10\tSAWS_SHINE\t일조(hour)\n",
    "    ```"
   ]
  },
  {
   "cell_type": "markdown",
   "metadata": {},
   "source": [
    "* 샘플 실행하기\n",
    "* regex"
   ]
  },
  {
   "cell_type": "code",
   "execution_count": 3,
   "metadata": {
    "collapsed": false
   },
   "outputs": [
    {
     "name": "stdout",
     "output_type": "stream",
     "text": [
      "<?xml version=\"1.0\" encoding=\"UTF-8\"?><RealtimeWeatherStation>\n",
      "<list_total_count>1</list_total_count>\n",
      "<RESULT>\n",
      "<CODE>INFO-000</CODE>\n",
      "<MESSAGE>정상 처리되었습니다</MESSAGE>\n",
      "</RESULT>\n",
      "<row>\n",
      "<SAWS_OBS_TM>2015092216</SAWS_OBS_TM>\n",
      "<STN_NM>성동</STN_NM>\n",
      "<SAWS_TA_AVG>30.1</SAWS_TA_AVG>\n",
      "<SAWS_HD>29.2</SAWS_HD>\n",
      "<CODE>7.0</CODE>\n",
      "<NAME>남동</NAME>\n",
      "<SAWS_WS_AVG>1.9</SAWS_WS_AVG>\n",
      "<SAWS_RN_SUM>0</SAWS_RN_SUM>\n",
      "<SAWS_SOLAR/>\n",
      "<SAWS_SHINE/>\n",
      "</row>\n",
      "</RealtimeWeatherStation>\n",
      "\n",
      "30.1\n"
     ]
    }
   ],
   "source": [
    "import requests\n",
    "import re\n",
    "weatherurl='http://openAPI.seoul.go.kr:8088/sample/xml/RealtimeWeatherStation/1/5/'\n",
    "data=requests.get(weatherurl).text\n",
    "print data\n",
    "p=re.compile('<SAWS_TA_AVG>(.+?)</SAWS_TA_AVG>')\n",
    "res=p.findall(data)\n",
    "for item in res:\n",
    "    print item"
   ]
  },
  {
   "cell_type": "markdown",
   "metadata": {},
   "source": [
    "* 자신의 키로 실행하기"
   ]
  },
  {
   "cell_type": "code",
   "execution_count": 18,
   "metadata": {
    "collapsed": false
   },
   "outputs": [
    {
     "name": "stdout",
     "output_type": "stream",
     "text": [
      "json/RealtimeWeatherStation/1/5/중구\n"
     ]
    }
   ],
   "source": [
    "KEY=str(key['dataseoul'])\n",
    "TYPE='json'\n",
    "SERVICE='RealtimeWeatherStation'\n",
    "START_INDEX=str(1)\n",
    "END_INDEX=str(5)\n",
    "STN_NM=u'중구'\n",
    "\n",
    "params=os.path.join(KEY,TYPE,SERVICE,START_INDEX,END_INDEX,STN_NM)\n",
    "print params[31:]"
   ]
  },
  {
   "cell_type": "code",
   "execution_count": 19,
   "metadata": {
    "collapsed": false
   },
   "outputs": [],
   "source": [
    "import urlparse\n",
    "_url='http://openapi.seoul.go.kr:8088/'\n",
    "url=urlparse.urljoin(_url,params)\n",
    "#print url"
   ]
  },
  {
   "cell_type": "code",
   "execution_count": 20,
   "metadata": {
    "collapsed": false
   },
   "outputs": [
    {
     "name": "stdout",
     "output_type": "stream",
     "text": [
      "{\"RealtimeWeatherStation\":{\"list_total_count\":1,\"RESULT\":{\"CODE\":\"INFO-000\",\"MESSAGE\":\"정상 처리되었습니다\"},\"row\":[{\"SAWS_OBS_TM\":\"2016100919\",\"STN_NM\":\"중구\",\"SAWS_TA_AVG\":13.100000381469727,\"SAWS_HD\":39.70000076293945,\"CODE\":\"13\",\"NAME\":\"서\",\"SAWS_WS_AVG\":1.7999999523162842,\"SAWS_RN_SUM\":0.0,\"SAWS_SOLAR\":0.0,\"SAWS_SHINE\":0.0}]}}\n"
     ]
    }
   ],
   "source": [
    "import requests\n",
    "\n",
    "data=requests.get(url).text\n",
    "print data"
   ]
  },
  {
   "cell_type": "markdown",
   "metadata": {},
   "source": [
    "## 문제 REST-10: 공공데이터포털 2015년 서울시 구별 교통사고 사망자 수 구하기\n",
    "\n",
    "* 예제는 2013년 종로구의 사망자 수를 구한다.\n",
    "* data.go.kr 공공데이터포털에 회원가입한다.\n",
    "* 항목 선정\n",
    "    ```\n",
    "    재난안전 > 교통사고정보 > 사망교통사고정보서비스 > 활용신청\n",
    "    ```\n",
    "    * 활용신청하고자 하는 내역을 입력하고, 활용할 API를 선택하여 '활용신청' 버튼을 클릭한다\n",
    "\n",
    "* 인증키\n",
    "    * 1시간이 지나야 사용할 수 있다고 공지해 놓고 있다.\n",
    "    * 개발 계정 신청이 승인 되었을 경우 인증키를 발급받을수 있다\n",
    "    * utf-8을 사용한다. 키에는 인코딩 없이는 넘길 수 없는 '=' 같은 특수 문자들이 포함되어서, UTF-8 인코딩 필요하다.\n",
    "    * 주의\n",
    "        * urllib.urlencode()를 사용할 경우, 키에 포함된 '%'문자와 같은 특수문자를 주의한다.\n",
    "\n",
    "* 마이페이지로 가서 신청현황을 볼 수 있다.\n",
    "    ```\n",
    "    마이페이지 > 오픈API > 개발계정 \n",
    "    ```\n",
    "\n",
    "* '사망교통사고정보서비스' 서비스 예\n",
    "http://apis.data.go.kr/B552061/trafficAccidentDeath/오퍼레이션명?servicekey=서비스키&searchYearCd=연도코드&sido=법정동시도코드&gugun=법정동시군구코드\n",
    "\n",
    "\n",
    "* 출력\n",
    "    * 년월일, 사망자수, 위도, 경도"
   ]
  },
  {
   "cell_type": "code",
   "execution_count": 36,
   "metadata": {
    "collapsed": false
   },
   "outputs": [
    {
     "name": "stdout",
     "output_type": "stream",
     "text": [
      "trafficAccidentDeath/getRestTrafficAccidentDeath\n"
     ]
    }
   ],
   "source": [
    "import os\n",
    "SERVICE='trafficAccidentDeath'\n",
    "OPERATION_NAME='getRestTrafficAccidentDeath'\n",
    "params1=os.path.join(SERVICE,OPERATION_NAME)\n",
    "print params1"
   ]
  },
  {
   "cell_type": "code",
   "execution_count": 37,
   "metadata": {
    "collapsed": false,
    "scrolled": true
   },
   "outputs": [
    {
     "name": "stdout",
     "output_type": "stream",
     "text": [
      "searchYearCd=2014&gugun=1116&sido=1100\n"
     ]
    }
   ],
   "source": [
    "import urllib\n",
    "_d=dict()\n",
    "_d['searchYearCd']='2014'\n",
    "_d['sido']='1100' #서울특별시\n",
    "_d['gugun']='1116'\n",
    "params2 = urllib.urlencode(_d)\n",
    "print params2"
   ]
  },
  {
   "cell_type": "markdown",
   "metadata": {},
   "source": [
    "* service key는 '%'와 같이 encoding문제가 발생할 수 있는 문자를 가지고 있다.\n",
    "* urlencode()에 넣지 않고 별도로 param을 만든다."
   ]
  },
  {
   "cell_type": "code",
   "execution_count": 39,
   "metadata": {
    "collapsed": false
   },
   "outputs": [],
   "source": [
    "params=params1+'?'+'serviceKey='+key['gokr']+'&'+params2\n",
    "#print params"
   ]
  },
  {
   "cell_type": "code",
   "execution_count": 40,
   "metadata": {
    "collapsed": false
   },
   "outputs": [],
   "source": [
    "import urlparse\n",
    "_url='http://apis.data.go.kr/B552061/'\n",
    "url=urlparse.urljoin(_url,params)\n",
    "#print url"
   ]
  },
  {
   "cell_type": "code",
   "execution_count": 41,
   "metadata": {
    "collapsed": false
   },
   "outputs": [],
   "source": [
    "import requests\n",
    "\n",
    "data=requests.get(url).text\n",
    "#print data"
   ]
  },
  {
   "cell_type": "code",
   "execution_count": 42,
   "metadata": {
    "collapsed": false
   },
   "outputs": [
    {
     "name": "stdout",
     "output_type": "stream",
     "text": [
      "{\"searchResult\":{\"accidentDeath\":[{\"year\":\"2013\",\"dt_006\":\"2013071503\",\"dt_006_lv8\":\"18\",\"cd_008\":\"2\",\"cd_007\":\"2\",\"no_010\":1,\"injpsn_co\":1,\"no_011\":0,\"no_012\":0,\"no_013\":0,\"cd_003\":\"1116\",\"cd_003_lv1\":\"1100\",\"cd_014_lv1\":\"01\",\"cd_014_lv2\":\"12\",\"cd_014\":\"02\",\"cd_027_1_lv1\":\"01\",\"cd_027_1_lv2\":\"12\",\"cd_043_lv1\":\"02\",\"cd_043\":\"07\",\"cd_036_1_lv1\":\"01\",\"cd_036_1\":\"02\",\"cd_036_1_lv2\":\"11\",\"cd_036_2\":\"25\",\"x_coord\":\"960800  \",\"y_coord\":\"1946920 \",\"grd_lo\":\"127.0563897\",\"grd_la\":\"37.52074269\"},{\"year\":\"2014\",\"dt_006\":\"2014052704\",\"dt_006_lv8\":\"55\",\"cd_008\":\"2\",\"cd_007\":\"3\",\"no_010\":1,\"injpsn_co\":1,\"no_011\":0,\"no_012\":0,\"no_013\":0,\"cd_003\":\"1116\",\"cd_003_lv1\":\"1100\",\"cd_014_lv1\":\"01\",\"cd_014_lv2\":\"11\",\"cd_014\":\"01\",\"cd_027_1_lv1\":\"01\",\"cd_027_1_lv2\":\"12\",\"cd_043_lv1\":\"01\",\"cd_043\":\"05\",\"cd_036_1_lv1\":\"01\",\"cd_036_1\":\"02\",\"cd_036_1_lv2\":\"11\",\"cd_036_2\":\"25\",\"x_coord\":\"958125  \",\"y_coord\":\"1944706 \",\"grd_lo\":\"127.02624489\",\"grd_la\":\"37.50066957\"},{\"year\":\"2013\",\"dt_006\":\"2013041120\",\"dt_006_lv8\"\n"
     ]
    }
   ],
   "source": [
    "print data[:1000]"
   ]
  },
  {
   "cell_type": "markdown",
   "metadata": {},
   "source": [
    "## 문제 REST-11: 공공데이터포털 대기 오염 정보\n",
    "\n",
    "* 서비스키는 동일하다.\n",
    "* '대기오염정보 조회 서비스' 항목을 선택하여 활용신청'한다.\n",
    "\n",
    "* 예제 (사이트 미리보기)\n",
    "http://openapi.airkorea.or.kr/openapi/services/rest/ArpltnInforInqireSvc/getMinuDustFrcstDspth?ServiceKey=\n"
   ]
  },
  {
   "cell_type": "markdown",
   "metadata": {},
   "source": [
    "* os.path.join()를 사용하여 경로를 만든다."
   ]
  },
  {
   "cell_type": "code",
   "execution_count": 1,
   "metadata": {
    "collapsed": false,
    "scrolled": true
   },
   "outputs": [
    {
     "name": "stdout",
     "output_type": "stream",
     "text": [
      "ArpltnInforInqireSvc/getMinuDustFrcstDspth\n"
     ]
    }
   ],
   "source": [
    "import os\n",
    "SERVICE='ArpltnInforInqireSvc'\n",
    "OPERATION_NAME='getMinuDustFrcstDspth'\n",
    "params1=os.path.join(SERVICE,OPERATION_NAME)\n",
    "print params1"
   ]
  },
  {
   "cell_type": "code",
   "execution_count": 25,
   "metadata": {
    "collapsed": false,
    "scrolled": false
   },
   "outputs": [
    {
     "name": "stdout",
     "output_type": "stream",
     "text": [
      "dataTerm=month\n"
     ]
    }
   ],
   "source": [
    "import urllib\n",
    "_d=dict()\n",
    "\n",
    "#_d['stationName']='종로구'\n",
    "_d['dataTerm']='month'\n",
    "params2 = urllib.urlencode(_d)\n",
    "print params2"
   ]
  },
  {
   "cell_type": "markdown",
   "metadata": {},
   "source": [
    "* serviceKey에 대문자 섞임 (위와 다름)"
   ]
  },
  {
   "cell_type": "code",
   "execution_count": 33,
   "metadata": {
    "collapsed": false,
    "scrolled": true
   },
   "outputs": [],
   "source": [
    "params=params1+'?'+'serviceKey='+key['gokr']+'&'+params2\n",
    "#print params"
   ]
  },
  {
   "cell_type": "code",
   "execution_count": 34,
   "metadata": {
    "collapsed": false,
    "scrolled": true
   },
   "outputs": [],
   "source": [
    "import urlparse\n",
    "_url='http://openapi.airkorea.or.kr/openapi/services/rest/ArpltnInforInqireSvc'\n",
    "url=urlparse.urljoin(_url,params)\n",
    "#print url"
   ]
  },
  {
   "cell_type": "markdown",
   "metadata": {},
   "source": [
    "* 결과 예\n",
    "```\n",
    "<response>\n",
    "\t<header>\n",
    "\t\t<resultCode>00</resultCode>\n",
    "\t\t<resultMsg>NORMAL SERVICE.</resultMsg>\n",
    "\t</header>\n",
    "\t<body>\n",
    "\t\t<items>\n",
    "\t\t\t\t<item>\n",
    "\t\t\t\t\t<dataTime>2016-10-11</dataTime>\n",
    "\t\t\t\t\t<informCode>PM25</informCode>\n",
    "\t\t\t\t</item>\n",
    "\t\t\t\n",
    "\t\t\t\t<item>\n",
    "\t\t\t\t\t<dataTime>2016-10-11</dataTime>\n",
    "\t\t\t\t\t<informCode>O3</informCode>\n",
    "\t\t\t\t</item>\n",
    "\t\t\t\n",
    "\t\t</items>\n",
    "\t\t\t<numOfRows>10</numOfRows>\n",
    "\t\t\t<pageNo>1</pageNo>\n",
    "\t\t\t<totalCount>1062</totalCount>\n",
    "\t</body>\n",
    "</response>\n",
    "```"
   ]
  },
  {
   "cell_type": "code",
   "execution_count": 35,
   "metadata": {
    "collapsed": false,
    "scrolled": true
   },
   "outputs": [],
   "source": [
    "import requests\n",
    "\n",
    "data=requests.get(url).text\n",
    "#print data"
   ]
  },
  {
   "cell_type": "markdown",
   "metadata": {},
   "source": [
    "## 문제 REST-12: 공공데이터포털 서울특별시교육청 공공도서관 소장도서정보\n",
    "\n",
    "\n",
    "* '서울특별시교육청 공공도서관 소장도서정보'\n",
    "\n",
    "* manageCd: MA에서 MU까지\n",
    "\n",
    "코드 | 도서관명\n",
    "-----|-----\n",
    "MA | 강남도서관\n",
    "MU | 종로도서관\n",
    "\n",
    "* 샘플URL <...>자리에 키(utf-8)를 넣는다.\n",
    "    ```\n",
    "    http://openapi-lib.sen.go.kr/openapi/service/lib/openApi?serviceKey=<...>&manageCd=MA&numOfRows=5&pageNo=2&title=%EB%8F%84%EB%91%91\n",
    "    ```"
   ]
  },
  {
   "cell_type": "markdown",
   "metadata": {},
   "source": [
    "* 서비스, 오퍼레이션은 별도로 지정하지 않는다.\n",
    "    ```\n",
    "    SERVICE=''\n",
    "    OPERATION_NAME=''\n",
    "    ```"
   ]
  },
  {
   "cell_type": "markdown",
   "metadata": {},
   "source": [
    "* title에서는 그대로 한글을 사용하였다. 한글 '도둑'이 url encoding되었다.\n",
    "* 연습으로 quote_plut()를 사용하였다."
   ]
  },
  {
   "cell_type": "code",
   "execution_count": 49,
   "metadata": {
    "collapsed": false,
    "scrolled": true
   },
   "outputs": [
    {
     "name": "stdout",
     "output_type": "stream",
     "text": [
      "manageCd=MA&numOfRows=5&pageNo=2&title=%EB%8F%84%EB%91%91\n"
     ]
    }
   ],
   "source": [
    "import urllib\n",
    "\n",
    "_d=dict()\n",
    "_d['title']='도둑'\n",
    "_d[quote_plus('manageCd')]='MA'\n",
    "_d[quote_plus('numOfRows')]='5'\n",
    "_d[quote_plus('pageNo')]='2'   \n",
    "params2 = urllib.urlencode(_d)\n",
    "\n",
    "print params2"
   ]
  },
  {
   "cell_type": "code",
   "execution_count": 50,
   "metadata": {
    "collapsed": false,
    "scrolled": true
   },
   "outputs": [],
   "source": [
    "params='?'+'serviceKey='+key['gokr']+'&'+params2\n",
    "#print params"
   ]
  },
  {
   "cell_type": "code",
   "execution_count": 55,
   "metadata": {
    "collapsed": false,
    "scrolled": true
   },
   "outputs": [],
   "source": [
    "import urlparse\n",
    "_url = 'http://openapi-lib.sen.go.kr/openapi/service/lib/openApi'\n",
    "url=urlparse.urljoin(_url,params)\n",
    "# print url"
   ]
  },
  {
   "cell_type": "markdown",
   "metadata": {},
   "source": [
    "* 사이트 샘플코드 참조\n",
    "    ```\n",
    "    request = Request(url + queryParams)\n",
    "    request.get_method = lambda: 'GET'\n",
    "    response_body = urlopen(request).read()\n",
    "    print response_body\n",
    "    ```"
   ]
  },
  {
   "cell_type": "code",
   "execution_count": 52,
   "metadata": {
    "collapsed": false,
    "scrolled": true
   },
   "outputs": [],
   "source": [
    "import requests\n",
    "\n",
    "data=requests.get(url).text\n",
    "#print data"
   ]
  },
  {
   "cell_type": "code",
   "execution_count": 54,
   "metadata": {
    "collapsed": false
   },
   "outputs": [
    {
     "name": "stdout",
     "output_type": "stream",
     "text": [
      "<?xml version=\"1.0\" encoding=\"UTF-8\" standalone=\"yes\"?><response><header><resultCode>00</resultCode><resultMsg>NORMAL SERVICE.</resultMsg></header><body><items><item><appendixYn>N</appendixYn><author>글·그림: 율리안 프레스 ;옮김: 박선주</author><bookKey>5150656168</bookKey><callNo>아 853-ㅍ82ㄷ-2</callNo><controlNo>KMO201109022</controlNo><isbn>9788965590194</isbn><libName>강남도서관</libName><manageCode>MA</manageCode><pubYear>2011</pubYear><publisher>푸른날개</publisher><regNo>JUA000043858</regNo><rnum>6</rnum><shelfLocName>[강남]어린이실</shelfLocName><speciesKey>5150656166</speciesKey><title>단서를 찾아라!. 2, 보석 도둑과 비밀의 문</title><vol>2</vol><volTitle>보석 도둑과 비밀의 문</volTitle></item><item><appendixYn>N</appendixYn><author>최용주 지음</author><bookKey>5210340360</bookKey><callNo>199.5-ㅊ574ㄱ</callNo><controlNo>KMO201304671</controlNo><isbn>9788960652866</isbn><libName>강남도서관</libName><manageCode>MA</manageCode><pubYear>2013</pubYear><publisher>공감</publisher><regNo>EMA000223336</regNo><rnum>7</rnum><shelfLocName>[강남]종합자료실</shelfLocName><speciesKey>5210340357</speciesKey><title>가슴청년, 희망을 도둑맞지 마라  : 청년실업 시대, 인생 이모작 시대 자신의 성공 노하우로 방향을 제시하는 느림보 멘토, 최용주 교수의 인생 코칭</title></item><item><appendixYn>N</appendixYn><author>명로진 글 ;조현주 그림</author><bookKey>5160039749</bookKey><callNo>아 813.8-ㅁ482어</callNo><controlNo>KMO201201033</controlNo><isbn>9788997279036</isbn><libName>강남도서관</libName><manageCode>MA</manageCode><pubYear>2011</pubYear><publisher>북스토리아이</publisher><regNo>JUA000044137</regNo><rnum>8</rnum><shelfLocName>[강남]어린이실</shelfLocName><speciesKey>5160039747</speciesKey><title>에너지 도둑</title></item><item><appendixYn>N</appendixYn><author>로저 로웬스타인 지음;제현주 옮김</author><bookKey>5194435562</bookKey><callNo>327.0942-ㄹ614ㅌ</callNo><controlNo>KMO201302699</controlNo><isbn>9788947528887</isbn><libName>강남도서관</libName><manageCode>MA</manageCode><pubYear>2013</pubYear><publisher>한국경제신문:한경BP</publisher><regNo>EMA000219716</regNo><rnum>9</rnum><shelfLocName>[강남]종합자료실</shelfLocName><speciesKey>5194435560</speciesKey><title>탐욕의 도둑들  : 그 많던 돈은 어디로 갔을까</title></item><item><appendixYn>N</appendixYn><author>박완서 글;한병호 그림</author><bookKey>5217973641</bookKey><callNo>아 813.8-ㅂ398ㅈ</callNo><controlNo>JMO201303492</controlNo><isbn>9788987721217</isbn><libName>강남도서관</libName><manageCode>MA</manageCode><pubYear>2011</pubYear><publisher>다림</publisher><regNo>JUA000050951</regNo><rnum>10</rnum><shelfLocName>[강남]어린이실</shelfLocName><speciesKey>5217973639</speciesKey><title>자전거 도둑 : 박완서 단편집</title></item></items><numOfRows>5</numOfRows><pageNo>2</pageNo><totalCount>166</totalCount></body></response>\n"
     ]
    }
   ],
   "source": [
    "print data"
   ]
  },
  {
   "cell_type": "markdown",
   "metadata": {},
   "source": [
    "## 연습 REST: pandas로 웹 데이터 야후 주식 읽기\n",
    "\n",
    "* pandas data reading from Yahoo Finance\n",
    "* 파이썬으로 시스템 트레이딩 https://gist.github.com/ridingtide/51a40d87abe1bcfbc5ce\n",
    "* xing api (이트레이드)\n",
    "http://nbviewer.ipython.org/github/harpone/PyArb/blob/master/PyArb%20Intro.ipynb?create=1\n",
    "\n",
    "* Google Finance KOSPI200 -> ds_Web_data"
   ]
  },
  {
   "cell_type": "code",
   "execution_count": 1,
   "metadata": {
    "collapsed": true
   },
   "outputs": [],
   "source": [
    "import datetime\n",
    "import pandas.io.data as web\n",
    "start = datetime.datetime(2015,11,1)\n",
    "end = datetime.datetime(2015, 11, 10)\n",
    "soil = web.DataReader(\"010950.KS\", \"yahoo\", start, end)"
   ]
  },
  {
   "cell_type": "code",
   "execution_count": 2,
   "metadata": {
    "collapsed": false
   },
   "outputs": [
    {
     "name": "stdout",
     "output_type": "stream",
     "text": [
      "             Open   High    Low  Close  Volume  Adj Close\n",
      "Date                                                     \n",
      "2015-11-02  67900  68400  66800  68400  206300   66836.65\n",
      "2015-11-03  68600  69800  67600  69700  331900   68106.93\n",
      "2015-11-04  70900  71500  70000  70300  286900   68693.22\n",
      "2015-11-05  69800  70000  69100  69600  177600   68009.22\n",
      "2015-11-06  69500  69600  68900  69500  141000   67911.50\n",
      "2015-11-09  69300  69300  67600  67600  168800   66054.93\n",
      "2015-11-10  66700  68300  66200  67300  175600   65761.79\n"
     ]
    }
   ],
   "source": [
    "print soil"
   ]
  },
  {
   "cell_type": "code",
   "execution_count": 3,
   "metadata": {
    "collapsed": false
   },
   "outputs": [
    {
     "name": "stdout",
     "output_type": "stream",
     "text": [
      "              Open    High     Low   Close  Volume\n",
      "Date                                              \n",
      "2015-11-02  257500  259500  254500  255500  153443\n",
      "2015-11-03  257500  259000  255000  255500  126434\n",
      "2015-11-04  254500  255000  250500  253000  180937\n",
      "2015-11-05  253000  256500  250500  254000   85396\n",
      "2015-11-06  253500  261000  253000  258000   88942\n",
      "2015-11-09  258500  258500  251000  252500   89752\n",
      "2015-11-10  251500  252000  248500  250000   79362\n"
     ]
    }
   ],
   "source": [
    "import pandas.io.data as web\n",
    "\n",
    "ncsoft = web.DataReader('KRX:036570', data_source='google', start='01/01/2015', end='09/02/2015')\n",
    "sds = web.DataReader('KRX:018260', data_source='google', start='11/01/2015', end='11/10/2015')\n",
    "\n",
    "print sds"
   ]
  },
  {
   "cell_type": "markdown",
   "metadata": {},
   "source": [
    "## 연습 REST: etc\n",
    "\n",
    "* 구글 스칼라\n",
    "    * http://code.activestate.com/recipes/523047-search-google-scholar/\n",
    "* http://kosis.kr\n",
    "* 지오코딩 - T Map, 다음, 네이버, 구글 (구글맵에 사용)"
   ]
  },
  {
   "cell_type": "code",
   "execution_count": null,
   "metadata": {
    "collapsed": false
   },
   "outputs": [],
   "source": [
    "# %load jsldaum.py\n",
    "# taken from Documents/Code/PCI 20160408FRI\n",
    "import feedparser\n",
    "import re\n",
    "import urllib\n",
    "# Returns title and dictionary of word counts for an RSS feed\n",
    "def getwordcounts(url):\n",
    "  # Parse the feed\n",
    "  d=feedparser.parse(url)\n",
    "  wc={}\n",
    "  # Loop over all the entries\n",
    "  for e in d.entries:\n",
    "    if 'summary' in e: summary=e.summary\n",
    "    else: summary=e.description\n",
    "    # Extract a list of words\n",
    "    words=getwords(e.title+' '+summary)\n",
    "    for word in words:\n",
    "      wc.setdefault(word,0)\n",
    "      wc[word]+=1\n",
    "  return d.feed.title,wc\n",
    "\n",
    "def getwords(html):\n",
    "  # Remove all the HTML tags\n",
    "  txt=re.compile(r'<[^>]+>').sub('',html)\n",
    "  # Split words by all non-alpha characters\n",
    "  words=re.compile(r'[^A-Z^a-z]+').split(txt)\n",
    "  # Convert to lowercase\n",
    "  return [word.lower( ) for word in words if word!='']\n",
    "\n",
    "#apcount={}\n",
    "#wordcounts={}\n",
    "#for feedurl in file('feedlist1.txt'):\n",
    "#  title,wc=getwordcounts(feedurl)\n",
    "#  wordcounts[title]=wc\n",
    "#  for word,count in wc.items( ):\n",
    "#    apcount.setdefault(word,0)\n",
    "#    if count>1:\n",
    "#     apcount[word]+=1\n",
    "\n",
    "\n",
    "# -- daum (맨 윗줄 encoding)\n",
    "# http://dna.daum.net/apis/search/tutorial/basic_python\n",
    "\n",
    "# simple get\n",
    "url='http://dna.daum.net'\n",
    "data=urllib.urlopen(ur).read()\n",
    "print data\n",
    "\n",
    "\n",
    "import urllib\n",
    "\n",
    "url = \"http://apis.daum.net/search/knowledge?&;output=xml&q=OpenAPI\"\n",
    "\n",
    "apikey = \"DAUM_SEARCH_DEMO_APIKEY\"\n",
    "output = \"xml\"\n",
    "q = \"OpenAPI\"\n",
    "params = urllib.urlencode({\n",
    "\t'apikey': apikey,\n",
    "\t'output': output,\n",
    "\t'q': q\n",
    "})\n",
    "data = urllib.urlopen(url, params).read()\n",
    "print data\n"
   ]
  }
 ],
 "metadata": {
  "kernelspec": {
   "display_name": "Python 2",
   "language": "python",
   "name": "python2"
  },
  "language_info": {
   "codemirror_mode": {
    "name": "ipython",
    "version": 2
   },
   "file_extension": ".py",
   "mimetype": "text/x-python",
   "name": "python",
   "nbconvert_exporter": "python",
   "pygments_lexer": "ipython2",
   "version": "2.7.12"
  }
 },
 "nbformat": 4,
 "nbformat_minor": 0
}
