{
 "cells": [
  {
   "cell_type": "markdown",
   "metadata": {},
   "source": [
    "# Twitter\n",
    "\n",
    "Last updated 20160823\n",
    "\n",
    "## T.1 학습내용\n",
    "\n",
    "### T.1.1 목표\n",
    "\n",
    "* OAuth인증을 사용할 수 있다.\n",
    "* Twitter API를 사용하여 글을 쓰고, 읽고, 검색할 수 있다.\n",
    "* 트윗을 저장한다.\n",
    "\n",
    "### T.1.2 문제\n",
    "\n",
    "* T-1: Twitter에 'Hello World'를 쓴다.\n",
    "    * save json\n",
    "* T-2: Twitter에서 자신의 타임라인 가져오기\n",
    "    * 2개만 (count)\n",
    "    * 특정 시점 (max_id, since_id)\n",
    "    * 모두 가져오기\n",
    "    * mongo save\n",
    "* T-3: Twitter에 'Seoul'을 10개 검색한다.\n",
    "* T-4: Twitter에 'Seoul'을 2015년 12월 한 달 분량을 읽는다.\n",
    "* T-5: Follower를 가져온다.\n",
    "* T-6: Follower의 timeline을 가져온다.\n",
    "* T-7: 트렌드 읽기\n",
    "* T-8: write to a file (or db)\n",
    "* T-9: WordCloud\n",
    "\n",
    "### T.1.3 연습\n",
    "\n",
    "* 읽어와서 단어별로 빈도 그래프\n"
   ]
  },
  {
   "cell_type": "markdown",
   "metadata": {},
   "source": [
    "## S.2 소개\n",
    "\n",
    "### S.2.1 SNS 크롤링\n",
    "\n",
    "* SNS는 Social Network Service로 사람과 사람들이 관계를 가지고, 서로 자신들의 의견이나 활동과 같이 하고 싶은 얘기를 하는 사이트. Twitter, Facebook과 같은 소셜미디어를 예로 들 수 있다.\n",
    "* SNS 데이터를 API로 가져와 의미있는 정보를 분석하는 작업\n",
    "* 사용할 수 있는 라이브러리\n",
    "    * twitter\n",
    "        ```\n",
    "        pip install twitter\n",
    "        ```\n",
    "\n",
    "    * [python-oauth2](https://github.com/joestump/python-oauth2/wiki/)\n",
    "        * httplib2를 사용하는 방식과 유사\n",
    "        ```\n",
    "        pip install oauth2 \n",
    "        ```\n",
    "\n",
    "    * urllib2\n",
    "    * requests\n",
    "    * curl - Terminal에서 사용하는 명령어\n"
   ]
  },
  {
   "cell_type": "markdown",
   "metadata": {},
   "source": [
    "### S.2.2 데이터량 제한 Rate limit\n",
    "\n",
    "* Twitter 데이터를 가져오는 방법\n",
    "    * 1 Twitter’s Search API\n",
    "    * 2 Streaming API - at most 1% (not random)\n",
    "    ```\n",
    "    http://stackoverflow.com/questions/17319788/using-python-and-oauth2-with-twitter-streaming-api\n",
    "    ```\n",
    "\n",
    "    * 3 Firehose - a paid service 유료, 모든 트윗을 가져올 수 있다.\n",
    "* Twitter’s rate limits (the number of calls it allows each user to make) fall into two categories:\n",
    "    * 15 calls per 15-minute period, and\n",
    "    * 180 calls per 15-minute period, depending on the type of call.\n",
    "    * API_KEY, API_SECRET - 'Application only Auth' - 450 request/sec (maximum 100 tweets per request), this gives a rate of 45,000 tweets/15-min, which is 2.5 times more than the Access Token Limit.\n"
   ]
  },
  {
   "cell_type": "markdown",
   "metadata": {},
   "source": [
    "### S.2.3 OAuth\n",
    "\n",
    "* Authorization\n",
    "    * http basic\n",
    "        * 사용자계정, 비밀번호로 로그인\n",
    "        * 사용자 비밀번호가 공개되어 보안에 취약하며, 권한 제어가 되지 않아 무제한 사용 가능한 문제\n",
    "        * https를 사용할 수 있다.\n",
    "    ```\n",
    "    http://site.com/api/sync?username=user_name&password=user_pass&args=args\n",
    "    ```\n",
    "    * OAuth OAuth Open Authentication Protocol\n",
    "        * Twitter에 요청해서 App에 access token을 물어보는 방식\n",
    "\n",
    "* signature\n",
    "    * generate an OAuth 1.0a HMAC-SHA1 signature for a HTTP request.\n",
    "    * This signature will be suitable for passing to the Twitter API as part of an authorized request\n",
    "\n",
    "* Authentication 사용자 인증\n",
    "    * consumer key, consumer secret\n",
    "    * access token, access token secret\n",
    "\n",
    "* 3 legged vs 2 legged\n",
    "    * 양자 vs 3자 방식: leg는 개입하는 역할을 의미.\n",
    "    * 3자 방식\n",
    "        * end-user (or resource owner)\n",
    "        * consumer (the third-party application) - 여기에 억세스토큰만 전달됨\n",
    "        * service provider (or authorization server) - e.g., Twitter, Facebook\n",
    "        ```\n",
    "        client = oauth.Client(consumer, token)\n",
    "        ```\n",
    "\n",
    "    * 양자 방식 - end-user 제외\n",
    "        * a simple client-server authenticated request - client의 customer key, customer secret을 사용해서 사인하는 방식\n",
    "        * access token or access token secret을 사용하지 않음.\n",
    "        * oauth2.Token is only needed for three-legged requests\n",
    "\n",
    "        ```\n",
    "        client = oauth.Client(consumer)\n",
    "        ```\n",
    "\n",
    "* endpoint\n",
    "    * 서버의 사용하려는 서비스 url\n",
    "    * 사용자 요청이 끝나는 API url\n"
   ]
  },
  {
   "cell_type": "markdown",
   "metadata": {},
   "source": [
    "* 프로세스\n",
    "    * 사용자가 트위터앱을 사용함\n",
    "    * 트위터앱은 트위터 (서비스 제공자)에게 로그인을 요청\n",
    "    * 트위터 (서비스 제공자)는 사용자에게 로그인페이지를 돌려줌.\n",
    "    * 트위터 (서비스 제공자)는 트위어앱에 'access token'을 제공함.\n",
    "\n",
    "* end-user는 나중에 마음에 들지 않는 권한을 취소할 수 있다.\n",
    "* 앱의 access token을 revoke할 수 있다."
   ]
  },
  {
   "cell_type": "code",
   "execution_count": 1,
   "metadata": {
    "collapsed": true
   },
   "outputs": [],
   "source": [
    "import iplantuml"
   ]
  },
  {
   "cell_type": "code",
   "execution_count": 2,
   "metadata": {
    "collapsed": false
   },
   "outputs": [
    {
     "data": {
      "image/svg+xml": [
       "<svg height=\"255px\" style=\"width:373px;height:255px;\" version=\"1.1\" viewBox=\"0 0 373 255\" width=\"373px\" xmlns=\"http://www.w3.org/2000/svg\" xmlns:xlink=\"http://www.w3.org/1999/xlink\"><defs><filter height=\"300%\" id=\"f1\" width=\"300%\" x=\"-1\" y=\"-1\"><feGaussianBlur result=\"blurOut\" stdDeviation=\"2.0\"/><feColorMatrix in=\"blurOut\" result=\"blurOut2\" type=\"matrix\" values=\"0 0 0 0 0 0 0 0 0 0 0 0 0 0 0 0 0 0 .4 0\"/><feOffset dx=\"4.0\" dy=\"4.0\" in=\"blurOut2\" result=\"blurOut3\"/><feBlend in=\"SourceGraphic\" in2=\"blurOut3\" mode=\"normal\"/></filter></defs><g><line style=\"stroke: #A80036; stroke-width: 1.0; stroke-dasharray: 5.0,5.0;\" x1=\"46\" x2=\"46\" y1=\"38.2969\" y2=\"216.9609\"/><line style=\"stroke: #A80036; stroke-width: 1.0; stroke-dasharray: 5.0,5.0;\" x1=\"221\" x2=\"221\" y1=\"38.2969\" y2=\"216.9609\"/><line style=\"stroke: #A80036; stroke-width: 1.0; stroke-dasharray: 5.0,5.0;\" x1=\"337.5\" x2=\"337.5\" y1=\"38.2969\" y2=\"216.9609\"/><rect fill=\"#FEFECE\" filter=\"url(#f1)\" height=\"30.2969\" style=\"stroke: #A80036; stroke-width: 1.5;\" width=\"73\" x=\"8\" y=\"3\"/><text fill=\"#000000\" font-family=\"sans-serif\" font-size=\"14\" lengthAdjust=\"spacingAndGlyphs\" textLength=\"59\" x=\"15\" y=\"22.9951\">EndUser</text><rect fill=\"#FEFECE\" filter=\"url(#f1)\" height=\"30.2969\" style=\"stroke: #A80036; stroke-width: 1.5;\" width=\"73\" x=\"8\" y=\"215.9609\"/><text fill=\"#000000\" font-family=\"sans-serif\" font-size=\"14\" lengthAdjust=\"spacingAndGlyphs\" textLength=\"59\" x=\"15\" y=\"235.9561\">EndUser</text><rect fill=\"#FEFECE\" filter=\"url(#f1)\" height=\"30.2969\" style=\"stroke: #A80036; stroke-width: 1.5;\" width=\"41\" x=\"199\" y=\"3\"/><text fill=\"#000000\" font-family=\"sans-serif\" font-size=\"14\" lengthAdjust=\"spacingAndGlyphs\" textLength=\"27\" x=\"206\" y=\"22.9951\">App</text><rect fill=\"#FEFECE\" filter=\"url(#f1)\" height=\"30.2969\" style=\"stroke: #A80036; stroke-width: 1.5;\" width=\"41\" x=\"199\" y=\"215.9609\"/><text fill=\"#000000\" font-family=\"sans-serif\" font-size=\"14\" lengthAdjust=\"spacingAndGlyphs\" textLength=\"27\" x=\"206\" y=\"235.9561\">App</text><rect fill=\"#FEFECE\" filter=\"url(#f1)\" height=\"30.2969\" style=\"stroke: #A80036; stroke-width: 1.5;\" width=\"58\" x=\"306.5\" y=\"3\"/><text fill=\"#000000\" font-family=\"sans-serif\" font-size=\"14\" lengthAdjust=\"spacingAndGlyphs\" textLength=\"44\" x=\"313.5\" y=\"22.9951\">Server</text><rect fill=\"#FEFECE\" filter=\"url(#f1)\" height=\"30.2969\" style=\"stroke: #A80036; stroke-width: 1.5;\" width=\"58\" x=\"306.5\" y=\"215.9609\"/><text fill=\"#000000\" font-family=\"sans-serif\" font-size=\"14\" lengthAdjust=\"spacingAndGlyphs\" textLength=\"44\" x=\"313.5\" y=\"235.9561\">Server</text><polygon fill=\"#A80036\" points=\"209.5,65.2969,219.5,69.2969,209.5,73.2969,213.5,69.2969\" style=\"stroke: #A80036; stroke-width: 1.0;\"/><line style=\"stroke: #A80036; stroke-width: 1.0;\" x1=\"46.5\" x2=\"215.5\" y1=\"69.2969\" y2=\"69.2969\"/><text fill=\"#000000\" font-family=\"sans-serif\" font-size=\"13\" lengthAdjust=\"spacingAndGlyphs\" textLength=\"151\" x=\"53.5\" y=\"64.3638\">request log-in to Twitter</text><polygon fill=\"#A80036\" points=\"325.5,94.4297,335.5,98.4297,325.5,102.4297,329.5,98.4297\" style=\"stroke: #A80036; stroke-width: 1.0;\"/><line style=\"stroke: #A80036; stroke-width: 1.0;\" x1=\"221.5\" x2=\"331.5\" y1=\"98.4297\" y2=\"98.4297\"/><text fill=\"#000000\" font-family=\"sans-serif\" font-size=\"13\" lengthAdjust=\"spacingAndGlyphs\" textLength=\"92\" x=\"228.5\" y=\"93.4966\">ask login page</text><polygon fill=\"#A80036\" points=\"57.5,123.5625,47.5,127.5625,57.5,131.5625,53.5,127.5625\" style=\"stroke: #A80036; stroke-width: 1.0;\"/><line style=\"stroke: #A80036; stroke-width: 1.0;\" x1=\"51.5\" x2=\"336.5\" y1=\"127.5625\" y2=\"127.5625\"/><text fill=\"#000000\" font-family=\"sans-serif\" font-size=\"13\" lengthAdjust=\"spacingAndGlyphs\" textLength=\"66\" x=\"63.5\" y=\"122.6294\">login page</text><line style=\"stroke: #A80036; stroke-width: 1.0;\" x1=\"46.5\" x2=\"88.5\" y1=\"156.8281\" y2=\"156.8281\"/><line style=\"stroke: #A80036; stroke-width: 1.0;\" x1=\"88.5\" x2=\"88.5\" y1=\"156.8281\" y2=\"169.8281\"/><line style=\"stroke: #A80036; stroke-width: 1.0;\" x1=\"47.5\" x2=\"88.5\" y1=\"169.8281\" y2=\"169.8281\"/><polygon fill=\"#A80036\" points=\"57.5,165.8281,47.5,169.8281,57.5,173.8281,53.5,169.8281\" style=\"stroke: #A80036; stroke-width: 1.0;\"/><text fill=\"#000000\" font-family=\"sans-serif\" font-size=\"13\" lengthAdjust=\"spacingAndGlyphs\" textLength=\"113\" x=\"53.5\" y=\"151.7622\">enter id,password</text><polygon fill=\"#A80036\" points=\"232.5,194.8281,222.5,198.8281,232.5,202.8281,228.5,198.8281\" style=\"stroke: #A80036; stroke-width: 1.0;\"/><line style=\"stroke: #A80036; stroke-width: 1.0;\" x1=\"226.5\" x2=\"336.5\" y1=\"198.8281\" y2=\"198.8281\"/><text fill=\"#000000\" font-family=\"sans-serif\" font-size=\"13\" lengthAdjust=\"spacingAndGlyphs\" textLength=\"84\" x=\"238.5\" y=\"193.895\">access token</text></g></svg>"
      ],
      "text/plain": [
       "<IPython.core.display.SVG object>"
      ]
     },
     "execution_count": 2,
     "metadata": {},
     "output_type": "execute_result"
    }
   ],
   "source": [
    "%%plantuml\n",
    "@startuml\n",
    "EndUser -> App: request log-in to Twitter\n",
    "App -> Server: ask login page\n",
    "Server -> EndUser : login page\n",
    "EndUser -> EndUser : enter id,password\n",
    "Server -> App: access token\n",
    "@enduml"
   ]
  },
  {
   "cell_type": "markdown",
   "metadata": {},
   "source": [
    "## 트위터 키 설정하기\n",
    "\n",
    "* [트위터](https://twitter.com) 회원가입을 하고, 자신의 계정을 만든다.\n",
    "* apps.twitter.com로 가서\n",
    "* \"Create New App\" 앱을 생성한다.\n",
    "* 앱의 이름, 설명을 입력\n",
    "* 앱의 웹사이트를 입력 - 앱이 실행될 호스트. 없으면 임시로 넣는다. 또는 https://twitter.com\n",
    "\n",
    "* \"Keys and Access Tokens\"를 누른다.\n",
    "* \"Create my access token\"\n",
    "\n",
    "* 2개의 키가 필요 - consumer, token"
   ]
  },
  {
   "cell_type": "markdown",
   "metadata": {},
   "source": [
    "* 파일에 저장된 key를 사용한다.\n",
    "    * java twitter4j에서 사용하는 twitter4j.properties 파일을 사용한다.\n",
    "    * 첫 줄은 의미가 없으므로 버리고,\n",
    "    * 나머지 줄은 '.' 뒤를 대문자로 바꾸어서 사용한다. line을 읽을 때 '\\n'을 제거한다."
   ]
  },
  {
   "cell_type": "code",
   "execution_count": 1,
   "metadata": {
    "collapsed": false
   },
   "outputs": [],
   "source": [
    "def getApiKey(keyPath):\n",
    "    d=dict()\n",
    "    f=open(keyPath,'r')\n",
    "    for line in f.readlines():\n",
    "        row=line.split('=')\n",
    "        if(row[0]!='debug'):\n",
    "            row0=row[0].split('.')\n",
    "            d[row0[1].upper()]=row[1].strip()\n",
    "    return d"
   ]
  },
  {
   "cell_type": "code",
   "execution_count": 2,
   "metadata": {
    "collapsed": false
   },
   "outputs": [],
   "source": [
    "import os\n",
    "\n",
    "keyPath=os.path.join(os.path.expanduser(\"~\"),'Code/git/bb/sd','twitter4j.properties')\n",
    "key=getApiKey(keyPath)"
   ]
  },
  {
   "cell_type": "markdown",
   "metadata": {},
   "source": [
    "## T-1: Twitter에 'Hello World'를 쓴다.\n",
    "\n",
    "* 트위터 API문서 참조\n",
    "    * statuses.update\n",
    "    * https://dev.twitter.com/rest/reference/post/statuses/update\n",
    "    * Parameters\n",
    "        * 반드시 입력해야 하는 항목 ('required') -> status\n",
    "    * 결과는 JSON\n",
    "    * 주의: OAuth Signature가 있어야 함."
   ]
  },
  {
   "cell_type": "markdown",
   "metadata": {},
   "source": [
    "### Twitter 라이브러리 "
   ]
  },
  {
   "cell_type": "code",
   "execution_count": 5,
   "metadata": {
    "collapsed": false
   },
   "outputs": [
    {
     "name": "stdout",
     "output_type": "stream",
     "text": [
      "<twitter.api.Twitter object at 0x7f810575b410>\n"
     ]
    }
   ],
   "source": [
    "import twitter\n",
    "\n",
    "auth = twitter.oauth.OAuth(key['ACCESSTOKEN'],key['ACCESSTOKENSECRET'],\n",
    "                            key['CONSUMERKEY'], key['CONSUMERSECRET'])\n",
    "_client = twitter.Twitter(auth=auth)\n",
    "print _client"
   ]
  },
  {
   "cell_type": "code",
   "execution_count": 43,
   "metadata": {
    "collapsed": false,
    "scrolled": true
   },
   "outputs": [
    {
     "data": {
      "text/plain": [
       "{u'contributors': None,\n",
       " u'coordinates': None,\n",
       " u'created_at': u'Sat Sep 24 08:59:47 +0000 2016',\n",
       " u'entities': {u'hashtags': [],\n",
       "  u'symbols': [],\n",
       "  u'urls': [],\n",
       "  u'user_mentions': []},\n",
       " u'favorite_count': 0,\n",
       " u'favorited': False,\n",
       " u'geo': None,\n",
       " u'id': 779606243950211072,\n",
       " u'id_str': u'779606243950211072',\n",
       " u'in_reply_to_screen_name': None,\n",
       " u'in_reply_to_status_id': None,\n",
       " u'in_reply_to_status_id_str': None,\n",
       " u'in_reply_to_user_id': None,\n",
       " u'in_reply_to_user_id_str': None,\n",
       " u'is_quote_status': False,\n",
       " u'lang': u'no',\n",
       " u'place': None,\n",
       " u'retweet_count': 0,\n",
       " u'retweeted': False,\n",
       " u'source': u'<a href=\"http://jsl.com/\" rel=\"nofollow\">JSL</a>',\n",
       " u'text': u'Hello Twitter 2016-09-24 18:01',\n",
       " u'truncated': False,\n",
       " u'user': {u'contributors_enabled': False,\n",
       "  u'created_at': u'Sun Sep 19 00:44:43 +0000 2010',\n",
       "  u'default_profile': True,\n",
       "  u'default_profile_image': False,\n",
       "  u'description': u'\\uc0c1\\uba85\\ub300',\n",
       "  u'entities': {u'description': {u'urls': []}},\n",
       "  u'favourites_count': 1,\n",
       "  u'follow_request_sent': False,\n",
       "  u'followers_count': 11,\n",
       "  u'following': False,\n",
       "  u'friends_count': 2,\n",
       "  u'geo_enabled': False,\n",
       "  u'has_extended_profile': False,\n",
       "  u'id': 192388653,\n",
       "  u'id_str': u'192388653',\n",
       "  u'is_translation_enabled': False,\n",
       "  u'is_translator': False,\n",
       "  u'lang': u'en',\n",
       "  u'listed_count': 0,\n",
       "  u'location': u'',\n",
       "  u'name': u'Joasang Lim',\n",
       "  u'notifications': False,\n",
       "  u'profile_background_color': u'C0DEED',\n",
       "  u'profile_background_image_url': u'http://abs.twimg.com/images/themes/theme1/bg.png',\n",
       "  u'profile_background_image_url_https': u'https://abs.twimg.com/images/themes/theme1/bg.png',\n",
       "  u'profile_background_tile': False,\n",
       "  u'profile_image_url': u'http://pbs.twimg.com/profile_images/1218730885/___normal.jpg',\n",
       "  u'profile_image_url_https': u'https://pbs.twimg.com/profile_images/1218730885/___normal.jpg',\n",
       "  u'profile_link_color': u'0084B4',\n",
       "  u'profile_sidebar_border_color': u'C0DEED',\n",
       "  u'profile_sidebar_fill_color': u'DDEEF6',\n",
       "  u'profile_text_color': u'333333',\n",
       "  u'profile_use_background_image': True,\n",
       "  u'protected': False,\n",
       "  u'screen_name': u'jslimit',\n",
       "  u'statuses_count': 27,\n",
       "  u'time_zone': None,\n",
       "  u'url': None,\n",
       "  u'utc_offset': None,\n",
       "  u'verified': False}}"
      ]
     },
     "execution_count": 43,
     "metadata": {},
     "output_type": "execute_result"
    }
   ],
   "source": [
    "_client.statuses.update(status=\"Hello Twitter 1 160924\")"
   ]
  },
  {
   "cell_type": "markdown",
   "metadata": {},
   "source": [
    "### OAuth2\n"
   ]
  },
  {
   "cell_type": "code",
   "execution_count": 4,
   "metadata": {
    "collapsed": false
   },
   "outputs": [],
   "source": [
    "import oauth2 as oauth\n",
    "import json\n",
    "\n",
    "consumer = oauth.Consumer(key=key['CONSUMERKEY'], secret=key['CONSUMERSECRET'])\n",
    "token=oauth.Token(key=key['ACCESSTOKEN'], secret=key['ACCESSTOKENSECRET'])"
   ]
  },
  {
   "cell_type": "code",
   "execution_count": 5,
   "metadata": {
    "collapsed": true
   },
   "outputs": [],
   "source": [
    "client = oauth.Client(consumer, token)"
   ]
  },
  {
   "cell_type": "code",
   "execution_count": 7,
   "metadata": {
    "collapsed": false
   },
   "outputs": [
    {
     "name": "stdout",
     "output_type": "stream",
     "text": [
      "Help on method request in module oauth2:\n",
      "\n",
      "request(self, uri, method='GET', body='', headers=None, redirections=5, connection_type=None) method of oauth2.Client instance\n",
      "\n"
     ]
    }
   ],
   "source": [
    "help(client.request)"
   ]
  },
  {
   "cell_type": "markdown",
   "metadata": {},
   "source": [
    "* POST\n",
    "    * body param은 post에만 사용할 수 있다??\n",
    "    * GET방식의 param은 url에 ?다음 붙여서 사용"
   ]
  },
  {
   "cell_type": "code",
   "execution_count": 73,
   "metadata": {
    "collapsed": false
   },
   "outputs": [],
   "source": [
    "import urllib\n",
    "url = \"https://api.twitter.com/1.1/statuses/update.json\"\n",
    "mybody=urllib.urlencode({'status': 'Hello 21 160924'})\n",
    "response,content=client.request(url,method='POST',body=mybody)"
   ]
  },
  {
   "cell_type": "markdown",
   "metadata": {},
   "source": [
    "* save\n",
    "    * csv\n",
    "    * json\n",
    "* io모듈\n",
    "    * Python 3을 대상으로 만들어진 모듈, python 2.에서는 file 대신"
   ]
  },
  {
   "cell_type": "code",
   "execution_count": 76,
   "metadata": {
    "collapsed": false
   },
   "outputs": [],
   "source": [
    "import io\n",
    "with io.open('src/ds_twitter_1.json', 'w', encoding='utf8') as json_file:\n",
    "    data=json.dumps(content, json_file, ensure_ascii=False, encoding='utf8')\n",
    "    json_file.write(data)"
   ]
  },
  {
   "cell_type": "markdown",
   "metadata": {},
   "source": [
    "## T-2: 자신의 타임라인 가져오기\n",
    "\n",
    "* 2개만 (count)\n",
    "* 특정 시점 (max_id, since_id)\n",
    "* 모두 가져오기"
   ]
  },
  {
   "cell_type": "markdown",
   "metadata": {},
   "source": [
    "\n",
    "* GET statuses/home_timeline\n",
    "    * 사용자와 그 친구들이 올리는 트윗과 리트윗을 가져옴\n",
    "    * 800개 제한\n",
    "    * 입력변수는 선택적\n",
    "    * 출력은 JSON\n",
    "\n",
    "```\n",
    "user_timeline = client.statuses.user_timeline(screen_name='jslimit')\n",
    "```"
   ]
  },
  {
   "cell_type": "markdown",
   "metadata": {},
   "source": [
    "### Twitter  라이브러리"
   ]
  },
  {
   "cell_type": "code",
   "execution_count": 6,
   "metadata": {
    "collapsed": false
   },
   "outputs": [],
   "source": [
    "timeline = _client.statuses.home_timeline()"
   ]
  },
  {
   "cell_type": "code",
   "execution_count": 19,
   "metadata": {
    "collapsed": false
   },
   "outputs": [
    {
     "name": "stdout",
     "output_type": "stream",
     "text": [
      "<class 'twitter.api.TwitterListResponse'>\n",
      "20\n"
     ]
    }
   ],
   "source": [
    "print type(timeline)\n",
    "print len(timeline)"
   ]
  },
  {
   "cell_type": "code",
   "execution_count": 24,
   "metadata": {
    "collapsed": false
   },
   "outputs": [
    {
     "name": "stdout",
     "output_type": "stream",
     "text": [
      "<type 'dict'>\n",
      "contributors None\n",
      "truncated False\n",
      "text Hello from oauth 2016-07-23 14:40\n",
      "is_quote_status False\n",
      "in_reply_to_status_id None\n",
      "id 754188567824338944\n",
      "favorite_count 0\n",
      "source <a href=\"http://jsl.com/\" rel=\"nofollow\">JSL</a>\n",
      "retweeted False\n",
      "coordinates None\n",
      "entities {u'symbols': [], u'user_mentions': [], u'hashtags': [], u'urls': []}\n",
      "in_reply_to_screen_name None\n",
      "in_reply_to_user_id None\n",
      "retweet_count 0\n",
      "id_str 754188567824338944\n",
      "favorited False\n",
      "user {u'follow_request_sent': False, u'has_extended_profile': False, u'profile_use_background_image': True, u'default_profile_image': False, u'id': 192388653, u'profile_background_image_url_https': u'https://abs.twimg.com/images/themes/theme1/bg.png', u'verified': False, u'profile_text_color': u'333333', u'profile_image_url_https': u'https://pbs.twimg.com/profile_images/1218730885/___normal.jpg', u'profile_sidebar_fill_color': u'DDEEF6', u'entities': {u'description': {u'urls': []}}, u'followers_count': 11, u'profile_sidebar_border_color': u'C0DEED', u'id_str': u'192388653', u'profile_background_color': u'C0DEED', u'listed_count': 0, u'is_translation_enabled': False, u'utc_offset': None, u'statuses_count': 26, u'description': u'\\uc0c1\\uba85\\ub300', u'friends_count': 2, u'location': u'', u'profile_link_color': u'0084B4', u'profile_image_url': u'http://pbs.twimg.com/profile_images/1218730885/___normal.jpg', u'following': False, u'geo_enabled': False, u'profile_background_image_url': u'http://abs.twimg.com/images/themes/theme1/bg.png', u'screen_name': u'jslimit', u'lang': u'en', u'profile_background_tile': False, u'favourites_count': 1, u'name': u'Joasang Lim', u'notifications': False, u'url': None, u'created_at': u'Sun Sep 19 00:44:43 +0000 2010', u'contributors_enabled': False, u'time_zone': None, u'protected': False, u'default_profile': True, u'is_translator': False}\n",
      "geo None\n",
      "in_reply_to_user_id_str None\n",
      "lang en\n",
      "created_at Sat Jul 16 05:39:01 +0000 2016\n",
      "in_reply_to_status_id_str None\n",
      "place None\n"
     ]
    }
   ],
   "source": [
    "print type(timeline[0])\n",
    "for key in timeline[0].keys():\n",
    "    print key,timeline[0][key]"
   ]
  },
  {
   "cell_type": "markdown",
   "metadata": {},
   "source": [
    "### OAuth\n",
    "\n",
    "* 2개만 가져오기\n",
    "* 특정 시점\n",
    "* 모두 가져오기\n",
    "    * max_id, since_id"
   ]
  },
  {
   "cell_type": "markdown",
   "metadata": {},
   "source": [
    "* mongo에 쓰기\n",
    "    * _mclient를 생성해서\n",
    "    * for문에 넣음"
   ]
  },
  {
   "cell_type": "code",
   "execution_count": 7,
   "metadata": {
    "collapsed": false
   },
   "outputs": [],
   "source": [
    "from pymongo import MongoClient\n",
    "_mclient = MongoClient()\n",
    "_db=_mclient.ds_twitter\n",
    "_table=_db.home_timeline"
   ]
  },
  {
   "cell_type": "code",
   "execution_count": 8,
   "metadata": {
    "collapsed": false,
    "scrolled": false
   },
   "outputs": [],
   "source": [
    "url = \"https://api.twitter.com/1.1/statuses/home_timeline.json\"\n",
    "response, content = client.request(url)\n",
    "\n",
    "home_timeline = json.loads(content)\n",
    "for tweet in home_timeline:\n",
    "    _table.insert_one(tweet)"
   ]
  },
  {
   "cell_type": "markdown",
   "metadata": {},
   "source": [
    "* mongo에서 읽기"
   ]
  },
  {
   "cell_type": "raw",
   "metadata": {},
   "source": [
    "* 2개만 가져오기"
   ]
  },
  {
   "cell_type": "code",
   "execution_count": 58,
   "metadata": {
    "collapsed": false,
    "scrolled": true
   },
   "outputs": [
    {
     "name": "stdout",
     "output_type": "stream",
     "text": [
      "768674417551347712 Hello from oauth 2016-08-24 14:00\n",
      "767873469119803392 Hello from oauth 2016-07-16 18:00\n"
     ]
    }
   ],
   "source": [
    "url = \"https://api.twitter.com/1.1/statuses/home_timeline.json?count=2\"\n",
    "response, content = client.request(url)\n",
    "\n",
    "home_timeline = json.loads(content)\n",
    "for tweet in home_timeline:\n",
    "    print tweet['id'],tweet['text']"
   ]
  },
  {
   "cell_type": "code",
   "execution_count": 22,
   "metadata": {
    "collapsed": false
   },
   "outputs": [
    {
     "name": "stdout",
     "output_type": "stream",
     "text": [
      "Sat Jul 16 09:00:57 +0000 2016\n",
      "754239388641406977\n"
     ]
    }
   ],
   "source": [
    "print home_timeline[0]['created_at']\n",
    "print home_timeline[0]['id']"
   ]
  },
  {
   "cell_type": "markdown",
   "metadata": {},
   "source": [
    "* pagination - 검색하거나, 타임라인을 읽어 오는 경우, 여러 번으로 나누어 가져온다.\n",
    "    * 사용하는 변수\n",
    "        * max_id = top of tweets id list\n",
    "        * since_id = bottom of tweets id list\n",
    "    * 언제 사용하나?\n",
    "        * 사용사례1: 조회한 시점 이후 새로운 트윗이 추가되었을 경우\n",
    "            * since_id는 조회한 시점\n",
    "            * max_id는 새로 추가된 트윗까지\n",
    "        * 사용사례2: 조회한 후, 그 다음 페이지를 읽어오는 경우 (오래된 것)\n",
    "            * max_id만 사용\n",
    "            * since_id는 불필요하므로 비워놓음\n",
    "    * max_id부터 오래된 것을 읽어오기 -> 마지막 id는 어떻게 찾는가?\n",
    "    * max 3200 (200개씩 16번 호출)"
   ]
  },
  {
   "cell_type": "markdown",
   "metadata": {},
   "source": [
    "* 사용사례2"
   ]
  },
  {
   "cell_type": "code",
   "execution_count": 9,
   "metadata": {
    "collapsed": false,
    "scrolled": false
   },
   "outputs": [],
   "source": [
    "import urllib\n",
    "url = \"https://api.twitter.com/1.1/statuses/home_timeline.json\"\n",
    "myparam={'max_id':'532386310086881280'}\n",
    "mybody=urllib.urlencode(myparam)\n",
    "\n",
    "response, content = client.request(url+\"?\"+mybody, method=\"GET\")\n",
    "home_timeline = json.loads(content)\n"
   ]
  },
  {
   "cell_type": "code",
   "execution_count": 10,
   "metadata": {
    "collapsed": false
   },
   "outputs": [],
   "source": [
    "import urllib\n",
    "myparam={'max_id':'534949539757555713','since_id':'532386310086881280'}\n",
    "\n",
    "mybody=urllib.urlencode(myparam)\n",
    "\n",
    "response, content = client.request(url+\"?\"+mybody, method=\"GET\")\n",
    "home_timeline = json.loads(content)\n"
   ]
  },
  {
   "cell_type": "markdown",
   "metadata": {},
   "source": [
    "* 함수로 만들기"
   ]
  },
  {
   "cell_type": "markdown",
   "metadata": {},
   "source": [
    "## T-3: Twitter에 'Seoul'을 10개 검색한다."
   ]
  },
  {
   "cell_type": "markdown",
   "metadata": {},
   "source": [
    "### Twitter\n",
    "\n",
    "\n",
    "* 검색"
   ]
  },
  {
   "cell_type": "code",
   "execution_count": 65,
   "metadata": {
    "collapsed": false
   },
   "outputs": [],
   "source": [
    "q = '#류현진'\n",
    "count = 100\n",
    "# See https://dev.twitter.com/docs/api/1.1/get/search/tweets \n",
    "search_results = _client.search.tweets(q=q, count=count)\n",
    "statuses = search_results['statuses']"
   ]
  },
  {
   "cell_type": "code",
   "execution_count": 66,
   "metadata": {
    "collapsed": false,
    "scrolled": true
   },
   "outputs": [
    {
     "name": "stdout",
     "output_type": "stream",
     "text": [
      "100\n",
      "<type 'list'>\n"
     ]
    }
   ],
   "source": [
    "print len(statuses)\n",
    "print type(statuses)"
   ]
  },
  {
   "cell_type": "code",
   "execution_count": 8,
   "metadata": {
    "collapsed": false
   },
   "outputs": [
    {
     "name": "stdout",
     "output_type": "stream",
     "text": [
      "[u'contributors', u'truncated', u'text', u'is_quote_status', u'in_reply_to_status_id', u'id', u'favorite_count', u'entities', u'retweeted', u'coordinates', u'source', u'in_reply_to_screen_name', u'in_reply_to_user_id', u'retweet_count', u'id_str', u'favorited', u'user', u'geo', u'in_reply_to_user_id_str', u'possibly_sensitive', u'lang', u'created_at', u'in_reply_to_status_id_str', u'place', u'metadata']\n"
     ]
    }
   ],
   "source": [
    "print statuses[0].keys()"
   ]
  },
  {
   "cell_type": "markdown",
   "metadata": {},
   "source": [
    "### OAuth\n",
    "\n",
    "* 'seoul'단어를 20개씩 검색"
   ]
  },
  {
   "cell_type": "code",
   "execution_count": 14,
   "metadata": {
    "collapsed": false
   },
   "outputs": [],
   "source": [
    "import urllib\n",
    "url1 = \"https://api.twitter.com/1.1/search/tweets.json\"\n",
    "myparam={'q':'seoul','count':20}\n",
    "mybody=urllib.urlencode(myparam)\n",
    "\n",
    "resp, tsearch = client.request(url1+\"?\"+mybody, method=\"GET\")\n",
    "tsearch_json = json.loads(tsearch)"
   ]
  },
  {
   "cell_type": "code",
   "execution_count": 15,
   "metadata": {
    "collapsed": false,
    "scrolled": true
   },
   "outputs": [
    {
     "name": "stdout",
     "output_type": "stream",
     "text": [
      "<type 'dict'>\n",
      "[u'search_metadata', u'statuses']\n",
      "12\n"
     ]
    }
   ],
   "source": [
    "print type(tsearch_json)\n",
    "print tsearch_json.keys()\n",
    "print len(tsearch_json['statuses'])"
   ]
  },
  {
   "cell_type": "code",
   "execution_count": 12,
   "metadata": {
    "collapsed": false
   },
   "outputs": [
    {
     "data": {
      "text/plain": [
       "24"
      ]
     },
     "execution_count": 12,
     "metadata": {},
     "output_type": "execute_result"
    }
   ],
   "source": [
    "len(tsearch_json['statuses'][0])"
   ]
  },
  {
   "cell_type": "code",
   "execution_count": 13,
   "metadata": {
    "collapsed": false,
    "scrolled": true
   },
   "outputs": [
    {
     "name": "stdout",
     "output_type": "stream",
     "text": [
      "[0]\t754289685669646337\tㅎㅅㅎ:@seoul_dessert @BTS_twt 오예 누가 신청한거여ㅋㅋㅋㅋㅋㅋㅋㅋㅋㅋㅋㅋ\n",
      "[1]\t754289685074022400\ttto2daily:@seoul_dessert @BTS_twt ㅋㅋㅋㅋㅋㅋㅋㅋㅋㅋㅋㅋㅋㅋㅋㅋㅋㅋㅋㅋㅋㅋㅋ 정보적어주세요 ㅋㅋㅋㅋㅋㅋㅋㅋㅋㅋ 문자티켓 발송해준대요,,,, 잘갔다오궄ㅋㅋㅋㅋㅋㅋ\n",
      "[2]\t754289684633690113\t가탄:@seoul_dessert ㅋㅋㅋㅋㅋㅋㅋ미치겠닼ㅋㅋㅋㅋㅋㅋㅋㅋㅋㅋ-ㅋㅋㅋㅋㅋㅋㅋㅋㅋㅋㅋㅋㅋㅋㅋㅋㅋㅋ\n",
      "[3]\t754289651825807360\t세리:@seoul_dessert  @BTS_twt  ㅋㅋㅋㅋㅋㅋㅋㅋㅋㅋ이거 누구응모한거야 당첨 축하요👍🏻👍🏻\n",
      "[4]\t754289612269289472\tWarinyupa_Pui:RT @hello_bbomi: 160711 _ #am1:31\n",
      "-\n",
      "첫 단콘Seoul..\n",
      "재범함께하지 못해서 너무나\n",
      "슬펐던자리..\n",
      "약속대로 빨리돌아와줘서 고마워🙏\n",
      "#GOT7 #JB #재범 #jaebeom \n",
      "#jaebum #FLYinLA https://t…\n",
      "[5]\t754289573392322562\t반짝 민서 여보:@seoul_dessert 방탄은 7명인데 1인1매면.. 누가 가야하죠ㅋㅋ쿠ㅜㅜ\n",
      "[6]\t754289571538448385\t예뻐 ´ε｀* °•:@seoul_dessert @BTS_twt  ㅋㅋㅌㅋㅋㄷㅋㅋㄷㅋㅋㅌㅋㅋㅌㅋㅋㅋㅋㅋㅋㅋ 미쳐 진짜ㅋㅋㅌㅋㅋㅋㅋㅌㅋㅋㅌㅋㅋㄷㅋ우리 애들 서디페 진짜 가는거에요ㅋㅌㅋㅋㅋㅋㅋㅋ?? 이왕 가는거 맛있는거 잔뜩 먹고와-\n",
      "[7]\t754289538013523968\tAaron Rivera:Pretty LED flowers. 😍\n",
      "\n",
      "#Seoulovelytheflowers #seoul @ Dongdaemun History &amp; Culture Park Station https://t.co/dBsyxuIEbQ\n",
      "[8]\t754289501858467840\tグラビア♡ガールズ:【イ・ハヤン Asian perfume（in SEOUL）】 アジアで活躍中のタレントさんに超過激な着エロ+サービス映像（ヘアー・バストトップ）に挑戦してもらいそ...https://t.co/IamAipXv6e https://t.co/iaN9rBm2Xc\n",
      "[9]\t754289486163505152\tWhoolo:#Urawa - #Red - #Diamonds - #vs : Urawa Red Diamonds vs FC Seoul: AFC Champions League (RD16 - 1st Leg) https://t.co/hfGVlLnvhq\n"
     ]
    }
   ],
   "source": [
    "for i,tweet in enumerate(tsearch_json['statuses']):\n",
    "    #print tweet[u'user'][u'name']\n",
    "    print \"[%d]\\t%d\\t%s:%s\" % (i,tweet['id'],tweet['user']['name'],tweet['text'])"
   ]
  },
  {
   "cell_type": "markdown",
   "metadata": {},
   "source": [
    "##  T-3: Twitter에 'Seoul'을 2015년 12월 한 달 분량을 읽는다."
   ]
  },
  {
   "cell_type": "markdown",
   "metadata": {},
   "source": [
    "* 특정한 시간대의 트윗 검색하기\n",
    "    * 트위터에서 tweet id를 알아내기\n",
    "        * 단계1: 트위터에 로그인해서 타임라인을 조회\n",
    "        * 단계2: 시간을 누른다.\n",
    "        * 단계3: 브라우저 주소창 끝에 id가 붙어 있다.\n",
    "    * 찾고자 하는 시간대에 해당하는 트윗을 찾아서 tweet id를 찾는다.\n",
    "        * July 1 2016 아침 6시쯤 id는 748862169026928640\n",
    "        * jslmit계정의 메시지 'hello 3:00 pm' -> 10:01 PM - 18 Nov 2014 -> 534949539757555713  -> 'max_id' 이것으로 검색하면 결과가 없슴 (empty list)\n",
    "        * jslmit계정의 메시지 '1:00 pm' -> 8:16 PM - 11 Nov 2014 532386310086881280  -> 'since_id'\n",
    "\n",
    "* 한글만 읽어오려면 'lang'을 한국어로 검색조건에 넣어준다."
   ]
  },
  {
   "cell_type": "code",
   "execution_count": 76,
   "metadata": {
    "collapsed": false
   },
   "outputs": [],
   "source": [
    "import urllib\n",
    "url = \"https://api.twitter.com/1.1/search/tweets.json\"\n",
    "myparam={'q':'seoul','count':200,'max_id':'754295227351871489'}\n",
    "mybody=urllib.urlencode(myparam)\n",
    "response, content = client.request(url+\"?\"+mybody, method=\"GET\")\n",
    "tsearch_json = json.loads(content)"
   ]
  },
  {
   "cell_type": "code",
   "execution_count": 77,
   "metadata": {
    "collapsed": false
   },
   "outputs": [
    {
     "data": {
      "text/plain": [
       "'{\"statuses\":[],\"search_metadata\":{\"completed_in\":0.003,\"max_id\":754295227351871489,\"max_id_str\":\"754295227351871489\",\"query\":\"seoul\",\"refresh_url\":\"?since_id=754295227351871489&q=seoul&include_entities=1\",\"count\":100,\"since_id\":0,\"since_id_str\":\"0\"}}'"
      ]
     },
     "execution_count": 77,
     "metadata": {},
     "output_type": "execute_result"
    }
   ],
   "source": [
    "content"
   ]
  },
  {
   "cell_type": "code",
   "execution_count": 73,
   "metadata": {
    "collapsed": false
   },
   "outputs": [
    {
     "name": "stdout",
     "output_type": "stream",
     "text": [
      "2\n",
      "100\n"
     ]
    }
   ],
   "source": [
    "print len(tsearch_json)\n",
    "print len(tsearch_json['statuses'])"
   ]
  },
  {
   "cell_type": "code",
   "execution_count": 52,
   "metadata": {
    "collapsed": false
   },
   "outputs": [],
   "source": [
    "f=open('_todel.txt','w')\n",
    "for i,tweet in enumerate(tsearch_json['statuses']):\n",
    "    #print str(i),tweet['id'],tweet['user']['name'],tweet['text']\n",
    "    #f.write(json.dumps([str(i),tweet['id'],tweet['user']['name'],tweet['text']]))\n",
    "    f.write(json.dumps([str(i),tweet['id'],tweet['user']['name']]))\n",
    "    f.write(\"\\n\")\n",
    "    #print _t\n",
    "    #f.write(_t)\n",
    "f.close()"
   ]
  },
  {
   "cell_type": "markdown",
   "metadata": {},
   "source": [
    "* Rate limit까지 읽음\n",
    "    * prev_id는 전 id를 저장\n",
    "    * \n",
    "* todo\n",
    "    * rate limit handling?? 알고리즘?\n",
    "    * statuses = [] 읽어온 데이터가 없는 경우\n"
   ]
  },
  {
   "cell_type": "code",
   "execution_count": null,
   "metadata": {
    "collapsed": true
   },
   "outputs": [],
   "source": [
    "import urllib\n",
    "url = \"https://api.twitter.com/1.1/search/tweets.json\""
   ]
  },
  {
   "cell_type": "code",
   "execution_count": 131,
   "metadata": {
    "collapsed": false,
    "scrolled": true
   },
   "outputs": [
    {
     "name": "stdout",
     "output_type": "stream",
     "text": [
      "10\n",
      "754318563918217217\n",
      "10\n",
      "754318402076807170\n",
      "10\n",
      "754318308334182401\n",
      "10\n",
      "754318062388666368\n",
      "10\n",
      "754317934340677632\n",
      "10\n",
      "754317841365557248\n",
      "10\n",
      "754317734310088704\n",
      "10\n",
      "754317625656696836\n",
      "10\n",
      "754317539635703808\n",
      "10\n",
      "754317477769715713\n",
      "10\n",
      "754317364393455618\n",
      "10\n",
      "754317285565861888\n",
      "10\n",
      "754317223339044864\n",
      "10\n",
      "754317167286374400\n",
      "10\n",
      "754317094309605376\n",
      "8\n",
      "754317026215071745\n",
      "10\n",
      "754316918891307009\n",
      "10\n",
      "754316825924603905\n",
      "8\n",
      "754316737424691200\n",
      "10\n",
      "754316619300556800\n"
     ]
    }
   ],
   "source": [
    "prev_id=None\n",
    "f=open('_todel3.txt','a')\n",
    "for i in range(0,20):\n",
    "    myparam={'q':'seoul','count':10,'max_id':prev_id}\n",
    "    mybody=urllib.urlencode(myparam)\n",
    "    response, content = client.request(url+\"?\"+mybody, method=\"GET\")\n",
    "    tsearch_json = json.loads(content)\n",
    "    print len(tsearch_json['statuses'])\n",
    "    for i,tweet in enumerate(tsearch_json['statuses']):\n",
    "        #print str(i),tweet['id'],tweet['user']['name'],tweet['text']\n",
    "        f.write(json.dumps([str(i),tweet['id'],tweet['user']['name']]))\n",
    "        f.write(\"\\n\")\n",
    "    #if data[\"statuses\"] == []:\n",
    "    #    print \"end of data\"\n",
    "    #    break\n",
    "    #else:\n",
    "    prev_id=int(tsearch_json['statuses'][-1]['id'])-1\n",
    "    print prev_id\n",
    "f.close()"
   ]
  },
  {
   "cell_type": "markdown",
   "metadata": {},
   "source": [
    "## T-5: Follower를 가져온다."
   ]
  },
  {
   "cell_type": "code",
   "execution_count": 137,
   "metadata": {
    "collapsed": true
   },
   "outputs": [],
   "source": [
    "import urllib\n",
    "url = \"https://api.twitter.com/1.1/followers/list.json\"\n",
    "\n",
    "response, content = client.request(url, method=\"GET\")\n",
    "tfollower_json = json.loads(content)"
   ]
  },
  {
   "cell_type": "code",
   "execution_count": 138,
   "metadata": {
    "collapsed": false
   },
   "outputs": [
    {
     "name": "stdout",
     "output_type": "stream",
     "text": [
      "5\n",
      "<type 'dict'>\n"
     ]
    }
   ],
   "source": [
    "print len(tfollower_json)\n",
    "print type(tfollower_json)\n"
   ]
  },
  {
   "cell_type": "code",
   "execution_count": 143,
   "metadata": {
    "collapsed": false
   },
   "outputs": [
    {
     "name": "stdout",
     "output_type": "stream",
     "text": [
      "previous_cursor\n",
      "previous_cursor_str\n",
      "next_cursor\n",
      "users\n",
      "next_cursor_str\n"
     ]
    }
   ],
   "source": [
    "for k,v in tfollower_json.iteritems():\n",
    "    print k"
   ]
  },
  {
   "cell_type": "code",
   "execution_count": 150,
   "metadata": {
    "collapsed": false
   },
   "outputs": [
    {
     "name": "stdout",
     "output_type": "stream",
     "text": [
      "follow_request_sent\n",
      "has_extended_profile\n",
      "profile_use_background_image\n",
      "default_profile_image\n",
      "id\n",
      "profile_background_image_url_https\n",
      "verified\n",
      "blocked_by\n",
      "profile_text_color\n",
      "muting\n",
      "profile_image_url_https\n",
      "profile_sidebar_fill_color\n",
      "entities\n",
      "followers_count\n",
      "profile_sidebar_border_color\n",
      "id_str\n",
      "profile_background_color\n",
      "listed_count\n",
      "status\n",
      "is_translation_enabled\n",
      "utc_offset\n",
      "statuses_count\n",
      "description\n",
      "friends_count\n",
      "location\n",
      "profile_link_color\n",
      "profile_image_url\n",
      "following\n",
      "geo_enabled\n",
      "blocking\n",
      "profile_background_image_url\n",
      "screen_name\n",
      "lang\n",
      "profile_background_tile\n",
      "favourites_count\n",
      "name\n",
      "notifications\n",
      "url\n",
      "created_at\n",
      "contributors_enabled\n",
      "time_zone\n",
      "protected\n",
      "default_profile\n",
      "is_translator\n"
     ]
    }
   ],
   "source": [
    "for k,v in tfollower_json['users'][0].iteritems():\n",
    "        print k"
   ]
  },
  {
   "cell_type": "code",
   "execution_count": 151,
   "metadata": {
    "collapsed": false,
    "scrolled": true
   },
   "outputs": [
    {
     "name": "stdout",
     "output_type": "stream",
     "text": [
      "151797293 mycarten\n",
      "3011800740 amyhuh65\n",
      "157562595 Luxemburx\n",
      "343218787 75375652\n",
      "1645118360 jjhcp\n",
      "986237041 DracoSwida\n",
      "168089220 hchae00\n",
      "118962348 htmzzz\n",
      "71177815 sbjin1229\n",
      "88356600 serenoheka\n",
      "192388167 iKKaia8p8\n"
     ]
    }
   ],
   "source": [
    "for i in tfollower_json['users']:\n",
    "    print i['id'],i['screen_name']"
   ]
  },
  {
   "cell_type": "markdown",
   "metadata": {},
   "source": [
    "## T-6: Follower의 timeline을 가져온다."
   ]
  },
  {
   "cell_type": "markdown",
   "metadata": {},
   "source": [
    "### Twitter 라이브러리"
   ]
  },
  {
   "cell_type": "code",
   "execution_count": null,
   "metadata": {
    "collapsed": true
   },
   "outputs": [],
   "source": [
    "print _client.follwers()"
   ]
  },
  {
   "cell_type": "markdown",
   "metadata": {},
   "source": [
    "### OAuth"
   ]
  },
  {
   "cell_type": "markdown",
   "metadata": {},
   "source": [
    "* 위에서 수동으로 첫번쨰 followerd의 user_timeline"
   ]
  }
 ],
 "metadata": {
  "kernelspec": {
   "display_name": "Python 2",
   "language": "python",
   "name": "python2"
  },
  "language_info": {
   "codemirror_mode": {
    "name": "ipython",
    "version": 2
   },
   "file_extension": ".py",
   "mimetype": "text/x-python",
   "name": "python",
   "nbconvert_exporter": "python",
   "pygments_lexer": "ipython2",
   "version": "2.7.12"
  }
 },
 "nbformat": 4,
 "nbformat_minor": 0
}
