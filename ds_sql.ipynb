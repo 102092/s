{
 "cells": [
  {
   "cell_type": "markdown",
   "metadata": {},
   "source": [
    "## 1.2 mongodb\n",
    "\n",
    "* Why nosql - 모델링 schema 없이 (schema free) 문서를 저장.\n",
    "    * Database - mongo는 데이터베이스를 생성하는 명령어가 없다. mongodb는 bson으로 저장\n",
    "    * Collections (RDB table)\n",
    "    * Document (RDB record)\n",
    "\n",
    "RDBMS | MongoDB\n",
    "-------|-------\n",
    "Database | Database\n",
    "Table | Collection\n",
    "Row | Document\n",
    "primary key | primary key (_id를 기본으로 제공)\n",
    "schema | schema free"
   ]
  },
  {
   "cell_type": "markdown",
   "metadata": {},
   "source": [
    "* install\n",
    "    * linux\n",
    "        ```\n",
    "        sudo apt-get install mongodb-org\n",
    "        sudo pip install pymongo\n",
    "        ```\n",
    "    * 윈도우\n",
    "        * 다운로드 32,64비트 선택, msi 설치"
   ]
  },
  {
   "cell_type": "markdown",
   "metadata": {},
   "source": [
    "* config 설정\n",
    "    * 리눅스는 /etc/mongodb.conf\n",
    "    * 윈도우\n",
    "    * 설정은 YAML 또는 init 형식으로 한다.\n",
    "    * 예:\n",
    "        ```\n",
    "        fork = true\n",
    "        bind_ip = 127.0.0.1\n",
    "        port = 27017\n",
    "        quiet = true\n",
    "        dbpath = /var/lib/mongodb\n",
    "        logpath = /var/log/mongodb/mongod.log\n",
    "        logappend = true\n",
    "        journal = true\n",
    "        ```\n",
    "\n",
    "* db 저장 디렉토리 설정변경\n",
    "    * 설정 파일 '/etc/mongodb.conf' 에서 변경할 수 있다. 기본 디렉토리는 '/data/db' 현재 설정은:\n",
    "        ```\n",
    "        dbpath=/var/lib/mongodb\n",
    "        ```\n",
    "        \n",
    "    * cli로 변경\n",
    "        ```\n",
    "        mongod --dbpath\n",
    "        ```"
   ]
  },
  {
   "cell_type": "markdown",
   "metadata": {},
   "source": [
    "* 실행\n",
    "    * linux\n",
    "        * cli (config파일, db경로 설정해서)\n",
    "            ```\n",
    "            mongod --config ./mongodb.conf --dbpath ./data --port 27017\n",
    "\n",
    "\n",
    "            ```\n",
    "        * daemon\n",
    "            ```\n",
    "            sudo service mongodb start\n",
    "            sudo service mongodb stop\n",
    "            ```\n",
    " \n",
    "    * 윈도우에서 실행은 경로설정을 한 후에 한다.\n",
    "        * 제어판에서 하는 것이 편함\n",
    "            ```\n",
    "            setx mongodb \"C:\\Program Files\\MongdDB\\Server\\3.2\"\n",
    "            setx path \"%path%\";\"%mongodb%\\bin\"\n",
    "            mongod\n",
    "            ```\n",
    "        * 32비트 설치 후 실행하는 경우, storageEngine오류 발생. 오류메시지 읽어보고 따라 함.\n",
    "            ```\n",
    "            mongod --storageEngine=mmapv1 --dbpath [your-path]\n",
    "            ```\n",
    "    * 문제가 있으면 위 명령문에 --repair 붙여서 한 후, --repair 빼고 다시 실행"
   ]
  },
  {
   "cell_type": "markdown",
   "metadata": {},
   "source": [
    "### 1.2.1 mongo shell\n",
    "\n",
    "* mongo cli\n",
    "    ```\n",
    "    mongo -u new_user -p new_password new_database\n",
    "    ```\n",
    "\n",
    "* mongofiles cli\n",
    "    ```\n",
    "    mongofiles list\n",
    "    ```\n",
    "\n",
    "* help는 --help\n",
    "\n",
    "* sample cli\n",
    "    ```\n",
    "    $ mongo\n",
    "    > show dbs\n",
    "    > use test\n",
    "    > db.createCollection(\"myCollection\")\n",
    "    > show collections\n",
    "    > db.getCollectionNames() or show collections or show tables\n",
    "    > db.dropDatabase()\n",
    "    > db.help()\n",
    "    ```\n"
   ]
  },
  {
   "cell_type": "markdown",
   "metadata": {},
   "source": [
    "* cli 명령어\n",
    "\n",
    "\n",
    "구분 | 예 | 설명\n",
    "-------|-------\n",
    "db create | > use DB_NAME | use mydb\n",
    "db insert | > db.mydb.insert( {\"name\":\"js\"} ) | 데이터 입력\n",
    "drop db | > use mydb <br> > db.dropDatabase() | mydb를 삭제함\n",
    "create Collection | > db.createCOllection(\"mycollection\") | mycollection을 생성\n",
    "drop collection | db.mycollection.drop() | mycollection을 삭제\n",
    "insert into collection | db.mycollection.insert( {\"name\":\"js\"} ) | 데이터 입력\n",
    "read | db.mycollection.find() | 데이터 검색 limit(), sort()\n",
    "read | db.mycol.find({\"likes\":{$lt:50}}) | 조건 검색 (less than)\n",
    "update | db.mycol.update( {'name':'js 1'} ) | 갱신\n",
    "remove | db.mycol.remove() | 삭제 1건\n",
    "remove | db.mycol.remove( {'name':'js' } ) | 조건 삭제\n",
    "\n",
    "\n",
    "* admin\n",
    "\n",
    "예 | 설명\n",
    "-------|-------\n",
    "show dbs | show dbs show db list\n",
    "show collections | show collection list\n"
   ]
  },
  {
   "cell_type": "markdown",
   "metadata": {},
   "source": [
    "* mongod는 쉘 (mongod는 mongo daemon)"
   ]
  },
  {
   "cell_type": "code",
   "execution_count": null,
   "metadata": {
    "collapsed": false,
    "scrolled": true
   },
   "outputs": [
    {
     "name": "stdout",
     "output_type": "stream",
     "text": [
      "MongoDB shell version: 2.6.10\r\n",
      "connecting to: test\r\n",
      "> "
     ]
    }
   ],
   "source": [
    "!mongo"
   ]
  },
  {
   "cell_type": "code",
   "execution_count": 5,
   "metadata": {
    "collapsed": false
   },
   "outputs": [
    {
     "name": "stdout",
     "output_type": "stream",
     "text": [
      "Overwriting src/ds_sql_mongo_test.js\n"
     ]
    }
   ],
   "source": [
    "%%writefile src/ds_sql_mongo_test.js\n",
    "db.test.save({x:1})\n",
    "db.test.find()\n",
    "db.stats()"
   ]
  },
  {
   "cell_type": "code",
   "execution_count": 6,
   "metadata": {
    "collapsed": false
   },
   "outputs": [
    {
     "name": "stdout",
     "output_type": "stream",
     "text": [
      "MongoDB shell version: 2.6.10\r\n",
      "connecting to: test\r\n",
      "WriteResult({ \"nInserted\" : 1 })\r\n",
      "{ \"_id\" : ObjectId(\"581121af5010767f01441c77\"), \"a\" : 1 }\r\n",
      "{ \"_id\" : ObjectId(\"581122e4e994a927d3601173\"), \"a\" : 1 }\r\n",
      "{ \"_id\" : ObjectId(\"581122f5136ebba424709b37\"), \"x\" : 1 }\r\n",
      "{ \"_id\" : ObjectId(\"5811232186d1fbf960da31b9\"), \"x\" : 1 }\r\n",
      "{\r\n",
      "\t\"db\" : \"test\",\r\n",
      "\t\"collections\" : 5,\r\n",
      "\t\"objects\" : 18,\r\n",
      "\t\"avgObjSize\" : 65.77777777777777,\r\n",
      "\t\"dataSize\" : 1184,\r\n",
      "\t\"storageSize\" : 40960,\r\n",
      "\t\"numExtents\" : 5,\r\n",
      "\t\"indexes\" : 5,\r\n",
      "\t\"indexSize\" : 40880,\r\n",
      "\t\"fileSize\" : 67108864,\r\n",
      "\t\"nsSizeMB\" : 16,\r\n",
      "\t\"dataFileVersion\" : {\r\n",
      "\t\t\"major\" : 4,\r\n",
      "\t\t\"minor\" : 5\r\n",
      "\t},\r\n",
      "\t\"extentFreeList\" : {\r\n",
      "\t\t\"num\" : 0,\r\n",
      "\t\t\"totalSize\" : 0\r\n",
      "\t},\r\n",
      "\t\"ok\" : 1\r\n",
      "}\r\n",
      "bye\r\n"
     ]
    }
   ],
   "source": [
    "!mongo < src/ds_sql_mongo_test.js"
   ]
  },
  {
   "cell_type": "markdown",
   "metadata": {},
   "source": [
    "## 문제 mongo shell\n",
    "\n",
    "* javascript 파일을 저장하고 실행한다."
   ]
  },
  {
   "cell_type": "code",
   "execution_count": 7,
   "metadata": {
    "collapsed": false
   },
   "outputs": [
    {
     "name": "stdout",
     "output_type": "stream",
     "text": [
      "Writing src/ds_sql_mongo_cli.js\n"
     ]
    }
   ],
   "source": [
    "%%writefile src/ds_sql_mongo_cli.js\n",
    "db\n",
    "use Employees\n",
    "show tables\n",
    "db.mytable.find({ \"id\": 1 })"
   ]
  },
  {
   "cell_type": "code",
   "execution_count": 9,
   "metadata": {
    "collapsed": false
   },
   "outputs": [
    {
     "name": "stdout",
     "output_type": "stream",
     "text": [
      "MongoDB shell version: 2.6.10\r\n",
      "connecting to: test\r\n",
      "test\r\n",
      "switched to db Employees\r\n",
      "mytable\r\n",
      "system.indexes\r\n",
      "{ \"_id\" : ObjectId(\"57be858bf5e6e917172543b8\"), \"country\" : \"ko\", \"age\" : 11, \"id\" : 1, \"name\" : \"js\" }\r\n",
      "bye\r\n"
     ]
    }
   ],
   "source": [
    "!mongo < src/ds_sql_mongo_cli.js"
   ]
  },
  {
   "cell_type": "markdown",
   "metadata": {},
   "source": [
    "### 1.2.2. pymongo\n",
    "\n",
    "* 설치\n",
    "    * 리눅스 pip install pymongo\n",
    "    * 윈도우\n",
    "        ```\n",
    "        conda install pymongo\n",
    "        ```\n",
    "* 실행\n",
    "    * mongod가 백그라운드에서 실행되고 있어야 한다 (대기 상태 실행)\n",
    "    * 아래 문제와 같이 pymongo 세션을 시작하면, 백그라운드 mongod가 \"connection accpeted from localhost...\"\n",
    "    * connection은 close할 수 있다."
   ]
  },
  {
   "cell_type": "markdown",
   "metadata": {},
   "source": [
    "## 문제 mongo crud in python\n",
    "\n",
    "* Employees 데이터베이스를 생성하고, 그 안에 mytable을 생성한다.\n"
   ]
  },
  {
   "cell_type": "code",
   "execution_count": 2,
   "metadata": {
    "collapsed": false
   },
   "outputs": [],
   "source": [
    "import pymongo"
   ]
  },
  {
   "cell_type": "code",
   "execution_count": 21,
   "metadata": {
    "collapsed": true
   },
   "outputs": [],
   "source": [
    "from pymongo import MongoClient\n",
    "client = MongoClient('localhost:27017')\n",
    "db=client.Employees"
   ]
  },
  {
   "cell_type": "markdown",
   "metadata": {
    "collapsed": true
   },
   "source": [
    "* insert"
   ]
  },
  {
   "cell_type": "code",
   "execution_count": 18,
   "metadata": {
    "collapsed": true
   },
   "outputs": [],
   "source": [
    "_id=1\n",
    "_name='js'\n",
    "_age=11\n",
    "_country='ko'"
   ]
  },
  {
   "cell_type": "code",
   "execution_count": 22,
   "metadata": {
    "collapsed": false
   },
   "outputs": [
    {
     "data": {
      "text/plain": [
       "ObjectId('57be858bf5e6e917172543b8')"
      ]
     },
     "execution_count": 22,
     "metadata": {},
     "output_type": "execute_result"
    }
   ],
   "source": [
    "db.mytable.insert({\n",
    "    \"id\": _id,\n",
    "    \"name\": _name,\n",
    "    \"age\": _age,\n",
    "    \"country\": _country\n",
    "})"
   ]
  },
  {
   "cell_type": "code",
   "execution_count": 5,
   "metadata": {
    "collapsed": false,
    "scrolled": true
   },
   "outputs": [
    {
     "data": {
      "text/plain": [
       "<pymongo.results.InsertOneResult at 0x7f6992ef7be0>"
      ]
     },
     "execution_count": 5,
     "metadata": {},
     "output_type": "execute_result"
    }
   ],
   "source": [
    "db.Employees.insert_one(\n",
    "        {\n",
    "        \"id\": _id,\n",
    "        \"name\": _name,\n",
    "        \"age\": _age,\n",
    "        \"country\": _country\n",
    "        })"
   ]
  },
  {
   "cell_type": "markdown",
   "metadata": {
    "collapsed": true
   },
   "source": [
    "* read"
   ]
  },
  {
   "cell_type": "code",
   "execution_count": 6,
   "metadata": {
    "collapsed": false
   },
   "outputs": [
    {
     "name": "stdout",
     "output_type": "stream",
     "text": [
      "{u'country': u'kor', u'age': 11, u'_id': ObjectId('57b6ed92f5e6e95aafa8bfcc'), u'id': 1, u'name': u'jsl'}\n"
     ]
    }
   ],
   "source": [
    "empCol = db.Employees.find()\n",
    "for emp in empCol:\n",
    "        print emp"
   ]
  },
  {
   "cell_type": "markdown",
   "metadata": {
    "collapsed": true
   },
   "source": [
    "* update"
   ]
  },
  {
   "cell_type": "code",
   "execution_count": 7,
   "metadata": {
    "collapsed": false
   },
   "outputs": [
    {
     "data": {
      "text/plain": [
       "<pymongo.results.UpdateResult at 0x7f6992ef7b40>"
      ]
     },
     "execution_count": 7,
     "metadata": {},
     "output_type": "execute_result"
    }
   ],
   "source": [
    "_name='jslim'\n",
    "_age=123\n",
    "db.Employees.update_one(\n",
    "        {\"id\": _id},\n",
    "        {\n",
    "        \"$set\": {\n",
    "            \"name\":_name,\n",
    "            \"age\":_age,\n",
    "        }\n",
    "        }\n",
    "    )"
   ]
  },
  {
   "cell_type": "code",
   "execution_count": 8,
   "metadata": {
    "collapsed": false
   },
   "outputs": [
    {
     "name": "stdout",
     "output_type": "stream",
     "text": [
      "{u'country': u'kor', u'age': 123, u'_id': ObjectId('57b6ed92f5e6e95aafa8bfcc'), u'id': 1, u'name': u'jslim'}\n"
     ]
    }
   ],
   "source": [
    "empCol = db.Employees.find()\n",
    "for emp in empCol:\n",
    "        print emp"
   ]
  },
  {
   "cell_type": "markdown",
   "metadata": {
    "collapsed": true
   },
   "source": [
    "* delete"
   ]
  },
  {
   "cell_type": "code",
   "execution_count": null,
   "metadata": {
    "collapsed": true
   },
   "outputs": [],
   "source": [
    "db.Employees.delete_many({\"id\":criteria})"
   ]
  }
 ],
 "metadata": {
  "kernelspec": {
   "display_name": "Python 2",
   "language": "python",
   "name": "python2"
  },
  "language_info": {
   "codemirror_mode": {
    "name": "ipython",
    "version": 2
   },
   "file_extension": ".py",
   "mimetype": "text/x-python",
   "name": "python",
   "nbconvert_exporter": "python",
   "pygments_lexer": "ipython2",
   "version": "2.7.12"
  }
 },
 "nbformat": 4,
 "nbformat_minor": 0
}
