{
 "cells": [
  {
   "cell_type": "markdown",
   "metadata": {},
   "source": [
    "# 웹데이터\n",
    "\n",
    "* Last updated: 20161004 20170311\n",
    "* 문제3, 연습2,3,4 미완성 (한글 https://wiki.python.org/moin/PrintFails)\n",
    "\n",
    "## 1.1 학습내용\n",
    "\n",
    "### 1.1.1 목표\n",
    "\n",
    "* 웹데이터를 크롤링해서 가져올 수 있다.\n",
    "* 가져온 웹데이터를 정리하여 (parsing) 분석가능한 형식으로 만들 수 있다.\n",
    "* xpath, css.selector 사용하여 데이터를 추출할 수 있다.\n",
    "\n",
    "### 1.1.2 목차\n",
    "\n",
    "* 1.2 웹으로 나가기\n",
    "* 1.2.1  웹데이터란? \n",
    "* 1.2.2 웹 데이터 가져오기\n",
    "* 1.3 uri \n",
    "* 1.3.1 uri \n",
    "* 1.3.2 params\n",
    "* 1.4 url 가져오기\n",
    "* 1.4.1 HTTP Request(s)\n",
    "* 1.4.2 HTTP Response(s)\n",
    "* 1.4.3 library\n",
    "* 1.5 Parsing\n",
    "* 1.5.1 javascript console\n",
    "* 1.5.2 dom\n",
    "* 1.5.3 BeautifulSoup\n",
    "* 1.5.4 regex\n",
    "* 1.5.5 xpath\n",
    "* 1.5.6 css selectors\n",
    "\n",
    "### 1.1.3 문제\n",
    "\n",
    "* 웹데이터-1: python.org 페이지를 크롤링해서 http url를 출력하기\n",
    "    * regex\n",
    "    * BeautifulSoup\n",
    "    * xpath\n",
    "    * css selector\n",
    "* 웹데이터-2: 웹파일 가져와서 자료구조에 넣기\n",
    "    * uci 기계학습데이터\n",
    "* 웹데이터-3: wiki에서 'python'으로 검색해서 http url출력하기\n",
    "    * REST get query\n",
    "    * 구글에서 검색하기\n",
    "    * 위키에서 검색하기\n",
    "    * 위키에서 css selector\n",
    "* * 웹데이터-4: 한국 포털사이트에서 노래 제목을 검색\n",
    "    * 검색 scraping - ?key=value&...\n",
    "    * regex\n",
    "    * lxml css selector - 노래제목, 아티스트, 앨범 출력\n",
    "* 웹데이터-5: 국제학회 목록을 크롤링하기\n",
    "    * lxml css.selector\n",
    "* 웹데이터-6: 프로야구 기록 scraping\n",
    "    * kbreport.com\n",
    "    * 단순 문자열 검색\n",
    "\n",
    "### 1.1.4 연습\n",
    "\n",
    "* 연습 웹데이터-1: 기상청 도별 날씨 가져오기기\n",
    "* 연습 웹데이터-2: 신문 크롤링 해보기\n",
    "* 연습 웹데이터-3: 영화\n"
   ]
  },
  {
   "cell_type": "markdown",
   "metadata": {},
   "source": [
    "## 1.2 웹으로 나가기\n",
    "\n",
    "### 1.2.1  웹데이터란?\n",
    "\n",
    "* 웹은 클라이언트와 서버로 구성된다.\n",
    "    * 웹클라이언트\n",
    "        * 웹클라이언트는 보통 웹브라우저를 말한다. Chrome, Internet Explorer, Firefox\n",
    "        * 웹서버에서 html을 전송하면, 이를 받아서 브라우저에 보여준다.\n",
    "    * 웹서버\n",
    "        * 웹서버는 보통 http 서버를 말한다. Microsoft's IIS, Apache server\n",
    "        * 웹서버는 보통 원격에 위치하며, http 통신을 하기 위해 설치된 소프트웨어를 말한다.\n",
    "\n",
    "* 웹데이터는 웹 사이트에서 추출된 정보를 말한다.\n",
    "    * 웹데이터는 웹 사이트에서 http통신으로 교환되는 데이터를 말한다.\n",
    "    * 웹데이터를 추출하는 것을 마이닝, 스크레이핑, 크롤링이라고 한다.\n",
    "    * 서버가 반환하는 웹데이터는 보통 html, xml, json 형식을 가진다.\n",
    "\n",
    "* http\n",
    "    * http (HpyerText Transfer Protocol)는 웹프로토콜, 서로 데이터를 주고 받는 약속이다.\n",
    "    * socket 80번 포트를 사용한다.\n",
    "    * request(s)로 요청하고, response(s)를 반환한다."
   ]
  },
  {
   "cell_type": "code",
   "execution_count": 1,
   "metadata": {
    "collapsed": true
   },
   "outputs": [],
   "source": [
    "import iplantuml"
   ]
  },
  {
   "cell_type": "code",
   "execution_count": 4,
   "metadata": {
    "collapsed": false,
    "scrolled": true
   },
   "outputs": [
    {
     "data": {
      "image/svg+xml": [
       "<svg height=\"124px\" style=\"width:221px;height:124px;\" version=\"1.1\" viewBox=\"0 0 221 124\" width=\"221px\" xmlns=\"http://www.w3.org/2000/svg\" xmlns:xlink=\"http://www.w3.org/1999/xlink\"><defs><filter height=\"300%\" id=\"f1\" width=\"300%\" x=\"-1\" y=\"-1\"><feGaussianBlur result=\"blurOut\" stdDeviation=\"2.0\"/><feColorMatrix in=\"blurOut\" result=\"blurOut2\" type=\"matrix\" values=\"0 0 0 0 0 0 0 0 0 0 0 0 0 0 0 0 0 0 .4 0\"/><feOffset dx=\"4.0\" dy=\"4.0\" in=\"blurOut2\" result=\"blurOut3\"/><feBlend in=\"SourceGraphic\" in2=\"blurOut3\" mode=\"normal\"/></filter></defs><g><line style=\"stroke: #A80036; stroke-width: 1.0; stroke-dasharray: 5.0,5.0;\" x1=\"61\" x2=\"61\" y1=\"38.2969\" y2=\"86.2969\"/><line style=\"stroke: #A80036; stroke-width: 1.0; stroke-dasharray: 5.0,5.0;\" x1=\"170\" x2=\"170\" y1=\"38.2969\" y2=\"86.2969\"/><rect fill=\"#FEFECE\" filter=\"url(#f1)\" height=\"30.2969\" style=\"stroke: #A80036; stroke-width: 1.5;\" width=\"103\" x=\"8\" y=\"3\"/><text fill=\"#000000\" font-family=\"sans-serif\" font-size=\"14\" lengthAdjust=\"spacingAndGlyphs\" textLength=\"89\" x=\"15\" y=\"22.9951\">web browser</text><rect fill=\"#FEFECE\" filter=\"url(#f1)\" height=\"30.2969\" style=\"stroke: #A80036; stroke-width: 1.5;\" width=\"103\" x=\"8\" y=\"85.2969\"/><text fill=\"#000000\" font-family=\"sans-serif\" font-size=\"14\" lengthAdjust=\"spacingAndGlyphs\" textLength=\"89\" x=\"15\" y=\"105.292\">web browser</text><rect fill=\"#FEFECE\" filter=\"url(#f1)\" height=\"30.2969\" style=\"stroke: #A80036; stroke-width: 1.5;\" width=\"87\" x=\"125\" y=\"3\"/><text fill=\"#000000\" font-family=\"sans-serif\" font-size=\"14\" lengthAdjust=\"spacingAndGlyphs\" textLength=\"73\" x=\"132\" y=\"22.9951\">webServer</text><rect fill=\"#FEFECE\" filter=\"url(#f1)\" height=\"30.2969\" style=\"stroke: #A80036; stroke-width: 1.5;\" width=\"87\" x=\"125\" y=\"85.2969\"/><text fill=\"#000000\" font-family=\"sans-serif\" font-size=\"14\" lengthAdjust=\"spacingAndGlyphs\" textLength=\"73\" x=\"132\" y=\"105.292\">webServer</text><polygon fill=\"#A80036\" points=\"158.5,50.2969,168.5,54.2969,158.5,58.2969,162.5,54.2969\" style=\"stroke: #A80036; stroke-width: 1.0;\"/><line style=\"stroke: #A80036; stroke-width: 1.0;\" x1=\"61.5\" x2=\"164.5\" y1=\"54.2969\" y2=\"54.2969\"/><polygon fill=\"#A80036\" points=\"72.5,64.2969,62.5,68.2969,72.5,72.2969,68.5,68.2969\" style=\"stroke: #A80036; stroke-width: 1.0;\"/><line style=\"stroke: #A80036; stroke-width: 1.0;\" x1=\"66.5\" x2=\"169.5\" y1=\"68.2969\" y2=\"68.2969\"/></g></svg>"
      ],
      "text/plain": [
       "<IPython.core.display.SVG object>"
      ]
     },
     "execution_count": 4,
     "metadata": {},
     "output_type": "execute_result"
    }
   ],
   "source": [
    "%%plantuml\n",
    "\n",
    "@startuml\n",
    "\"web browser\" -> webServer\n",
    "webServer -> \"web browser\"\n",
    "@enduml"
   ]
  },
  {
   "cell_type": "markdown",
   "metadata": {},
   "source": [
    "###  1.2.2 웹 데이터 가져오기\n",
    "\n",
    "* 웹데이터를 가져오는 것을 'crawling'이라고 하며, 프로그램을 통해 자동화할 수 있다.\n",
    "* 웹클라이언트에서 웹페이지를 여는 경우:\n",
    "    * 자신의 컴퓨터에서(클라이언트) 웹브라우저를 열어서 주소창에 웹주소를 입력\n",
    "    * 네트워크를 통해 서버에 요청(Requests)하고, 웹페이지를 반환(Responses)\n",
    "    * 반환된 페이지는 html이라서, 사람이 그대로 읽기가 불편\n",
    "    * 웹브라우저를 사용하면 html을 보기 좋게 보여준다 (html을 태그를 스타일에 따라 브라우저에 표현한다).\n",
    "\n",
    "* 웹페이지에서 필요한 정보를 추출하는 과정을 프로그램으로 만들 수 있다.\n",
    "    * 가져오는 방식을 크게 나누면:\n",
    "        * web scraping - 자동, api아닌 방식 (api가 없는 경우 사용)\n",
    "        * api - 자동 (xml, json으로 반환)\n",
    "    * 절차\n",
    "\n",
    "단계 | 설명\n",
    "-------|-------\n",
    "url | 데이터 가져올 도메인\n",
    "웹사이트에 요청(request) | Method, URI, header\n",
    "웹사이트 결과(response) 가져오기 | version, response code, body\n",
    "데이터항목 추출 | response에서 결과 처리 (parser), \n",
    "저장 | xml, json, csv, nosql\n",
    "반복하기 | 다음 response는 어떻게 가져오나\n",
    "\n",
    "* 데이터를 추출하고 나면, 정리-분석-시각화 절차가 필요하다.\n",
    "* 데이터의 법적인 문제 - crawl데이터의 저작권법"
   ]
  },
  {
   "cell_type": "code",
   "execution_count": 3,
   "metadata": {
    "collapsed": false
   },
   "outputs": [
    {
     "data": {
      "image/svg+xml": [
       "<svg height=\"154px\" style=\"width:265px;height:154px;\" version=\"1.1\" viewBox=\"0 0 265 154\" width=\"265px\" xmlns=\"http://www.w3.org/2000/svg\" xmlns:xlink=\"http://www.w3.org/1999/xlink\"><defs><filter height=\"300%\" id=\"f1\" width=\"300%\" x=\"-1\" y=\"-1\"><feGaussianBlur result=\"blurOut\" stdDeviation=\"2.0\"/><feColorMatrix in=\"blurOut\" result=\"blurOut2\" type=\"matrix\" values=\"0 0 0 0 0 0 0 0 0 0 0 0 0 0 0 0 0 0 .4 0\"/><feOffset dx=\"4.0\" dy=\"4.0\" in=\"blurOut2\" result=\"blurOut3\"/><feBlend in=\"SourceGraphic\" in2=\"blurOut3\" mode=\"normal\"/></filter></defs><g><line style=\"stroke: #A80036; stroke-width: 1.0; stroke-dasharray: 5.0,5.0;\" x1=\"45\" x2=\"45\" y1=\"38.2969\" y2=\"116.5625\"/><line style=\"stroke: #A80036; stroke-width: 1.0; stroke-dasharray: 5.0,5.0;\" x1=\"214.5\" x2=\"214.5\" y1=\"38.2969\" y2=\"116.5625\"/><rect fill=\"#FEFECE\" filter=\"url(#f1)\" height=\"30.2969\" style=\"stroke: #A80036; stroke-width: 1.5;\" width=\"70\" x=\"8\" y=\"3\"/><text fill=\"#000000\" font-family=\"sans-serif\" font-size=\"14\" lengthAdjust=\"spacingAndGlyphs\" textLength=\"56\" x=\"15\" y=\"22.9951\">browser</text><rect fill=\"#FEFECE\" filter=\"url(#f1)\" height=\"30.2969\" style=\"stroke: #A80036; stroke-width: 1.5;\" width=\"70\" x=\"8\" y=\"115.5625\"/><text fill=\"#000000\" font-family=\"sans-serif\" font-size=\"14\" lengthAdjust=\"spacingAndGlyphs\" textLength=\"56\" x=\"15\" y=\"135.5576\">browser</text><rect fill=\"#FEFECE\" filter=\"url(#f1)\" height=\"30.2969\" style=\"stroke: #A80036; stroke-width: 1.5;\" width=\"87\" x=\"169.5\" y=\"3\"/><text fill=\"#000000\" font-family=\"sans-serif\" font-size=\"14\" lengthAdjust=\"spacingAndGlyphs\" textLength=\"73\" x=\"176.5\" y=\"22.9951\">webServer</text><rect fill=\"#FEFECE\" filter=\"url(#f1)\" height=\"30.2969\" style=\"stroke: #A80036; stroke-width: 1.5;\" width=\"87\" x=\"169.5\" y=\"115.5625\"/><text fill=\"#000000\" font-family=\"sans-serif\" font-size=\"14\" lengthAdjust=\"spacingAndGlyphs\" textLength=\"73\" x=\"176.5\" y=\"135.5576\">webServer</text><polygon fill=\"#A80036\" points=\"203,65.2969,213,69.2969,203,73.2969,207,69.2969\" style=\"stroke: #A80036; stroke-width: 1.0;\"/><line style=\"stroke: #A80036; stroke-width: 1.0;\" x1=\"45\" x2=\"209\" y1=\"69.2969\" y2=\"69.2969\"/><text fill=\"#000000\" font-family=\"sans-serif\" font-size=\"13\" lengthAdjust=\"spacingAndGlyphs\" textLength=\"79\" x=\"52\" y=\"64.3638\">request (url)</text><polygon fill=\"#A80036\" points=\"56,94.4297,46,98.4297,56,102.4297,52,98.4297\" style=\"stroke: #A80036; stroke-width: 1.0;\"/><line style=\"stroke: #A80036; stroke-width: 1.0;\" x1=\"50\" x2=\"214\" y1=\"98.4297\" y2=\"98.4297\"/><text fill=\"#000000\" font-family=\"sans-serif\" font-size=\"13\" lengthAdjust=\"spacingAndGlyphs\" textLength=\"146\" x=\"62\" y=\"93.4966\">response (a web page)</text></g></svg>"
      ],
      "text/plain": [
       "<IPython.core.display.SVG object>"
      ]
     },
     "execution_count": 3,
     "metadata": {},
     "output_type": "execute_result"
    }
   ],
   "source": [
    "%%plantuml\n",
    "@startuml\n",
    "browser -> webServer:request (url)\n",
    "webServer -> browser:response (a web page)\n",
    "@enduml"
   ]
  },
  {
   "cell_type": "markdown",
   "metadata": {},
   "source": [
    "## 1.3 uri\n",
    "\n",
    "### 1.3.1 domain\n",
    "\n",
    "* URI Uniform Resource Identifier 특정자원을 지칭하는 고유명사\n",
    "* 형식\n",
    "    * \n",
    "    ```\n",
    "    scheme:[//[user:password@]host[:port]][/]path[?query][#fragment]\n",
    "    ```\n",
    "    * 로컬 html 파일보기 (file://host/path/to/html)\n",
    "        * 위 URI 형식을 지켜서 페이지를 열어야 한다.\n",
    "        * 한글은 meta charset을 utf-8로 지정한다.\n",
    "    * 웹페이지 열어보기\n",
    "\n",
    "* URI 가운데 가장 많이 쓰이는 것이 인터넷주소 url (Uniform Resource Locator)\n",
    "    * scheme에 http를 적는다. 예: http://www.smu.ac.kr\n",
    "    * 도메인 네임\n",
    "        * 영어로 된 도메인네임은 사람이, 컴퓨터는 숫자로 된 ip 주소\n",
    "        * DNS에서 ip주소로 변환한다.\n",
    "    * 도메인에서 해야 할 일은 뒤에 params에서 설명\n"
   ]
  },
  {
   "cell_type": "markdown",
   "metadata": {},
   "source": [
    "* local html"
   ]
  },
  {
   "cell_type": "code",
   "execution_count": 1,
   "metadata": {
    "collapsed": false
   },
   "outputs": [
    {
     "name": "stdout",
     "output_type": "stream",
     "text": [
      "Writing src/mypage1.html\n"
     ]
    }
   ],
   "source": [
    "%%writefile src/mypage1.html\n",
    "<!DOCTYPE html>\n",
    "<html>\n",
    "<head>\n",
    "<title>My Home Page</title>\n",
    "</head>\n",
    "<body>\n",
    "<h1>안녕하십니까</h1>\n",
    "<p>오늘은 프로그래밍 하는 날...</p>\n",
    "<p>Today we do programming...</p>\n",
    "</body>\n",
    "</html>"
   ]
  },
  {
   "cell_type": "markdown",
   "metadata": {},
   "source": [
    "* 로컬에 저장된 파일을 읽어오는 uri를 구성한다.\n",
    "* 웹브라우저에서 파일을 열려면 시간이 좀 걸린다 (몇 초 정도)"
   ]
  },
  {
   "cell_type": "code",
   "execution_count": 1,
   "metadata": {
    "collapsed": false
   },
   "outputs": [
    {
     "data": {
      "text/plain": [
       "True"
      ]
     },
     "execution_count": 1,
     "metadata": {},
     "output_type": "execute_result"
    }
   ],
   "source": [
    "import webbrowser\n",
    "import os\n",
    "\n",
    "myuri='file://'+'localhost'+os.path.join(os.getcwd(), 'src/mypage1.html')\n",
    "webbrowser.open(myuri)\n",
    "# uri형식을 지키지 않으면 안된다.\n",
    "# webbrowser.open('mypage.html')"
   ]
  },
  {
   "cell_type": "markdown",
   "metadata": {},
   "source": [
    "* 한글은 meta charset을 정의해 준다."
   ]
  },
  {
   "cell_type": "code",
   "execution_count": 2,
   "metadata": {
    "collapsed": false
   },
   "outputs": [
    {
     "name": "stdout",
     "output_type": "stream",
     "text": [
      "Overwriting src/mypage1.html\n"
     ]
    }
   ],
   "source": [
    "%%writefile src/mypage1.html\n",
    "<!DOCTYPE html>\n",
    "<html>\n",
    "<head>\n",
    "<meta charset=\"UTF-8\">\n",
    "<title>My Home Page</title>\n",
    "</head>\n",
    "<body>\n",
    "<h1>안녕하십니까</h1>\n",
    "<p>오늘은 프로그래밍 하는 날...</p>\n",
    "<p>Today we do programming...</p>\n",
    "\n",
    "</body>\n",
    "</html>"
   ]
  },
  {
   "cell_type": "code",
   "execution_count": 4,
   "metadata": {
    "collapsed": false
   },
   "outputs": [
    {
     "data": {
      "text/plain": [
       "True"
      ]
     },
     "execution_count": 4,
     "metadata": {},
     "output_type": "execute_result"
    }
   ],
   "source": [
    "webbrowser.open(myuri)"
   ]
  },
  {
   "cell_type": "markdown",
   "metadata": {},
   "source": [
    "* ipython notebook에서 html을 표현한다."
   ]
  },
  {
   "cell_type": "code",
   "execution_count": 2,
   "metadata": {
    "collapsed": false
   },
   "outputs": [
    {
     "data": {
      "text/html": [
       "<!DOCTYPE html>\n",
       "<html>\n",
       "<head>\n",
       "<title>My Home Page</title>\n",
       "</head>\n",
       "<body>\n",
       "<h1>안녕하십니까</h1>\n",
       "<p>오늘은 프로그래밍 하는 날...</p>\n",
       "<p>Today we do programming...</p>\n",
       "</body>\n",
       "</html>"
      ],
      "text/plain": [
       "<IPython.core.display.HTML object>"
      ]
     },
     "metadata": {},
     "output_type": "display_data"
    }
   ],
   "source": [
    "%%HTML\n",
    "<!DOCTYPE html>\n",
    "<html>\n",
    "<head>\n",
    "<title>My Home Page</title>\n",
    "</head>\n",
    "<body>\n",
    "<h1>안녕하십니까</h1>\n",
    "<p>오늘은 프로그래밍 하는 날...</p>\n",
    "<p>Today we do programming...</p>\n",
    "</body>\n",
    "</html>"
   ]
  },
  {
   "cell_type": "markdown",
   "metadata": {},
   "source": [
    "* 원격 url\n",
    "\n"
   ]
  },
  {
   "cell_type": "code",
   "execution_count": 32,
   "metadata": {
    "collapsed": false
   },
   "outputs": [
    {
     "data": {
      "text/plain": [
       "True"
      ]
     },
     "execution_count": 32,
     "metadata": {},
     "output_type": "execute_result"
    }
   ],
   "source": [
    "#브라우저에서 지도 열기\n",
    "import webbrowser\n",
    "myurl='https://www.google.co.kr/maps/place/Hongji-dong,+Jongno-gu,+Seoul/'\n",
    "webbrowser.open(myurl)"
   ]
  },
  {
   "cell_type": "markdown",
   "metadata": {
    "collapsed": true
   },
   "source": [
    "### 1.3.2 params\n",
    "\n",
    "* query string은 다음과 같이 구성한다.\n",
    "    ```\n",
    "    http://example.com/over/there?name=ferret\n",
    "    ```\n",
    "* web form을 사용할 경우 query string\n",
    "    * field와 값을 한 쌍으로 구성, field=value\n",
    "    * 구분자는 & (또는 세미콜론 ;)\n",
    "    ```\n",
    "    field1=value1&field2=value2&field3=value3...\n",
    "    ```\n",
    "\n",
    "* 위 지도를 열 경우와 같이, 검색어를 '+'로 붙여 쓰기도 한다."
   ]
  },
  {
   "cell_type": "code",
   "execution_count": 9,
   "metadata": {
    "collapsed": false
   },
   "outputs": [
    {
     "name": "stdout",
     "output_type": "stream",
     "text": [
      "a=4&c=2016&b=20&e=30&d=6&f=2016&s=%5EKS11\n"
     ]
    }
   ],
   "source": [
    "import urllib\n",
    "params = urllib.urlencode({\"a\": 4, \"b\": 20, \"c\": 2016, \"d\": 6, \"e\": 30, \"f\": 2016, \"s\": \"^KS11\"})\n",
    "print params"
   ]
  },
  {
   "cell_type": "markdown",
   "metadata": {},
   "source": [
    "* 구글 검색에서의 param\n",
    "    ```\n",
    "    https://www.google.co.kr/#q=python\n",
    "    https://www.google.co.kr/search?q=python\n",
    "    ```\n",
    "* 'python tutorial'을 검색할 경우\n",
    "    https://www.google.co.kr/#q=python+tutorial\n",
    "    ```\n",
    "\n",
    "* 주의 인터넷 인코딩\n",
    "    * '#'은 '%23'으로 표현된다. (quote_plus 참조, ds_REST.ipynb)"
   ]
  },
  {
   "cell_type": "code",
   "execution_count": 12,
   "metadata": {
    "collapsed": false
   },
   "outputs": [
    {
     "name": "stdout",
     "output_type": "stream",
     "text": [
      "%23q=python+tutorial\n"
     ]
    }
   ],
   "source": [
    "import urllib\n",
    "params = urllib.urlencode({\"#q\": \"python tutorial\"})\n",
    "print params"
   ]
  },
  {
   "cell_type": "code",
   "execution_count": 11,
   "metadata": {
    "collapsed": false
   },
   "outputs": [
    {
     "name": "stdout",
     "output_type": "stream",
     "text": [
      "http://www.google.com/#q=python+tutorial\n"
     ]
    }
   ],
   "source": [
    "url = 'http://www.google.com/#q='\n",
    "print url + urllib.quote_plus('python tutorial')"
   ]
  },
  {
   "cell_type": "markdown",
   "metadata": {},
   "source": [
    "## 1.4 url 가져오기\n",
    "\n",
    "### 1.4.1 HTTP Request(s)\n",
    "\n",
    "```\n",
    "GET /index.html HTTP/1.1\n",
    "User-Agent: Mozilla/4.0 (compatible; MSIE5.01; Windows NT)\n",
    "Host: www.example.com\n",
    "Accept-Language: en-us\n",
    "Accept-Encoding: gzip, deflate\n",
    "Connection: Keep-Alive\n",
    "```"
   ]
  },
  {
   "cell_type": "markdown",
   "metadata": {},
   "source": [
    "### 1.4.2 HTTP Response(s)\n",
    "\n",
    "* 예제\n",
    "```\n",
    "HTTP/1.1 200 OK\n",
    "Date: Fri, 10 Mar 2017 11:00:00 GMT\n",
    "Server: Apache/2.2.14 (Win32)\n",
    "Last-Modified: Fri, 10 Mar 2017 12:00:00 GMT\n",
    "Content-Length: 88\n",
    "Content-Type: text/html\n",
    "Connection: Closed\n",
    "<html>\n",
    "<body>\n",
    "<h1>It works!</h1>\n",
    "</body>\n",
    "</html>\n",
    "```"
   ]
  },
  {
   "cell_type": "markdown",
   "metadata": {},
   "source": [
    "### 1.4.3 library\n",
    "\n",
    "* urllib - handles opening and reading URLs\n",
    "    * urllib vs urllib2 (py4inf 12장)\n",
    "    * Python 3.x에서 urllib를 개정해서 1) urllib.request, 2) urllib.parse, 3) urllib.error로 나눔.\n",
    "    * urllib2 can accept a Request object to set the headers for a URL request, urllib accepts only a URL. \n",
    "    * urllib provides the urlencode method which is used for the generation of GET query strings, urllib2 doesn't have such a function.\n",
    "* httplib - handles http requests, urllib내부에서 사용하고 있슴.\n",
    "* requests - web page가져오거나, API를 사용할 때. 아래는 서로 같은 기능을 한다.\n",
    "    ```\n",
    "    urllib2.urlopen(url).read()\n",
    "    requests.get(url).text\n",
    "    ```"
   ]
  },
  {
   "cell_type": "markdown",
   "metadata": {},
   "source": [
    "* urllib2에서 페이지 가져오는 함수 urlopen()\n",
    "* 사용하고 close()"
   ]
  },
  {
   "cell_type": "code",
   "execution_count": 5,
   "metadata": {
    "collapsed": false
   },
   "outputs": [],
   "source": [
    "import urllib2\n",
    "response = urllib2.urlopen(\"https://www.python.org/\")\n",
    "html=response.read()\n",
    "response.close()"
   ]
  },
  {
   "cell_type": "markdown",
   "metadata": {},
   "source": [
    "* urllib2에 POST Request를 사용할 수 있다.\n",
    "\n",
    "```\n",
    "query_args = { 'q':'query string', 'foo':'bar' }\n",
    "data = urllib.urlencode(query_args)\n",
    "request = urllib2.Request(url, data)\n",
    "response = urllib2.urlopen(request)\n",
    "html = response.read()\n",
    "```"
   ]
  },
  {
   "cell_type": "markdown",
   "metadata": {
    "collapsed": true
   },
   "source": [
    "* error의 이해\n",
    "    * urllib2.HTTPError 또는 urllib2.URLError\n",
    "    * error.code (참조 https://en.wikipedia.org/wiki/List_of_HTTP_status_codes)\n",
    "\n",
    "코드 | 구분 | 예\n",
    "-----|-----|-----\n",
    "1xx | Informational | \n",
    "2xx | Success | 200 OK\n",
    "3xx | Redirection | \n",
    "4xx | 클라이언트 오류 | 400 Bad Request, 404 Not Found\n",
    "5xx | 서버 오류 | 500 Internal Server Error\n",
    "\n",
    "* error의 처리\n",
    "    * try, except\n"
   ]
  },
  {
   "cell_type": "code",
   "execution_count": 23,
   "metadata": {
    "collapsed": false
   },
   "outputs": [
    {
     "name": "stdout",
     "output_type": "stream",
     "text": [
      "404 OK\n",
      "html has something!\n"
     ]
    }
   ],
   "source": [
    "req = urllib2.Request('http://www.python.org/fish.html')\n",
    "\n",
    "try:\n",
    "    response=urllib2.urlopen(req)\n",
    "except urllib2.HTTPError, e:\n",
    "    print e.code, e.reason\n",
    "\n",
    "if html is None:\n",
    "    print(\"URL is not found\")\n",
    "else:\n",
    "    print \"html has something!\""
   ]
  },
  {
   "cell_type": "markdown",
   "metadata": {},
   "source": [
    "## 1.5 Parsing\n",
    "\n",
    "* 웹데이터는 '문자열'이다. 특정 tag를 추출하는 것이 매우 불편한다. <h1>...</h1>은 부등호문자,h,1으로 구성된 시작-끝 tag를 찾아야 한다.\n",
    "* 문자열은 tag구조를 가지고 있지만, tag가 아니라 '문자열'이라서 tree구조를 만들어야 한다는 점에 유의한다.\n",
    "* parsing을 하면, 이런 tag 요소를 분리하고, tree구조로 만들어 분석을 용이하게 할 수 있다.\n",
    "* HTML DOM, XML, json은 tree 구조를 가지고, 특정 요소를 선택할 수 있다.\n",
    "* 파싱단계\n",
    "    * 단계1: 라이브러리를 사용할 수 있게 가져온다.\n",
    "        ```\n",
    "        import xml.etree.ElementTree as ET\n",
    "        ```\n",
    "\n",
    "    * 단계2: 페이지를 가져온다 (메모리에 있거나, 파일로 저장)\n",
    "    * 단계3: 가져온 페이지를 파싱하고, 트리를 생성한다 (태그로 변환).\n",
    "        ```\n",
    "        tree=ET.parse('my.xml')\n",
    "        ```\n",
    "\n",
    "    * 단계4: 트리에서 필요한 요소를 정한다.\n",
    "    * 단계5: 필요한 요소를 가져온다.\n",
    "        * 'namespace' localname으로 가져옴.\n",
    "        ```\n",
    "        root=tree.getroot()\n",
    "        root.getiterator():\n",
    "        ```\n"
   ]
  },
  {
   "cell_type": "markdown",
   "metadata": {},
   "source": [
    "* parsing 라이브러리\n",
    "    * HTMLParser - parser <- comes with lxml\n",
    "    * BeautifulSoup - Python으로 구현된 parser (does not support XPath expressions.)\n",
    "    * curl - Terminal에서 사용하는 명령어\n",
    "    * lxml - is written in C and thus faster than bs. xml and html parser\n",
    "    * regex\n",
    "    * scrapy\n",
    "        * full framework\n",
    "        * use pipelines\n",
    "        * use for a big project. (for a small project, use requests,lxml or BeautifulSoup\n",
    "\n",
    "구분 | 라이브러리 | 설명\n",
    "-----|-----|-----\n",
    "웹데이터 가져오기 | urllib, requests, curl | 웹페이지 열고, http request(s), http response(s)\n",
    "웹데이터 파싱 | HTMLParser, BeautifulSoup, lxml, regex | 문자열 또는 xml, json을 파싱\n",
    "프레임워크 | scrapy (java nutch, crawler4j) | 큰 프로젝트에 사용\n"
   ]
  },
  {
   "cell_type": "code",
   "execution_count": 2,
   "metadata": {
    "collapsed": true
   },
   "outputs": [],
   "source": [
    "import iplantuml"
   ]
  },
  {
   "cell_type": "code",
   "execution_count": 5,
   "metadata": {
    "collapsed": false
   },
   "outputs": [
    {
     "data": {
      "image/svg+xml": [
       "<svg height=\"391px\" style=\"width:177px;height:391px;\" version=\"1.1\" viewBox=\"0 0 177 391\" width=\"177px\" xmlns=\"http://www.w3.org/2000/svg\" xmlns:xlink=\"http://www.w3.org/1999/xlink\"><defs><filter height=\"300%\" id=\"f1\" width=\"300%\" x=\"-1\" y=\"-1\"><feGaussianBlur result=\"blurOut\" stdDeviation=\"2.0\"/><feColorMatrix in=\"blurOut\" result=\"blurOut2\" type=\"matrix\" values=\"0 0 0 0 0 0 0 0 0 0 0 0 0 0 0 0 0 0 .4 0\"/><feOffset dx=\"4.0\" dy=\"4.0\" in=\"blurOut2\" result=\"blurOut3\"/><feBlend in=\"SourceGraphic\" in2=\"blurOut3\" mode=\"normal\"/></filter></defs><g><ellipse cx=\"87\" cy=\"18\" fill=\"#000000\" filter=\"url(#f1)\" rx=\"10\" ry=\"10\" style=\"stroke: none; stroke-width: 1.0;\"/><rect fill=\"#FEFECE\" filter=\"url(#f1)\" height=\"33.9688\" rx=\"12.5\" ry=\"12.5\" style=\"stroke: #A80036; stroke-width: 1.5;\" width=\"102\" x=\"36\" y=\"68\"/><text fill=\"#000000\" font-family=\"sans-serif\" font-size=\"12\" lengthAdjust=\"spacingAndGlyphs\" textLength=\"82\" x=\"46\" y=\"89.1387\">import library</text><rect fill=\"#FEFECE\" filter=\"url(#f1)\" height=\"33.9688\" rx=\"12.5\" ry=\"12.5\" style=\"stroke: #A80036; stroke-width: 1.5;\" width=\"162\" x=\"6\" y=\"142\"/><text fill=\"#000000\" font-family=\"sans-serif\" font-size=\"12\" lengthAdjust=\"spacingAndGlyphs\" textLength=\"142\" x=\"16\" y=\"163.1387\">transform string to xml</text><rect fill=\"#FEFECE\" filter=\"url(#f1)\" height=\"33.9688\" rx=\"12.5\" ry=\"12.5\" style=\"stroke: #A80036; stroke-width: 1.5;\" width=\"121\" x=\"26.5\" y=\"216\"/><text fill=\"#000000\" font-family=\"sans-serif\" font-size=\"12\" lengthAdjust=\"spacingAndGlyphs\" textLength=\"101\" x=\"36.5\" y=\"237.1387\">get the top root</text><rect fill=\"#FEFECE\" filter=\"url(#f1)\" height=\"33.9688\" rx=\"12.5\" ry=\"12.5\" style=\"stroke: #A80036; stroke-width: 1.5;\" width=\"62\" x=\"56\" y=\"290\"/><text fill=\"#000000\" font-family=\"sans-serif\" font-size=\"12\" lengthAdjust=\"spacingAndGlyphs\" textLength=\"42\" x=\"66\" y=\"311.1387\">iterate</text><ellipse cx=\"87\" cy=\"374\" fill=\"none\" filter=\"url(#f1)\" rx=\"10\" ry=\"10\" style=\"stroke: #000000; stroke-width: 1.0;\"/><ellipse cx=\"87.5\" cy=\"374.5\" fill=\"#000000\" rx=\"6\" ry=\"6\" style=\"stroke: none; stroke-width: 1.0;\"/><path d=\"M87,28.038 C87,36.932 87,50.844 87,62.572 \" fill=\"none\" style=\"stroke: #A80036; stroke-width: 1.0;\"/><polygon fill=\"#A80036\" points=\"87,67.781,91,58.781,87,62.781,83,58.781,87,67.781\" style=\"stroke: #A80036; stroke-width: 1.0;\"/><path d=\"M87,102.338 C87,112.464 87,125.584 87,136.543 \" fill=\"none\" style=\"stroke: #A80036; stroke-width: 1.0;\"/><polygon fill=\"#A80036\" points=\"87,141.727,91,132.727,87,136.727,83,132.727,87,141.727\" style=\"stroke: #A80036; stroke-width: 1.0;\"/><path d=\"M87,176.338 C87,186.464 87,199.584 87,210.543 \" fill=\"none\" style=\"stroke: #A80036; stroke-width: 1.0;\"/><polygon fill=\"#A80036\" points=\"87,215.727,91,206.727,87,210.727,83,206.727,87,215.727\" style=\"stroke: #A80036; stroke-width: 1.0;\"/><path d=\"M87,250.338 C87,260.464 87,273.584 87,284.5432 \" fill=\"none\" style=\"stroke: #A80036; stroke-width: 1.0;\"/><polygon fill=\"#A80036\" points=\"87,289.7267,91,280.7267,87,284.7267,83,280.7267,87,289.7267\" style=\"stroke: #A80036; stroke-width: 1.0;\"/><path d=\"M87,324.0674 C87,334.5986 87,348.2536 87,358.4618 \" fill=\"none\" style=\"stroke: #A80036; stroke-width: 1.0;\"/><polygon fill=\"#A80036\" points=\"87,363.7367,91,354.7367,87,358.7367,83,354.7367,87,363.7367\" style=\"stroke: #A80036; stroke-width: 1.0;\"/></g></svg>"
      ],
      "text/plain": [
       "<IPython.core.display.SVG object>"
      ]
     },
     "execution_count": 5,
     "metadata": {},
     "output_type": "execute_result"
    }
   ],
   "source": [
    "%%plantuml\n",
    "@startuml\n",
    "(*)--> \"import library\"\n",
    "--> \"transform string to tree\"\n",
    "--> \"define selector\"\n",
    "--> \"get selected elements of the tree\"\n",
    "-->(*)\n",
    "@enduml"
   ]
  },
  {
   "cell_type": "markdown",
   "metadata": {},
   "source": [
    "### 1.5.1 Javascript console\n",
    "\n",
    "* 브라우저에서 Javascript\n",
    "\n",
    "브라우저 | 콘솔창\n",
    "-----|-----\n",
    "Chrome | Tools > Developer Tools\n",
    "Internet Explorer | F12\n",
    "Firefox | Tools > Web Developer > Inspector\n",
    "Safari | advanced preferences > enable Develop menu"
   ]
  },
  {
   "cell_type": "markdown",
   "metadata": {},
   "source": [
    "* Chrome개발자 도구 사용하기 https://developers.google.com/web/tools/chrome-devtools/console/\n",
    "    * xpath 또는 selector를 찾는 방법\n",
    "        * Chrome을 열어서 > 보기 > 개발자정보 > 개발자도구 -> element\n",
    "           * html tag를 누르면 맨 앞 ...가 생김\n",
    "                * 이것을 누르면 팝업메뉴 > copy > xpath(또는 selector)\n",
    "                \n",
    "    * console 창에서 요소 선택\n",
    "\n",
    "단축키 | 설명\n",
    "-----|-----\n",
    "\\$x('xpath') | XPath와 일치하는 요소의 배열을 반환\n",
    "\\$('selector') | CSS 선택기와 일치하는 첫 번째 요소를 반환, document.querySelector()의 단축\n",
    "\\$$('selector all') | CSS 선택기와 일치하는 모든 요소의 배열을 반환, document.querySelectorAll()의 단축"
   ]
  },
  {
   "cell_type": "markdown",
   "metadata": {},
   "source": [
    "### 1.5.2 dom\n",
    "\n",
    "* HTML은 브라우저에서 tree구조로 변환된다. 이를 DOM (Document Object Model)이라고 한다.\n",
    "* HTML, XHTML, XML 문서를 계층구조인 트리구조로 만들어, 각 노드를 오브젝트로 사용하는 API.\n",
    "* dom에서의 css selector 특정 요소 선택해 보기\n",
    "    * dom의 querySelector()를 사용한다.\n",
    "        * 아래 '.my'라는 클래스를 선택한다.\n",
    "    * dom의 getElementById()를 사용한다.\n",
    "        * 아래 '.p2'라는 클래스를 선택한다."
   ]
  },
  {
   "cell_type": "code",
   "execution_count": 5,
   "metadata": {
    "collapsed": false
   },
   "outputs": [
    {
     "data": {
      "text/html": [
       "<html>\n",
       "<body>\n",
       "\n",
       "<h2 class=\"my\">Turn this into blue</h2>\n",
       "\n",
       "<button onclick=\"myFunction()\">Click</button>\n",
       "\n",
       "<script>\n",
       "function myFunction() {\n",
       "    document.querySelector(\".my\").style.backgroundColor = \"blue\";\n",
       "}\n",
       "</script>\n",
       "\n",
       "</body>\n",
       "</html>"
      ],
      "text/plain": [
       "<IPython.core.display.HTML object>"
      ]
     },
     "metadata": {},
     "output_type": "display_data"
    }
   ],
   "source": [
    "%%HTML\n",
    "<html>\n",
    "<body>\n",
    "\n",
    "<h2 class=\"my\">Turn this into blue</h2>\n",
    "\n",
    "<button onclick=\"myFunction()\">Click</button>\n",
    "\n",
    "<script>\n",
    "function myFunction() {\n",
    "    document.querySelector(\".my\").style.backgroundColor = \"blue\";\n",
    "}\n",
    "</script>\n",
    "\n",
    "</body>\n",
    "</html>"
   ]
  },
  {
   "cell_type": "markdown",
   "metadata": {},
   "source": [
    "* HTML javascript DOM\n",
    "    * style of a <p> element"
   ]
  },
  {
   "cell_type": "code",
   "execution_count": 20,
   "metadata": {
    "collapsed": false
   },
   "outputs": [
    {
     "data": {
      "text/html": [
       "<html>\n",
       "<body>\n",
       "\n",
       "<p id=\"p2\">Hello World!</p>\n",
       "\n",
       "<script>\n",
       "document.getElementById(\"p2\").style.color = \"RED\";\n",
       "</script>\n",
       "\n",
       "<p>Hello World turned into RED</p>\n",
       "\n",
       "</body>\n",
       "</html>"
      ],
      "text/plain": [
       "<IPython.core.display.HTML object>"
      ]
     },
     "metadata": {},
     "output_type": "display_data"
    }
   ],
   "source": [
    "%%HTML\n",
    "<html>\n",
    "<body>\n",
    "\n",
    "<p id=\"p2\">Hello World!</p>\n",
    "\n",
    "<script>\n",
    "document.getElementById(\"p2\").style.color = \"RED\";\n",
    "</script>\n",
    "\n",
    "<p>Hello World turned into RED!</p>\n",
    "\n",
    "</body>\n",
    "</html>"
   ]
  },
  {
   "cell_type": "markdown",
   "metadata": {},
   "source": [
    "### 1.5.3 BeautifulSoup\n",
    "\n",
    "* 많이 사용되는 Python 라이브러리\n",
    "* html, xml을 파싱할 수 있다.\n",
    "* 이전 버전은 더 이상 지원되지 않으므로, 버전은 4로 한다.\n",
    "    ```\n",
    "    pip install beautifulsoup4\n",
    "    ```\n",
    "* 파서를 넣어주지 않으면 기본 파서를 사용한다.\n",
    "\n",
    "파서 | 설정\n",
    "-----|-----\n",
    "Python html.parser | BeautifulSoup(markup, \"html.parser\")\n",
    "lxml parser | BeautifulSoup(markup, \"lxml\")"
   ]
  },
  {
   "cell_type": "markdown",
   "metadata": {},
   "source": [
    "* class 다음에는 _를 넣어 준다. 또는 key-value 형식으로 맞추어 준다."
   ]
  },
  {
   "cell_type": "code",
   "execution_count": 5,
   "metadata": {
    "collapsed": false,
    "scrolled": true
   },
   "outputs": [
    {
     "name": "stdout",
     "output_type": "stream",
     "text": [
      "<title>Welcome to Python.org</title>\n",
      "[<div class=\"top-bar do-not-print\" id=\"top\">\\n<nav class=\"meta-navigation container\" role=\"navigation\">\\n<div class=\"skip-link screen-reader-text\">\\n<a href=\"#content\" title=\"Skip to content\">Skip to content</a>\\n</div>\\n<a aria-hidden=\"true\" class=\"jump-link\" href=\"#python-network\" id=\"close-python-network\">\\n<span aria-hidden=\"true\" class=\"icon-arrow-down\"><span>\\u25bc</span></span> Close\\n                </a>\\n<ul class=\"menu\" role=\"tree\">\\n<li class=\"python-meta current_item selectedcurrent_branch selected\">\\n<a class=\"current_item selectedcurrent_branch selected\" href=\"/\" title=\"The Python Programming Language\">Python</a>\\n</li>\\n<li class=\"psf-meta \">\\n<a href=\"/psf-landing/\" title=\"The Python Software Foundation\">PSF</a>\\n</li>\\n<li class=\"docs-meta \">\\n<a href=\"https://docs.python.org\" title=\"Python Documentation\">Docs</a>\\n</li>\\n<li class=\"pypi-meta \">\\n<a href=\"https://pypi.python.org/\" title=\"Python Package Index\">PyPI</a>\\n</li>\\n<li class=\"jobs-meta \">\\n<a href=\"/jobs/\" title=\"Python Job Board\">Jobs</a>\\n</li>\\n<li class=\"shop-meta \">\\n<a href=\"/community/\" title=\"Python Community\">Community</a>\\n</li>\\n</ul>\\n<a aria-hidden=\"true\" class=\"jump-link\" href=\"#top\" id=\"python-network\">\\n<span aria-hidden=\"true\" class=\"icon-arrow-up\"><span>\\u25b2</span></span> The Python Network\\n                </a>\\n</nav>\\n</div>]\n"
     ]
    }
   ],
   "source": [
    "from bs4 import BeautifulSoup\n",
    "import requests\n",
    "page = requests.get(\"https://www.python.org/\")\n",
    "soup = BeautifulSoup(page.content)\n",
    "print soup.title\n",
    "print soup.find_all('div',class_=\"do-not-print\", id=\"top\")"
   ]
  },
  {
   "cell_type": "code",
   "execution_count": 12,
   "metadata": {
    "collapsed": false
   },
   "outputs": [
    {
     "name": "stdout",
     "output_type": "stream",
     "text": [
      "[<div class=\"top-bar do-not-print\" id=\"top\">\\n<nav class=\"meta-navigation container\" role=\"navigation\">\\n<div class=\"skip-link screen-reader-text\">\\n<a href=\"#content\" title=\"Skip to content\">Skip to content</a>\\n</div>\\n<a aria-hidden=\"true\" class=\"jump-link\" href=\"#python-network\" id=\"close-python-network\">\\n<span aria-hidden=\"true\" class=\"icon-arrow-down\"><span>\\u25bc</span></span> Close\\n                </a>\\n<ul class=\"menu\" role=\"tree\">\\n<li class=\"python-meta current_item selectedcurrent_branch selected\">\\n<a class=\"current_item selectedcurrent_branch selected\" href=\"/\" title=\"The Python Programming Language\">Python</a>\\n</li>\\n<li class=\"psf-meta \">\\n<a href=\"/psf-landing/\" title=\"The Python Software Foundation\">PSF</a>\\n</li>\\n<li class=\"docs-meta \">\\n<a href=\"https://docs.python.org\" title=\"Python Documentation\">Docs</a>\\n</li>\\n<li class=\"pypi-meta \">\\n<a href=\"https://pypi.python.org/\" title=\"Python Package Index\">PyPI</a>\\n</li>\\n<li class=\"jobs-meta \">\\n<a href=\"/jobs/\" title=\"Python Job Board\">Jobs</a>\\n</li>\\n<li class=\"shop-meta \">\\n<a href=\"/community/\" title=\"Python Community\">Community</a>\\n</li>\\n</ul>\\n<a aria-hidden=\"true\" class=\"jump-link\" href=\"#top\" id=\"python-network\">\\n<span aria-hidden=\"true\" class=\"icon-arrow-up\"><span>\\u25b2</span></span> The Python Network\\n                </a>\\n</nav>\\n</div>]\n"
     ]
    }
   ],
   "source": [
    "print soup.find_all('div',{'class': 'do-not-print','id':'top'})"
   ]
  },
  {
   "cell_type": "markdown",
   "metadata": {},
   "source": [
    "* a link의 href를 구할 수 있다."
   ]
  },
  {
   "cell_type": "code",
   "execution_count": 11,
   "metadata": {
    "collapsed": false
   },
   "outputs": [
    {
     "name": "stdout",
     "output_type": "stream",
     "text": [
      "0 #content\n",
      "1 #python-network\n",
      "2 /\n",
      "3 /psf-landing/\n",
      "4 https://docs.python.org\n",
      "5 https://pypi.python.org/\n",
      "6 /jobs/\n",
      "7 /community/\n",
      "8 #top\n",
      "9 /\n",
      "10 #site-map\n",
      "11 #\n",
      "12 javascript:;\n",
      "13 javascript:;\n",
      "14 javascript:;\n",
      "15 #\n",
      "16 http://plus.google.com/+Python\n",
      "17 http://www.facebook.com/pythonlang?fref=ts\n",
      "18 http://twitter.com/ThePSF\n",
      "19 /community/irc/\n"
     ]
    }
   ],
   "source": [
    "for counter,link in enumerate(soup.find_all('a')):\n",
    "    if(counter<20):\n",
    "        print counter,link.get('href')"
   ]
  },
  {
   "cell_type": "markdown",
   "metadata": {},
   "source": [
    "### 1.5.4 regex\n",
    "\n",
    "* 정규식 regular expression은 문자열로 표현한 정규표현으로, 패턴매칭에 사용한다.\n",
    "* 정규식을 사용하면 복잡한 패턴을 단순하게 처리\n",
    "\n",
    "\n",
    "정규식 | 설명 | 예\n",
    "-----|-----|-----\n",
    "() | grouping | (\\d{1,2})\n",
    "\\d | any character in the range 0-9 |\n",
    "\\s | any whitespace |\n",
    "\\w | any character in the range 0-9, A-Z, a-z |\n",
    "[] | a signle character | [a-cx-z] = \"a\", \"b\", \"c\", \"x\", \"y\", or \"z\"\n",
    "\\- | range separator | [0123456789] = [0-9]\n",
    "\\* | the preceding element zero or more times | ab*c = \"ac\", \"abc\", \"abbbc\"\n",
    "\\+ | the preceding element one or more times  | ba+ = \"ba\", \"baa\", \"baaa\", and so on\n"
   ]
  },
  {
   "cell_type": "code",
   "execution_count": 11,
   "metadata": {
    "collapsed": false
   },
   "outputs": [
    {
     "name": "stdout",
     "output_type": "stream",
     "text": [
      "alphanumberic words:  ['Here', 'goes', 'my', 'phone', 'number', '2287', '1111', 'Nice', 'to', 'meet', 'you', 'Merry', 'Christmas']\n",
      "numeric words:  ['2287', '1111']\n",
      "any uppercase words:  ['Here', 'Nice', 'Merry', 'Christmas']\n",
      "any uppercase words:  []\n"
     ]
    }
   ],
   "source": [
    "import re\n",
    "\n",
    "sentence=\"Here goes my phone number 2287-1111. Nice to meet you! Merry Christmas\"\n",
    "regex1='\\w+'\n",
    "print \"alphanumberic words: \",re.findall(regex1, sentence)\n",
    "regex2='\\d+'\n",
    "print \"numeric words: \",re.findall(regex2, sentence)\n",
    "regex3 = '[A-Z]\\w+'\n",
    "print \"any uppercase words: \",re.findall(regex3, sentence)\n",
    "regex4 = '([A-Z]\\w+)([A-Z]\\w+)'\n",
    "print \"any uppercase words: \",re.findall(regex4, sentence)\n"
   ]
  },
  {
   "cell_type": "markdown",
   "metadata": {},
   "source": [
    "* regex로 태그 찾기"
   ]
  },
  {
   "cell_type": "code",
   "execution_count": 8,
   "metadata": {
    "collapsed": false
   },
   "outputs": [
    {
     "name": "stdout",
     "output_type": "stream",
     "text": [
      "a tag:  ['foo']\n"
     ]
    }
   ],
   "source": [
    "import re\n",
    "\n",
    "tags='<html><body><div>asdfasdf</div><p><a>foo</a></p></body></html>'\n",
    "regex=\"<a>(.*)</a>\"\n",
    "print \"a tag: \",re.findall(regex, tags)"
   ]
  },
  {
   "cell_type": "markdown",
   "metadata": {},
   "source": [
    "* BeautifulSoup에서 regex"
   ]
  },
  {
   "cell_type": "code",
   "execution_count": 17,
   "metadata": {
    "collapsed": false
   },
   "outputs": [
    {
     "name": "stdout",
     "output_type": "stream",
     "text": [
      "tag:  <p>this is number 12345</p>\n",
      "text:  this is number 12345\n"
     ]
    }
   ],
   "source": [
    "from BeautifulSoup import BeautifulSoup\n",
    "import re\n",
    "\n",
    "htmlstr = \"\"\"\n",
    "<p>this is number 12345</p>\n",
    "<p>this is text</p2>\n",
    "\"\"\"\n",
    "\n",
    "soup = BeautifulSoup(htmlstr)\n",
    "for e in soup(text=re.compile(r'\\d+')):\n",
    "    print \"tag: \", e.parent\n",
    "    print \"text: \", e"
   ]
  },
  {
   "cell_type": "markdown",
   "metadata": {},
   "source": [
    "### 1.5.5 xpath\n",
    "\n",
    "* xml문서를 트리구조로 표현하고, 노드를 선택하기 위해 사용하는 조회언어 (XML Path Language)\n",
    "* xpath 표현\n",
    "\n",
    "Expression | 설명 | 예\n",
    "---------|----------|----------\n",
    "/ | root부터 선택 | /div 루트에 있는 div 선택\n",
    "// | 어디에 있는지 상관없이 선택 | //div 문서에 있는 div 선택\n",
    ". | Selects the current node | \n",
    ".. | Selects the parent of the current node | \n",
    "@ | Selects attributes | //@href 속성href를 가진 모든 노드\n",
    "\\* | all |\n",
    "@* | 속성 모두 | //div[@*] 속성을 가지고 있는 모든 div"
   ]
  },
  {
   "cell_type": "markdown",
   "metadata": {},
   "source": [
    "* xpath 사용예\n",
    "\n",
    "xpath선택 | 결과\n",
    "----------|----------\n",
    "```$x('/html')``` | ```<html>...</html>```\n",
    "```$x('/html/body')``` | ```<body>...</body>```\n",
    "```$x('/html/body/div') 또는 $x('//div')``` | ```<div>...</div>```\n",
    "```$x('/html/body/div/h1') 또는 $x('//div/h1')``` | ```<h1>Example Domain</h1>```\n",
    "```$x('/html/body/div/p')``` | ```<p>...</p>, <p>...</p>```\n",
    "```$x('/html/body/div/p[1]')``` | ```<p>...</p>```\n",
    "```$x('/html/body/div/p[2]')``` | ```<p>...</p>```"
   ]
  },
  {
   "cell_type": "markdown",
   "metadata": {},
   "source": [
    "#### 1.5.5.1 html 파싱"
   ]
  },
  {
   "cell_type": "code",
   "execution_count": 30,
   "metadata": {
    "collapsed": false
   },
   "outputs": [
    {
     "name": "stdout",
     "output_type": "stream",
     "text": [
      "<Element 'html' at 0x7fc9190be1d0>\n",
      "html {}\n",
      "head {}\n",
      "title {}\n",
      "body {}\n",
      "h1 {}\n",
      "p {}\n",
      "p {}\n"
     ]
    }
   ],
   "source": [
    "import xml.etree.ElementTree as ET\n",
    "tree=ET.parse('mypage.html')\n",
    "root=tree.getroot()\n",
    "print root\n",
    "for node in tree.getiterator():\n",
    "    print node.tag, node.attrib"
   ]
  },
  {
   "cell_type": "code",
   "execution_count": 32,
   "metadata": {
    "collapsed": false
   },
   "outputs": [
    {
     "name": "stdout",
     "output_type": "stream",
     "text": [
      "html {}\n",
      "head {}\n",
      "title {}\n",
      "body {}\n",
      "h1 {}\n",
      "p {}\n",
      "p {}\n"
     ]
    }
   ],
   "source": [
    "f=open('mypage.html')\n",
    "htmlstr=f.read()\n",
    "f.close()\n",
    "tree=ET.fromstring(htmlstr)\n",
    "for node in tree.getiterator():\n",
    "    print node.tag, node.attrib"
   ]
  },
  {
   "cell_type": "markdown",
   "metadata": {},
   "source": [
    "#### 1.5.5.2 xml 파싱\n",
    "* 파일 확장자 .xml를 가진다.\n",
    "* 태그로 구성된다. 시작태그와 끝태그 사이에 데이터를 넣는다.\n",
    "* [위키에서 가져온 XML](https://en.wikipedia.org/wiki/XPath)"
   ]
  },
  {
   "cell_type": "code",
   "execution_count": 3,
   "metadata": {
    "collapsed": false
   },
   "outputs": [
    {
     "name": "stdout",
     "output_type": "stream",
     "text": [
      "Writing my.xml\n"
     ]
    }
   ],
   "source": [
    "%%writefile my.xml\n",
    "<?xml version=\"1.0\" encoding=\"utf-8\"?>\n",
    "<wikimedia>\n",
    "  <projects>\n",
    "    <project name=\"Wikipedia\" launch=\"2001-01-05\">\n",
    "      <editions>\n",
    "        <edition language=\"English\">en.wikipedia.org</edition>\n",
    "        <edition language=\"German\">de.wikipedia.org</edition>\n",
    "        <edition language=\"French\">fr.wikipedia.org</edition>\n",
    "        <edition language=\"Polish\">pl.wikipedia.org</edition>\n",
    "        <edition language=\"Spanish\">es.wikipedia.org</edition>\n",
    "      </editions>\n",
    "    </project>\n",
    "    <project name=\"Wiktionary\" launch=\"2002-12-12\">\n",
    "      <editions>\n",
    "        <edition language=\"English\">en.wiktionary.org</edition>\n",
    "        <edition language=\"French\">fr.wiktionary.org</edition>\n",
    "        <edition language=\"Vietnamese\">vi.wiktionary.org</edition>\n",
    "        <edition language=\"Turkish\">tr.wiktionary.org</edition>\n",
    "        <edition language=\"Spanish\">es.wiktionary.org</edition>\n",
    "      </editions>\n",
    "    </project>\n",
    "  </projects>\n",
    "</wikimedia>"
   ]
  },
  {
   "cell_type": "markdown",
   "metadata": {},
   "source": [
    "* 파일에서 직접 파싱"
   ]
  },
  {
   "cell_type": "code",
   "execution_count": 33,
   "metadata": {
    "collapsed": false
   },
   "outputs": [
    {
     "name": "stdout",
     "output_type": "stream",
     "text": [
      "<Element 'wikimedia' at 0x7fc9190b4910>\n"
     ]
    }
   ],
   "source": [
    "import xml.etree.ElementTree as ET\n",
    "tree=ET.parse('my.xml')\n",
    "root=tree.getroot()\n",
    "print root"
   ]
  },
  {
   "cell_type": "markdown",
   "metadata": {},
   "source": [
    "* 반복은 tree 또는 root에서 해도 된다. 아래는 tree에서 for문을 반복한다."
   ]
  },
  {
   "cell_type": "code",
   "execution_count": 34,
   "metadata": {
    "collapsed": false
   },
   "outputs": [
    {
     "name": "stdout",
     "output_type": "stream",
     "text": [
      "wikimedia {}\n",
      "projects {}\n",
      "project {'name': 'Wikipedia', 'launch': '2001-01-05'}\n",
      "editions {}\n",
      "edition {'language': 'English'}\n",
      "edition {'language': 'German'}\n",
      "edition {'language': 'French'}\n",
      "edition {'language': 'Polish'}\n",
      "edition {'language': 'Spanish'}\n",
      "project {'name': 'Wiktionary', 'launch': '2002-12-12'}\n",
      "editions {}\n",
      "edition {'language': 'English'}\n",
      "edition {'language': 'French'}\n",
      "edition {'language': 'Vietnamese'}\n",
      "edition {'language': 'Turkish'}\n",
      "edition {'language': 'Spanish'}\n"
     ]
    }
   ],
   "source": [
    "for node in tree.getiterator():\n",
    "    print node.tag, node.attrib"
   ]
  },
  {
   "cell_type": "markdown",
   "metadata": {},
   "source": [
    "* 문자열에서 파싱 (파일에서 읽어온 내용을 문자열로 저장한 후)\n",
    "    * 파일에서 읽어온 것은 '태그'가 아니라 '문자열'\n",
    "    * 다시 말하면, 파싱이 완료된 '태그'가 아니라, 파싱을 해야 하는 '문자열'"
   ]
  },
  {
   "cell_type": "code",
   "execution_count": 35,
   "metadata": {
    "collapsed": false
   },
   "outputs": [],
   "source": [
    "f=open('my.xml')\n",
    "xmlstr=f.read()\n",
    "f.close()"
   ]
  },
  {
   "cell_type": "code",
   "execution_count": 4,
   "metadata": {
    "collapsed": false,
    "scrolled": true
   },
   "outputs": [
    {
     "name": "stdout",
     "output_type": "stream",
     "text": [
      "<type 'str'>\n"
     ]
    }
   ],
   "source": [
    "print type(xmlstr)"
   ]
  },
  {
   "cell_type": "code",
   "execution_count": 5,
   "metadata": {
    "collapsed": false
   },
   "outputs": [
    {
     "name": "stdout",
     "output_type": "stream",
     "text": [
      "<?xml version=\"1.0\" encoding=\"utf-8\"?>\n",
      "<wikimedia>\n",
      "  <projects>\n",
      "    <project name=\"Wikipedia\" launch=\"2001-01-05\">\n",
      "      <editions>\n",
      "        <edition language=\"English\">en.wikipedia.org</edition>\n",
      "        <edition language=\"German\">de.wikipedia.org</edition>\n",
      "        <edition language=\"French\">fr.wikipedia.org</edition>\n",
      "        <edition language=\"Polish\">pl.wikipedia.org</edition>\n",
      "        <edition language=\"Spanish\">es.wikipedia.org</edition>\n",
      "      </editions>\n",
      "    </project>\n",
      "    <project name=\"Wiktionary\" launch=\"2002-12-12\">\n",
      "      <editions>\n",
      "        <edition language=\"English\">en.wiktionary.org</edition>\n",
      "        <edition language=\"French\">fr.wiktionary.org</edition>\n",
      "        <edition language=\"Vietnamese\">vi.wiktionary.org</edition>\n",
      "        <edition language=\"Turkish\">tr.wiktionary.org</edition>\n",
      "        <edition language=\"Spanish\">es.wiktionary.org</edition>\n",
      "      </editions>\n",
      "    </project>\n",
      "  </projects>\n",
      "</wikimedia>\n"
     ]
    }
   ],
   "source": [
    "print xmlstr"
   ]
  },
  {
   "cell_type": "code",
   "execution_count": 36,
   "metadata": {
    "collapsed": false
   },
   "outputs": [
    {
     "name": "stdout",
     "output_type": "stream",
     "text": [
      "wikimedia {}\n",
      "projects {}\n",
      "project {'name': 'Wikipedia', 'launch': '2001-01-05'}\n",
      "editions {}\n",
      "edition {'language': 'English'}\n",
      "edition {'language': 'German'}\n",
      "edition {'language': 'French'}\n",
      "edition {'language': 'Polish'}\n",
      "edition {'language': 'Spanish'}\n",
      "project {'name': 'Wiktionary', 'launch': '2002-12-12'}\n",
      "editions {}\n",
      "edition {'language': 'English'}\n",
      "edition {'language': 'French'}\n",
      "edition {'language': 'Vietnamese'}\n",
      "edition {'language': 'Turkish'}\n",
      "edition {'language': 'Spanish'}\n"
     ]
    }
   ],
   "source": [
    "import xml.etree.ElementTree as ET\n",
    "tree=ET.fromstring(xmlstr)\n",
    "for node in tree.getiterator():\n",
    "    print node.tag, node.attrib"
   ]
  },
  {
   "cell_type": "markdown",
   "metadata": {},
   "source": [
    "* lxml을 사용한다.\n",
    "    * xml라이브러리는 xpath를 지원하지 않는다.\n",
    "    * 실행하는 단계는 다른 라이브러리를 사용하는 단계와 다르지 않다.\n"
   ]
  },
  {
   "cell_type": "markdown",
   "metadata": {},
   "source": [
    "* 파일을 파싱하기"
   ]
  },
  {
   "cell_type": "code",
   "execution_count": 37,
   "metadata": {
    "collapsed": false
   },
   "outputs": [],
   "source": [
    "import lxml\n",
    "import lxml.etree\n",
    "\n",
    "tree=lxml.etree.parse('my.xml')\n",
    "root=tree.getroot()"
   ]
  },
  {
   "cell_type": "markdown",
   "metadata": {
    "collapsed": true
   },
   "source": [
    "* lxml 라이브러리에서 문자열을 파싱할 때는 StringIO를 사용한다.\n",
    "    * xml 라이브러리에서는 fromstring()함수를 사용했다."
   ]
  },
  {
   "cell_type": "code",
   "execution_count": 38,
   "metadata": {
    "collapsed": true
   },
   "outputs": [],
   "source": [
    "import StringIO\n",
    "tree=lxml.etree.parse(StringIO.StringIO(xmlstr))"
   ]
  },
  {
   "cell_type": "code",
   "execution_count": 17,
   "metadata": {
    "collapsed": false
   },
   "outputs": [
    {
     "name": "stdout",
     "output_type": "stream",
     "text": [
      "wikimedia {}\n",
      "projects {}\n",
      "project {'name': 'Wikipedia', 'launch': '2001-01-05'}\n",
      "editions {}\n",
      "edition {'language': 'English'}\n",
      "edition {'language': 'German'}\n",
      "edition {'language': 'French'}\n",
      "edition {'language': 'Polish'}\n",
      "edition {'language': 'Spanish'}\n",
      "project {'name': 'Wiktionary', 'launch': '2002-12-12'}\n",
      "editions {}\n",
      "edition {'language': 'English'}\n",
      "edition {'language': 'French'}\n",
      "edition {'language': 'Vietnamese'}\n",
      "edition {'language': 'Turkish'}\n",
      "edition {'language': 'Spanish'}\n"
     ]
    }
   ],
   "source": [
    "for node in tree.getiterator():\n",
    "    print node.tag, node.attrib"
   ]
  },
  {
   "cell_type": "markdown",
   "metadata": {},
   "source": [
    "* iterator를 사용할 수 있다."
   ]
  },
  {
   "cell_type": "code",
   "execution_count": 19,
   "metadata": {
    "collapsed": false
   },
   "outputs": [],
   "source": [
    "treeiter=lxml.etree.iterparse(StringIO.StringIO(xmlstr))"
   ]
  },
  {
   "cell_type": "code",
   "execution_count": 20,
   "metadata": {
    "collapsed": false
   },
   "outputs": [
    {
     "data": {
      "text/plain": [
       "lxml.etree.iterparse"
      ]
     },
     "execution_count": 20,
     "metadata": {},
     "output_type": "execute_result"
    }
   ],
   "source": [
    "type(treeiter)"
   ]
  },
  {
   "cell_type": "code",
   "execution_count": 21,
   "metadata": {
    "collapsed": false,
    "scrolled": true
   },
   "outputs": [
    {
     "name": "stdout",
     "output_type": "stream",
     "text": [
      "edition=>en.wikipedia.org\n",
      "edition=>de.wikipedia.org\n",
      "edition=>fr.wikipedia.org\n",
      "edition=>pl.wikipedia.org\n",
      "edition=>es.wikipedia.org\n",
      "editions=>\n",
      "        \n",
      "project=>\n",
      "      \n",
      "edition=>en.wiktionary.org\n",
      "edition=>fr.wiktionary.org\n",
      "edition=>vi.wiktionary.org\n",
      "edition=>tr.wiktionary.org\n",
      "edition=>es.wiktionary.org\n",
      "editions=>\n",
      "        \n",
      "project=>\n",
      "      \n",
      "projects=>\n",
      "    \n",
      "wikimedia=>\n",
      "  \n"
     ]
    }
   ],
   "source": [
    "for action, elem in treeiter:\n",
    "    if not elem.text:\n",
    "        text=\"None\"\n",
    "    else:\n",
    "        text=elem.text\n",
    "    print elem.tag+\"=>\"+text"
   ]
  },
  {
   "cell_type": "markdown",
   "metadata": {},
   "source": [
    "* xpath\n",
    "    * /wikimedia/projects/project/@name\n",
    "        * /Wikimedia/projects/project/@name\n",
    "    * //editions\n",
    "    * /wikimedia/projects/project/editions/edition[@language='English']/text()\n",
    "        * text of all edition elements where language attribute is equal to English).\n",
    "    * /wikimedia/projects/project[@name='Wikipedia']/editions/edition/text()\n",
    "        * text of all edition elements that exist under project element with a name attribute of Wikipedia"
   ]
  },
  {
   "cell_type": "code",
   "execution_count": 39,
   "metadata": {
    "collapsed": false
   },
   "outputs": [
    {
     "name": "stdout",
     "output_type": "stream",
     "text": [
      "2\n"
     ]
    }
   ],
   "source": [
    "nodes = tree.xpath(\"/wikimedia/projects/project/@name\")\n",
    "print len(nodes)"
   ]
  },
  {
   "cell_type": "code",
   "execution_count": 62,
   "metadata": {
    "collapsed": false
   },
   "outputs": [
    {
     "name": "stdout",
     "output_type": "stream",
     "text": [
      "Wikipedia\n",
      "Wiktionary\n"
     ]
    }
   ],
   "source": [
    "for node in nodes:\n",
    "    print node"
   ]
  },
  {
   "cell_type": "code",
   "execution_count": 23,
   "metadata": {
    "collapsed": false
   },
   "outputs": [
    {
     "name": "stdout",
     "output_type": "stream",
     "text": [
      "10\n"
     ]
    }
   ],
   "source": [
    "nodes = tree.xpath(\"//editions/edition/text()\")\n",
    "print len(nodes)"
   ]
  },
  {
   "cell_type": "code",
   "execution_count": 24,
   "metadata": {
    "collapsed": false
   },
   "outputs": [
    {
     "name": "stdout",
     "output_type": "stream",
     "text": [
      "en.wikipedia.org\n",
      "de.wikipedia.org\n",
      "fr.wikipedia.org\n",
      "pl.wikipedia.org\n",
      "es.wikipedia.org\n",
      "en.wiktionary.org\n",
      "fr.wiktionary.org\n",
      "vi.wiktionary.org\n",
      "tr.wiktionary.org\n",
      "es.wiktionary.org\n"
     ]
    }
   ],
   "source": [
    "for node in nodes:\n",
    "    print node"
   ]
  },
  {
   "cell_type": "code",
   "execution_count": 64,
   "metadata": {
    "collapsed": false
   },
   "outputs": [
    {
     "name": "stdout",
     "output_type": "stream",
     "text": [
      "2\n"
     ]
    }
   ],
   "source": [
    "nodes = tree.xpath(\"/wikimedia/projects/project/editions/edition[@language='English']/text()\")\n",
    "print len(nodes)"
   ]
  },
  {
   "cell_type": "code",
   "execution_count": 65,
   "metadata": {
    "collapsed": false
   },
   "outputs": [
    {
     "name": "stdout",
     "output_type": "stream",
     "text": [
      "en.wikipedia.org\n",
      "en.wiktionary.org\n"
     ]
    }
   ],
   "source": [
    "for node in nodes:\n",
    "    print node"
   ]
  },
  {
   "cell_type": "code",
   "execution_count": 66,
   "metadata": {
    "collapsed": false
   },
   "outputs": [
    {
     "name": "stdout",
     "output_type": "stream",
     "text": [
      "5\n"
     ]
    }
   ],
   "source": [
    "nodes = tree.xpath(\"/wikimedia/projects/project[@name='Wikipedia']/editions/edition/text()\")\n",
    "print len(nodes)"
   ]
  },
  {
   "cell_type": "code",
   "execution_count": 67,
   "metadata": {
    "collapsed": false
   },
   "outputs": [
    {
     "name": "stdout",
     "output_type": "stream",
     "text": [
      "en.wikipedia.org\n",
      "de.wikipedia.org\n",
      "fr.wikipedia.org\n",
      "pl.wikipedia.org\n",
      "es.wikipedia.org\n"
     ]
    }
   ],
   "source": [
    "for node in nodes:\n",
    "    print node"
   ]
  },
  {
   "cell_type": "markdown",
   "metadata": {},
   "source": [
    "### 1.5.6 css selectors\n",
    "\n",
    "* CSS는 html의 스타일을 정하는 규칙을 가지고 있다. css selector는 첫 '{' 앞에 오는 selector로서 규칙이 적용되는 범위를 정한다.\n",
    "\n",
    "* [css selectors](http://www.w3schools.com/cssref/css_selectors.asp)\n",
    "    * text()함수를 사용해서 inline 문자를 가져올 수 있다. 예: $x('//a/text()')\n",
    "\n",
    "type of selector | example | 설명 | xpath\n",
    "------------|------------|------------|------------\n",
    "[attribute] | $$('input[type=\"email\"]') | | $x('//input[@type=\"email\"]')\n",
    "type | 'div'<br>'a' | div 태그<br>a 태그 | '//div'<br>'//a'\n",
    "class | '.foo' | class 속성이 foo를 선택 | '//*[@class=\"divclass\"]'\n",
    "id | '#divid' | id foo (1개만 선택. 클래스는 여러 개 선택) | '//*[@id=\"divid\"]'\n",
    "universal | '*' | all | '//*'\n",
    "descendents | 'div a' | all a's inside div (여러 세대 떨어져도 선택) | //div//a' \n",
    "child | 'div > a' | a's only children to the div (1세대 다음) | //div/a\n",
    "parents | a ~ b | any parents of b (여러 세대 위)\n",
    "grouped | 'h1, h2' | 'h1 h2' |\n",
    "text | a:link | 선택한 노드, element의 text | text()\n",
    "\n",
    "* 설치\n",
    "    ```\n",
    "    sudo apt-get install libxml2-dev libxslt1-dev\n",
    "    pip install lxml cssselect\n",
    "    ```\n",
    "\n",
    "* chrome console에서는 $$('selector')"
   ]
  },
  {
   "cell_type": "markdown",
   "metadata": {
    "collapsed": true
   },
   "source": [
    "#### 1.5.6.1 css"
   ]
  },
  {
   "cell_type": "code",
   "execution_count": 1,
   "metadata": {
    "collapsed": false,
    "scrolled": false
   },
   "outputs": [
    {
     "name": "stdout",
     "output_type": "stream",
     "text": [
      "Overwriting src/mypage2.html\n"
     ]
    }
   ],
   "source": [
    "%%writefile src/mypage2.html\n",
    "<!DOCTYPE html>\n",
    "<html>\n",
    "<head>\n",
    "    <meta charset=\"UTF-8\">\n",
    "    <title>My Home Page</title>\n",
    "    <style>\n",
    "        h1 {\n",
    "            text-align: center;\n",
    "            color:red;\n",
    "            font-family: 'Droid Sans', sans-serif;\n",
    "        };  \n",
    "    </style>\n",
    "</head>\n",
    "<body>\n",
    "    <h1>안녕하십니까</h1>\n",
    "    <p>오늘은 프로그래밍 하는 날...</p>\n",
    "    <p>Today we do programming...</p>\n",
    "\n",
    "    <div id=\"divid\">\n",
    "        <h2>Hello h2</h2>\n",
    "        <p>Here we use div id.</p>\n",
    "        <a href=\"https://www.example.com\">Visit example.com</a>\n",
    "    </div>\n",
    "    <div class=\"divclass\">\n",
    "        <h2>Welcome</h2>\n",
    "        <p>Here we use div class.</p>\n",
    "        <ul>\n",
    "            <li>first</li>\n",
    "            <li>second</li>\n",
    "        </ul>\n",
    "    </div>\n",
    "\n",
    "    <form action=\"\">\n",
    "    Email <input type=\"email\" value=\"emailvalue\" name=\"emailname\" id=\"emailid\"\n",
    "        class=\"emailclass\" style=\"background-color: green;\"required>\n",
    "    Zip Code <input type=\"number\" name=\"zipname\" required>\n",
    "    <textarea rows=\"4\" columns=\"50\"></textarea>\n",
    "    <input type=\"submit\" value=\"Submit\">\n",
    "    </form>\n",
    "</body>\n",
    "</html>"
   ]
  },
  {
   "cell_type": "code",
   "execution_count": 3,
   "metadata": {
    "collapsed": false
   },
   "outputs": [
    {
     "data": {
      "text/html": [
       "    <h1>안녕하십니까</h1>\n",
       "    <p>오늘은 프로그래밍 하는 날...</p>\n",
       "    <p>Today we do programming...</p>\n",
       "\n",
       "    <div id=\"divid\">\n",
       "        <h2>Hello h2</h2>\n",
       "        <p>Here we use div id.</p>\n",
       "    </div>\n",
       "    <div class=\"divclass\">\n",
       "        <h2>Welcome</h2>\n",
       "        <p>Here we use div class.</p>\n",
       "        <a href=\"https://www.example.com\">Visit example.com</a>\n",
       "    </div>\n",
       "\n",
       "    <form action=\"\">\n",
       "    Email <input type=\"email\" value=\"emailvalue\" name=\"emailname\" id=\"emailid\"\n",
       "        class=\"emailclass\" style=\"background-color: green;\"required>\n",
       "    Zip Code <input type=\"number\" name=\"zipname\" required>\n",
       "    <textarea rows=\"4\" columns=\"50\"></textarea>\n",
       "    <input type=\"submit\" value=\"Submit\">\n",
       "    </form>"
      ],
      "text/plain": [
       "<IPython.core.display.HTML object>"
      ]
     },
     "metadata": {},
     "output_type": "display_data"
    }
   ],
   "source": [
    "%%html\n",
    "    <h1>안녕하십니까</h1>\n",
    "    <p>오늘은 프로그래밍 하는 날...</p>\n",
    "    <p>Today we do programming...</p>\n",
    "\n",
    "    <div id=\"divid\">\n",
    "        <h2>Hello h2</h2>\n",
    "        <p>Here we use div id.</p>\n",
    "    </div>\n",
    "    <div class=\"divclass\">\n",
    "        <h2>Welcome</h2>\n",
    "        <p>Here we use div class.</p>\n",
    "        <a href=\"https://www.example.com\">Visit example.com</a>\n",
    "    </div>\n",
    "\n",
    "    <form action=\"\">\n",
    "    Email <input type=\"email\" value=\"emailvalue\" name=\"emailname\" id=\"emailid\"\n",
    "        class=\"emailclass\" style=\"background-color: green;\"required>\n",
    "    Zip Code <input type=\"number\" name=\"zipname\" required>\n",
    "    <textarea rows=\"4\" columns=\"50\"></textarea>\n",
    "    <input type=\"submit\" value=\"Submit\">\n",
    "    </form>"
   ]
  },
  {
   "cell_type": "code",
   "execution_count": 82,
   "metadata": {
    "collapsed": true
   },
   "outputs": [],
   "source": [
    "htmlstr='''<form action=\"\">\n",
    "    Email <input type=\"email\" value=\"email\" name=\"email\" id=\"email\"\n",
    "        class=\"input_email\" style=\"background-color: green;\">\n",
    "    <textarea rows=\"4\" columns=\"50\"></textarea>\n",
    "</form>\n",
    "'''"
   ]
  },
  {
   "cell_type": "code",
   "execution_count": 84,
   "metadata": {
    "collapsed": false
   },
   "outputs": [],
   "source": [
    "import lxml\n",
    "import StringIO\n",
    "\n",
    "parser=lxml.etree.HTMLParser()\n",
    "tree=lxml.etree.parse(StringIO.StringIO(htmlstr),parser)"
   ]
  },
  {
   "cell_type": "code",
   "execution_count": 89,
   "metadata": {
    "collapsed": false
   },
   "outputs": [
    {
     "name": "stdout",
     "output_type": "stream",
     "text": [
      "<type 'list'> 1\n",
      "None\n"
     ]
    }
   ],
   "source": [
    "# construct a CSS Selector -> \n",
    "from lxml.cssselect import CSSSelector\n",
    "sel = CSSSelector('#email')\n",
    "# Apply the selector to the DOM tree.\n",
    "nodes = sel(tree)\n",
    "print type(nodes),len(nodes)\n",
    "for e in nodes:\n",
    "    print e.text"
   ]
  },
  {
   "cell_type": "markdown",
   "metadata": {},
   "source": [
    "#### 1.5.6.2 xml"
   ]
  },
  {
   "cell_type": "markdown",
   "metadata": {},
   "source": [
    "* 위에서 만들어 놓은 ElementTree객체를 사용한다.\n",
    "* css selector의 결과는 list이다."
   ]
  },
  {
   "cell_type": "code",
   "execution_count": 22,
   "metadata": {
    "collapsed": false
   },
   "outputs": [
    {
     "data": {
      "text/plain": [
       "lxml.etree._ElementTree"
      ]
     },
     "execution_count": 22,
     "metadata": {},
     "output_type": "execute_result"
    }
   ],
   "source": [
    "type(tree)"
   ]
  },
  {
   "cell_type": "code",
   "execution_count": 23,
   "metadata": {
    "collapsed": false
   },
   "outputs": [
    {
     "name": "stdout",
     "output_type": "stream",
     "text": [
      "<type 'list'> 1\n"
     ]
    }
   ],
   "source": [
    "import lxml.html\n",
    "from lxml.cssselect import CSSSelector\n",
    "\n",
    "# construct a CSS Selector -> \n",
    "sel = CSSSelector('wikimedia')\n",
    "# Apply the selector to the DOM tree.\n",
    "nodes = sel(tree)\n",
    "print type(nodes),len(nodes)"
   ]
  },
  {
   "cell_type": "code",
   "execution_count": 25,
   "metadata": {
    "collapsed": false
   },
   "outputs": [
    {
     "name": "stdout",
     "output_type": "stream",
     "text": [
      "<wikimedia>\n",
      "  <projects>\n",
      "    <project name=\"Wikipedia\" launch=\"2001-01-05\">\n",
      "      <editions>\n",
      "        <edition language=\"English\">en.wikipedia.org</edition>\n",
      "        <edition language=\"German\">de.wikipedia.org</edition>\n",
      "        <edition language=\"French\">fr.wikipedia.org</edition>\n",
      "        <edition language=\"Polish\">pl.wikipedia.org</edition>\n",
      "        <edition language=\"Spanish\">es.wikipedia.org</edition>\n",
      "      </editions>\n",
      "    </project>\n",
      "    <project name=\"Wiktionary\" launch=\"2002-12-12\">\n",
      "      <editions>\n",
      "        <edition language=\"English\">en.wiktionary.org</edition>\n",
      "        <edition language=\"French\">fr.wiktionary.org</edition>\n",
      "        <edition language=\"Vietnamese\">vi.wiktionary.org</edition>\n",
      "        <edition language=\"Turkish\">tr.wiktionary.org</edition>\n",
      "        <edition language=\"Spanish\">es.wiktionary.org</edition>\n",
      "      </editions>\n",
      "    </project>\n",
      "  </projects>\n",
      "</wikimedia>\n"
     ]
    }
   ],
   "source": [
    "for node in nodes:\n",
    "    print lxml.html.tostring(node)"
   ]
  },
  {
   "cell_type": "markdown",
   "metadata": {},
   "source": [
    "#### 1.5.6.3 html"
   ]
  },
  {
   "cell_type": "code",
   "execution_count": 24,
   "metadata": {
    "collapsed": true
   },
   "outputs": [],
   "source": [
    "htmlstr=\"\"\"<!DOCTYPE html>\n",
    "<html>\n",
    "<head>\n",
    "<meta charset=\"UTF-8\">\n",
    "<title>My Home Page</title>\n",
    "</head>\n",
    "<body>\n",
    "<h1>안녕하십니까</h1>\n",
    "<p>오늘은 프로그래밍 하는 날...</p>\n",
    "<p>Today we do programming...</p>\n",
    "</body>\n",
    "</html>\"\"\""
   ]
  },
  {
   "cell_type": "code",
   "execution_count": 25,
   "metadata": {
    "collapsed": false
   },
   "outputs": [],
   "source": [
    "import lxml.html\n",
    "from lxml.cssselect import CSSSelector\n",
    "\n",
    "_html = lxml.html.fromstring(htmlstr)"
   ]
  },
  {
   "cell_type": "code",
   "execution_count": 26,
   "metadata": {
    "collapsed": false,
    "scrolled": true
   },
   "outputs": [
    {
     "name": "stdout",
     "output_type": "stream",
     "text": [
      "<html>\n",
      "<head>\n",
      "<meta charset=\"UTF-8\">\n",
      "<title>My Home Page</title>\n",
      "</head>\n",
      "<body>\n",
      "<h1>&#50504;&#45397;&#54616;&#49901;&#45768;&#44620;</h1>\n",
      "<p>&#50724;&#45720;&#51008; &#54532;&#47196;&#44536;&#47000;&#48141; &#54616;&#45716; &#45216;...</p>\n",
      "<p>Today we do programming...</p>\n",
      "</body>\n",
      "</html>\n"
     ]
    }
   ],
   "source": [
    "print lxml.html.tostring(_html)"
   ]
  },
  {
   "cell_type": "code",
   "execution_count": 27,
   "metadata": {
    "collapsed": false
   },
   "outputs": [
    {
     "name": "stdout",
     "output_type": "stream",
     "text": [
      "[<Element p at 0x7fc9190a30a8>, <Element p at 0x7fc9190a3788>]\n"
     ]
    }
   ],
   "source": [
    "sel = CSSSelector('body  p')\n",
    "nodes = sel(_html)\n",
    "print nodes"
   ]
  },
  {
   "cell_type": "code",
   "execution_count": 28,
   "metadata": {
    "collapsed": false
   },
   "outputs": [
    {
     "name": "stdout",
     "output_type": "stream",
     "text": [
      "오늘은 프로그래밍 하는 날...\n",
      "Today we do programming...\n"
     ]
    }
   ],
   "source": [
    "for node in nodes:\n",
    "    print node.text"
   ]
  },
  {
   "cell_type": "markdown",
   "metadata": {
    "collapsed": true
   },
   "source": [
    "* chrom javascript console에서 selector를 복사해서 사용한다.\n",
    "* nth-child(2)는 특정 child를 선택한다."
   ]
  },
  {
   "cell_type": "code",
   "execution_count": 31,
   "metadata": {
    "collapsed": false
   },
   "outputs": [
    {
     "name": "stdout",
     "output_type": "stream",
     "text": [
      "[<Element p at 0x7f5357ff1db8>]\n"
     ]
    }
   ],
   "source": [
    "_html = lxml.html.fromstring(htmlstr)\n",
    "sel = CSSSelector('body > p:nth-child(2)')\n",
    "nodes = sel(_html)\n",
    "print nodes"
   ]
  },
  {
   "cell_type": "code",
   "execution_count": 32,
   "metadata": {
    "collapsed": false
   },
   "outputs": [
    {
     "name": "stdout",
     "output_type": "stream",
     "text": [
      "오늘은 프로그래밍 하는 날...\n"
     ]
    }
   ],
   "source": [
    "for node in nodes:\n",
    "    print node.text"
   ]
  },
  {
   "cell_type": "code",
   "execution_count": 34,
   "metadata": {
    "collapsed": false
   },
   "outputs": [
    {
     "name": "stdout",
     "output_type": "stream",
     "text": [
      "[<Element h1 at 0x7f5357ff9730>]\n"
     ]
    }
   ],
   "source": [
    "_html = lxml.html.fromstring(htmlstr)\n",
    "sel = CSSSelector('body > h1')\n",
    "nodes = sel(_html)\n",
    "print nodes"
   ]
  },
  {
   "cell_type": "code",
   "execution_count": 35,
   "metadata": {
    "collapsed": false
   },
   "outputs": [
    {
     "name": "stdout",
     "output_type": "stream",
     "text": [
      "안녕하십니까\n"
     ]
    }
   ],
   "source": [
    "for node in nodes:\n",
    "    print node.text"
   ]
  },
  {
   "cell_type": "markdown",
   "metadata": {},
   "source": [
    "## 웹데이터-1: python.org 페이지를 크롤링해서 http url 출력하기\n",
    "\n",
    "* 정적인 페이지 가져오기\n",
    "* 사용자가 웹브라우저 주소창에 url을 입력하고 웹페이지 요청\n",
    "\n",
    "* urllib2.urlopen \n",
    "    * GET 또는 POST 방식으로 원격 url (html, 이미지, 파일 등)을 연다.\n",
    "* 다음 방식으로 해 본다.\n",
    "    * regex\n",
    "    * BeautifulSoup\n",
    "    * xpath\n",
    "    * css selector"
   ]
  },
  {
   "cell_type": "markdown",
   "metadata": {},
   "source": [
    "### html page 가져오기\n",
    "\n",
    "* Python.org페이지를 가져온다. urllib을 사용해서 response로 받는다.\n",
    "* 그 길이는 47,408이다.\n",
    "* 웹페이지는 html 문자열, 즉 string, unicode이다.\n",
    "    * 문자열이므로, html태그 역시 parsing하기 전에는 문자일 뿐이다."
   ]
  },
  {
   "cell_type": "code",
   "execution_count": 4,
   "metadata": {
    "collapsed": false
   },
   "outputs": [
    {
     "name": "stdout",
     "output_type": "stream",
     "text": [
      "47410\n"
     ]
    }
   ],
   "source": [
    "import urllib\n",
    "response = urllib.urlopen('http://python.org/')\n",
    "_html = response.read()\n",
    "print len(_html)"
   ]
  },
  {
   "cell_type": "code",
   "execution_count": 48,
   "metadata": {
    "collapsed": false
   },
   "outputs": [
    {
     "name": "stdout",
     "output_type": "stream",
     "text": [
      "<type 'str'>\n"
     ]
    }
   ],
   "source": [
    "print type(_html)"
   ]
  },
  {
   "cell_type": "markdown",
   "metadata": {},
   "source": [
    "* response의 정보를 읽을 수 있다.\n",
    "    * 앞서 47,408 길이도 확인할 수 있다."
   ]
  },
  {
   "cell_type": "code",
   "execution_count": 3,
   "metadata": {
    "collapsed": false,
    "scrolled": true
   },
   "outputs": [
    {
     "name": "stdout",
     "output_type": "stream",
     "text": [
      "Server: nginx\r\n",
      "Content-Type: text/html; charset=utf-8\r\n",
      "X-Frame-Options: SAMEORIGIN\r\n",
      "X-Clacks-Overhead: GNU Terry Pratchett\r\n",
      "Content-Length: 47408\r\n",
      "Accept-Ranges: bytes\r\n",
      "Date: Thu, 09 Mar 2017 05:39:15 GMT\r\n",
      "Via: 1.1 varnish\r\n",
      "Age: 540\r\n",
      "Connection: close\r\n",
      "X-Served-By: cache-nrt6130-NRT\r\n",
      "X-Cache: HIT\r\n",
      "X-Cache-Hits: 15\r\n",
      "X-Timer: S1489037955.868861,VS0,VE0\r\n",
      "Vary: Cookie\r\n",
      "Public-Key-Pins: max-age=600; includeSubDomains; pin-sha256=\"WoiWRyIOVNa9ihaBciRSC7XHjliYS9VwUGOIud4PB18=\"; pin-sha256=\"5C8kvU039KouVrl52D0eZSGf4Onjo4Khs8tmyTlV3nU=\"; pin-sha256=\"5C8kvU039KouVrl52D0eZSGf4Onjo4Khs8tmyTlV3nU=\"; pin-sha256=\"lCppFqbkrlJ3EcVFAkeip0+44VaoJUymbnOaEUk7tEU=\"; pin-sha256=\"TUDnr0MEoJ3of7+YliBMBVFB4/gJsv5zO7IxD9+YoWI=\"; pin-sha256=\"x4QzPSC810K5/cMjb05Qm4k3Bw5zBn4lTdO/nEW/Td4=\";\r\n",
      "Strict-Transport-Security: max-age=63072000; includeSubDomains\r\n",
      "\n"
     ]
    }
   ],
   "source": [
    "print response.info()"
   ]
  },
  {
   "cell_type": "markdown",
   "metadata": {},
   "source": [
    "### regex"
   ]
  },
  {
   "cell_type": "code",
   "execution_count": 5,
   "metadata": {
    "collapsed": false
   },
   "outputs": [
    {
     "name": "stdout",
     "output_type": "stream",
     "text": [
      "http url은 몇 개? 44\n",
      "0 http://www.ie6countdown.com/\n",
      "1 http://browsehappy.com/\n",
      "2 http://www.google.com/chromeframe/?redirect=true\n",
      "3 http://plus.google.com/+Python\n",
      "4 http://www.facebook.com/pythonlang?fref=ts\n",
      "5 http://twitter.com/ThePSF\n",
      "6 http://brochure.getpython.info/\n",
      "7 http://wiki.python.org/moin/Languages\n",
      "8 http://python.org/dev/peps/\n",
      "9 http://planetpython.org/\n",
      "10 http://pyfound.blogspot.com/\n",
      "11 http://pycon.blogspot.com/\n",
      "12 http://docs.python.org/3/tutorial/introduction.html#using-python-as-a-calculator\n",
      "13 http://blog.python.org\n",
      "14 http://feedproxy.google.com/~r/PythonInsider/~3/w2AW2NRSOEM/python-361rc1-is-now-available-for.html\n",
      "15 http://feedproxy.google.com/~r/PythonInsider/~3/NeIHRAidlpc/python-353-and-346-are-now-available.html\n",
      "16 http://feedproxy.google.com/~r/PythonInsider/~3/UoiMThSwgQM/python-353rc1-and-python-346rc1-are-now.html\n",
      "17 http://feedproxy.google.com/~r/PythonInsider/~3/4gOtq8ChYHk/python-360-is-now-available.html\n",
      "18 http://feedproxy.google.com/~r/PythonInsider/~3/LLpTSlyUots/python-2713-released.html\n",
      "19 http://www.djangoproject.com/\n",
      "20 http://www.pylonsproject.org/\n",
      "21 http://bottlepy.org\n",
      "22 http://tornadoweb.org\n",
      "23 http://flask.pocoo.org/\n",
      "24 http://www.web2py.com/\n",
      "25 http://wiki.python.org/moin/TkInter\n",
      "26 http://www.riverbankcomputing.co.uk/software/pyqt/intro\n",
      "27 http://www.wxpython.org/\n",
      "28 http://www.scipy.org\n",
      "29 http://pandas.pydata.org/\n",
      "30 http://ipython.org\n",
      "31 http://buildbot.net/\n",
      "32 http://trac.edgewall.org/\n",
      "33 http://roundup.sourceforge.net/\n",
      "34 http://www.ansible.com\n",
      "35 http://www.saltstack.com\n",
      "36 http://brochure.getpython.info/\n",
      "37 http://wiki.python.org/moin/Languages\n",
      "38 http://python.org/dev/peps/\n",
      "39 http://planetpython.org/\n",
      "40 http://pyfound.blogspot.com/\n",
      "41 http://pycon.blogspot.com/\n",
      "42 http://docs.python.org/devguide/\n",
      "43 http://bugs.python.org/\n"
     ]
    }
   ],
   "source": [
    "import re\n",
    "#p=re.compile('http://.+\"')\n",
    "p=re.compile('href=\"(http://.*?)\"')\n",
    "nodes=p.findall(_html)\n",
    "print \"http url은 몇 개?\",len(nodes)\n",
    "for i, node in enumerate(nodes):\n",
    "    print i, node"
   ]
  },
  {
   "cell_type": "markdown",
   "metadata": {},
   "source": [
    "* regex를 사용해서 태그 값을 가져오기\n",
    "    * library를 사용하면 보다 간편하게 가져올 수 있지만, 배운 regex를 이용해보자.\n",
    "    * h1 태그\n",
    "    * p 태그"
   ]
  },
  {
   "cell_type": "code",
   "execution_count": 4,
   "metadata": {
    "collapsed": false,
    "scrolled": true
   },
   "outputs": [
    {
     "name": "stdout",
     "output_type": "stream",
     "text": [
      "Functions Defined\n",
      "Compound Data Types\n",
      "Intuitive Interpretation\n",
      "Quick &amp; Easy to Learn\n",
      "All the Flow You&rsquo;d Expect\n"
     ]
    }
   ],
   "source": [
    "import re\n",
    "p=re.compile('<h1>(.*?)</h1>')\n",
    "h1tags=p.findall(_html)\n",
    "for tag in h1tags:\n",
    "    print tag"
   ]
  },
  {
   "cell_type": "code",
   "execution_count": 4,
   "metadata": {
    "collapsed": false
   },
   "outputs": [],
   "source": [
    "import re\n",
    "p=re.compile('<p>(.*?)</p>')\n",
    "ptags=p.findall(_html)"
   ]
  },
  {
   "cell_type": "code",
   "execution_count": 3,
   "metadata": {
    "collapsed": false
   },
   "outputs": [
    {
     "name": "stdout",
     "output_type": "stream",
     "text": [
      "18\n"
     ]
    }
   ],
   "source": [
    "print len(ptags)"
   ]
  },
  {
   "cell_type": "code",
   "execution_count": 5,
   "metadata": {
    "collapsed": false
   },
   "outputs": [
    {
     "name": "stdout",
     "output_type": "stream",
     "text": [
      "<strong>Notice:</strong> While Javascript is not essential for this website, your interaction with the content will be limited. Please turn Javascript on for the full experience. \n"
     ]
    }
   ],
   "source": [
    "print ptags[0]"
   ]
  },
  {
   "cell_type": "code",
   "execution_count": 6,
   "metadata": {
    "collapsed": false,
    "scrolled": true
   },
   "outputs": [],
   "source": [
    "#for i in ptags:\n",
    "    #print i"
   ]
  },
  {
   "cell_type": "markdown",
   "metadata": {},
   "source": [
    "### BeautifulSoup\n",
    "\n",
    "* 태그를 파싱하는 라이브러리\n",
    "* 설치\n",
    "    * 윈도우 아나콘다창 또는 맥/리눅스 Terminal에서\n",
    "    \n",
    "    ```sudo pip install BeautifulSoup```\n",
    "* 위 예제, p 태그의 처음에 있는 strong 태그 가져오기\n"
   ]
  },
  {
   "cell_type": "code",
   "execution_count": 42,
   "metadata": {
    "collapsed": false
   },
   "outputs": [
    {
     "name": "stdout",
     "output_type": "stream",
     "text": [
      "<strong>Notice:</strong>\n",
      "<strong><small>A</small> A</strong>\n",
      "<strong>relaunched community-run job board</strong>\n"
     ]
    }
   ],
   "source": [
    "from bs4 import BeautifulSoup\n",
    "tree=BeautifulSoup(_html, \"lxml\")\n",
    "strongtags=tree('strong')\n",
    "for tag in strongtags:\n",
    "    print tag"
   ]
  },
  {
   "cell_type": "markdown",
   "metadata": {},
   "source": [
    "* 파서parser를 추가한다. lxml이 기본 파서로 사용된다.\n",
    "* 20개만 출력한다. 전체 개수는 맨 마지막 줄에 출력한다."
   ]
  },
  {
   "cell_type": "code",
   "execution_count": 15,
   "metadata": {
    "collapsed": false
   },
   "outputs": [
    {
     "name": "stdout",
     "output_type": "stream",
     "text": [
      "0 /wiki/Wikipedia:Protection_policy#semi\n",
      "1 #mw-head\n",
      "2 #p-search\n",
      "3 /wiki/Kevin_Bacon_(disambiguation)\n",
      "4 /wiki/File:Kevin_Bacon_SDCC_2014.jpg\n",
      "5 /wiki/San_Diego_Comic-Con\n",
      "6 /wiki/Philadelphia\n",
      "7 /wiki/Pennsylvania\n",
      "8 /wiki/Kyra_Sedgwick\n",
      "9 /wiki/Sosie_Bacon\n",
      "10 /wiki/Edmund_Bacon_(architect)\n",
      "11 /wiki/Michael_Bacon_(musician)\n",
      "12 http://baconbros.com/\n",
      "13 #cite_note-1\n",
      "14 #cite_note-actor-2\n",
      "15 /wiki/Footloose_(1984_film)\n",
      "16 /wiki/JFK_(film)\n",
      "17 /wiki/A_Few_Good_Men\n",
      "18 /wiki/Apollo_13_(film)\n",
      "19 /wiki/Mystic_River_(film)\n",
      "Total:  788\n"
     ]
    }
   ],
   "source": [
    "from urllib import urlopen\n",
    "from bs4 import BeautifulSoup\n",
    "_html = urlopen(\"http://en.wikipedia.org/wiki/Kevin_Bacon\")\n",
    "tree = BeautifulSoup(_html, \"lxml\")\n",
    "counter=0\n",
    "for link in tree.findAll(\"a\"):\n",
    "    if 'href' in link.attrs:\n",
    "        if counter<20:\n",
    "            print counter, link.attrs['href']\n",
    "        counter+=1\n",
    "print \"Total: \", counter"
   ]
  },
  {
   "cell_type": "markdown",
   "metadata": {},
   "source": [
    "### xpath, css selector를 Chrom javascript console에서 확인해보자.\n",
    "\n",
    "* xpath\n",
    "    ```\n",
    "    $x('//*[@href]')\n",
    "    ```\n",
    "* css select\n",
    "    ```\n",
    "    $$('a[href]')\n",
    "    ```"
   ]
  },
  {
   "cell_type": "markdown",
   "metadata": {
    "collapsed": true
   },
   "source": [
    "### xpath로 해보기\n",
    "\n",
    "* lxml로 html을 파싱해서 자료 가져오기 (위에서 읽어온 html 변수를 사용)"
   ]
  },
  {
   "cell_type": "code",
   "execution_count": 61,
   "metadata": {
    "collapsed": false
   },
   "outputs": [
    {
     "name": "stdout",
     "output_type": "stream",
     "text": [
      "47423\n"
     ]
    }
   ],
   "source": [
    "print len(_html)"
   ]
  },
  {
   "cell_type": "code",
   "execution_count": 10,
   "metadata": {
    "collapsed": false
   },
   "outputs": [
    {
     "name": "stdout",
     "output_type": "stream",
     "text": [
      "\n"
     ]
    }
   ],
   "source": [
    "from lxml import etree\n",
    "_htmlTree = etree.HTML(_html)\n",
    "result = etree.tostring(_htmlTree, pretty_print=True, method=\"html\")"
   ]
  },
  {
   "cell_type": "code",
   "execution_count": 9,
   "metadata": {
    "collapsed": false,
    "scrolled": true
   },
   "outputs": [
    {
     "name": "stdout",
     "output_type": "stream",
     "text": [
      "47357\n"
     ]
    }
   ],
   "source": [
    "print len(result)"
   ]
  },
  {
   "cell_type": "code",
   "execution_count": 11,
   "metadata": {
    "collapsed": false,
    "scrolled": true
   },
   "outputs": [
    {
     "name": "stdout",
     "output_type": "stream",
     "text": [
      "207\n"
     ]
    }
   ],
   "source": [
    "nodes = _htmlTree.xpath('//*[@href]')\n",
    "print len(nodes)"
   ]
  },
  {
   "cell_type": "code",
   "execution_count": 12,
   "metadata": {
    "collapsed": false
   },
   "outputs": [
    {
     "name": "stdout",
     "output_type": "stream",
     "text": [
      "0 {'href': '//ajax.googleapis.com/ajax/libs/jquery/1.8.2/jquery.min.js', 'rel': 'prefetch'}\n",
      "1 {'href': '/static/stylesheets/style.css', 'type': 'text/css', 'rel': 'stylesheet', 'title': 'default'}\n",
      "2 {'media': 'not print, braille, embossed, speech, tty', 'href': '/static/stylesheets/mq.css', 'type': 'text/css', 'rel': 'stylesheet'}\n",
      "3 {'href': '/static/favicon.ico', 'type': 'image/x-icon', 'rel': 'icon'}\n",
      "4 {'href': '/static/apple-touch-icon-144x144-precomposed.png', 'rel': 'apple-touch-icon-precomposed', 'sizes': '144x144'}\n",
      "5 {'href': '/static/apple-touch-icon-114x114-precomposed.png', 'rel': 'apple-touch-icon-precomposed', 'sizes': '114x114'}\n",
      "6 {'href': '/static/apple-touch-icon-72x72-precomposed.png', 'rel': 'apple-touch-icon-precomposed', 'sizes': '72x72'}\n",
      "7 {'href': '/static/apple-touch-icon-precomposed.png', 'rel': 'apple-touch-icon-precomposed'}\n",
      "8 {'href': '/static/apple-touch-icon-precomposed.png', 'rel': 'apple-touch-icon'}\n",
      "9 {'href': '/static/humans.txt', 'rel': 'author'}\n",
      "10 {'href': '#content', 'title': 'Skip to content'}\n",
      "11 {'href': '#python-network', 'aria-hidden': 'true', 'id': 'close-python-network', 'class': 'jump-link'}\n",
      "12 {'href': '/', 'class': 'current_item selectedcurrent_branch selected', 'title': 'The Python Programming Language'}\n",
      "13 {'href': '/psf-landing/', 'title': 'The Python Software Foundation'}\n",
      "14 {'href': 'https://docs.python.org', 'title': 'Python Documentation'}\n",
      "15 {'href': 'https://pypi.python.org/', 'title': 'Python Package Index'}\n",
      "16 {'href': '/jobs/', 'title': 'Python Job Board'}\n",
      "17 {'href': '/community/', 'title': 'Python Community'}\n",
      "18 {'href': '#top', 'aria-hidden': 'true', 'id': 'python-network', 'class': 'jump-link'}\n",
      "19 {'href': '/'}\n"
     ]
    }
   ],
   "source": [
    "for i, node in enumerate(nodes):\n",
    "    if i<20:\n",
    "        print i, node.attrib"
   ]
  },
  {
   "cell_type": "markdown",
   "metadata": {},
   "source": [
    "### css selector"
   ]
  },
  {
   "cell_type": "code",
   "execution_count": 13,
   "metadata": {
    "collapsed": true
   },
   "outputs": [],
   "source": [
    "import lxml.html\n",
    "from lxml.cssselect import CSSSelector\n",
    "import requests\n",
    "r = requests.get('http://python.org/')\n",
    "\n",
    "html = lxml.html.fromstring(r.text)\n",
    "sel=CSSSelector('a[href]')\n",
    "# Apply the selector to the DOM tree.\n",
    "nodes = sel(html)"
   ]
  },
  {
   "cell_type": "code",
   "execution_count": 15,
   "metadata": {
    "collapsed": false
   },
   "outputs": [
    {
     "name": "stdout",
     "output_type": "stream",
     "text": [
      "197\n",
      "0 #content Skip to content\n",
      "1 #python-network \n",
      "                    \n",
      "2 / Python\n",
      "3 /psf-landing/ PSF\n",
      "4 https://docs.python.org Docs\n",
      "5 https://pypi.python.org/ PyPI\n",
      "6 /jobs/ Jobs\n",
      "7 /community/ Community\n",
      "8 #top \n",
      "                    \n",
      "9 / None\n",
      "10 #site-map None\n",
      "11 # None\n",
      "12 javascript:; Smaller\n",
      "13 javascript:; Larger\n",
      "14 javascript:; Reset\n",
      "15 # Socialize\n",
      "16 http://plus.google.com/+Python None\n",
      "17 http://www.facebook.com/pythonlang?fref=ts None\n",
      "18 http://twitter.com/ThePSF None\n",
      "19 /community/irc/ None\n"
     ]
    }
   ],
   "source": [
    "print len(nodes)\n",
    "for i,node in enumerate(nodes):\n",
    "    #print lxml.html.tostring(item)\n",
    "    if i<20:\n",
    "        print i, node.get('href'), node.text"
   ]
  },
  {
   "cell_type": "markdown",
   "metadata": {},
   "source": [
    "## 웹데이터-2: 웹파일을 가져와서 자료구조에 넣기\n",
    "\n",
    "* uci 기계학습 데이터 파일 읽기\n",
    "* 로컬 파일을 읽는 것과 비교\n",
    "* 전체 문자 수는 25,437\n",
    "* 데이터는 300행 x 28열"
   ]
  },
  {
   "cell_type": "code",
   "execution_count": 2,
   "metadata": {
    "collapsed": false
   },
   "outputs": [
    {
     "name": "stdout",
     "output_type": "stream",
     "text": [
      "25437\n"
     ]
    }
   ],
   "source": [
    "import urllib2\n",
    "url='http://archive.ics.uci.edu/ml/machine-learning-databases/horse-colic/horse-colic.data'\n",
    "res=urllib2.urlopen(url)\n",
    "html = res.read()\n",
    "res.close()\n",
    "print len(html)"
   ]
  },
  {
   "cell_type": "code",
   "execution_count": 30,
   "metadata": {
    "collapsed": false
   },
   "outputs": [
    {
     "name": "stdout",
     "output_type": "stream",
     "text": [
      "300 28\n",
      "['2', '1', '530101', '38.50', '66', '28', '3', '3', '?', '2', '5', '4', '4', '?', '?', '?', '3', '5', '45.00', '8.40', '?', '?', '2', '2', '11300', '00000', '00000', '2']\n"
     ]
    }
   ],
   "source": [
    "lines=html.splitlines()\n",
    "data=[]\n",
    "for line in lines:\n",
    "    data.append(line.split())\n",
    "print len(data), len(data[0])\n",
    "print data[0]"
   ]
  },
  {
   "cell_type": "markdown",
   "metadata": {},
   "source": [
    "### 데이터 확인\n",
    "\n",
    "* 모든 300행에대해 28개 컬럼이 있는지\n",
    "* 처음 20개만 3번째 컬럼 평균내보기"
   ]
  },
  {
   "cell_type": "code",
   "execution_count": 56,
   "metadata": {
    "collapsed": false
   },
   "outputs": [],
   "source": [
    "for i in range(0,len(data)):\n",
    "    if len(data[i]) != len(data[0]):\n",
    "        print \"wrong size at\", i"
   ]
  },
  {
   "cell_type": "code",
   "execution_count": 57,
   "metadata": {
    "collapsed": false
   },
   "outputs": [
    {
     "name": "stdout",
     "output_type": "stream",
     "text": [
      "38.50\n",
      "39.2\n",
      "38.30\n",
      "39.10\n",
      "37.30\n",
      "?\n",
      "37.90\n",
      "?\n",
      "?\n",
      "38.30\n",
      "38.10\n",
      "39.10\n",
      "37.20\n",
      "38.00\n",
      "38.2\n",
      "37.60\n",
      "?\n",
      "37.50\n",
      "37.60\n",
      "39.4\n"
     ]
    }
   ],
   "source": [
    "for i in range(0,20):\n",
    "    print data[i][3]"
   ]
  },
  {
   "cell_type": "code",
   "execution_count": 52,
   "metadata": {
    "collapsed": false
   },
   "outputs": [
    {
     "name": "stdout",
     "output_type": "stream",
     "text": [
      "0 38.50 38.5\n",
      "1 39.2 77.7\n",
      "2 38.30 116.0\n",
      "3 39.10 155.1\n",
      "4 37.30 192.4\n",
      "5 None\n",
      "6 37.90 230.3\n",
      "7 None\n",
      "8 None\n",
      "9 38.30 268.6\n",
      "10 38.10 306.7\n",
      "11 39.10 345.8\n",
      "12 37.20 383.0\n",
      "13 38.00 421.0\n",
      "14 38.2 459.2\n",
      "15 37.60 496.8\n",
      "16 None\n",
      "17 37.50 534.3\n",
      "18 37.60 571.9\n",
      "19 39.4 611.3\n",
      "count=16 sum=611.3 average=38.21\n"
     ]
    }
   ],
   "source": [
    "sum=0\n",
    "cnt=0\n",
    "for i in range(0,20):\n",
    "    val=data[i][3]\n",
    "    if val is '?':\n",
    "        print i,\"None\"\n",
    "    else:\n",
    "        sum+=float(val)\n",
    "        cnt+=1\n",
    "        print i,val, sum\n",
    "average=float(sum/cnt)\n",
    "print \"count={0} sum={1} average={2:2.2f}\".format(cnt,sum,average)"
   ]
  },
  {
   "cell_type": "markdown",
   "metadata": {},
   "source": [
    "## 웹데이터-3: wiki에서 'python'으로 검색해서 http url 출력하기\n",
    "\n",
    "* 앞 문제에서는 정적 페이지를 읽었고, 여기서는 검색어를 사용한 request\n",
    "* urllib을 사용해서 처리하면 오류, 웹브라우저를 열어서 하면 ok\n",
    "* 이유는 header를 설정하지 않아서 그렇다."
   ]
  },
  {
   "cell_type": "code",
   "execution_count": 58,
   "metadata": {
    "collapsed": false
   },
   "outputs": [
    {
     "data": {
      "text/plain": [
       "5503"
      ]
     },
     "execution_count": 58,
     "metadata": {},
     "output_type": "execute_result"
    }
   ],
   "source": [
    "from urllib import urlopen\n",
    "keyword='python'\n",
    "resp = urlopen('https://www.google.com/search?q='+keyword)\n",
    "html=resp.read()\n",
    "len(html)"
   ]
  },
  {
   "cell_type": "code",
   "execution_count": 59,
   "metadata": {
    "collapsed": false
   },
   "outputs": [
    {
     "name": "stdout",
     "output_type": "stream",
     "text": [
      "error\n"
     ]
    }
   ],
   "source": [
    "import re\n",
    "p=re.compile('.*(error).*')\n",
    "print p.search(html).group(1)"
   ]
  },
  {
   "cell_type": "code",
   "execution_count": 61,
   "metadata": {
    "collapsed": false
   },
   "outputs": [
    {
     "data": {
      "text/plain": [
       "True"
      ]
     },
     "execution_count": 61,
     "metadata": {},
     "output_type": "execute_result"
    }
   ],
   "source": [
    "import webbrowser\n",
    "webbrowser.open('http://www.google.com/search?q=python')"
   ]
  },
  {
   "cell_type": "markdown",
   "metadata": {},
   "source": [
    "### headers\n",
    "\n",
    "* user agent\n",
    "    * Python에서 사용하는 기본 User Agent 방식은 'a User-Agent header of urllib/VVV' (urllib 버전코드)\n",
    "    * urllib 1.17을 사용하면 'Python-urllib/1.17'\n",
    "    * 이런 User Agent를 사용하면 에러가 발생할 수 있슴. 헤더를 보고 Python 프로그램으로 크롤링한다고 판단해 거절.\n",
    "\n",
    "* 형식\n",
    "    ```Mozilla/[version] ([system and browser information]) [platform] ([platform details]) [extensions]```\n",
    "    * Safari on the iPad\n",
    "    ```Mozilla/5.0 (iPad; U; CPU OS 3_2_1 like Mac OS X; en-us) AppleWebKit/531.21.10 (KHTML, like Gecko) Mobile/7B40```\n",
    "    * Mozilla/5.0: Previously used to indicate compatibility with the Mozilla rendering engine.\n",
    "    * (iPad; U; CPU OS 3_2_1 like Mac OS X; en-us): Details of the system in which the browser is running.\n",
    "    * AppleWebKit/531.21.10: The platform the browser uses.\n",
    "    * (KHTML, like Gecko): Browser platform details.\n",
    "    * Mobile/7B405: This is used by the browser to indicate specific enhancements that are available directly in the browser or through third parties. An example of this is Microsoft Live Meeting which registers an extension so that the Live Meeting service knows if the software is already installed, which means it can provide a streamlined experience to joining meetings.\n",
    "* user agent 확인\n",
    "https://www.whatismybrowser.com/detect/what-is-my-user-agent\n",
    "\n",
    "* 리눅스 Firefox의 User Agent 예\n",
    "```Mozilla/5.0 (X11; Ubuntu; Linux x86_64; rv:42.0) Gecko/20100101 Firefox/42.0```\n",
    "\n",
    "* 맥 Safari의 User Agent 예\n",
    "```Mozilla/5.0 (Macintosh; Intel Mac OS X 10_11_1) AppleWebKit/601.2.7 (KHTML, like Gecko) Version/9.0.1 Safari/601.2.7```\n"
   ]
  },
  {
   "cell_type": "code",
   "execution_count": 17,
   "metadata": {
    "collapsed": false
   },
   "outputs": [
    {
     "data": {
      "text/plain": [
       "'Python-urllib/1.17'"
      ]
     },
     "execution_count": 17,
     "metadata": {},
     "output_type": "execute_result"
    }
   ],
   "source": [
    "# 파이썬에서 사용하는 기본 User Agent\n",
    "from urllib import URLopener\n",
    "URLopener.version"
   ]
  },
  {
   "cell_type": "code",
   "execution_count": 7,
   "metadata": {
    "collapsed": false,
    "scrolled": true
   },
   "outputs": [
    {
     "name": "stdout",
     "output_type": "stream",
     "text": [
      "status= 302\n",
      "response text= \n",
      "response header= {'Date': 'Fri, 03 Mar 2017 06:47:30 GMT', 'Content-Length': '261', 'Content-Type': 'text/html; charset=UTF-8', 'Location': 'http://www.google.co.kr/?gfe_rd=cr&ei=ghG5WJTVHaff8AfthbLgBA', 'Cache-Control': 'private'}\n"
     ]
    }
   ],
   "source": [
    "import requests\n",
    "\n",
    "resp = requests.head(\"http://www.google.com\")\n",
    "print \"status=\",resp.status_code\n",
    "print \"response text=\", resp.text\n",
    "print \"response header=\", resp.headers"
   ]
  },
  {
   "cell_type": "markdown",
   "metadata": {},
   "source": [
    "* 구글 검색엔진에서\n",
    "```\n",
    "https://www.google.co.kr/search?q=python\n",
    "```"
   ]
  },
  {
   "cell_type": "code",
   "execution_count": 13,
   "metadata": {
    "collapsed": false
   },
   "outputs": [
    {
     "name": "stdout",
     "output_type": "stream",
     "text": [
      "Date: Fri, 03 Mar 2017 07:01:07 GMT\r\n",
      "Expires: -1\r\n",
      "Cache-Control: private, max-age=0\r\n",
      "Content-Type: text/html; charset=UTF-8\r\n",
      "P3P: CP=\"This is not a P3P policy! See https://www.google.com/support/accounts/answer/151657?hl=en for more info.\"\r\n",
      "Server: gws\r\n",
      "X-XSS-Protection: 1; mode=block\r\n",
      "X-Frame-Options: SAMEORIGIN\r\n",
      "Set-Cookie: NID=98=FE3iQZg1DDOP3r0xDhj5bmvAd-ms4MPTuwx_gyzldfWM6oy48xJ2HqPYOzFmR8rxRV4lBWKdOikX951hp5JhxS2bpEP-Kqm8Szr0DQo1Sq29g9dzR1RF9hemoD77jxG9; expires=Sat, 02-Sep-2017 07:01:07 GMT; path=/; domain=.google.co.kr; HttpOnly\r\n",
      "Accept-Ranges: none\r\n",
      "Vary: Accept-Encoding\r\n",
      "Connection: close\r\n",
      "\n"
     ]
    }
   ],
   "source": [
    "import urllib2\n",
    "url = 'http://www.google.com/#q=python'\n",
    "headers = {'User-Agent' : 'Mozilla 5.0'}\n",
    "request = urllib2.Request(url, None, headers)\n",
    "response = urllib2.urlopen(request)\n",
    "print response.headers"
   ]
  },
  {
   "cell_type": "code",
   "execution_count": 46,
   "metadata": {
    "collapsed": false
   },
   "outputs": [
    {
     "name": "stdout",
     "output_type": "stream",
     "text": [
      "Date: Sat, 17 Sep 2016 11:55:22 GMT\r\n",
      "Expires: -1\r\n",
      "Cache-Control: private, max-age=0\r\n",
      "Content-Type: text/html; charset=EUC-KR\r\n",
      "P3P: CP=\"This is not a P3P policy! See https://www.google.com/support/accounts/answer/151657?hl=en for more info.\"\r\n",
      "Server: gws\r\n",
      "X-XSS-Protection: 1; mode=block\r\n",
      "X-Frame-Options: SAMEORIGIN\r\n",
      "Set-Cookie: NID=86=Q13BVpGI56Z55G9bCM64OCG0aKj7Rw3H8F-xj-vt1R3WkUW4lKXeKbBaHQwH6nbnPeo5OsKAijPw0d7wD1NzNFFVDHkznuusIegItoGoVexDaJpj2IFK2DglzvaewY2a; expires=Sun, 19-Mar-2017 11:55:22 GMT; path=/; domain=.google.co.kr; HttpOnly\r\n",
      "Accept-Ranges: none\r\n",
      "Vary: Accept-Encoding\r\n",
      "Connection: close\r\n",
      "\n",
      "http://www.google.co.kr/index.html?gfe_rd=cr&ei=Ki_dV6yADofR8gfvoYO4BQ\n"
     ]
    }
   ],
   "source": [
    "import urllib2\n",
    "class HeadRequest(urllib2.Request):\n",
    "     def get_method(self):\n",
    "         return \"HEAD\"\n",
    "\n",
    "response = urllib2.urlopen(HeadRequest(\"http://google.com/index.html\"))\n",
    "print response.info()\n",
    "print response.geturl()"
   ]
  },
  {
   "cell_type": "markdown",
   "metadata": {},
   "source": [
    "* defining my own UA"
   ]
  },
  {
   "cell_type": "code",
   "execution_count": 15,
   "metadata": {
    "collapsed": false
   },
   "outputs": [
    {
     "data": {
      "text/plain": [
       "'My new User-Agent'"
      ]
     },
     "execution_count": 15,
     "metadata": {},
     "output_type": "execute_result"
    }
   ],
   "source": [
    "# 연습으로 자신의 User Agent 설정\n",
    "from urllib import FancyURLopener\n",
    "class MyOpener(FancyURLopener):\n",
    "    version = 'My new User-Agent'\n",
    "MyOpener.version"
   ]
  },
  {
   "cell_type": "code",
   "execution_count": 16,
   "metadata": {
    "collapsed": false
   },
   "outputs": [
    {
     "data": {
      "text/plain": [
       "'Mozilla/5.0 (Macintosh; Intel Mac OS X 10_11_1) AppleWebKit/601.2.7 (KHTML, like Gecko) Version/9.0.1 Safari/601.2.7'"
      ]
     },
     "execution_count": 16,
     "metadata": {},
     "output_type": "execute_result"
    }
   ],
   "source": [
    "# 리눅스 Firefox User Agent 예\n",
    "# 맥 Safari User Agent 예\n",
    "class MyOpener(FancyURLopener):\n",
    "    #version = 'Mozilla/5.0 (X11; Ubuntu; Linux x86_64; rv:42.0) Gecko/20100101 Firefox/42.0'\n",
    "    version = 'Mozilla/5.0 (Macintosh; Intel Mac OS X 10_11_1) AppleWebKit/601.2.7 (KHTML, like Gecko) Version/9.0.1 Safari/601.2.7'\n",
    "MyOpener.version"
   ]
  },
  {
   "cell_type": "code",
   "execution_count": 50,
   "metadata": {
    "collapsed": false
   },
   "outputs": [],
   "source": [
    "myopener = MyOpener()\n",
    "page = myopener.open('http://www.google.com/search?q=python')\n",
    "html=page.read()"
   ]
  },
  {
   "cell_type": "code",
   "execution_count": 51,
   "metadata": {
    "collapsed": false
   },
   "outputs": [
    {
     "name": "stdout",
     "output_type": "stream",
     "text": [
      "file://localhost/home/jsl/Code/git/bb/jsl/pyds/mygoogle.html\n"
     ]
    },
    {
     "data": {
      "text/plain": [
       "True"
      ]
     },
     "execution_count": 51,
     "metadata": {},
     "output_type": "execute_result"
    }
   ],
   "source": [
    "import os\n",
    "f=open('mygoogle.html','w')\n",
    "f.write(html)\n",
    "f.close()\n",
    "import webbrowser\n",
    "mygoogle='file://'+'localhost'+os.path.join(os.getcwd(), 'mygoogle.html')\n",
    "print mygoogle\n",
    "webbrowser.open(mygoogle)"
   ]
  },
  {
   "cell_type": "markdown",
   "metadata": {},
   "source": [
    "* http로 하면 결과가 없다.\n",
    "    ```\n",
    "    p=re.compile('href=\"(http://.*?)\"')\n",
    "    ```"
   ]
  },
  {
   "cell_type": "code",
   "execution_count": 52,
   "metadata": {
    "collapsed": false
   },
   "outputs": [
    {
     "name": "stdout",
     "output_type": "stream",
     "text": [
      "50\n",
      "https://www.google.co.kr/intl/ko/options/\n",
      "https://accounts.google.com/ServiceLogin?hl=ko&amp;passive=true&amp;continue=https://www.google.co.k\n",
      "https://www.google.com/url?q=/chrome/browser/desktop/index.html%3Fhl%3Dko%26brand%3DHLDY%26utm_sourc\n",
      "https://www.google.co.kr/webhp?hl=ko&amp;sa=X&amp;ved=0ahUKEwiPrpScrJbPAhUBX5QKHZLSDg4QPAgD\n",
      "https://www.python.org/\n",
      "https://www.python.org/\n",
      "https://www.python.org/\n",
      "https://webcache.googleusercontent.com/search?q=cache:Fvb7Gz_c4rwJ:https://www.python.org/+&amp;cd=2\n",
      "https://translate.google.co.kr/translate?hl=ko&amp;sl=en&amp;u=https://www.python.org/&amp;prev=sear\n",
      "https://www.python.org/downloads/\n",
      "https://www.python.org/about/gettingstarted/\n",
      "https://www.python.org/doc/\n",
      "https://docs.python.org/\n",
      "https://www.python.org/downloads/windows/\n",
      "https://wiki.python.org/moin/BeginnersGuide\n",
      "https://ko.wikipedia.org/wiki/%ED%8C%8C%EC%9D%B4%EC%8D%AC\n",
      "https://webcache.googleusercontent.com/search?q=cache:OL25IRr7kSMJ:https://ko.wikipedia.org/wiki/%25\n",
      "https://wikidocs.net/6\n",
      "https://webcache.googleusercontent.com/search?q=cache:LmCkGjF_ShkJ:https://wikidocs.net/6+&amp;cd=10\n",
      "https://namu.wiki/w/Python\n",
      "https://www.codecademy.com/learn/python\n",
      "https://webcache.googleusercontent.com/search?q=cache:VieTLWvITEcJ:https://www.codecademy.com/learn/\n",
      "https://translate.google.co.kr/translate?hl=ko&amp;sl=en&amp;u=https://www.codecademy.com/learn/pyth\n",
      "https://www.reddit.com/r/Python/\n",
      "https://webcache.googleusercontent.com/search?q=cache:bBwH-sJKITcJ:https://www.reddit.com/r/Python/+\n",
      "https://translate.google.co.kr/translate?hl=ko&amp;sl=en&amp;u=https://www.reddit.com/r/Python/&amp;\n",
      "https://plot.ly/python/\n",
      "https://webcache.googleusercontent.com/search?q=cache:yZ5I4ss4i1oJ:https://plot.ly/python/+&amp;cd=1\n",
      "https://translate.google.co.kr/translate?hl=ko&amp;sl=en&amp;u=https://plot.ly/python/&amp;prev=sear\n",
      "https://support.google.com/websearch?p=ws_settings_location&amp;hl=ko\n",
      "https://www.google.com/search?q=python&amp;gws_rd=cr,ssl&amp;ei=VC_dV5iTMsrB0gS7xb7wAw&amp;fg=1\n",
      "https://myaccount.google.com/?utm_source=OGB\n",
      "https://www.google.co.kr/webhp?tab=ww&amp;ei=VS_dV7WyKsu60ATS-7jgCw&amp;ved=0EKkuCAEoAQ\n",
      "https://maps.google.co.kr/maps?hl=ko&amp;tab=wl\n",
      "https://www.youtube.com/?gl=KR\n",
      "https://play.google.com/?hl=ko&amp;tab=w8\n",
      "https://news.google.co.kr/nwshp?hl=ko&amp;tab=wn&amp;ei=VS_dV7WyKsu60ATS-7jgCw&amp;ved=0EKkuCAUoBQ\n",
      "https://mail.google.com/mail/?tab=wm\n",
      "https://drive.google.com/?tab=wo\n",
      "https://www.google.com/calendar?tab=wc\n",
      "https://plus.google.com/?gpsrc=ogpy0&amp;tab=wX\n",
      "https://translate.google.co.kr/?hl=ko&amp;tab=wT\n",
      "https://photos.google.com/?tab=wq\n",
      "https://www.google.co.kr/intl/ko/options/\n",
      "https://docs.google.com/document/?usp=docs_alc\n",
      "https://books.google.co.kr/bkshp?hl=ko&amp;tab=wp&amp;ei=VS_dV7WyKsu60ATS-7jgCw&amp;ved=0EKkuCA0oDQ\n",
      "https://www.blogger.com/?tab=wj\n",
      "https://www.google.com/contacts/?hl=ko&amp;tab=wC\n",
      "https://hangouts.google.com/\n",
      "https://www.google.co.kr/intl/ko/options/\n"
     ]
    }
   ],
   "source": [
    "import re\n",
    "\n",
    "p=re.compile('href=\"(https://.*?)\"')\n",
    "#p=re.compile('.*href.*')\n",
    "res=p.findall(html)\n",
    "print len(res)\n",
    "for item in res:\n",
    "    print item[:100]"
   ]
  },
  {
   "cell_type": "code",
   "execution_count": null,
   "metadata": {
    "collapsed": true
   },
   "outputs": [],
   "source": [
    "import urllib2\n",
    "import urllib\n",
    "googleurl = 'https://www.google.com/search'\n",
    "keyValues = {'q' : 'python programming tutorials'}\n",
    "request = urllib.urlencode(keyValues)\n",
    "print request\n",
    "request = request.encode('utf-8') # data should be bytes"
   ]
  },
  {
   "cell_type": "code",
   "execution_count": 56,
   "metadata": {
    "collapsed": false
   },
   "outputs": [
    {
     "name": "stdout",
     "output_type": "stream",
     "text": [
      "<urllib2.Request instance at 0x7f0847d66320>\n",
      "https://www.google.com/search?q=python+programming+tutorials\n",
      "<bound method Request.get_method of <urllib2.Request instance at 0x7f0847d66320>>\n"
     ]
    }
   ],
   "source": [
    "req = urllib2.Request(googleurl+'?'+request)\n",
    "print req\n",
    "\n",
    "print req.get_full_url()\n",
    "\n",
    "print req.get_method"
   ]
  },
  {
   "cell_type": "markdown",
   "metadata": {},
   "source": [
    "* forbidden error"
   ]
  },
  {
   "cell_type": "code",
   "execution_count": null,
   "metadata": {
    "collapsed": true
   },
   "outputs": [],
   "source": [
    "resp = urllib2.urlopen(req)\n",
    "resp = myopener.open(req)\n",
    "html = resp.read()"
   ]
  },
  {
   "cell_type": "markdown",
   "metadata": {},
   "source": [
    "### wiki에서 읽기"
   ]
  },
  {
   "cell_type": "code",
   "execution_count": 14,
   "metadata": {
    "collapsed": false
   },
   "outputs": [
    {
     "name": "stdout",
     "output_type": "stream",
     "text": [
      "{{About|the programming language|the genus and other uses|Python (disambiguation)}}\n",
      "{{Use dmy dates|date=August 2015}}\n",
      "{{Infobox programming language\n",
      "|name                   = Python\n",
      "|logo                   = Python logo and wordmark.svg\n",
      "|logo_size              = 260px\n",
      "|paradigm               = [[multi-paradigm programming language|multi-paradigm]]: [[object-oriented programming|object-oriented]], [[imperative programming|imperative]], [[functional programming|functional]], [[procedural programming|procedural]], [[reflective programming|reflective]]\n",
      "|year                   = {{Start date and age|df=yes|1991}}\n",
      "|designer               = [[Guido van Rossum]]\n",
      "|developer              = [[Python Software Foundation]]\n",
      "|latest_release_version = 3.5.0 /<br>{{Start date|df=yes|2015|09|13}}<ref>{{cite web |url=https://docs.python.org/3/whatsnew/3.5.html |title=Python 3.5.0 |publisher=Python Software Foundation |accessdate=13 September 2015}}</ref><br>2.7.10 /<br>{{Start date|df=yes|2015|05|23}}<ref name=\"\">{{cite web |url=https://www.python.org/downloads/release/python-2710/ |title=Python 2.7.10 Release |publisher=Python Software Foundation |accessdate=24 May 2015}}</ref>\n",
      "|latest_preview_version = <!-- 3.5.0rc3 /<br>{{Start date|df=yes|2015|09|08}}<ref name=\"Python Release Python 3.5.0rc3\">{{cite web |url=https://www.python.org/downloads/release/python-350rc3/ |title=Python Release Python 3.5.0rc3 |publisher=Python Software Foundation |accessdate=9 September 2015}}</ref><br>2.7.9rc1 /<br>{{Start date|df=yes|2014|11|26}}<ref>{{cite web |url=https://www.python.org/downloads/release/python-279rc1/ |title=Python 2.7.9 rc1 Release |publisher=Python Software Foundation |accessdate=26 November 2014}}</ref -->\n",
      "|typing                 = [[duck typing|duck]], [[dynamic typing|dynamic]], [[strong typing|strong]], [[gradual typing|gradual]] (as of Python 3.5)<ref>{{cite web|url=https://lwn.net/Articles/627418/|title=Type hinting for Python|publisher=LWN.net|date=24 December 2014|accessdate=5 May 2015}}</ref>\n",
      "|implementations        = [[CPython]], [[IronPython]], [[Jython]], [[PyPy]]\n",
      "|dialects               = [[Cython]], [[RPython]], [[Stackless Python]]\n",
      "|influenced_by          = [[ABC (programming language)|ABC]],<ref name=\"faq-created\"/> [[ALGOL 68]],<ref name=\"98-interview\"/> [[C (programming language)|C]],<ref name=\"AutoNT-1\"/> [[C++]],<ref name=\"classmix\"/> [[Dylan (programming language)|Dylan]],<ref name=\"AutoNT-2\"/> [[Haskell (programming language)|Haskell]],<ref name=\"AutoNT-3\"/> [[Icon (programming language)|Icon]],<ref name=\"AutoNT-4\"/> [[Java (programming language)|Java]],<ref name=\"AutoNT-5\"/> [[Lisp (programming language)|Lisp]],<ref name=\"AutoNT-6\"/> [[Modula-3|Modula&#8209;3]],<ref name=\"classmix\" /> [[Perl]]\n",
      "|influenced             = [[Boo (programming language)|Boo]], [[Cobra (programming language)|Cobra]], [[D (programming language)|D]], [[F Sharp (programming language)|F#]], [[Falcon (programming language)|Falcon]], [[Go (programming language)|Go]], [[Groovy (programming language)|Groovy]], [[JavaScript]],<ref>{{cite web\n",
      "|title = Perl and Python influences in JavaScript\n",
      "|date= 24 February 2013\n",
      "|website= www.2ality.com\n",
      "|url= http://www.2ality.com/2013/02/javascript-influences.html\n",
      "|accessdate= 15 May 2015}}</ref><ref>{{cite web\n",
      "|title = Chapter 3: The Nature of JavaScript; Influences\n",
      "|last=Rauschmayer\n",
      "|first=Axel\n",
      "|website=O'Reilly, Speaking JavaScript\n",
      "|url= http://speakingjs.com/es5/ch03.html\n",
      "|accessdate= 15 May 2015}}</ref> [[Julia (programming language)|Julia]],<ref name=Julia/> [[Nim (programming language)|Nim]], [[Ruby (programming language)|Ruby]],<ref name=\"bini\"/> [[Swift (Apple programming language)|Swift]]<ref name=\"lattner2014\">{{cite web|url=http://nondot.org/sabre/|title=Chris Lattner's Homepage|last=Lattner|first=Chris|date=3 June 2014|accessdate=3 June 2014|publisher=Chris Lattner|quote=The Swift language is the product of tireless effort from a team of language experts, documentation gurus, compiler optimization ninjas, and an incredibly important internal dogfooding group who provided feedback to help refine and battle-test ideas. Of course, it also greatly benefited from the experiences hard-won by many other languages in the field, drawing ideas from Objective-C, Rust, Haskell, Ruby, Python, C#, CLU, and far too many others to list.}}</ref>\n",
      "|operating_system       = [[Cross-platform]]\n",
      "|license                = [[Python Software Foundation License]]\n",
      "|website                = {{URL|https://www.python.org/}}\n",
      "|file_ext               = .py, .pyc, .pyd, .pyo,<ref>File extension .pyo will be removed in Python 3.5. See [https://www.python.org/dev/peps/pep-0488/ PEP 0488]</ref> pyw, .pyz<ref>{{cite web|url=https://www.python.org/dev/peps/pep-0441/|last=Holth|first=Moore|date=30 March 2014|accessdate=12 Nov 2015|title=PEP 0441 -- Improving Python ZIP Application Support}}</ref>\n",
      "|wikibooks              = Python Programming\n",
      "}}\n",
      "\n",
      "'''Python''' is a widely used [[general-purpose programming language|general-pur\n"
     ]
    }
   ],
   "source": [
    "import urllib\n",
    "keyword='Albert_Einstein'\n",
    "keyword='Python (programming language)'\n",
    "s = urllib.urlopen('http://en.wikipedia.org/w/index.php?action=raw&title='+keyword).read()\n",
    "#print s.find('Python is a widely used general-purpose')\n",
    "print s[:5000]\n"
   ]
  },
  {
   "cell_type": "markdown",
   "metadata": {},
   "source": [
    "### 위키에서 css.selector"
   ]
  },
  {
   "cell_type": "code",
   "execution_count": 26,
   "metadata": {
    "collapsed": true
   },
   "outputs": [],
   "source": [
    "import lxml.html\n",
    "from lxml.cssselect import CSSSelector\n",
    "import requests\n",
    "\n",
    "r = requests.get('https://en.wikipedia.org/wiki/Python_(programming_language)')\n",
    "# build the DOM Tree\n",
    "tree = lxml.html.fromstring(r.text)\n",
    "# print the parsed DOM Tree\n",
    "#print lxml.html.tostring(tree)"
   ]
  },
  {
   "cell_type": "markdown",
   "metadata": {
    "collapsed": true
   },
   "source": [
    "* Chrome javascript console > 태그 하이라이트 > '...'에서 오른쪽 버튼 > copy > copy selector"
   ]
  },
  {
   "cell_type": "code",
   "execution_count": 27,
   "metadata": {
    "collapsed": false
   },
   "outputs": [
    {
     "name": "stdout",
     "output_type": "stream",
     "text": [
      "[<Element div at 0x7f084c6a54c8>]\n"
     ]
    }
   ],
   "source": [
    "sel = CSSSelector('#mw-content-text > div:nth-child(1)')\n",
    "# Apply the selector to the DOM tree.\n",
    "results = sel(tree)\n",
    "print results"
   ]
  },
  {
   "cell_type": "code",
   "execution_count": 34,
   "metadata": {
    "collapsed": false
   },
   "outputs": [
    {
     "name": "stdout",
     "output_type": "stream",
     "text": [
      "<div role=\"note\" class=\"hatnote\">This article is about the programming language. For the genus and other uses, see <a href=\"/wiki/Python_(disambiguation)\" class=\"mw-redirect mw-disambig\" title=\"Python (disambiguation)\">Python (disambiguation)</a>.</div>\n",
      "\n"
     ]
    }
   ],
   "source": [
    "# print the HTML for the first result.\n",
    "match = results[0]\n",
    "print lxml.html.tostring(match)"
   ]
  },
  {
   "cell_type": "code",
   "execution_count": 36,
   "metadata": {
    "collapsed": false
   },
   "outputs": [
    {
     "name": "stdout",
     "output_type": "stream",
     "text": [
      "This article is about the programming language. For the genus and other uses, see \n"
     ]
    }
   ],
   "source": [
    "# print the text of the first result.\n",
    "print match.text"
   ]
  },
  {
   "cell_type": "code",
   "execution_count": 44,
   "metadata": {
    "collapsed": false
   },
   "outputs": [
    {
     "name": "stdout",
     "output_type": "stream",
     "text": [
      "This article is about the programming language. For the genus and other uses, see \n"
     ]
    }
   ],
   "source": [
    "for result in results:\n",
    "    print result.text"
   ]
  },
  {
   "cell_type": "markdown",
   "metadata": {
    "collapsed": true
   },
   "source": [
    "## 웹데이터-4: 한국 포털사이트에서 노래제목을 검색\n",
    "\n",
    "* naver에서 가져오기\n",
    "* regex, css selector"
   ]
  },
  {
   "cell_type": "markdown",
   "metadata": {},
   "source": [
    "### regex"
   ]
  },
  {
   "cell_type": "code",
   "execution_count": 9,
   "metadata": {
    "collapsed": true
   },
   "outputs": [],
   "source": [
    "import urllib\n",
    "keyword='비오는'\n",
    "f = urllib.urlopen(\"http://music.naver.com/search/search.nhn?query=\"+keyword+\"&x=0&y=0\")\n",
    "mydata = f.read();"
   ]
  },
  {
   "cell_type": "code",
   "execution_count": 10,
   "metadata": {
    "collapsed": false
   },
   "outputs": [
    {
     "name": "stdout",
     "output_type": "stream",
     "text": [
      "--- 비 오는 거리\n",
      "131067\n"
     ]
    }
   ],
   "source": [
    "pos = mydata.find(\"트랙 리스트\")\n",
    "if (pos>0):\n",
    "    pos = mydata.find(\"_title title NPI=\", pos);\n",
    "    pos = mydata.find(\"title=\",pos+20)\n",
    "    pos2 = mydata.find(\"\\\"\", pos+8)\n",
    "    print \"---\",mydata[pos+7:pos2]\n",
    "print len(mydata)"
   ]
  },
  {
   "cell_type": "code",
   "execution_count": 11,
   "metadata": {
    "collapsed": false,
    "scrolled": true
   },
   "outputs": [
    {
     "name": "stdout",
     "output_type": "stream",
     "text": [
      "title=\"검색어 입력\" value=\"비오는\" maxlength=\"50\" accesskey=\"s\"\n",
      "title=\"비오는날\" alt=\"비오는날\"\n",
      "title=\"비오는 금요일\" alt=\"비오는 금요일\"\n",
      "title=\"비 오는 거리\" ><span class=\"ellipsis\"\n",
      "title=\"1집 비오는 거리\" class=\"_album NPI=a:album,r:1,i:682\"><span class=\"ellipsis\"\n",
      "title=\"비오는 날 수채화\" ><span class=\"ellipsis\"\n",
      "title=\"비오는 날 수채화 1 OST\" class=\"_album NPI=a:album,r:2,i:33001\"><span class=\"ellipsis\"\n",
      "title=\"비 오는 날\" ><span class=\"ellipsis\"\n",
      "title=\"비 오는 날\" class=\"_album NPI=a:album,r:3,i:656486\"><span class=\"ellipsis\"\n",
      "title=\"비오는날 (동요) (멜로디 MR)\" ><span class=\"ellipsis\"\n",
      "title=\"비오는 거리\" ><span class=\"ellipsis\"\n",
      "title=\"비오는 밤에\" ><span class=\"ellipsis\"\n",
      "title=\"비오는 날 (Inst.)\" ><span class=\"ellipsis\"\n",
      "title=\"비오는 날\" class=\"_album NPI=a:album,r:7,i:649010\"><span class=\"ellipsis\"\n",
      "title=\"비오는 남산\" ><span class=\"ellipsis\"\n",
      "title=\"비 오는 거리  (Feat. 핫펠트)\" ><span class=\"ellipsis\"\n",
      "title=\"비오는 압구정\" ><span class=\"ellipsis\"\n",
      "title=\"비오는 날은 푸르다\" ><span class=\"ellipsis\"\n",
      "title=\"비오는 날은 푸르다\" class=\"_album NPI=a:album,r:11,i:660894\"><span class=\"ellipsis\"\n",
      "title=\"김현주의 비오는 거리\" class=\"_album NPI=a:album,r:12,i:117082\"><span class=\"ellipsis\"\n",
      "title=\"비 오는 날의 수채화\" ><span class=\"ellipsis\"\n",
      "title=\"뉴에이지 연가 : 비 오는 날의 거리, 추억, 그리고 아름다운 재즈 피아노(Pop 올드 팝, 클래식, 영화 OST 베스트 연주 음악)\" class=\"_album NPI=a:album,r:14,i:636985\"><span class=\"ellipsis\"\n",
      "title=\"비오는날 수채화 (발라드 Ver.) (With 김명상, 강윤식)\" ><span class=\"ellipsis\"\n",
      "title=\"비오는 금요일\"\n",
      "title=\"비오는 금요일\" alt=\"비오는 금요일\" class=\"NPI=a:artist,r:,i:271713\"\n",
      "title=\"비오는 날 내 마음을 적셔주는 클래식음악 17\"\n",
      "title=\"비 오는 날\"\n",
      "title=\"비 오는 날\"\n",
      "title=\"비오는 카페\"\n",
      "title=\"비 오는 날\"\n",
      "title=\"비오는 압구정\"\n",
      "title=\"비오는 날에\"\n",
      "title=\"비오는 거리 (Feat. 단비)\"\n",
      "title=\"비오는 날의 수채화\"\n",
      "title=\"[cover] 비오는 거리 - 줄리\"\n",
      "title=\"비 오는 날의 분수\"\n",
      "title=\"비 오는 날, 생각나는 그 노래\"\n",
      "title=\"비오는 날 [데모]\"\n",
      "title=\"비오는 밤에\"\n"
     ]
    }
   ],
   "source": [
    "import re\n",
    "p=re.compile('title=\".*비.?오는.*\"')\n",
    "#res=p.search(data)\n",
    "res=p.findall(mydata)\n",
    "for item in res:\n",
    "    print item"
   ]
  },
  {
   "cell_type": "markdown",
   "metadata": {
    "collapsed": true
   },
   "source": [
    "### css selector\n",
    "\n",
    "* selector 1: 맨 처음부터 가면\n",
    "    * 위부터 따라가면\n",
    "        ```\n",
    "        body > #wrap > div.fix_conts > #container > .container_inner > #content\n",
    "        ```\n",
    "    * 다음 계속 이어가면\n",
    "        ```\n",
    "        #content > div:nth-child(4) \n",
    "        > div._tracklist_mytrack.tracklist_table.tracklist_type1._searchTrack\n",
    "        > table > tbody > tr:nth-child(2) > td.name\n",
    "        ```\n",
    "    * 제목까지 읽으면\n",
    "        ```\n",
    "        #content > div:nth-child(4) \n",
    "        > div._tracklist_mytrack.tracklist_table.tracklist_type1._searchTrack\n",
    "        > table > tbody > tr:nth-child(2) > td.name > a.title\n",
    "        ```\n",
    "     * 주요 selector 설명\n",
    "\n",
    "CSS selectors | 설명\n",
    "----------|----------\n",
    "#content | id가 content인 element를 선택\n",
    "#content > div:nth-child(4)' | 상위 #content의 4번째 div를 선택\n",
    "div._tracklist_mytrack | div아래 _tracklist_mytrack 클래스를 선택\n",
    "\n",
    "* selector 2: 앞은 건너뛰고 table부터 쓰면 (중간부터 쓰니까, 속성을 사용해서 시작함)\n",
    "    ```\n",
    "    'table[summary] > tbody > ._tracklist_move > .name > a.title'\n",
    "    ```\n",
    "    \n",
    "    * selector 설명\n",
    "\n",
    "CSS selectors | 설명\n",
    "----------|----------\n",
    "table[summary] | table summary 선택\n",
    "a.title | a link의 title을 선택\n"
   ]
  },
  {
   "cell_type": "markdown",
   "metadata": {},
   "source": [
    "#### 전체 css selector 사용하기\n",
    "\n",
    "* 제목 1개 출력하기"
   ]
  },
  {
   "cell_type": "code",
   "execution_count": 12,
   "metadata": {
    "collapsed": true
   },
   "outputs": [],
   "source": [
    "import lxml.html\n",
    "from lxml.cssselect import CSSSelector\n",
    "\n",
    "html = lxml.html.fromstring(mydata)\n",
    "#tree=lxml.etree.parse('myhtml')\n",
    "# construct a CSS Selector -> \n",
    "sel = CSSSelector('#content > div:nth-child(4) \\\n",
    "    > div._tracklist_mytrack.tracklist_table.tracklist_type1._searchTrack \\\n",
    "    > table > tbody > tr:nth-child(2) > td.name > a.title')\n",
    "# Apply the selector to the DOM tree.\n",
    "nodes = sel(html)"
   ]
  },
  {
   "cell_type": "code",
   "execution_count": 13,
   "metadata": {
    "collapsed": false
   },
   "outputs": [
    {
     "data": {
      "text/plain": [
       "1"
      ]
     },
     "execution_count": 13,
     "metadata": {},
     "output_type": "execute_result"
    }
   ],
   "source": [
    "len(nodes)"
   ]
  },
  {
   "cell_type": "code",
   "execution_count": 14,
   "metadata": {
    "collapsed": false
   },
   "outputs": [
    {
     "name": "stdout",
     "output_type": "stream",
     "text": [
      "비 오는 거리\n"
     ]
    }
   ],
   "source": [
    "for node in nodes:\n",
    "    #print lxml.html.tostring(item)\n",
    "    print node.text_content()"
   ]
  },
  {
   "cell_type": "markdown",
   "metadata": {},
   "source": [
    "* 모든 제목 출력하기"
   ]
  },
  {
   "cell_type": "code",
   "execution_count": 15,
   "metadata": {
    "collapsed": false
   },
   "outputs": [
    {
     "name": "stdout",
     "output_type": "stream",
     "text": [
      "비 오는 거리\n",
      "비오는 날 수채화\n",
      "비 오는 날\n",
      "비오는날 (동요) (멜로디 MR)\n",
      "비오는 거리\n",
      "비오는 밤에\n",
      "비오는 날 (Inst.)\n",
      "비오는 남산\n",
      "비 오는 거리  (Feat. 핫펠트)\n",
      "비오는 압구정\n",
      "비오는 날은 푸르다\n",
      "One More Time\n",
      "비 오는 날의 수채화\n",
      "Yesterday (비틀즈 예스터 데이 : CF `시몬스침대`)\n",
      "비오는날 수채화 (발라드 Ver.) (With 김명상, 강윤식)\n"
     ]
    }
   ],
   "source": [
    "import lxml.html\n",
    "from lxml.cssselect import CSSSelector\n",
    "\n",
    "html = lxml.html.fromstring(mydata)\n",
    "#tree=lxml.etree.parse('myhtml')\n",
    "# construct a CSS Selector -> \n",
    "sel = CSSSelector('#content > div:nth-child(4) \\\n",
    "    > div._tracklist_mytrack.tracklist_table.tracklist_type1._searchTrack \\\n",
    "    > table > tbody > tr > td.name > a.title')\n",
    "# Apply the selector to the DOM tree.\n",
    "nodes = sel(html)\n",
    "\n",
    "for node in nodes:\n",
    "    #print lxml.html.tostring(item)\n",
    "    print node.text_content()"
   ]
  },
  {
   "cell_type": "markdown",
   "metadata": {},
   "source": [
    "#### 일부 css selector 사용하기"
   ]
  },
  {
   "cell_type": "code",
   "execution_count": 16,
   "metadata": {
    "collapsed": true
   },
   "outputs": [],
   "source": [
    "import lxml.html\n",
    "import requests\n",
    "\n",
    "keyword='비오는'\n",
    "r = requests.get(\"http://music.naver.com/search/search.nhn?query=\"+keyword+\"&x=0&y=0\")\n",
    "\n",
    "_html = lxml.html.fromstring(r.text)"
   ]
  },
  {
   "cell_type": "markdown",
   "metadata": {},
   "source": [
    "* html을 보려면\n",
    "    * r.text로 보거나\n",
    "    * lxml.html.tostring(_html)"
   ]
  },
  {
   "cell_type": "code",
   "execution_count": 11,
   "metadata": {
    "collapsed": false
   },
   "outputs": [
    {
     "data": {
      "text/plain": [
       "149317"
      ]
     },
     "execution_count": 11,
     "metadata": {},
     "output_type": "execute_result"
    }
   ],
   "source": [
    "len(lxml.html.tostring(_html))"
   ]
  },
  {
   "cell_type": "code",
   "execution_count": 17,
   "metadata": {
    "collapsed": false
   },
   "outputs": [],
   "source": [
    "from lxml.cssselect import CSSSelector\n",
    "\n",
    "sel = CSSSelector('table[summary] > tbody > ._tracklist_move > .name > a.title')\n",
    "# Apply the selector to the DOM tree.\n",
    "nodes = sel(_html)"
   ]
  },
  {
   "cell_type": "code",
   "execution_count": 18,
   "metadata": {
    "collapsed": false
   },
   "outputs": [
    {
     "data": {
      "text/plain": [
       "15"
      ]
     },
     "execution_count": 18,
     "metadata": {},
     "output_type": "execute_result"
    }
   ],
   "source": [
    "len(nodes)"
   ]
  },
  {
   "cell_type": "markdown",
   "metadata": {},
   "source": [
    "* item.text()는 한글 문자 출력 오류\n",
    "* item.text_content()를 사용해서 출력"
   ]
  },
  {
   "cell_type": "code",
   "execution_count": 19,
   "metadata": {
    "collapsed": false
   },
   "outputs": [
    {
     "name": "stdout",
     "output_type": "stream",
     "text": [
      "비 오는 거리\n",
      "비오는 날 수채화\n",
      "비 오는 날\n",
      "비오는날 (동요) (멜로디 MR)\n",
      "비오는 거리\n",
      "비오는 밤에\n",
      "비오는 날 (Inst.)\n",
      "비오는 남산\n",
      "비 오는 거리  (Feat. 핫펠트)\n",
      "비오는 압구정\n",
      "비오는 날은 푸르다\n",
      "One More Time\n",
      "비 오는 날의 수채화\n",
      "Yesterday (비틀즈 예스터 데이 : CF `시몬스침대`)\n",
      "비오는날 수채화 (발라드 Ver.) (With 김명상, 강윤식)\n"
     ]
    }
   ],
   "source": [
    "for node in nodes:\n",
    "    #print lxml.html.tostring(item)\n",
    "    print node.text_content()"
   ]
  },
  {
   "cell_type": "markdown",
   "metadata": {},
   "source": [
    "* 곡명, 아티스트, 앨범 모두 가져오기\n",
    "    * html이 정형적이지 않아서 어렵다.\n",
    "    * 2단계 작업.\n",
    "        * 곡명, 아티스트, 앨범 항목을 가지고 있는 상위 태그를 먼저 선정하고, 그 안의 개별 항목을 선정한다."
   ]
  },
  {
   "cell_type": "code",
   "execution_count": 20,
   "metadata": {
    "collapsed": false,
    "scrolled": true
   },
   "outputs": [
    {
     "name": "stdout",
     "output_type": "stream",
     "text": [
      "<tr class=\"_tracklist_move {TRACK_TYPE}\" style=\"display:none;\" trackdata=\"{TRACK_DATA}\">\r\n",
      "\r\n",
      "\r\n",
      "\t\t\t\t\t\t\r\n",
      "\t\t\t\t\t\t\t<td class=\"chk\"><input type=\"checkbox\" title=\"&#49440;&#53469;\" class=\"_chkbox_item input_chk {TRACK_CHECK_NCLICKS}\"> </td>\r\n",
      "\t\t\t\t\t\t\r\n",
      "\t\t\t\t\t\t\r\n",
      "\t\t\t\t\t\t\t<td class=\"order\">{TRACK_NUM}</td>\r\n",
      "\t\t\t\t\t\t\r\n",
      "\t\t\t\t\t\t\t<td class=\"name\">\r\n",
      "\r\n",
      "\t\t\t\t\t\t\t\t{PLAY_TOGGLE}\r\n",
      "\t\t\t\t\t\t\t\t{ADD_TOGGLE}\r\n",
      "\r\n",
      "\r\n",
      "\t\t\t\t\t\t\t\t<span class=\"_ico_title ico_title\"><img height=\"18\" width=\"23\" alt=\"TITLE\" src=\"http://static.naver.net/nmusic/201008/blank.gif\"></span>\r\n",
      "\t\t\t\t\t\t\t\t<span class=\"_ico_19 ico19\"><img height=\"18\" width=\"13\" src=\"http://static.naver.net/nmusic/201008/blank.gif\"></span>\r\n",
      "\r\n",
      "\r\n",
      "\t\t\t\t\t\t\t\t{TRACK_SONG_NAME}\r\n",
      "\r\n",
      "\t\t\t\t\t\t\t</td>\r\n",
      "\r\n",
      "\t\t\t\t\t\t\t<td class=\"_artist artist {NO_ELL}\">\r\n",
      "\r\n",
      "\r\n",
      "                                   {ARTIST}\r\n",
      "\r\n",
      "\t\t\t\t\t\t\t</td>\r\n",
      "\r\n",
      "\t\t\t\t\t\t\r\n",
      "                            <td class=\"album\">\r\n",
      "                                {ALBUM}\r\n",
      "                            </td>\r\n",
      "                        \r\n",
      "                        \r\n",
      "                        \t<td class=\"like\">\r\n",
      "\t\t\t\t\t\t\t\t<div class=\"u_likeit_list_module\">\r\n",
      "\t\t\t\t\t\t\t\t\t<a href=\"javascript:void(0)\" title=\"&#51339;&#50500;&#50836;\" class=\"u_likeit_list_btn u_type_img NPI=a:favo,r:1,i:\" data-sid=\"MUSIC\" data-did=\"MUSIC\" data-cid=\"TRACK_\" data-likeit=\"0\"><span class=\"u_ico\"></span><em class=\"u_txt\"></em><em class=\"u_cnt\"></em></a>\r\n",
      "\t\t\t\t\t\t\t\t</div>\r\n",
      "                        \t</td>\r\n",
      "                        \r\n",
      "\t\t\t\t\t\t\r\n",
      "\t\t\t\t\t\t\t<td class=\"video\">{MUSIC_VIDEO}</td>\r\n",
      "\t\t\t\t\t\t\r\n",
      "\t\t\t\t\t\t\r\n",
      "\t\t\t\t\t\t\t<td class=\"lyric\">{LYRIC}</td>\r\n",
      "\t\t\t\t\t\t\r\n",
      "\t\t\t\t\t\t\r\n",
      "\t\t\t\t\t\t\t<td class=\"get\">{SCRAP_ROW}</td>\r\n",
      "\t\t\t\t\t\t\r\n",
      "\t\t\t\t\t\t\r\n",
      "\t\t\t\t\t\t\r\n",
      "\t\t\t\t\t\t\t<td class=\"radio\">{RADIO}</td>\r\n",
      "\t\t\t\t\t\t\r\n",
      "\r\n",
      "\t\t\t\t\t\t\r\n",
      "\t\t\t\t\t\t\t<td class=\"buy\">\r\n",
      "\r\n",
      "\t\t\t\t\t\t\t\t{MP3_BUY_LAYER_BTN}\r\n",
      "\r\n",
      "\t\t\t\t\t\t\t\t<div style=\"display:none;\" class=\"_buy_layer buy_layer\">\r\n",
      "\t\t\t\t\t\t\t\t\t<ul>\r\n",
      "\r\n",
      "\t\t\t\t\t\t\t\t\t<li>{MP3_BUY_LIST}</li>\r\n",
      "\t\t\t\t\t\t\t\t\t<li>{MUSIC_SPRING}</li>\r\n",
      "\t\t\t\t\t\t\t\t\t<li>{BELL_SOUND}</li>\r\n",
      "\t\t\t\t\t\t\t\t\t<li>{CONNECTION_SOUND}</li>\r\n",
      "\r\n",
      "\t\t\t\t\t\t\t\t\t</ul>\r\n",
      "\t\t\t\t\t\t\t\t\t<span class=\"bg\"></span>\r\n",
      "\t\t\t\t\t\t\t\t</div>\r\n",
      "\t\t\t\t\t\t\t</td>\r\n",
      "\t\t\t\t\t\t\r\n",
      "\r\n",
      "\t\t\t\t\t\t\r\n",
      "\t\t\t\t\t\t\t</tr>\r\n",
      "\r\n",
      "\r\n",
      "\r\n",
      "\r\n",
      "\r\n",
      "\r\n",
      "\r\n",
      "\r\n",
      "\t\n"
     ]
    }
   ],
   "source": [
    "from lxml.cssselect import CSSSelector\n",
    "\n",
    "sel = CSSSelector('table[summary] > tbody > ._tracklist_move')\n",
    "# Apply the selector to the DOM tree.\n",
    "nodes = sel(_html)\n",
    "print lxml.html.tostring(nodes[0])"
   ]
  },
  {
   "cell_type": "markdown",
   "metadata": {},
   "source": [
    "* 개별 항목의 선정\n",
    "* 우선 1개씩 해 본다.\n",
    "    * results[0]은 제목행이므로, 그 다음을 처리한다.\n",
    "    * 태그가 정형적이지 않으므로, selector가 일정하지 않다는 점에 주의한다.\n",
    "        * Chrome console창을 이용해서 하나씩 작업하므로, selector를 정의하는데 노력이 수반된다."
   ]
  },
  {
   "cell_type": "code",
   "execution_count": 21,
   "metadata": {
    "collapsed": false
   },
   "outputs": [],
   "source": [
    "_selName = CSSSelector('.name > a.title')\n",
    "_selArtist = CSSSelector('._artist.artist')\n",
    "_selAlbum= CSSSelector('.album > a')\n",
    "_name=_selName(nodes[1])\n",
    "_artist=_selArtist(nodes[1])\n",
    "_album=_selAlbum(nodes[1])"
   ]
  },
  {
   "cell_type": "code",
   "execution_count": 22,
   "metadata": {
    "collapsed": false,
    "scrolled": true
   },
   "outputs": [
    {
     "name": "stdout",
     "output_type": "stream",
     "text": [
      "비 오는 거리\n",
      "이승훈\n",
      "1집 비오는 거리\n"
     ]
    }
   ],
   "source": [
    "print _name[0].text_content()\n",
    "print _artist[0].text_content().strip()\n",
    "print _album[0].text_content()"
   ]
  },
  {
   "cell_type": "markdown",
   "metadata": {},
   "source": [
    "* 반복문을 이용하여 모든 노래를 출력한다.\n",
    "    * if문은 노래제목이 있는 없는 경우 제거한다 (제목 행을 제거하는 효과)"
   ]
  },
  {
   "cell_type": "code",
   "execution_count": 23,
   "metadata": {
    "collapsed": false,
    "scrolled": true
   },
   "outputs": [
    {
     "name": "stdout",
     "output_type": "stream",
     "text": [
      "이승훈 --- 비 오는 거리 --- 1집 비오는 거리\n",
      "강인원 --- 비오는 날 수채화 --- 비오는 날 수채화 1 OST\n",
      "오소연 --- 비 오는 날 --- 비 오는 날\n",
      "동요시대 --- 비오는날 (동요) (멜로디 MR) --- 동요 MR반주 5\n",
      "서영은 --- 비오는 거리 --- 1집 Romantic 1\n",
      "루드 페이퍼(Rude Paper) --- 비오는 밤에 --- 1집 Paper Spectrum\n",
      "김민우 --- 비오는 날 (Inst.) --- 비오는 날\n",
      "조영순 --- 비오는 남산 --- 무진장 트롯트 골든 1＆2\n",
      "베이빌론(Babylon) --- 비 오는 거리  (Feat. 핫펠트) --- BETWEEN US\n",
      "브라운 아이즈 --- 비오는 압구정 --- 2집 Reason 4 Breathing?\n",
      "하이니(Hi.ni) --- 비오는 날은 푸르다 --- 비오는 날은 푸르다\n",
      "Richard Marx --- One More Time --- 김현주의 비오는 거리\n",
      "SG 워너비 --- 비 오는 날의 수채화 --- Classic Odyssey\n",
      "Romantisch Jazzkapelle --- Yesterday (비틀즈 예스터 데이 : CF `시몬스침대`) --- 뉴에이지 연가 : 비 오는 날의 거리, 추억, 그리고 아름다운 재즈 피아노(Pop 올드 팝, 클래식, 영화 OST 베스트 연주 음악)\n",
      "강윤식 --- 비오는날 수채화 (발라드 Ver.) (With 김명상, 강윤식) --- 1980-2010 리뉴얼 - 내 노래 다시 부르기\n"
     ]
    }
   ],
   "source": [
    "_selName = CSSSelector('.name > a.title')\n",
    "_selArtist = CSSSelector('._artist.artist')\n",
    "_selAlbum= CSSSelector('.album > a')\n",
    "for node in nodes:\n",
    "    #print lxml.html.tostring(item)\n",
    "    _name=_selName(node)\n",
    "    _artist=_selArtist(node)\n",
    "    _album=_selAlbum(node)\n",
    "    if _name:\n",
    "        print _artist[0].text_content().strip(),\n",
    "        print \"---\",\n",
    "        print _name[0].text_content(),\n",
    "        print \"---\",\n",
    "        print _album[0].text_content()\n"
   ]
  },
  {
   "cell_type": "markdown",
   "metadata": {},
   "source": [
    "## 웹데이터-5 : 국제학회 목록을 크롤링하기\n",
    "\n",
    "* html -> css.select\n",
    "* [IEEE국제학회](https://www.ieee.org/conferences_events/index.html)\n",
    "\n",
    "* 크롬 브라우저 > 보기 > 개발자 정보 > javascript console\n",
    "    * 제일 맨 위 body > #outer-container를 클릭\n",
    "        ```\n",
    "        '#inner-container > div.content-gray > div.content-lc \\\n",
    "            > div.content-lc-bottom > div.content-c > div:nth-child(1) > div \\\n",
    "            > div:nth-child(2)'\n",
    "        ```\n",
    "   * div 밑 모든 항목을 선택하도록 수정 (css all items inside div)a\n",
    "        ```\n",
    "        '#inner-container > div.content-gray > div.content-lc \\\n",
    "            > div.content-lc-bottom > div.content-c > div:nth-child(1) > div \\\n",
    "            > div > *')\n",
    "        ``` \n",
    "    \n",
    "    1. retreive html page | string or unicode\n",
    "    2. parsing string to tags | tags | lxml.html.fromstring(html)\n",
    "    3. select | selected tags"
   ]
  },
  {
   "cell_type": "code",
   "execution_count": 17,
   "metadata": {
    "collapsed": true
   },
   "outputs": [],
   "source": [
    "import lxml.html\n",
    "from lxml.cssselect import CSSSelector\n",
    "import requests\n",
    "r = requests.get('https://www.ieee.org/conferences_events/index.html')\n",
    "\n",
    "html = lxml.html.fromstring(r.text)"
   ]
  },
  {
   "cell_type": "code",
   "execution_count": 18,
   "metadata": {
    "collapsed": false
   },
   "outputs": [
    {
     "name": "stdout",
     "output_type": "stream",
     "text": [
      "<html lang=\"en-us\" xmlns=\"http://www.w3.org/1999/xhtml\" xml:lang=\"en-us\">\r\n",
      "<head><meta http-equiv=\"content-type\" content=\"text/html; charset=iso-8859-1\"><script type=\"text/javascript\">\r\n",
      "   var _U = \"undefined\";\r\n",
      "   var g_HttpRelativeWebRoot = \"/ucm/\";\r\n",
      "   var SSContributor = false;\r\n",
      "   var SSForceContributor = false;\r\n",
      "   var SSHideContributorUI = false;\r\n",
      "   var ssUrlPrefix = \"/\";\r\n",
      "   var ssUrlType = \"1\";\r\n",
      "   var ssDomainNum = \"f5d7bee6\";\r\n",
      "   var g_navNode_Path = new Array();\r\n",
      "       g_navNode_Path[0] = '2';\r\n",
      "       g_navNode_Path[1] = '39';\r\n",
      "   var g_ssSourceNodeId = \"39\";\r\n",
      "   var g_ssSourceSiteId = \"ieee\";\r\n",
      "   var g_strLanguageId = \"en\";\r\n",
      "</script>\r\n",
      "<script id=\"SSNavigationFunctionsScript\" type=\"text/javascript\" src=\"/ucm/websites/ieee/sitenavigationfunctions.js\"></script>\r\n",
      "<script id=\"SSNavigationScript\" type=\"text/javascript\" src=\"/ucm/websites/ieee/sitenavigation.js\"></script>\r\n",
      "\r\n",
      "\t<script type=\"text/javascript\" src=\"/ucm/resources/wcm/sitestudio/wcm.toggle.js\"></script>\r\n",
      "\t<script t\n"
     ]
    }
   ],
   "source": [
    "print lxml.html.tostring(html)[:1000]"
   ]
  },
  {
   "cell_type": "markdown",
   "metadata": {},
   "source": [
    "* 2번째 행부터 데이터가 시작된다. 2번째 행을 가져오는 css.selecor -> 데이터를 모두 가져옴!!!??"
   ]
  },
  {
   "cell_type": "code",
   "execution_count": 26,
   "metadata": {
    "collapsed": false
   },
   "outputs": [
    {
     "name": "stdout",
     "output_type": "stream",
     "text": [
      "<div><p></p><p><a target=\"\" href=\"http://www.ieee.org/conferences_events/conferences/conferencedetails/index.html?Conf_ID=20214&amp;WT.mc_id=con_mmm_16\">2016 Annual Conference on Magnetism and Magnetic Materials (MMM)</a><br> New Orleans, LA, USA | 31 October - 4 November 2016</p> <p><a target=\"\" href=\"http://www.ieee.org/conferences_events/conferences/conferencedetails/index.html?Conf_ID=34402&amp;WT.mc_id=con_sen_16\">2016 IEEE SENSORS</a><br> Orlando, FL, USA | 30 October - 3 November 2016</p> <p><a target=\"\" href=\"http://www.ieee.org/conferences_events/conferences/conferencedetails/index.html?Conf_ID=31456&amp;WT.mc_id=con_nss_16\">2016 IEEE Nuclear Science Symposium, Medical Imaging Conference and  Room-Temperature Semiconductor Detector Workshop (NSS/MIC/RTSD)</a><br> Strasbourg, France | 29 October - 6 November 2016</p> <p><a target=\"\" href=\"http://www.ieee.org/conferences_events/conferences/conferencedetails/index.html?Conf_ID=36434&amp;WT.mc_id=con_appeec_16\">2016 IEEE PES Asia-Pacific Power and Energy Engineering Conference (APPEEC)</a><br> Xi'an, China | 25 - 28 October 2016</p> <p><a target=\"\" href=\"http://www.ieee.org/conferences_events/conferences/conferencedetails/index.html?Conf_ID=36813&amp;WT.mc_id=con_iecon_16\">IECON 2016 - 42nd Annual Conference of the IEEE Industrial Electronics Society</a><br> Florence, Italy | 23 - 26 October 2016</p><p><a href=\"http://www.ieee.org/conferences_events/conferences/conferencedetails/index.html?Conf_ID=37270&amp;WT.mc_id=_bts_16\">2016 IEEE Broadcast Symposium </a><br> Hartford, CT, USA | 12 - 14 October 2016</p> <p><a target=\"\" href=\"http://www.ieee.org/conferences_events/conferences/conferencedetails/index.html?Conf_ID=20261&amp;WT.mc_id=con_pac_16\">2016 Particle Accelerator Conference (PAC) </a><br> Chicago, IL, USA | 9 - 15 October 2016</p> <p><a target=\"\" href=\"http://www.ieee.org/conferences_events/conferences/conferencedetails/index.html?Conf_ID=35211&amp;WT.mc_id=con_iros_16\">2016 IEEE/RSJ International Conference on Intelligent Robots and Systems (IROS)</a><br> Daejeon, Korea South | 9 - 14 October 2016</p> <p><a target=\"\" href=\"http://www.ieee.org/conferences_events/conferences/conferencedetails/index.html?Conf_ID=35644&amp;WT.mc_id=con_smc_16\">2016 IEEE International Conference on Systems, Man, and Cybernetics (SMC)</a><br> Budapest, Hungary | 9 - 12 October 2016</p> <p><a target=\"\" href=\"http://www.ieee.org/conferences_events/conferences/conferencedetails/index.html?Conf_ID=33229&amp;WT.mc_id=con_iia_16\">2016 IEEE Industry Applications Society Annual Meeting</a><br> Portland, OR, USA | 2 - 6 October 2016</p> <p><a target=\"\" href=\"http://www.ieee.org/conferences_events/conferences/conferencedetails/index.html?Conf_ID=30450&amp;WT.mc_id=con_ipc_16\">2016 IEEE Photonics Conference (IPC)</a><br> Waikoloa, HI, USA | 2 - 6 October 2016</p></div>\r\n",
      "\t\t\t\t\n"
     ]
    }
   ],
   "source": [
    "sel=CSSSelector('#inner-container > div.content-gray > div.content-lc \\\n",
    "        > div.content-lc-bottom > div.content-c > div:nth-child(1) > div \\\n",
    "        > div:nth-child(2)')\n",
    "# Apply the selector to the DOM tree.\n",
    "nodes = sel(html)\n",
    "for node in nodes:\n",
    "    print lxml.html.tostring(node)"
   ]
  },
  {
   "cell_type": "markdown",
   "metadata": {},
   "source": [
    "* 마지막 div 아래 모든 a를 가져오도록 수정함."
   ]
  },
  {
   "cell_type": "code",
   "execution_count": 27,
   "metadata": {
    "collapsed": false
   },
   "outputs": [
    {
     "name": "stdout",
     "output_type": "stream",
     "text": [
      "[<Element a at 0x7ff9f4e4cfc8>, <Element a at 0x7ff9f4e4ce68>, <Element a at 0x7ff9f4dabf70>, <Element a at 0x7ff9f4dab050>, <Element a at 0x7ff9f4dabe68>, <Element a at 0x7ff9f4dabfc8>, <Element a at 0x7ff9f4d628e8>, <Element a at 0x7ff9f4d62940>, <Element a at 0x7ff9f4d620a8>, <Element a at 0x7ff9f4d62050>, <Element a at 0x7ff9f4d62730>]\n"
     ]
    }
   ],
   "source": [
    "#sel = CSSSelector('#inner-container > div.content-gray > div.content-lc > div.content-lc-bottom > div.content-c')\n",
    "sel=CSSSelector('#inner-container > div.content-gray > div.content-lc \\\n",
    "        > div.content-lc-bottom > div.content-c > div:nth-child(1) > div \\\n",
    "        > div a')\n",
    "# Apply the selector to the DOM tree.\n",
    "nodes = sel(html)\n",
    "print nodes"
   ]
  },
  {
   "cell_type": "markdown",
   "metadata": {},
   "source": [
    "* a link의 text를 출력한다."
   ]
  },
  {
   "cell_type": "code",
   "execution_count": 28,
   "metadata": {
    "collapsed": false
   },
   "outputs": [
    {
     "name": "stdout",
     "output_type": "stream",
     "text": [
      "2016 Annual Conference on Magnetism and Magnetic Materials (MMM)\n",
      "2016 IEEE SENSORS\n",
      "2016 IEEE Nuclear Science Symposium, Medical Imaging Conference and  Room-Temperature Semiconductor Detector Workshop (NSS/MIC/RTSD)\n",
      "2016 IEEE PES Asia-Pacific Power and Energy Engineering Conference (APPEEC)\n",
      "IECON 2016 - 42nd Annual Conference of the IEEE Industrial Electronics Society\n",
      "2016 IEEE Broadcast Symposium \n",
      "2016 Particle Accelerator Conference (PAC) \n",
      "2016 IEEE/RSJ International Conference on Intelligent Robots and Systems (IROS)\n",
      "2016 IEEE International Conference on Systems, Man, and Cybernetics (SMC)\n",
      "2016 IEEE Industry Applications Society Annual Meeting\n",
      "2016 IEEE Photonics Conference (IPC)\n"
     ]
    }
   ],
   "source": [
    "for node in nodes:\n",
    "    # print lxml.html.tostring(item)\n",
    "    print node.text"
   ]
  },
  {
   "cell_type": "markdown",
   "metadata": {},
   "source": [
    "* 학회 정보뿐만 아니라 장소, 일정 등의 정보를 가져오도록 수정한다."
   ]
  },
  {
   "cell_type": "code",
   "execution_count": 29,
   "metadata": {
    "collapsed": false
   },
   "outputs": [
    {
     "name": "stdout",
     "output_type": "stream",
     "text": [
      "[<Element br at 0x7ff9f4d54b50>, <Element br at 0x7ff9f4d540a8>, <Element br at 0x7ff9f4d54100>, <Element br at 0x7ff9f4d54158>, <Element br at 0x7ff9f4d541b0>, <Element br at 0x7ff9f4d54208>, <Element br at 0x7ff9f4d54260>, <Element br at 0x7ff9f4d542b8>, <Element br at 0x7ff9f4d54310>, <Element br at 0x7ff9f4d54368>, <Element br at 0x7ff9f4d543c0>]\n",
      "<br> New Orleans, LA, USA | 31 October - 4 November 2016\n",
      "<br> Orlando, FL, USA | 30 October - 3 November 2016\n",
      "<br> Strasbourg, France | 29 October - 6 November 2016\n",
      "<br> Xi'an, China | 25 - 28 October 2016\n",
      "<br> Florence, Italy | 23 - 26 October 2016\n",
      "<br> Hartford, CT, USA | 12 - 14 October 2016\n",
      "<br> Chicago, IL, USA | 9 - 15 October 2016\n",
      "<br> Daejeon, Korea South | 9 - 14 October 2016\n",
      "<br> Budapest, Hungary | 9 - 12 October 2016\n",
      "<br> Portland, OR, USA | 2 - 6 October 2016\n",
      "<br> Waikoloa, HI, USA | 2 - 6 October 2016\n"
     ]
    }
   ],
   "source": [
    "#sel = CSSSelector('#inner-container > div.content-gray > div.content-lc > div.content-lc-bottom > div.content-c')\n",
    "sel=CSSSelector('#inner-container > div.content-gray > div.content-lc \\\n",
    "        > div.content-lc-bottom > div.content-c > div:nth-child(1) > div \\\n",
    "        > div p > br')\n",
    "# Apply the selector to the DOM tree.\n",
    "nodes = sel(html)\n",
    "print nodes\n",
    "\n",
    "for node in nodes:\n",
    "    print lxml.html.tostring(node)\n",
    "    #print node.text"
   ]
  },
  {
   "cell_type": "markdown",
   "metadata": {
    "collapsed": true
   },
   "source": [
    "* 간단한 selector로 가져오기\n",
    "    * 위 selector와 동일함. 모든 p > a를 가져옴.\n",
    "        ```\n",
    "        div.content-c > div.box-c > div.box-c-indent > p > a\n",
    "        ```\n",
    "    \n",
    "    * 줄여서\n",
    "        ```\n",
    "        $$('div.box-c-indent > p a')\n",
    "        ```"
   ]
  },
  {
   "cell_type": "code",
   "execution_count": 30,
   "metadata": {
    "collapsed": false
   },
   "outputs": [
    {
     "name": "stdout",
     "output_type": "stream",
     "text": [
      "19\n",
      "[<Element a at 0x7ff9f4dabf70>, <Element a at 0x7ff9f4e4cfc8>, <Element a at 0x7ff9f4e4ce68>, <Element a at 0x7ff9f4d62730>, <Element a at 0x7ff9f4d62940>, <Element a at 0x7ff9f4d628e8>, <Element a at 0x7ff9f4d620a8>, <Element a at 0x7ff9f4d62050>, <Element a at 0x7ff9f4d54520>, <Element a at 0x7ff9f4d54418>, <Element a at 0x7ff9f4d54470>, <Element a at 0x7ff9f4d544c8>, <Element a at 0x7ff9f4d54578>, <Element a at 0x7ff9f4d545d0>, <Element a at 0x7ff9f4d54628>, <Element a at 0x7ff9f4d54680>, <Element a at 0x7ff9f4d546d8>, <Element a at 0x7ff9f4d54730>, <Element a at 0x7ff9f4d54788>]\n"
     ]
    }
   ],
   "source": [
    "sel=CSSSelector('div.box-c-indent p > a')\n",
    "nodes = sel(html)\n",
    "print len(nodes)\n",
    "print nodes"
   ]
  },
  {
   "cell_type": "code",
   "execution_count": 31,
   "metadata": {
    "collapsed": false
   },
   "outputs": [
    {
     "name": "stdout",
     "output_type": "stream",
     "text": [
      "2016 Annual Conference on Magnetism and Magnetic Materials (MMM)\n",
      "2016 IEEE SENSORS\n",
      "2016 IEEE Nuclear Science Symposium, Medical Imaging Conference and  Room-Temperature Semiconductor Detector Workshop (NSS/MIC/RTSD)\n",
      "2016 IEEE PES Asia-Pacific Power and Energy Engineering Conference (APPEEC)\n",
      "IECON 2016 - 42nd Annual Conference of the IEEE Industrial Electronics Society\n",
      "2016 IEEE Broadcast Symposium \n",
      "2016 Particle Accelerator Conference (PAC) \n",
      "2016 IEEE/RSJ International Conference on Intelligent Robots and Systems (IROS)\n",
      "2016 IEEE International Conference on Systems, Man, and Cybernetics (SMC)\n",
      "2016 IEEE Industry Applications Society Annual Meeting\n",
      "2016 IEEE Photonics Conference (IPC)\n",
      "top of page\n",
      "ieee-mce@ieee.org\n",
      "mce-sales@ieee.org\n",
      "Resources for conference organizers\n",
      "top of page\n",
      "top of page\n",
      "top of page\n",
      "top of page\n"
     ]
    }
   ],
   "source": [
    "for node in nodes:\n",
    "    #print lxml.html.tostring(item)\n",
    "    if node is not None:\n",
    "        print node.text_content()"
   ]
  },
  {
   "cell_type": "markdown",
   "metadata": {},
   "source": [
    "## 웹데이터-6: 프로야구 기록 scraping\n",
    "\n",
    "\n",
    "* 한글은 unicode로 패턴 찾음.\n",
    "    * u'타자'\n",
    "* 야구데이터는 검색엔진을 이용하며, 검색결과가 정적인 HTML로 반환되지 않는 듯함. 그래서 결과를 받을 수 없슴."
   ]
  },
  {
   "cell_type": "code",
   "execution_count": 2,
   "metadata": {
    "collapsed": false,
    "scrolled": true
   },
   "outputs": [
    {
     "name": "stdout",
     "output_type": "stream",
     "text": [
      "http://www.kbreport.com/leader/main?rows=20&order=oWAR&orderType=DESC&teamId=1&defense_no=2&year_from=2015&year_to=2015&split01=&split02_1=&split02_2=&r_tpa_count=&tpa_count=0\n",
      "ZZ</li></a>\n",
      "\t\t\t\t\t<a href=\"depth.html\"><li>팀구성도</li></a>\n",
      "\t\t\t\t\t<a href=\"trade.html\"><li>선수이동내역</li></a>\n",
      "\t\t\t\t\t<a href=\"/leader/main\"><li>개인순위</li></a>\n",
      "\t\t\t\t\t<a href=\"team.html\"><li>팀순위</li></a>\n",
      "\t\t\t\t\t<a href=\"awards.html\"><li id=\"nav3\">명예의전당</li></a>\n",
      "\t\t\t\t\t<a href=\"/statDic/main\"><li id=\"nav4\">STAT Dic</li></a>\n",
      "\t\t\t\t\t<a href=\"/event/hitProbabilityPerGame\"><li>이벤트 STAT</li></a>\n",
      "\t\t\t\t\t -->\n",
      "\t\t\t\t</ul>\n",
      "\t\t\t</div>\n",
      "\t\t</div><!-- .nav end -->\n",
      "\t\t<div class=\"top-score-box\">\n",
      "\t\t<div class=\"top-score\">\n",
      "\t\t\t\t<div class=\"top-score-top\">\n",
      "\t\t\t\t\t<div class=\"tst-1\">\n",
      "\t\t\t\t\t\t<span class=\"tst-date\">2014.6.24</span>\n",
      "\t\t\t\t\t\t<span class=\"tst-day\">화</span>\n",
      "\t\t\t\t\t</div>\n",
      "\t\t\t\t\t<div class=\"tst-2\">\n",
      "\t\t\t\t\t\t<div class=\"tst-vs-score\">\n",
      "\t\t\t\t\t\t\t<p class=\"tst-stadium\">잠실</p>\n",
      "\t\t\t\t\t\t\t<p class=\"tst-team-1\"><span class=\"teamName\">삼성</span></p>\n",
      "\t\t\t\t\t\t\t<span class=\"tst-team-1-score\">7</span>\n",
      "\t\t\t\t\t\t\t<span class=\"tst-dash\">-</span>\n",
      "\t\t\t\t\t\t\t<span class=\"tst-team-2-score\">6</span>\n",
      "\t\t\t\t\t\t\t<p class=\"tst-team-2\"><span class=\"t\n"
     ]
    }
   ],
   "source": [
    "import urllib2\n",
    "import requests\n",
    "urlperson='http://www.kbreport.com/player/list?key=이대호'\n",
    "urlbase=\"http://www.kbreport.com/leader/main?\"\n",
    "url1=\"rows=20&order=oWAR&orderType=DESC&\"\n",
    "url2=\"teamId=1&defense_no=2&year_from=2015&year_to=2015&split01=&split02_1=&split02_2=&r_tpa_count=&tpa_count=0\"\n",
    "urlbaseball=urlbase+url1+url2\n",
    "print urlbaseball\n",
    "data=requests.get(urlbaseball).text\n",
    "#data=requests.get(urlperson).text\n",
    "print data[6000:7000]"
   ]
  },
  {
   "cell_type": "code",
   "execution_count": 9,
   "metadata": {
    "collapsed": false
   },
   "outputs": [
    {
     "name": "stdout",
     "output_type": "stream",
     "text": [
      "6340\n",
      "8353\n"
     ]
    }
   ],
   "source": [
    "print data.find('top-score-top')\n",
    "print data.find('top-score end')\n",
    "\n",
    "#import re\n",
    "#p=re.compile('NC\\w+')\n",
    "#res=re.search('<title>', data)\n",
    "#res=re.search(u'타자.+', data)\n",
    "#res=re.search(u'야구.통계.+', data)\n",
    "#print res.group()\n",
    "\n",
    "#data.encode('utf-8')\n",
    "#print data\n",
    "#from BeautifulSoup import BeautifulSoup\n",
    "#BeautifulSoup(data)"
   ]
  },
  {
   "cell_type": "code",
   "execution_count": 4,
   "metadata": {
    "collapsed": false
   },
   "outputs": [
    {
     "name": "stdout",
     "output_type": "stream",
     "text": [
      "[u'(\\uc2b9) \\uc774\\ud638\\uc131 (\\ud328) \\uc815\\uc218\\uadfc (\\uc138) \\uc784\\ucc3d\\uc6a9 (\\ud648\\ub7f0) \\uae40\\ubc14\\uc704</p>\\r', u'(\\uc2b9) \\uc774\\ud638\\uc131 (\\ud328) \\uc815\\uc218\\uadfc (\\uc138) \\uc784\\ucc3d\\uc6a9 (\\ud648\\ub7f0) \\uae40\\ubc14\\uc704</p>\\r', u'(\\uc2b9) \\uc774\\ud638\\uc131 (\\ud328) \\uc815\\uc218\\uadfc (\\uc138) \\uc784\\ucc3d\\uc6a9 (\\ud648\\ub7f0) \\uae40\\ubc14\\uc704</p>\\r', u'(\\uc2b9) \\uc774\\ud638\\uc131 (\\ud328) \\uc815\\uc218\\uadfc (\\uc138) \\uc784\\ucc3d\\uc6a9 (\\ud648\\ub7f0) \\uae40\\ubc14\\uc704</p>\\r']\n",
      "(승) 이호성 (패) 정수근 (세) 임창용 (홈런) 김바위</p>\r\n",
      "(승) 이호성 (패) 정수근 (세) 임창용 (홈런) 김바위</p>\r\n",
      "(승) 이호성 (패) 정수근 (세) 임창용 (홈런) 김바위</p>\r\n",
      "(승) 이호성 (패) 정수근 (세) 임창용 (홈런) 김바위</p>\r\n"
     ]
    }
   ],
   "source": [
    "mydata=data[6340:8353+len('top-score end')]\n",
    "import re\n",
    "p=re.compile(u'.승.+')\n",
    "#p=re.compile(u'.두산.')\n",
    "#res=p.search(data)\n",
    "found=p.findall(mydata)\n",
    "print found\n",
    "for item in found:\n",
    "    print item\n",
    "#print res.group()\n",
    "#findall?\n",
    "#print res.groups"
   ]
  },
  {
   "cell_type": "code",
   "execution_count": 6,
   "metadata": {
    "collapsed": false
   },
   "outputs": [
    {
     "name": "stdout",
     "output_type": "stream",
     "text": [
      "78734\n"
     ]
    }
   ],
   "source": [
    "import requests\n",
    "urlkorbase='http://www.koreabaseball.com/Record/Player/HitterBasic/Basic1.aspx'\n",
    "data=requests.get(urlkorbase).text\n",
    "#print data\n",
    "\n",
    "# 국가통게\n",
    "kosis='http://kosis.kr/statisticsList/statisticsList_01List.jsp?vwcd=MT_ZTITLE&parentId=A#SubCont'\n",
    "data=requests.get(urlkorbase).text\n",
    "print len(data)"
   ]
  },
  {
   "cell_type": "markdown",
   "metadata": {},
   "source": [
    "## 연습 웹데이터-3: UC Irvine 기계학습 데이터\n",
    "\n",
    "* UC Irvine 기계학습 데이터 banknote authentication Data Set를 프로그래밍으로 가져와서 \n",
    "클래스별로 'entropy of image'의 평균을 구하시오\n",
    "* http://archive.ics.uci.edu/ml/datasets/banknote+authentication\n",
    "\n"
   ]
  },
  {
   "cell_type": "markdown",
   "metadata": {},
   "source": [
    "## 연습 웹데이터-3: 기상청 도별 날씨 가져오기\n",
    "\n",
    "* 기상청 http://www.kma.go.kr/index.jsp의 날씨\n",
    "* css selector\n",
    "    ```\n",
    "    $$('.region_weather_e')\n",
    "    ```"
   ]
  },
  {
   "cell_type": "markdown",
   "metadata": {},
   "source": [
    "## 연습 웹데이터-3: 신문 크롤링 해보기\n",
    "\n",
    "* http://www.bigkinds.or.kr/ 2016년 연말까지 무료 사용 BIG KINDS-Pro\n",
    "\n",
    "* 스크레이핑을 하려니까 params이 검색에 문자열로 붙지 않아...\n",
    "    * 가온미디어 http://myrion.iptime.org/joomlaCMS/index.php/39-iii"
   ]
  },
  {
   "cell_type": "markdown",
   "metadata": {},
   "source": [
    "## 연습 웹데이터-4: 영화"
   ]
  }
 ],
 "metadata": {
  "kernelspec": {
   "display_name": "Python 2",
   "language": "python",
   "name": "python2"
  },
  "language_info": {
   "codemirror_mode": {
    "name": "ipython",
    "version": 2
   },
   "file_extension": ".py",
   "mimetype": "text/x-python",
   "name": "python",
   "nbconvert_exporter": "python",
   "pygments_lexer": "ipython2",
   "version": "2.7.12"
  }
 },
 "nbformat": 4,
 "nbformat_minor": 0
}
