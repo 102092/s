{
 "cells": [
  {
   "cell_type": "markdown",
   "metadata": {},
   "source": [
    "# knn\n",
    "\n",
    "* knn은 lazy learning이라고 한다. eager learning의 반대되는 개념. 즉, 학습이 늦추어져 있다가 질의가 일어나는 시점에 일어남.\n",
    "* knn은 매우 단순하지만 정확성이 비교적 높음.\n",
    "* 입력데이터가 과다할 경우, 테스트데이터의 비교가 비효율적.\n",
    "\n",
    "* 예를 들어, 사람마다 좋아하는 과일이 다른 경우, \n",
    "\n",
    "* case\n",
    "    * Number of frequent flyer miles earned per year\n",
    "    * Percentage of time spent playing video games\n",
    "    * Liters of ice cream consumed per week\n",
    "\n",
    "| 비행기 마일리지 | 비디오게임하는 시간 | 아이스크림 소비량 | 이상형정도 |\n",
    "|-------------|----------------|---------------|------|\n",
    "|2.0|3.0|2.0| 1|\n",
    "|5.0|3.0|2.0| 2|\n",
    "\n",
    "\n",
    "\n",
    "\n",
    "\n",
    "* 단위가 다른 변수는 정규화 (최소, 최대가 0~1이 되도록 변환하거나 z값을 계산하여 사용함)\n",
    "* 명목변수는 0,1로 변환"
   ]
  },
  {
   "cell_type": "markdown",
   "metadata": {},
   "source": [
    "## knn algorithm\n",
    "\n",
    "* 학습단계에서는 학습데이터 (자질(features), 클래스(class label)로 이루어진 벡터)를 준비해 놓음. 준비만 하고 모델링, 연산 등은 하지 않음.\n",
    "* 분류단계에서는 테스트데이터를 학습데이터 가운데 가장 가까운 k개를 골라서, 가장 많은 클래스로 투표하듯이 분류함 (majority voting)\n",
    "\n",
    "* knn알고리듬의 입력데이터는 학습데이터(S), 테스트데이터(x), 투표갯수(k). 결과는 결정된 클래스.\n",
    "    * input: S,x,c,k\n",
    "        * S: training dataset m(n_features) x n(n_samples)\n",
    "        * x: test instance\n",
    "        * c: class label\n",
    "        * k: the number of most similar examples in S \n",
    "    * output: class of x majority class\n",
    "\n",
    "* 절차\n",
    "    * for (feature,class) $\\in$ S do \n",
    "        * compute the distance d(feature,x)\n",
    "    * end for\n",
    "    * sort d by increasing order\n",
    "    * count the number of occurences of each class among the k nearest neighbors\n",
    "    * Assign d the class that is the most frequent class (or the majority class).\n"
   ]
  },
  {
   "cell_type": "markdown",
   "metadata": {},
   "source": [
    "## 알고리듬에 따른 개발\n",
    "\n",
    "1. data read - 데이터 준비\n",
    "2. distance - 학습데이터와 테스트데이터 거리(유사도) 계산\n",
    "3. select k neighbors - 가장 가까운 k개 선정\n",
    "4. decision - k개에서 voting하여 결정\n",
    "5. accuracy - 정확성"
   ]
  },
  {
   "cell_type": "markdown",
   "metadata": {},
   "source": [
    "## knn.1 준비\n",
    "\n",
    "* 리눅스와 윈도우는 디렉토리 구분자가 서로 달라 문제를 일으킨다.\n",
    "    * os에서 제공하는 기능을 사용하면 이런 문제를 해결할 수 있다.\n",
    "    ```\n",
    "    os.path.join()\n",
    "    ```\n",
    "    \n",
    "* 사용자별 디렉토리가 다르다.\n",
    "    * expanduser()를 사용한다.\n",
    "    ```\n",
    "    os.path.expanduser('~')\n",
    "    ```\n",
    "    \n",
    "    * 또는 환경변수에 설정되어 있는 값을 사용한다.\n",
    "    ```\n",
    "    os.getenv('HOME')\n",
    "    ```\n",
    "    \n",
    "    * 여기서는 다음을 정의하고 사용한다.\n",
    "        * 나의 홈디렉토리 myhome\n",
    "        * 나의 작업 디렉토리 mywd\n",
    "        * ch2의 작업 디렉토리 ch2wd\n",
    "        * ch2의 데이터 디렉토리 ch2dd\n",
    "\n",
    "* ipython\n",
    "    * 매직명령어를 뜻하는 퍼센트 사인을 사용하여, 디렉토리를 변경할 수 있다. ipython값을 쉘로 넘겨줄 때는 {}를 사용한다. \n",
    "    ```\n",
    "    %cd {myhome}\n",
    "    ```\n",
    "    \n",
    "    * 느낌표를 앞에 붙이면, 쉘 명령어를 이용할 수 있다.\n",
    "    ```\n",
    "    !ls\n",
    "    ```"
   ]
  },
  {
   "cell_type": "code",
   "execution_count": 7,
   "metadata": {
    "collapsed": false
   },
   "outputs": [
    {
     "name": "stdout",
     "output_type": "stream",
     "text": [
      "/Users/media /Users/media/Code/git/jsl/algo/src/pystat/ /Users/media/Code/git/else/machinelearninginaction/Ch02/ /Users/media/Code/git/else/machinelearninginaction/Ch02/trainingDigits\n"
     ]
    }
   ],
   "source": [
    "# directory setup\n",
    "import os\n",
    "myhome=os.path.expanduser('~')\n",
    "mywd=os.path.join(myhome,'Code/git/jsl/algo/src/pystat/')\n",
    "plantdir=os.path.join(myhome,'Code/git/gh/s/lib/')\n",
    "ch2wd=os.path.join(myhome,'Code/git/else/machinelearninginaction/Ch02/')\n",
    "ch2dd=os.path.join(ch2wd,'trainingDigits')\n",
    "print myhome, mywd,ch2wd,ch2dd"
   ]
  },
  {
   "cell_type": "markdown",
   "metadata": {},
   "source": [
    "* activity diagram\n",
    "    * 알고리즘을 다이어그램으로 표현한다."
   ]
  },
  {
   "cell_type": "code",
   "execution_count": 4,
   "metadata": {
    "collapsed": false
   },
   "outputs": [
    {
     "name": "stdout",
     "output_type": "stream",
     "text": [
      "Installed plantuml_magics.py. To use it, type:\n",
      "  %load_ext plantuml_magics\n"
     ]
    }
   ],
   "source": [
    "%install_ext https://raw.githubusercontent.com/sberke/ipython-plantuml/master/plantuml_magics.py"
   ]
  },
  {
   "cell_type": "code",
   "execution_count": 5,
   "metadata": {
    "collapsed": false
   },
   "outputs": [
    {
     "name": "stdout",
     "output_type": "stream",
     "text": [
      "The plantuml_magics extension is already loaded. To reload it, use:\n",
      "  %reload_ext plantuml_magics\n"
     ]
    }
   ],
   "source": [
    "%load_ext plantuml_magics"
   ]
  },
  {
   "cell_type": "code",
   "execution_count": 8,
   "metadata": {
    "collapsed": false
   },
   "outputs": [
    {
     "name": "stdout",
     "output_type": "stream",
     "text": [
      "/Users/media/Code/git/gh/s/lib\n"
     ]
    }
   ],
   "source": [
    "%cd {plantdir}"
   ]
  },
  {
   "cell_type": "code",
   "execution_count": 9,
   "metadata": {
    "collapsed": false
   },
   "outputs": [
    {
     "data": {
      "text/plain": [
       "['./plantuml.jar']"
      ]
     },
     "execution_count": 9,
     "metadata": {},
     "output_type": "execute_result"
    }
   ],
   "source": [
    "import glob\n",
    "glob.glob(r'./*.jar')"
   ]
  },
  {
   "cell_type": "code",
   "execution_count": 10,
   "metadata": {
    "collapsed": false
   },
   "outputs": [
    {
     "name": "stdout",
     "output_type": "stream",
     "text": [
      "/opt/local/bin/dot\n",
      "The environment variable GRAPHVIZ_DOT has been set to /opt/local/bin/dot\n",
      "Dot executable is /opt/local/bin/dot\n",
      "Dot version: dot - graphviz version 2.38.0 (20140413.2041)\n",
      "Installation seems OK. File generation OK\n"
     ]
    }
   ],
   "source": [
    "import os\n",
    "os.environ['GRAPHVIZ_DOT']='/opt/local/bin/dot'\n",
    "print os.environ['GRAPHVIZ_DOT']\n",
    "!java -jar plantuml.jar -testdot"
   ]
  },
  {
   "cell_type": "code",
   "execution_count": 14,
   "metadata": {
    "collapsed": false
   },
   "outputs": [
    {
     "data": {
      "image/svg+xml": [
       "<svg height=\"473px\" style=\"width:267px;height:473px;\" version=\"1.1\" viewBox=\"0 0 267 473\" width=\"267px\" xmlns=\"http://www.w3.org/2000/svg\" xmlns:xlink=\"http://www.w3.org/1999/xlink\"><defs><filter height=\"300%\" id=\"f1\" width=\"300%\" x=\"-1\" y=\"-1\"><feGaussianBlur result=\"blurOut\" stdDeviation=\"2.0\"/><feColorMatrix in=\"blurOut\" result=\"blurOut2\" type=\"matrix\" values=\"0 0 0 0 0 0 0 0 0 0 0 0 0 0 0 0 0 0 .4 0\"/><feOffset dx=\"4.0\" dy=\"4.0\" in=\"blurOut2\" result=\"blurOut3\"/><feBlend in=\"SourceGraphic\" in2=\"blurOut3\" mode=\"normal\"/></filter></defs><g><text fill=\"#000000\" font-family=\"sans-serif\" font-size=\"18\" lengthAdjust=\"spacingAndGlyphs\" textLength=\"123\" x=\"73.5\" y=\"27.4023\">knn algorithm</text><ellipse cx=\"135\" cy=\"41.1992\" fill=\"#000000\" filter=\"url(#f1)\" rx=\"10\" ry=\"10\" style=\"stroke: none; stroke-width: 1.0;\"/><rect fill=\"#FEFECE\" filter=\"url(#f1)\" height=\"34.1328\" rx=\"12.5\" ry=\"12.5\" style=\"stroke: #A80036; stroke-width: 1.5;\" width=\"77\" x=\"96.5\" y=\"71.1992\"/><text fill=\"#000000\" font-family=\"sans-serif\" font-size=\"12\" lengthAdjust=\"spacingAndGlyphs\" textLength=\"57\" x=\"106.5\" y=\"92.8008\">data read</text><rect fill=\"#FEFECE\" filter=\"url(#f1)\" height=\"34.1328\" rx=\"12.5\" ry=\"12.5\" style=\"stroke: #A80036; stroke-width: 1.5;\" width=\"204\" x=\"33\" y=\"125.332\"/><text fill=\"#000000\" font-family=\"sans-serif\" font-size=\"12\" lengthAdjust=\"spacingAndGlyphs\" textLength=\"184\" x=\"43\" y=\"146.9336\">set data, class labels, filenames</text><rect fill=\"#FEFECE\" filter=\"url(#f1)\" height=\"34.1328\" rx=\"12.5\" ry=\"12.5\" style=\"stroke: #A80036; stroke-width: 1.5;\" width=\"128\" x=\"71\" y=\"223.4648\"/><text fill=\"#000000\" font-family=\"sans-serif\" font-size=\"12\" lengthAdjust=\"spacingAndGlyphs\" textLength=\"108\" x=\"81\" y=\"245.0664\">compute distances</text><polygon fill=\"#FEFECE\" filter=\"url(#f1)\" points=\"135,179.4648,147,191.4648,135,203.4648,123,191.4648,135,179.4648\" style=\"stroke: #A80036; stroke-width: 1.5;\"/><polygon fill=\"#FEFECE\" filter=\"url(#f1)\" points=\"97,294.5313,173,294.5313,185,306.5313,173,318.5313,97,318.5313,85,306.5313,97,294.5313\" style=\"stroke: #A80036; stroke-width: 1.5;\"/><text fill=\"#000000\" font-family=\"sans-serif\" font-size=\"11\" lengthAdjust=\"spacingAndGlyphs\" textLength=\"76\" x=\"97\" y=\"310.6885\">no more data?</text><rect fill=\"#FEFECE\" filter=\"url(#f1)\" height=\"34.1328\" rx=\"12.5\" ry=\"12.5\" style=\"stroke: #A80036; stroke-width: 1.5;\" width=\"217\" x=\"26.5\" y=\"338.5313\"/><text fill=\"#000000\" font-family=\"sans-serif\" font-size=\"12\" lengthAdjust=\"spacingAndGlyphs\" textLength=\"197\" x=\"36.5\" y=\"360.1328\">select k neighbors using distances</text><rect fill=\"#FEFECE\" filter=\"url(#f1)\" height=\"34.1328\" rx=\"12.5\" ry=\"12.5\" style=\"stroke: #A80036; stroke-width: 1.5;\" width=\"250\" x=\"10\" y=\"392.6641\"/><text fill=\"#000000\" font-family=\"sans-serif\" font-size=\"12\" lengthAdjust=\"spacingAndGlyphs\" textLength=\"230\" x=\"20\" y=\"414.2656\">vote to select majority from k neighbors</text><ellipse cx=\"135\" cy=\"456.7969\" fill=\"none\" filter=\"url(#f1)\" rx=\"10\" ry=\"10\" style=\"stroke: #000000; stroke-width: 1.0;\"/><ellipse cx=\"135.5\" cy=\"457.2969\" fill=\"#000000\" filter=\"url(#f1)\" rx=\"6\" ry=\"6\" style=\"stroke: none; stroke-width: 1.0;\"/><line style=\"stroke: #A80036; stroke-width: 1.5;\" x1=\"135\" x2=\"135\" y1=\"51.1992\" y2=\"71.1992\"/><polygon fill=\"#A80036\" points=\"131,61.1992,135,71.1992,139,61.1992,135,65.1992\" style=\"stroke: #A80036; stroke-width: 1.0;\"/><line style=\"stroke: #A80036; stroke-width: 1.5;\" x1=\"135\" x2=\"135\" y1=\"105.332\" y2=\"125.332\"/><polygon fill=\"#A80036\" points=\"131,115.332,135,125.332,139,115.332,135,119.332\" style=\"stroke: #A80036; stroke-width: 1.0;\"/><line style=\"stroke: #A80036; stroke-width: 1.5;\" x1=\"135\" x2=\"135\" y1=\"203.4648\" y2=\"223.4648\"/><polygon fill=\"#A80036\" points=\"131,213.4648,135,223.4648,139,213.4648,135,217.4648\" style=\"stroke: #A80036; stroke-width: 1.0;\"/><line style=\"stroke: #A80036; stroke-width: 1.5;\" x1=\"185\" x2=\"211\" y1=\"306.5313\" y2=\"306.5313\"/><polygon fill=\"#A80036\" points=\"207,274.5313,211,264.5313,215,274.5313,211,270.5313\" style=\"stroke: #A80036; stroke-width: 1.5;\"/><line style=\"stroke: #A80036; stroke-width: 1.5;\" x1=\"211\" x2=\"211\" y1=\"191.4648\" y2=\"306.5313\"/><line style=\"stroke: #A80036; stroke-width: 1.5;\" x1=\"211\" x2=\"147\" y1=\"191.4648\" y2=\"191.4648\"/><polygon fill=\"#A80036\" points=\"157,187.4648,147,191.4648,157,195.4648,153,191.4648\" style=\"stroke: #A80036; stroke-width: 1.0;\"/><line style=\"stroke: #A80036; stroke-width: 1.5;\" x1=\"135\" x2=\"135\" y1=\"257.5977\" y2=\"294.5313\"/><polygon fill=\"#A80036\" points=\"131,284.5313,135,294.5313,139,284.5313,135,288.5313\" style=\"stroke: #A80036; stroke-width: 1.0;\"/><line style=\"stroke: #A80036; stroke-width: 1.5;\" x1=\"135\" x2=\"135\" y1=\"159.4648\" y2=\"179.4648\"/><polygon fill=\"#A80036\" points=\"131,169.4648,135,179.4648,139,169.4648,135,173.4648\" style=\"stroke: #A80036; stroke-width: 1.0;\"/><line style=\"stroke: #A80036; stroke-width: 1.5;\" x1=\"135\" x2=\"135\" y1=\"318.5313\" y2=\"338.5313\"/><polygon fill=\"#A80036\" points=\"131,328.5313,135,338.5313,139,328.5313,135,332.5313\" style=\"stroke: #A80036; stroke-width: 1.0;\"/><line style=\"stroke: #A80036; stroke-width: 1.5;\" x1=\"135\" x2=\"135\" y1=\"372.6641\" y2=\"392.6641\"/><polygon fill=\"#A80036\" points=\"131,382.6641,135,392.6641,139,382.6641,135,386.6641\" style=\"stroke: #A80036; stroke-width: 1.0;\"/><line style=\"stroke: #A80036; stroke-width: 1.5;\" x1=\"135\" x2=\"135\" y1=\"426.7969\" y2=\"446.7969\"/><polygon fill=\"#A80036\" points=\"131,436.7969,135,446.7969,139,436.7969,135,440.7969\" style=\"stroke: #A80036; stroke-width: 1.0;\"/></g></svg>"
      ],
      "text/plain": [
       "<IPython.core.display.SVG object>"
      ]
     },
     "execution_count": 14,
     "metadata": {},
     "output_type": "execute_result"
    }
   ],
   "source": [
    "%%plantuml\n",
    "@startuml\n",
    "\n",
    "title knn algorithm \n",
    "\n",
    "start\n",
    ":data read;\n",
    ":set data, class labels, filenames;\n",
    "repeat\n",
    "    :compute distances;\n",
    "repeat while (no more data?)\n",
    ":select k neighbors using distances;\n",
    ":vote to select majority from k neighbors;\n",
    "stop\n",
    "\n",
    "@enduml"
   ]
  },
  {
   "cell_type": "markdown",
   "metadata": {},
   "source": [
    "## knn.2 data read\n",
    "\n",
    "* 데이터는 https://github.com/pbharrin/machinelearninginaction.git\n",
    "* 내려받아서 데이터파일 압축을 푼다.\n",
    "\n",
    "* 절차\n",
    "    * 파일이 저장되어 있는 dir를 찾는다.\n",
    "    * dir에서 모든 파일을 읽어 목록을 만든다 (trainFiles)\n",
    "    * 파일명이 클래스를 가지고 있으므로, 클래스를 분리한다.\n",
    "        * 파일명의 첫 글자가 분류 값이 된다. 즉 0_1.txt파일은 첫 글자 '0'이 분류 값이 된다.\n"
   ]
  },
  {
   "cell_type": "code",
   "execution_count": 185,
   "metadata": {
    "collapsed": false
   },
   "outputs": [
    {
     "name": "stdout",
     "output_type": "stream",
     "text": [
      "file name = /Users/media/Code/git/else/machinelearninginaction/Ch02/trainingDigits/0_1.txt\n",
      "class is  0\n"
     ]
    }
   ],
   "source": [
    "# git clone https://github.com/pbharrin/machinelearninginaction.git\n",
    "# cd Ch02/trainingDigits; unzip digits.zip\n",
    "import os\n",
    "\n",
    "_trainFiles=[os.path.join(ch2dd, f) for f in os.listdir(ch2dd)]\n",
    "_fn1=_trainFiles[1]\n",
    "print \"file name =\",_fn1\n",
    "# 파일명 첫 글자 (underscore '_'로 분리해서)가 클래스명\n",
    "print \"class is \",os.path.basename(_trainFiles[1]).split('_')[0]"
   ]
  },
  {
   "cell_type": "code",
   "execution_count": 186,
   "metadata": {
    "collapsed": false
   },
   "outputs": [
    {
     "name": "stdout",
     "output_type": "stream",
     "text": [
      "/Users/media/Code/git/jsl/algo/src/pystat\n"
     ]
    }
   ],
   "source": [
    "%cd {mywd}"
   ]
  },
  {
   "cell_type": "code",
   "execution_count": 187,
   "metadata": {
    "collapsed": false
   },
   "outputs": [
    {
     "data": {
      "text/plain": [
       "['/Users/media/Code/git/else/machinelearninginaction/Ch02/trainingDigits/0_0.txt',\n",
       " '/Users/media/Code/git/else/machinelearninginaction/Ch02/trainingDigits/0_1.txt',\n",
       " '/Users/media/Code/git/else/machinelearninginaction/Ch02/trainingDigits/0_10.txt',\n",
       " '/Users/media/Code/git/else/machinelearninginaction/Ch02/trainingDigits/0_100.txt',\n",
       " '/Users/media/Code/git/else/machinelearninginaction/Ch02/trainingDigits/0_101.txt']"
      ]
     },
     "execution_count": 187,
     "metadata": {},
     "output_type": "execute_result"
    }
   ],
   "source": [
    "# %%writefile sfun.py -a\n",
    "# input: directory path\n",
    "# output: list of absolute file names\n",
    "def getFileList(d):\n",
    "    import os\n",
    "    return [os.path.join(d, f) for f in os.listdir(d)]\n",
    "\n",
    "trainFiles=getFileList(ch2dd)\n",
    "trainFiles[:5]"
   ]
  },
  {
   "cell_type": "markdown",
   "metadata": {},
   "source": [
    "* eof\n",
    "    * 따로 정의된 eof가 없다.\n",
    "    * 모든 내용을 읽어서 출력한다.\n",
    "    * with를 사용하면 file을 닫을 필요가 없다.\n",
    "    ```\n",
    "    with open(fn) as f:\n",
    "        data=f.readlines()\n",
    "    ```\n",
    "\n",
    "* readlins\n",
    "    * '\\r\\n'이 줄마다 붙게 된다.\n",
    "    * splitlines()를 사용하면 줄 분리를 해주기 때문에 없어진다. \n",
    "    ```\n",
    "    with open(fn) as f:\n",
    "        data=f.splitlines()\n",
    "    ```\n",
    "\n",
    "* 읽은 데이터를 저장하는 방법\n",
    "    ```\n",
    "    dataAll=list()\n",
    "    dataAll.append(data)\n",
    "    ```\n",
    "\n",
    "* 읽은 데이터 읽기\n",
    "    * 3차원으로 생각하고, 정수 인덱스를 사용하면 된다.\n",
    "    ```\n",
    "    dataAll[0][0][1]\n",
    "    ```\n"
   ]
  },
  {
   "cell_type": "code",
   "execution_count": 188,
   "metadata": {
    "collapsed": false
   },
   "outputs": [
    {
     "name": "stdout",
     "output_type": "stream",
     "text": [
      "/Users/media/Code/git/else/machinelearninginaction/Ch02/trainingDigits\n",
      "00000000000001111000000000000000\n",
      "00000000000111111001100000000000\n",
      "00000000001111111111111100000000\n",
      "00000000001111111111111110000000\n",
      "00000000001111111111111110000000\n",
      "00000000001111111111111111000000\n",
      "00000000011111111110011111000000\n",
      "00000000011111111000011111000000\n",
      "00000000011110000000011111000000\n",
      "00000000111110000000011111000000\n",
      "00000000111100000000001111000000\n",
      "00000000111100000000001111000000\n",
      "00000000111000000000001111000000\n",
      "00000000111000000000011111000000\n",
      "00000001111000000000011111000000\n",
      "00000001111000000000011111000000\n",
      "00000001111000000000010111000000\n",
      "00000001111000000000011110000000\n",
      "00000001110000000000011110000000\n",
      "00000001110000000000111110000000\n",
      "00000011110000000000111110000000\n",
      "00000011110000000000111100000000\n",
      "00000011111000000001111100000000\n",
      "00000011111000000011111000000000\n",
      "00000001111100000011111000000000\n",
      "00000001111111111111111000000000\n",
      "00000000111111111111110000000000\n",
      "00000000011111111111100000000000\n",
      "00000000011111111111100000000000\n",
      "00000000001101111110000000000000\n",
      "00000000000111111100000000000000\n",
      "00000000000001110000000000000000\n"
     ]
    }
   ],
   "source": [
    "%cd {ch2dd}\n",
    "!cat 0_114.txt"
   ]
  },
  {
   "cell_type": "code",
   "execution_count": 189,
   "metadata": {
    "collapsed": false
   },
   "outputs": [],
   "source": [
    "# readlines vs splitlines\n",
    "fn0=os.path.join(dir,trainFiles[0])\n",
    "with open(fn0) as f:\n",
    "    data0_=f.readlines()\n",
    "with open(fn0) as f:\n",
    "    data0=f.read().splitlines()"
   ]
  },
  {
   "cell_type": "code",
   "execution_count": 190,
   "metadata": {
    "collapsed": false
   },
   "outputs": [
    {
     "data": {
      "text/plain": [
       "['00000000000001111000000000000000\\r\\n',\n",
       " '00000000000011111110000000000000\\r\\n',\n",
       " '00000000001111111111000000000000\\r\\n',\n",
       " '00000001111111111111100000000000\\r\\n',\n",
       " '00000001111111011111100000000000\\r\\n',\n",
       " '00000011111110000011110000000000\\r\\n',\n",
       " '00000011111110000000111000000000\\r\\n',\n",
       " '00000011111110000000111100000000\\r\\n',\n",
       " '00000011111110000000011100000000\\r\\n',\n",
       " '00000011111110000000011100000000\\r\\n',\n",
       " '00000011111100000000011110000000\\r\\n',\n",
       " '00000011111100000000001110000000\\r\\n',\n",
       " '00000011111100000000001110000000\\r\\n',\n",
       " '00000001111110000000000111000000\\r\\n',\n",
       " '00000001111110000000000111000000\\r\\n',\n",
       " '00000001111110000000000111000000\\r\\n',\n",
       " '00000001111110000000000111000000\\r\\n',\n",
       " '00000011111110000000001111000000\\r\\n',\n",
       " '00000011110110000000001111000000\\r\\n',\n",
       " '00000011110000000000011110000000\\r\\n',\n",
       " '00000001111000000000001111000000\\r\\n',\n",
       " '00000001111000000000011111000000\\r\\n',\n",
       " '00000001111000000000111110000000\\r\\n',\n",
       " '00000001111000000001111100000000\\r\\n',\n",
       " '00000000111000000111111000000000\\r\\n',\n",
       " '00000000111100011111110000000000\\r\\n',\n",
       " '00000000111111111111110000000000\\r\\n',\n",
       " '00000000011111111111110000000000\\r\\n',\n",
       " '00000000011111111111100000000000\\r\\n',\n",
       " '00000000001111111110000000000000\\r\\n',\n",
       " '00000000000111110000000000000000\\r\\n',\n",
       " '00000000000011000000000000000000\\r\\n']"
      ]
     },
     "execution_count": 190,
     "metadata": {},
     "output_type": "execute_result"
    }
   ],
   "source": [
    "data0_"
   ]
  },
  {
   "cell_type": "code",
   "execution_count": 191,
   "metadata": {
    "collapsed": false
   },
   "outputs": [
    {
     "data": {
      "text/plain": [
       "['00000000000001111000000000000000',\n",
       " '00000000000011111110000000000000',\n",
       " '00000000001111111111000000000000',\n",
       " '00000001111111111111100000000000',\n",
       " '00000001111111011111100000000000',\n",
       " '00000011111110000011110000000000',\n",
       " '00000011111110000000111000000000',\n",
       " '00000011111110000000111100000000',\n",
       " '00000011111110000000011100000000',\n",
       " '00000011111110000000011100000000',\n",
       " '00000011111100000000011110000000',\n",
       " '00000011111100000000001110000000',\n",
       " '00000011111100000000001110000000',\n",
       " '00000001111110000000000111000000',\n",
       " '00000001111110000000000111000000',\n",
       " '00000001111110000000000111000000',\n",
       " '00000001111110000000000111000000',\n",
       " '00000011111110000000001111000000',\n",
       " '00000011110110000000001111000000',\n",
       " '00000011110000000000011110000000',\n",
       " '00000001111000000000001111000000',\n",
       " '00000001111000000000011111000000',\n",
       " '00000001111000000000111110000000',\n",
       " '00000001111000000001111100000000',\n",
       " '00000000111000000111111000000000',\n",
       " '00000000111100011111110000000000',\n",
       " '00000000111111111111110000000000',\n",
       " '00000000011111111111110000000000',\n",
       " '00000000011111111111100000000000',\n",
       " '00000000001111111110000000000000',\n",
       " '00000000000111110000000000000000',\n",
       " '00000000000011000000000000000000']"
      ]
     },
     "execution_count": 191,
     "metadata": {},
     "output_type": "execute_result"
    }
   ],
   "source": [
    "data0"
   ]
  },
  {
   "cell_type": "code",
   "execution_count": 192,
   "metadata": {
    "collapsed": false
   },
   "outputs": [],
   "source": [
    "# readlines vs splitlines\n",
    "dataAll=list()\n",
    "for i in range(5):\n",
    "    with open(os.path.join(dir,trainFiles[i])) as f:\n",
    "        dataAll.append(f.read().splitlines())"
   ]
  },
  {
   "cell_type": "code",
   "execution_count": 193,
   "metadata": {
    "collapsed": false
   },
   "outputs": [
    {
     "data": {
      "text/plain": [
       "['00000000000111110000000000000000',\n",
       " '00000000001111111000000000000000',\n",
       " '00000000011111111100000000000000',\n",
       " '00000000111111111110000000000000',\n",
       " '00000001111111111111000000000000',\n",
       " '00000011111110111111100000000000',\n",
       " '00000011111100011111110000000000',\n",
       " '00000011111100001111110000000000',\n",
       " '00000111111100000111111000000000',\n",
       " '00000111111100000011111000000000',\n",
       " '00000011111100000001111110000000',\n",
       " '00000111111100000000111111000000',\n",
       " '00000111111000000000011111000000',\n",
       " '00000111111000000000011111100000',\n",
       " '00000111111000000000011111100000',\n",
       " '00000111111000000000001111100000',\n",
       " '00000111111000000000001111100000',\n",
       " '00000111111000000000001111100000',\n",
       " '00000111111000000000001111100000',\n",
       " '00000111111000000000001111100000',\n",
       " '00000011111000000000001111100000',\n",
       " '00000011111100000000011111100000',\n",
       " '00000011111100000000111111000000',\n",
       " '00000001111110000000111111100000',\n",
       " '00000000111110000001111111000000',\n",
       " '00000000111110000011111110000000',\n",
       " '00000000111111000111111100000000',\n",
       " '00000000111111111111111000000000',\n",
       " '00000000111111111111110000000000',\n",
       " '00000000011111111111100000000000',\n",
       " '00000000001111111111000000000000',\n",
       " '00000000000111111110000000000000']"
      ]
     },
     "execution_count": 193,
     "metadata": {},
     "output_type": "execute_result"
    }
   ],
   "source": [
    "dataAll[1]"
   ]
  },
  {
   "cell_type": "code",
   "execution_count": 194,
   "metadata": {
    "collapsed": false
   },
   "outputs": [],
   "source": [
    "# input: a file list with a format of 32 rows x 32 cols\n",
    "# output: list of data\n",
    "def _readData(files):\n",
    "    rows=32;\n",
    "    cols=32;\n",
    "    data = list()\n",
    "    for f in files:\n",
    "        fr = open(f, 'r')\n",
    "        for i in range(rows):\n",
    "            row=fr.readline()\n",
    "            for j in range(cols):\n",
    "                data.append(int(row[j]))\n",
    "        fr.close()\n",
    "    return data\n",
    "\n",
    "# input: a file list\n",
    "# output: list of data\n",
    "# readlines -> '\\r\\n' -> splitlines\n",
    "# eof problem -> no marker -> returns \"\" \n",
    "# convert string into integer problem\n",
    "def readData(files):\n",
    "    data=list()\n",
    "    for f in files:\n",
    "        with open(os.path.join(dir,f)) as fr:\n",
    "            data.append(fr.read().splitlines())\n",
    "    return data\n",
    "\n",
    "_dataAll=_readData(trainFiles)\n",
    "dataAll=readData(trainFiles)"
   ]
  },
  {
   "cell_type": "markdown",
   "metadata": {},
   "source": [
    "* 데이터 읽기 함수의 테스트\n",
    "    * 사용한 함수에 따라 데이터 모양이 다르다.\n",
    "    * 파일의 개수는 1934\n",
    "    * 앞의 함수는 1934파일 x 32 x 32 = 1980416\n",
    "    * 뒤의 함수는 1934파일의 데이터를 반환\n",
    "        * 각 1934개 데이터는 32 x 32"
   ]
  },
  {
   "cell_type": "code",
   "execution_count": 195,
   "metadata": {
    "collapsed": false
   },
   "outputs": [
    {
     "name": "stdout",
     "output_type": "stream",
     "text": [
      "1934\n",
      "1980416\n",
      "1934\n",
      "32\n",
      "32\n"
     ]
    }
   ],
   "source": [
    "print len(trainFiles)\n",
    "print len(_dataAll)\n",
    "print len(dataAll)\n",
    "print len(dataAll[0])\n",
    "print len(dataAll[0][0])"
   ]
  },
  {
   "cell_type": "markdown",
   "metadata": {},
   "source": [
    "### 벡터로 만드는 문제\n",
    "\n",
    "* _readData(files) 함수는 1934 x 32 x 32개를 1줄 데이터 리스트로 읽었다.\n",
    "* 1024개씩 나누어서 벡터로 구성한다.\n",
    "* 절차\n",
    "    * 벡터를 1934 x 1024 형식으로 초기화 한다. 그냥 0으로 초기화한다.\n",
    "    ```\n",
    "    np.zeros(1924,1024)\n",
    "    ```\n",
    "    \n",
    "    * 1024개씩 읽어서 하나씩 벡터에 넣어준다.\n",
    "    * 1024개의 클래스 값을 저장한다.\n",
    "    * 1024개가 저장된 파일 명을 저장한다.\n",
    "\n",
    "* 결과\n",
    "    * 데이터벡터 1924 by 1024\n",
    "    * 클래스 값 - 파일명의 맨 앞 글자 ('_'로 분리한 결과)\n",
    "    * 파일 명\n",
    "\n",
    "* 주의\n",
    "    * 데이터, 클래스 값, 파일 명이 별도로 저장되었다. 인덱스 값으로 연관을 지어야 한다."
   ]
  },
  {
   "cell_type": "code",
   "execution_count": 197,
   "metadata": {
    "collapsed": false
   },
   "outputs": [
    {
     "name": "stdout",
     "output_type": "stream",
     "text": [
      "a+b= (2, 10)\n",
      "3x10테이블모양의 a+b+c=\n",
      "[[ 0  1  2  3  4  5  6  7  8  9]\n",
      " [10 11 12 13 14 15 16 17 18 19]\n",
      " [30 31 32 33 34 35 36 37 38 39]]\n"
     ]
    }
   ],
   "source": [
    "import numpy as np\n",
    "\n",
    "#데이터를 벡터로 묶어서 만드는 연습.\n",
    "a=np.array(range(0,10))\n",
    "b=np.array(range(10,20))\n",
    "ab=np.vstack([a,b])\n",
    "print \"a+b=\",ab.shape\n",
    "c=np.array(range(30,40))\n",
    "abc=np.vstack([ab,c])\n",
    "print \"3x10테이블모양의 a+b+c=\\n\",abc"
   ]
  },
  {
   "cell_type": "code",
   "execution_count": 199,
   "metadata": {
    "collapsed": false
   },
   "outputs": [
    {
     "name": "stdout",
     "output_type": "stream",
     "text": [
      "_dataMat(1934, 1024)\n",
      "_dataMat 1934개이지만(줄 당) 15개만 출력\n",
      "[[ 0.  0.  0.  0.  0.  0.  0.  0.  0.  0.  0.  0.  0.  1.  1.]\n",
      " [ 0.  0.  0.  0.  0.  0.  0.  0.  0.  0.  0.  1.  1.  1.  1.]\n",
      " [ 0.  0.  0.  0.  0.  0.  0.  0.  0.  0.  0.  0.  0.  0.  1.]\n",
      " [ 0.  0.  0.  0.  0.  0.  0.  0.  0.  0.  0.  0.  1.  1.  1.]\n",
      " [ 0.  0.  0.  0.  0.  0.  0.  0.  0.  0.  0.  0.  0.  0.  1.]]\n",
      "cLabels 5\n",
      "cLabels 값 ['0', '0', '0', '0', '0']\n"
     ]
    }
   ],
   "source": [
    "# 디렉토리에 있는 파일을 읽어서 벡터로 만듦.\n",
    "import numpy as np\n",
    "nFiles=len(trainFiles)\n",
    "nRowsCols=32*32\n",
    "_dataMat=np.zeros((nFiles,nRowsCols))\n",
    "cLabels=list()\n",
    "fileNames=list()\n",
    "nTests=5\n",
    "for i in range(nTests):\n",
    "    filename=trainFiles[i]\n",
    "    begin=i*nRowsCols\n",
    "    end=begin+nRowsCols\n",
    "    _dataMat[i,:]=_dataAll[begin:end]\n",
    "    classNumStr=os.path.basename(filename).split('_')[0]\n",
    "    cLabels.append(classNumStr)\n",
    "    fileNames.append(filename)\n",
    "\n",
    "#출력형식(formatted print)을 보기좋게\n",
    "print \"_dataMat{0}\".format(_dataMat.shape)\n",
    "print \"_dataMat 1934개이지만(줄 당) 15개만 출력\\n{0}\".format(_dataMat[:nTests,:15])\n",
    "print \"cLabels %d\" % len(cLabels)\n",
    "print \"cLabels 값 {0}\".format(cLabels[:nTests])"
   ]
  },
  {
   "cell_type": "code",
   "execution_count": 200,
   "metadata": {
    "collapsed": false
   },
   "outputs": [
    {
     "name": "stdout",
     "output_type": "stream",
     "text": [
      "_dataMat(1934, 1024)\n",
      "_dataMat 1934개이지만(줄 당) 15개만 출력 [[ 0.  0.  0.  0.  0.  0.  0.  0.  0.  0.  0.  0.  0.  1.  1.]\n",
      " [ 0.  0.  0.  0.  0.  0.  0.  0.  0.  0.  0.  1.  1.  1.  1.]\n",
      " [ 0.  0.  0.  0.  0.  0.  0.  0.  0.  0.  0.  0.  0.  0.  1.]\n",
      " [ 0.  0.  0.  0.  0.  0.  0.  0.  0.  0.  0.  0.  1.  1.  1.]\n",
      " [ 0.  0.  0.  0.  0.  0.  0.  0.  0.  0.  0.  0.  0.  0.  1.]]\n",
      "_cLabels 1934\n",
      "_cLabels 값 ['0', '0', '0', '0', '0']\n"
     ]
    }
   ],
   "source": [
    "# %load -r 75-103 sfun.py\n",
    "# input: list of files (one list of all files, each with a format of 32 x 32)\n",
    "# output: 1) 32x32 vectors, 2) list of class labels, 3) list of file names\n",
    "# dependency: _readData(files)\n",
    "def readDataVector(files):\n",
    "    import numpy as np\n",
    "    _dataAll=_readData(files)\n",
    "    nFiles=len(files)\n",
    "    nRowsCols=32*32\n",
    "    dataV=np.zeros((nFiles,nRowsCols))\n",
    "    cLabels=list()\n",
    "    fileNames=list()\n",
    "    for i in range(nFiles):\n",
    "        filename=files[i]\n",
    "        begin=i*nRowsCols\n",
    "        end=begin+nRowsCols\n",
    "        dataV[i,:]=_dataAll[begin:end]\n",
    "        classNumStr=os.path.basename(filename).split('_')[0]\n",
    "        cLabels.append(classNumStr)\n",
    "        fileNames.append(filename)\n",
    "    return dataV, cLabels, fileNames\n",
    "\n",
    "_dataMat,_cLabels,_fileNames = readDataVector(trainFiles)\n",
    "\n",
    "nTests=5\n",
    "#출력형식(formatted print)을 보기좋게\n",
    "print \"_dataMat{0}\".format(_dataMat.shape)\n",
    "print \"_dataMat 1934개이지만(줄 당) 15개만 출력 {0}\".format(_dataMat[:nTests,:15])\n",
    "print \"_cLabels %d\" % len(_cLabels)\n",
    "print \"_cLabels 값 {0}\".format(_cLabels[:nTests])"
   ]
  },
  {
   "cell_type": "markdown",
   "metadata": {
    "collapsed": true
   },
   "source": [
    "## knn.3 distance\n",
    "\n",
    "### knn.3.1 Euclidean distance\n",
    "\n",
    "$$\\|x\\| := \\sqrt{x_1^2 + \\cdots + x_n^2}$$\n",
    "\n",
    "### knn.3.2 계산 방식\n",
    "\n",
    "* numpy방식\n",
    "    * numpy에서 제공하는 함수를 이용한다.\n",
    "    * 선형대수 함수인 norm을 이용할 수 있다.\n",
    "    * numpy를 이용하지 않고 계산할 수 있다.\n",
    "\n",
    "* 시간측정\n",
    "    * timeit를 이용하면 시간이 적게 걸리는 함수를 알 수 있다.\n",
    "    * float 데이터형으로 하면 어떤지 확인해 본다.\n",
    "    ```\n",
    "    a=np.array([5,2,3,1,4],dtype=float)\n",
    "    b=np.array([2,4,3,4,5],dtype=float)\n",
    "    ```"
   ]
  },
  {
   "cell_type": "code",
   "execution_count": 201,
   "metadata": {
    "collapsed": false
   },
   "outputs": [
    {
     "name": "stdout",
     "output_type": "stream",
     "text": [
      "4.79583152331\n",
      "4.79583152331\n",
      "100000 loops, best of 3: 8.94 µs per loop\n",
      "The slowest run took 5.59 times longer than the fastest. This could mean that an intermediate result is being cached \n",
      "100000 loops, best of 3: 4.86 µs per loop\n"
     ]
    }
   ],
   "source": [
    "import numpy as np\n",
    "a=np.array([5,2,3,1,4])\n",
    "b=np.array([2,4,3,4,5])\n",
    "print np.linalg.norm(a-b)\n",
    "\n",
    "#벡터연산을 하지 않는 경우\n",
    "print np.sqrt((a[0]-b[0])**2 + (a[1]-b[1])**2 + (a[2]-b[2])**2 +(a[3]-b[3])**2 +(a[4]-b[4])**2)\n",
    "\n",
    "#어느 연산이 시간이 적게 걸리는지\n",
    "import timeit\n",
    "%timeit np.linalg.norm(a-b)\n",
    "%timeit np.sqrt((a[0]-b[0])**2 + (a[1]-b[1])**2 + (a[2]-b[2])**2 +(a[3]-b[3])**2 +(a[4]-b[4])**2)"
   ]
  },
  {
   "cell_type": "code",
   "execution_count": 202,
   "metadata": {
    "collapsed": false
   },
   "outputs": [
    {
     "name": "stdout",
     "output_type": "stream",
     "text": [
      "[2.2360679774997898, 3.6055512754639891, 0.0, 6.4031242374328485]\n",
      "[ 2.23606798  3.60555128  0.          6.40312424]\n"
     ]
    }
   ],
   "source": [
    "# %load -r 81-100 sfun.py\n",
    "import numpy as np\n",
    "#myV = np.array([[1.0,1.1],[1.0,1.0],[0,0],[0,0.1]])\n",
    "myV=np.array([[1.0,2.0],[2.0,3.0],[0,0],[4.0,5.0]])\n",
    "myX=np.array([0,0])\n",
    "dNorm=list()\n",
    "dNorm=[np.linalg.norm(i-myX) for i in myV]\n",
    "eEucl=np.sqrt(((myV-myX)**2).sum(axis=1))\n",
    "print dNorm\n",
    "print eEucl"
   ]
  },
  {
   "cell_type": "markdown",
   "metadata": {},
   "source": [
    "* vector 연산을 하지 않는 경우\n",
    "    * python math를 사용한다.\n",
    "    * for loop를 사용하기 때문에 계산과정이 비교적 복잡해진다.\n",
    "    * getDistanceUsingEq(xs, x)를 만든다."
   ]
  },
  {
   "cell_type": "code",
   "execution_count": 203,
   "metadata": {
    "collapsed": false
   },
   "outputs": [
    {
     "name": "stdout",
     "output_type": "stream",
     "text": [
      "[2.23606797749979, 3.605551275463989, 0.0, 6.4031242374328485]\n"
     ]
    }
   ],
   "source": [
    "import math\n",
    "dMath=list()\n",
    "for v in myV:\n",
    "    x=v[0]-myX[0]\n",
    "    y=v[1]-myX[1]\n",
    "    dtemp=math.sqrt(math.pow(x,2)+math.pow(y,2))\n",
    "    dMath.append(dtemp)\n",
    "print dMath"
   ]
  },
  {
   "cell_type": "code",
   "execution_count": 204,
   "metadata": {
    "collapsed": false
   },
   "outputs": [
    {
     "name": "stdout",
     "output_type": "stream",
     "text": [
      "[2.2360679774997898, 3.6055512754639891, 0.0, 6.4031242374328485]\n",
      "[ 2.23606798  3.60555128  0.          6.40312424]\n",
      "[2.23606797749979, 3.605551275463989, 0.0, 6.4031242374328485]\n"
     ]
    }
   ],
   "source": [
    "# input: xs train data, x test data\n",
    "# output: list of distances\n",
    "def getDistanceUsingEq(xs,x):\n",
    "    import math\n",
    "    dMath=list()\n",
    "    for item in xs:\n",
    "        dtemp=0\n",
    "        for i in range(len(x)):\n",
    "           dtemp+=math.pow(item[i]-x[i],2)\n",
    "        dtemp=math.sqrt(dtemp)\n",
    "        dMath.append(dtemp)\n",
    "    return dMath\n",
    "\n",
    "# input:\n",
    "# 1) sel: user selection -> one of 'norm', 'eucl\" or else\n",
    "# 2) xs: train data\n",
    "# 3) x: test data\n",
    "# output: list of distances\n",
    "# dependency: getDistanceUsingEq(xs,x)\n",
    "def getDistance(sel,xs,x):\n",
    "    d=list()\n",
    "    if sel==\"norm\":\n",
    "        d=[np.linalg.norm(i-x) for i in xs]\n",
    "    elif sel==\"eucl\":\n",
    "        d=np.sqrt(((xs-x)**2).sum(axis=1))\n",
    "    else:\n",
    "        d=getDistanceUsingEq(xs,x)\n",
    "    return d\n",
    "\n",
    "myV=np.array([[1.0,2.0],[2.0,3.0],[0,0],[4.0,5.0]])\n",
    "myX=np.array([0,0])\n",
    "normDistances=getDistance(\"norm\",myV,myX)\n",
    "euclDistances=getDistance(\"eucl\",myV,myX)\n",
    "mathDistances=getDistance(\"math\",myV,myX)\n",
    "print normDistances\n",
    "print euclDistances\n",
    "print mathDistances"
   ]
  },
  {
   "cell_type": "markdown",
   "metadata": {},
   "source": [
    "## knn.4 select k neighbors\n",
    "\n",
    "* numpy에서 제공하는 argsort()를 사용한다.\n",
    "    * 데이터를 정렬해서, 그 인덱스를 돌려준다.\n",
    "    * 거리를 계산한 결과가 [ 2.23, 3.60, 0., 6.40]인 경우\n",
    "    * argsort()의 결과가 2, 0, 1, 3이면\n",
    "    * 의미는 인덱스 2번째 값은 0, 0번째 2.23, 1번째 3.60, 3번째 6.40"
   ]
  },
  {
   "cell_type": "code",
   "execution_count": 205,
   "metadata": {
    "collapsed": false
   },
   "outputs": [
    {
     "name": "stdout",
     "output_type": "stream",
     "text": [
      "[2 0 1 3]\n",
      "[array([ 0.,  0.]), array([ 1.,  2.]), array([ 2.,  3.]), array([ 4.,  5.])]\n",
      "['A', 'C', 'B', 'B']\n",
      "[3 2 0 1]\n",
      "[3 2 0]\n"
     ]
    }
   ],
   "source": [
    "# 클래스를 저장하는 associative array\n",
    "myC=np.array(['C','B','A','B'])\n",
    "# 인덱스를 반환한다. 2번째 0, 0번째 2.23, 1번째 3.60, 3번째 6.40\n",
    "sortedDistIndices=np.array(normDistances).argsort()\n",
    "print sortedDistIndices\n",
    "# 가장 가까운 데이터부터 출력하면\n",
    "# 가장 가까운 클래스부터 출력하면\n",
    "print [myV[i] for i in sortedDistIndices]\n",
    "print [myC[i] for i in sortedDistIndices]\n",
    "\n",
    "# argsort의 실습.\n",
    "# 3은 3번째인 '2', 2는 2번째인 '3', 0은 0번째인 '5', 1은 1번째 '7'\n",
    "x = np.array([5, 7, 3, 2])\n",
    "print np.argsort(x)\n",
    "#앞의 k개를 sorting하여 가장 많은 빈도수 있는 것을 고름\n",
    "k=3\n",
    "print np.argsort(x)[:k]"
   ]
  },
  {
   "cell_type": "code",
   "execution_count": 206,
   "metadata": {
    "collapsed": false
   },
   "outputs": [
    {
     "name": "stdout",
     "output_type": "stream",
     "text": [
      "[array([ 0.,  0.]), array([ 1.,  2.]), array([ 2.,  3.])]\n",
      "['A', 'C', 'B']\n"
     ]
    }
   ],
   "source": [
    "# %load -r 139-145 sfun.py\n",
    "def selectKNeighbors(data,k):\n",
    "    import numpy as np\n",
    "    return np.array(data).argsort()[:k]\n",
    "\n",
    "knnIndices=selectKNeighbors(normDistances,k)\n",
    "print [myV[i] for i in knnIndices]\n",
    "print [myC[i] for i in knnIndices]"
   ]
  },
  {
   "cell_type": "markdown",
   "metadata": {},
   "source": [
    "## knn.5 decision\n",
    "\n",
    "* Python에서 제공하는 Set기능을 사용하여 빈도가 가장 높은 요소를 선정.\n",
    "* most_common함수는 빈도가 가장 높은 요소와 빈도수를 내림차순으로 출력\n",
    "* 전통적인 방식으로 빈도를 세어볼 수 있다."
   ]
  },
  {
   "cell_type": "code",
   "execution_count": 207,
   "metadata": {
    "collapsed": false
   },
   "outputs": [
    {
     "name": "stdout",
     "output_type": "stream",
     "text": [
      "[('a', 2), ('c', 1), ('b', 1)]\n",
      "labelcount= {'a': 2, 'c': 1, 'b': 1}\n",
      "most frequent item = [('a', 2)]\n"
     ]
    }
   ],
   "source": [
    "# 빈도가 많은 혹은 collections를 사용\n",
    "import collections\n",
    "a1=['a','b','a','c']\n",
    "a2=[1,2,3,4,4,4,4,2,42,5]\n",
    "print collections.Counter(a1).most_common()\n",
    "\n",
    "# 전통적인 방식 - 레이블마다 빈도를 세어보기\n",
    "labelcount={}\n",
    "for i in range(len(a1)):\n",
    "    l=a1[i]\n",
    "    if l not in labelcount:\n",
    "        labelcount[l]=1\n",
    "    else:\n",
    "        labelcount[l]+=1\n",
    "\n",
    "print \"labelcount=\",labelcount\n",
    "#labelcount에서 가장빈도가 가장 높은 요소 돌려줌. 즉 a는 2회.\n",
    "print \"most frequent item =\",collections.Counter(labelcount).most_common(1)\n"
   ]
  },
  {
   "cell_type": "code",
   "execution_count": 208,
   "metadata": {
    "collapsed": false
   },
   "outputs": [
    {
     "name": "stdout",
     "output_type": "stream",
     "text": [
      "[('A', 1)]\n"
     ]
    }
   ],
   "source": [
    "# input: data list, nMostCommon number of most common\n",
    "# output: nMostCommon list (클래스, 빈도)\n",
    "def vote(data, nMostCommon):\n",
    "    import collections\n",
    "    return collections.Counter(data).most_common(nMostCommon)\n",
    "\n",
    "knnClasses=[myC[i] for i in selectKNeighbors(normDistances,k)]\n",
    "print vote(knnClasses, 1)\n"
   ]
  },
  {
   "cell_type": "markdown",
   "metadata": {},
   "source": [
    "## knn.6 알고리듬 (위 3,4,5) 묶어서 하나의 함수로\n",
    "\n",
    "* 관련함수를 저장하고, 라이브러리로 만들어 호출\n",
    "```\n",
    "import sfun\n",
    "```\n",
    "\n",
    "* 변경하면\n",
    "```\n",
    "imp.reload(sys.modules['sfun'])\n",
    "```\n",
    "* 테스트\n",
    "    * myX, myV, myC, k=1"
   ]
  },
  {
   "cell_type": "code",
   "execution_count": 211,
   "metadata": {
    "collapsed": false
   },
   "outputs": [
    {
     "name": "stdout",
     "output_type": "stream",
     "text": [
      "now classifying...\n",
      "\n",
      "입력데이터\n",
      "[[ 1.  2.  3.]\n",
      " [ 2.  3.  4.]\n",
      " [ 0.  0.  1.]\n",
      " [ 1.  1.  1.]\n",
      " [ 4.  5.  5.]]가운데 [0, 0, 1]과 가장 가까운 데이터와 클래스를 순서대로 나열하면\n",
      "----> major class는 [('A', 2)]\n"
     ]
    }
   ],
   "source": [
    "# test: myX, myV, myC, k=1\n",
    "myX=[0,0,1]\n",
    "myV=np.array([[1.0,2.0,3.0],[2.0,3.0,4.0],[0,0,1],[1,1,1],[4.0,5.0,5]])\n",
    "myC=np.array(['C','B','A','A','B'])\n",
    "print \"now classifying...\"\n",
    "print \"\\n입력데이터\\n{0}가운데 {1}과 가장 가까운 데이터와 클래스를 순서대로 나열하면\".format(myV, myX)\n",
    "normDistances=getDistance(\"norm\",myV,myX)\n",
    "knnClasses=[myC[i] for i in selectKNeighbors(normDistances,k)]\n",
    "majority=sfun.vote(knnClasses, 1)\n",
    "print \"----> major class는 {0}\".format(majority)\n",
    "#[(0,1)]의 의미는 가장 가까운(most_common)은 0번째 즉 (0,0)이 1회 발생"
   ]
  },
  {
   "cell_type": "code",
   "execution_count": 219,
   "metadata": {
    "collapsed": false
   },
   "outputs": [
    {
     "name": "stdout",
     "output_type": "stream",
     "text": [
      "Appending to sfun.py\n"
     ]
    }
   ],
   "source": [
    "# input\n",
    "# 1) x: test data (features)\n",
    "# 2) S: data set (list of features)\n",
    "# 3) c: class\n",
    "# 4) k: num of neighbhors\n",
    "# output: list of majority\n",
    "# usage:\n",
    "# trainFiles=getFileList(ch2dd)\n",
    "# dataV,cLabels,fileNames = readDataVector(trainFiles)\n",
    "# majority=knnClassify(dataV[100],dataV,cLabels,3)\n",
    "def knnClassify(x, S, c, k):\n",
    "    normDistances=getDistance(\"norm\",S,x)\n",
    "    knnIndices=selectKNeighbors(normDistances,k)\n",
    "    print \"\\tNeighbor indices: {0}\".format(knnIndices)\n",
    "    knnClasses=[c[i] for i in knnIndices]\n",
    "    majority=vote(knnClasses, 1)\n",
    "    print \"\\tmajor class -> {0}\".format(majority)\n",
    "    return majority, knnIndices\n",
    "\n",
    "import os\n",
    "trainFiles=getFileList(ch2dd)\n",
    "dataV,cLabels,fileNames=readDataVector(trainFiles)\n",
    "majority, indices=knnClassify(dataV[100],dataV,cLabels,3)\n",
    "print \"result -> class {0}\".format(majority)\n",
    "for i in indices:\n",
    "    print \"\\t{0} -> {1}\".format(i,os.path.basename(fileNames[i]))"
   ]
  },
  {
   "cell_type": "markdown",
   "metadata": {},
   "source": [
    "## Final\n",
    "\n",
    "* 이제 함수를 호출하여 knn 분류를 해본다.\n",
    "    * 관련 함수를 라이브러리로 만든다.\n",
    "    * knnClassify함수를 불러서 처리한다."
   ]
  },
  {
   "cell_type": "code",
   "execution_count": 214,
   "metadata": {
    "collapsed": false
   },
   "outputs": [
    {
     "name": "stdout",
     "output_type": "stream",
     "text": [
      "/Users/media/Code/git/jsl/algo/src/pystat\n"
     ]
    }
   ],
   "source": [
    "%cd {mywd}"
   ]
  },
  {
   "cell_type": "code",
   "execution_count": 215,
   "metadata": {
    "collapsed": true
   },
   "outputs": [],
   "source": [
    "import sfun"
   ]
  },
  {
   "cell_type": "code",
   "execution_count": 220,
   "metadata": {
    "collapsed": true
   },
   "outputs": [],
   "source": [
    "sfun.reload()"
   ]
  },
  {
   "cell_type": "code",
   "execution_count": 221,
   "metadata": {
    "collapsed": false
   },
   "outputs": [
    {
     "name": "stdout",
     "output_type": "stream",
     "text": [
      "\tNeighbor indices: [500 568 414 569 519]\n",
      "\tmajor class -> [('2', 5)]\n",
      "result -> class [('2', 5)]\n",
      "\t500 -> 2_25.txt\n",
      "\t568 -> 2_87.txt\n",
      "\t414 -> 2_122.txt\n",
      "\t569 -> 2_88.txt\n",
      "\t519 -> 2_42.txt\n"
     ]
    }
   ],
   "source": [
    "majority, indices=sfun.knnClassify(dataV[500],dataV,cLabels,5)\n",
    "print \"result -> class {0}\".format(majority)\n",
    "for i in indices:\n",
    "    print \"\\t{0} -> {1}\".format(i,os.path.basename(fileNames[i]))"
   ]
  },
  {
   "cell_type": "markdown",
   "metadata": {},
   "source": [
    "## knn-1: iris data를 knn분류\n",
    "\n",
    "* 과제제출: 자신의 github\n",
    "* 기한: 매주 수요일까지"
   ]
  },
  {
   "cell_type": "code",
   "execution_count": 2,
   "metadata": {
    "collapsed": false
   },
   "outputs": [
    {
     "name": "stdout",
     "output_type": "stream",
     "text": [
      "(150, 4)\n",
      "['sepal length (cm)', 'sepal width (cm)', 'petal length (cm)', 'petal width (cm)']\n",
      "[0 0 0 0 0 0 0 0 0 0 0 0 0 0 0 0 0 0 0 0 0 0 0 0 0 0 0 0 0 0 0 0 0 0 0 0 0\n",
      " 0 0 0 0 0 0 0 0 0 0 0 0 0 1 1 1 1 1 1 1 1 1 1 1 1 1 1 1 1 1 1 1 1 1 1 1 1\n",
      " 1 1 1 1 1 1 1 1 1 1 1 1 1 1 1 1 1 1 1 1 1 1 1 1 1 1 2 2 2 2 2 2 2 2 2 2 2\n",
      " 2 2 2 2 2 2 2 2 2 2 2 2 2 2 2 2 2 2 2 2 2 2 2 2 2 2 2 2 2 2 2 2 2 2 2 2 2\n",
      " 2 2]\n",
      "['setosa' 'versicolor' 'virginica']\n"
     ]
    }
   ],
   "source": [
    "from sklearn.datasets import load_iris\n",
    "iris=load_iris()\n",
    "print iris.data.shape\n",
    "print iris.feature_names\n",
    "print iris.target\n",
    "print iris.target_names\n"
   ]
  },
  {
   "cell_type": "code",
   "execution_count": 1,
   "metadata": {
    "collapsed": false
   },
   "outputs": [
    {
     "name": "stdout",
     "output_type": "stream",
     "text": [
      "/home/jsl/Code/git/bb/jsl/algo/src/pystat\n"
     ]
    }
   ],
   "source": [
    "mywd=%pwd\n",
    "print mywd"
   ]
  },
  {
   "cell_type": "code",
   "execution_count": 3,
   "metadata": {
    "collapsed": false
   },
   "outputs": [
    {
     "name": "stdout",
     "output_type": "stream",
     "text": [
      "0th col key counts [['middle' 'old' 'young']\n",
      " ['5' '5' '5']]\n",
      "last col key count [['No' 'Yes']\n",
      " ['6' '9']]\n",
      "(2, 2)\n",
      "prob [ 0.4  0.6] allFreq 15\n",
      "entropy 0.970950594455\n",
      "------------------\n",
      "[from computeProbVec] prob [ 0.4  0.6] all freq 15\n",
      "entropy 0.970950594455\n",
      "[from computeProbVec] prob [ 0.4  0.6] all freq 15\n",
      "[from computeProbVec] prob [ 0.33333333  0.33333333  0.33333333] all freq 15\n",
      "[computeInfoGain]prob=[ 0.33333333  0.33333333  0.33333333]\n",
      "[from computeProbVec] prob [ 0.4  0.6] all freq 5\n",
      "[computeInfoGain] keyToSearch=middle entropy=0.323650198152\n",
      "[computeInfoGain] prob=[ 0.33333333  0.33333333  0.33333333] subData=[['middle' 'No']\n",
      " ['middle' 'No']\n",
      " ['middle' 'Yes']\n",
      " ['middle' 'Yes']\n",
      " ['middle' 'Yes']]\n",
      "[from computeProbVec] prob [ 0.2  0.8] all freq 5\n",
      "[computeInfoGain] keyToSearch=old entropy=0.564292896447\n",
      "[computeInfoGain] prob=[ 0.33333333  0.33333333  0.33333333] subData=[['old' 'Yes']\n",
      " ['old' 'Yes']\n",
      " ['old' 'Yes']\n",
      " ['old' 'Yes']\n",
      " ['old' 'No']]\n",
      "[from computeProbVec] prob [ 0.6  0.4] all freq 5\n",
      "[computeInfoGain] keyToSearch=young entropy=0.887943094599\n",
      "[computeInfoGain] prob=[ 0.33333333  0.33333333  0.33333333] subData=[['young' 'No']\n",
      " ['young' 'No']\n",
      " ['young' 'Yes']\n",
      " ['young' 'Yes']\n",
      " ['young' 'No']]\n",
      "[getInfoGainVec] 0th InfoGain=[ 0.0830075  0.         0.         0.       ]\n",
      "[from computeProbVec] prob [ 0.4  0.6] all freq 15\n",
      "[from computeProbVec] prob [ 0.66666667  0.33333333] all freq 15\n",
      "[computeInfoGain]prob=[ 0.66666667  0.33333333]\n",
      "[from computeProbVec] prob [ 0.6  0.4] all freq 10\n",
      "[computeInfoGain] keyToSearch=false entropy=0.647300396303\n",
      "[computeInfoGain] prob=[ 0.66666667  0.33333333] subData=[['false' 'No']\n",
      " ['false' 'No']\n",
      " ['false' 'No']\n",
      " ['false' 'No']\n",
      " ['false' 'No']\n",
      " ['false' 'Yes']\n",
      " ['false' 'Yes']\n",
      " ['false' 'Yes']\n",
      " ['false' 'Yes']\n",
      " ['false' 'No']]\n",
      "[from computeProbVec] prob [ 1.] all freq 5\n",
      "[computeInfoGain] keyToSearch=true entropy=0.647300396303\n",
      "[computeInfoGain] prob=[ 0.66666667  0.33333333] subData=[['true' 'Yes']\n",
      " ['true' 'Yes']\n",
      " ['true' 'Yes']\n",
      " ['true' 'Yes']\n",
      " ['true' 'Yes']]\n",
      "[getInfoGainVec] 1th InfoGain=[ 0.0830075  0.3236502  0.         0.       ]\n",
      "[from computeProbVec] prob [ 0.4  0.6] all freq 15\n",
      "[from computeProbVec] prob [ 0.6  0.4] all freq 15\n",
      "[computeInfoGain]prob=[ 0.6  0.4]\n",
      "[from computeProbVec] prob [ 0.66666667  0.33333333] all freq 9\n",
      "[computeInfoGain] keyToSearch=false entropy=0.550977500433\n",
      "[computeInfoGain] prob=[ 0.6  0.4] subData=[['false' 'No']\n",
      " ['false' 'No']\n",
      " ['false' 'Yes']\n",
      " ['false' 'No']\n",
      " ['false' 'No']\n",
      " ['false' 'No']\n",
      " ['false' 'Yes']\n",
      " ['false' 'Yes']\n",
      " ['false' 'No']]\n",
      "[from computeProbVec] prob [ 1.] all freq 6\n",
      "[computeInfoGain] keyToSearch=true entropy=0.550977500433\n",
      "[computeInfoGain] prob=[ 0.6  0.4] subData=[['true' 'Yes']\n",
      " ['true' 'Yes']\n",
      " ['true' 'Yes']\n",
      " ['true' 'Yes']\n",
      " ['true' 'Yes']\n",
      " ['true' 'Yes']]\n",
      "[getInfoGainVec] 2th InfoGain=[ 0.0830075   0.3236502   0.41997309  0.        ]\n",
      "[from computeProbVec] prob [ 0.4  0.6] all freq 15\n",
      "[from computeProbVec] prob [ 0.26666667  0.33333333  0.4       ] all freq 15\n",
      "[computeInfoGain]prob=[ 0.26666667  0.33333333  0.4       ]\n",
      "[from computeProbVec] prob [ 1.] all freq 4\n",
      "[computeInfoGain] keyToSearch=excellent entropy=0.0\n",
      "[computeInfoGain] prob=[ 0.26666667  0.33333333  0.4       ] subData=[['excellent' 'Yes']\n",
      " ['excellent' 'Yes']\n",
      " ['excellent' 'Yes']\n",
      " ['excellent' 'Yes']]\n",
      "[from computeProbVec] prob [ 0.8  0.2] all freq 5\n",
      "[computeInfoGain] keyToSearch=fair entropy=0.240642698296\n",
      "[computeInfoGain] prob=[ 0.26666667  0.33333333  0.4       ] subData=[['fair' 'No']\n",
      " ['fair' 'Yes']\n",
      " ['fair' 'No']\n",
      " ['fair' 'No']\n",
      " ['fair' 'No']]\n",
      "[from computeProbVec] prob [ 0.33333333  0.66666667] all freq 6\n",
      "[computeInfoGain] keyToSearch=good entropy=0.607961031918\n",
      "[computeInfoGain] prob=[ 0.26666667  0.33333333  0.4       ] subData=[['good' 'No']\n",
      " ['good' 'Yes']\n",
      " ['good' 'No']\n",
      " ['good' 'Yes']\n",
      " ['good' 'Yes']\n",
      " ['good' 'Yes']]\n",
      "[getInfoGainVec] 3th InfoGain=[ 0.0830075   0.3236502   0.41997309  0.36298956]\n",
      "[ 0.0830075   0.3236502   0.41997309  0.36298956]\n",
      "\tNeighbor indices: [ 1 45 12  9 34]\n",
      "\tmajor class -> [(0, 5)]\n"
     ]
    },
    {
     "data": {
      "text/plain": [
       "([(0, 5)], array([ 1, 45, 12,  9, 34]))"
      ]
     },
     "execution_count": 3,
     "metadata": {},
     "output_type": "execute_result"
    }
   ],
   "source": [
    "from sklearn.datasets import load_iris\n",
    "import sfun\n",
    "iris=load_iris()\n",
    "sfun.knnClassify(iris.data[1,],iris.data,iris.target,5)"
   ]
  },
  {
   "cell_type": "code",
   "execution_count": null,
   "metadata": {
    "collapsed": true
   },
   "outputs": [],
   "source": [
    "    Neighbor indices: [ 1 45 12  9 34]\n",
    "    major class -> [(0, 5)]\n",
    "Out[284]: ([(0, 5)], array([ 1, 45, 12,  9, 34]))"
   ]
  }
 ],
 "metadata": {
  "kernelspec": {
   "display_name": "Python 2",
   "language": "python",
   "name": "python2"
  },
  "language_info": {
   "codemirror_mode": {
    "name": "ipython",
    "version": 2
   },
   "file_extension": ".py",
   "mimetype": "text/x-python",
   "name": "python",
   "nbconvert_exporter": "python",
   "pygments_lexer": "ipython2",
   "version": "2.7.10"
  }
 },
 "nbformat": 4,
 "nbformat_minor": 0
}
