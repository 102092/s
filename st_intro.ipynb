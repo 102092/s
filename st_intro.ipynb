{
 "cells": [
  {
   "cell_type": "markdown",
   "metadata": {},
   "source": [
    "# 1. 환경\n",
    "\n",
    "## 1.1 Python 설치\n",
    "\n",
    "### 1.1.1 윈도우\n",
    "\n",
    "* https://www.python.org/download로 가서 Windows Installer 설치\n",
    "* Python version 2 vs 3 -> 여기서는 Python2.7 사용\n",
    "* 설치경로: \"C:\" 드라이브 맨 위 디렉토리에 설치 된다. 경로를 변경해서 설치해도 된다.\n",
    "\n",
    "### 1.1.2 Linux/Mac\n",
    "\n",
    "* 이미 설치되어 있슴.\n",
    "\n",
    "## 1.2 pip 설치\n",
    "\n",
    "* Python을 이용하여 작업을 하려면 라이브러리가 필요하다.\n",
    "* pip는 Python package 관리자\n",
    "* 윈도우에서 conmand 창을 열어, 설치된 경로 아래 `Scripts>`디렉토리에 가면 easy_install, pip가\n",
    "설치되었는지 확인할 수 있다. 설치가 안되어 있는 경우, 설치를 손쉽게 할 수 있다.\n",
    "* setuptools를 다운로드해서 아래와 같이 설치\n",
    "\n",
    "```\n",
    "set PYTHON_HOME=C:/Python2.7\n",
    "set path=%path%;%PYTHON_HOME%\n",
    "// setuptools를 다운로드하고, 디렉토리에 setup.py가 있는지 확인\n",
    "C:/Python2.7/python setup.py install\n",
    "cd Scripts\n",
    "C:/Python2.7/Scripts/easy_install.exe pip\n",
    "pip install\n",
    "```\n",
    "\n",
    "* pip를 설치하고 나면 라이브러리를 아래와 같이 손쉽게 설치.\n",
    "\n",
    "```\n",
    "$ pip search statsmodels\n",
    "$ pip install statsmodels\n",
    "```\n",
    "\n",
    "* git 리포에서 직접 patsy 소스를 다운로드 받아서 설치하는 예이다.\n",
    "\n",
    "```\n",
    "~/Code/git/else$ git clone https://github.com/pydata/patsy.git\n",
    "Cloning into 'patsy'...\n",
    "remote: Counting objects: 2028, done.\n",
    "remote: Total 2028 (delta 0), reused 0 (delta 0)\n",
    "Receiving objects: 100% (2028/2028), 1.55 MiB | 757.00 KiB/s, done.\n",
    "Resolving deltas: 100% (1306/1306), done.\n",
    "Checking connectivity... done.\n",
    "~/Code/git/else$ cd patsy/\n",
    "~/Code/git/else/patsy$ ls\n",
    "doc          MANIFEST.in  README.rst             setup.cfg  TODO   tox.ini\n",
    "LICENSE.txt  patsy        release-checklist.txt  setup.py   tools\n",
    "$ sudo python setup.py install\n",
    "$ pip-2.7 freeze | grep patsy\n",
    "```"
   ]
  },
  {
   "cell_type": "markdown",
   "metadata": {},
   "source": [
    "## 1.3 python scientific library\n",
    "\n",
    "* numpy\n",
    "    * 윈도우에서 설치할 경우 c compiler 필요.\n",
    "    * Visual Studio 2008를 기본으로 찾음. 없으면 MinGW Compiler 설치.\n",
    "    * MinGW를 사용할 경우 Python27/Lib/distutils/distutils.cfg 편집\n",
    "\n",
    "```\n",
    "    [build]\n",
    "    compiler = mingw32\n",
    "    [build_ext]\n",
    "    compiler = mingw32\n",
    "```\n",
    "\n",
    "* matplotlib\n",
    "* statsmodel\n",
    "* patsy: 오타주의!\n",
    "* seaborn\n",
    "* scikit-learn\n",
    "* gensim\n",
    "* pymc\n",
    "    * linux and mac(after gfortran installed) ok \n",
    "        * pip install pymc==2.3\n",
    "        * pip install git+https://github.com/pymc-devs/pymc\n",
    "    * mac to install gfortran\n",
    "        * download, drag to Applicaiton\n",
    "        * which gfortran-mp-4.8 \n",
    "        * sudo ln -s gfortran-mp-4.8 gfortran\n",
    "    * errors - ld: symbol(s) not found for architecture x86_64\n",
    "        * use gfortran (not g95)\n",
    "        * port install g95 (pymc requires fortran compiler) (gfortan is not on macport)\n",
    "        * add -stdlib=libstdc++ -lstdc++\n",
    "        There are two implementations of the standard C++ library available on OS X:\n",
    "        libstdc++ and libc++.  On 10.8 and earlier libstdc++ is chosen by default,\n",
    "        on 10.9 libc++ is chosen by default.\n",
    "    * freetype error\n",
    "        * sudo apt-get install libfreetype6-dev libxft-dev\n",
    "* sympy: note sympy to latex"
   ]
  },
  {
   "cell_type": "markdown",
   "metadata": {},
   "source": [
    "## 1.4 site package"
   ]
  },
  {
   "cell_type": "code",
   "execution_count": 1,
   "metadata": {
    "collapsed": false
   },
   "outputs": [
    {
     "data": {
      "text/plain": [
       "['C:\\\\Anaconda2', 'C:\\\\Anaconda2\\\\lib\\\\site-packages']"
      ]
     },
     "execution_count": 1,
     "metadata": {},
     "output_type": "execute_result"
    }
   ],
   "source": [
    "import site\n",
    "site.getsitepackages()"
   ]
  },
  {
   "cell_type": "markdown",
   "metadata": {},
   "source": [
    "# 2. intro\n",
    "\n",
    "## 2.1 notations (Population, sample)\n",
    "\n",
    "* 평균, 갯수, 표준편차, 상관계수는 각 각 다음과 같이 표시된다.\n",
    "\n",
    "* population\n",
    "    * mean $\\mu$\n",
    "    * N \n",
    "    * standard deviation $\\sigma$\n",
    "    * correlation coefficient $\\rho$\n",
    "\n",
    "* sample\n",
    "    * sample mean $\\bar{x}$\n",
    "    * number of obs n\n",
    "    * number of samples (each having n elements) K\n",
    "    * standard deviation s\n",
    "    * correlation coefficient r\n",
    "\n",
    "* math latex in ipython notebook cells\n",
    "    * $\\vec{a}$\n",
    "\n",
    "## 2.2 pylab\n",
    "\n",
    "* pylab은 matplotlib.pyplot과 namespace 동일하게 이해.\n",
    "* pylab은 numpy함수를 namespace없이 부르게 함 (sin,cos..)\n",
    "\n",
    "## 2.3 statsmodels은 R 스타일의 모델링 제공 (y ~ ax..)\n",
    "\n",
    "* import statsmodels.formula.api as sm (not statsmodels.api)\n",
    "* statsmodels.api는 대문자 (예:OLS)\n",
    "* statsmodels.formula.api는 df, 소문자 지원 (ols)\n",
    "* '~'  Separate the left-hand side from the right-hand side.\n",
    "* '+'  Combines terms on either side (set union).\n",
    "* '-'  Removes terms on the right from set of terms on the left (set difference).\n",
    "* '*'  a*b is shorthand for the expansion a + b + a:b.\n",
    "* '/'  a/b is shorthand for the expansion a + a:b.\n",
    "* ':'  Computes the interaction between terms on the left and right.\n",
    "* '**' Takes a set of terms on the left and an integer n on the right and computes\n",
    "the * of that set of terms with itself n times."
   ]
  },
  {
   "cell_type": "code",
   "execution_count": 2,
   "metadata": {
    "collapsed": false
   },
   "outputs": [],
   "source": [
    "# ??mac에서는 scipy.stats statsmodels.forumula를 로딩하는 에러\n",
    "import numpy as np\n",
    "import matplotlib.pyplot as plt\n",
    "\n",
    "from pylab import *\n",
    "\n",
    "import pandas as pd\n",
    "\n",
    "import scipy\n",
    "import scipy.stats as stats\n",
    "from scipy import stats\n",
    "\n",
    "import statsmodels\n",
    "import statsmodels.formula.api as sm\n",
    "\n",
    "import sklearn as sk\n",
    "import sympy as sym"
   ]
  },
  {
   "cell_type": "markdown",
   "metadata": {},
   "source": [
    "## 2.4 learning Sympy\n",
    "\n",
    "* 먼저 기호를 정의해야 한다.\n",
    "* lambdify - 간편하게 Sympy표현식을 lambda로 변환"
   ]
  },
  {
   "cell_type": "code",
   "execution_count": 16,
   "metadata": {
    "collapsed": false
   },
   "outputs": [
    {
     "name": "stdout",
     "output_type": "stream",
     "text": [
      "4\n",
      "Matrix([[1, 3]])\n",
      "<lambda>\n"
     ]
    }
   ],
   "source": [
    "from sympy.abc import w,x,y,z\n",
    "f=sym.lambdify(x,x*2)\n",
    "print f(2)\n",
    "\n",
    "row=sym.lambdify((x,y),sym.Matrix((x,x+y)).T,modules='sympy')\n",
    "print row(1,2)\n",
    "\n",
    "#Attention: There are naming differences between numpy and sympy.\n",
    "#So if you simply take the numpy module, e.g. sympy.atan will not be translated to numpy.arctan.\n",
    "#Use the modified module instead by passing the string \"numpy\":\n",
    "import numpy as np\n",
    "f=sym.lambdify((x,y),sym.tan(x*y),np)\n",
    "f=sym.lambdify((x,y),sym.tan(x*y),\"numpy\")\n",
    "print f.func_name"
   ]
  },
  {
   "cell_type": "markdown",
   "metadata": {},
   "source": [
    "## 2.5 Python\n",
    "\n",
    "* 수학적 표현을 프로그램으로 표현할 수 있게 해 봄. \n",
    "\n",
    "### 2.5.1 출력과 도움말"
   ]
  },
  {
   "cell_type": "code",
   "execution_count": 3,
   "metadata": {
    "collapsed": false
   },
   "outputs": [
    {
     "name": "stdout",
     "output_type": "stream",
     "text": [
      "Hello World!!!\n"
     ]
    }
   ],
   "source": [
    "# comments\n",
    "print \"Hello World!!!\""
   ]
  },
  {
   "cell_type": "markdown",
   "metadata": {},
   "source": [
    "### 2.5.2 variables\n",
    "\n",
    "* 변수는 메모리의 저장공간을 확보해서 활용하기 위해 그 곳에 이름을 붙여 놓는 것.\n",
    "* 변수는 메모리의 공간이라서 수, 문자, 소수점 크기에 따라 차지하는 공간이 차이가 있슴.\n",
    "* 변수는 언제 하는가? 재사용\n",
    "* 효율적인 공간활용을 위해서는 최소한으로 확보\n",
    "* 다른 컴파일 언어에서는 수를 사용하는 변수는 문자를 넣을 수가 없으나 스크립트언어에서는 문제가 되지 않는다."
   ]
  },
  {
   "cell_type": "code",
   "execution_count": 2,
   "metadata": {
    "collapsed": false
   },
   "outputs": [
    {
     "name": "stdout",
     "output_type": "stream",
     "text": [
      "<type 'int'>\n",
      "6\n",
      "18\n",
      "<type 'str'>\n",
      "hellohello\n",
      "hellohello\n"
     ]
    }
   ],
   "source": [
    "a=3\n",
    "b=2*a\n",
    "print type(b)\n",
    "print b\n",
    "print a*b\n",
    "# 6이 저장되어 있었지만 지금은 문자열을 넣음. 그래도 오류가 없슴.\n",
    "b=\"hello\"\n",
    "print type(b)\n",
    "# operator overloading\n",
    "print b+b\n",
    "print 2*b"
   ]
  },
  {
   "cell_type": "markdown",
   "metadata": {},
   "source": [
    "### 2.5.3 데이터타잎\n",
    "\n",
    "* boolean type\n",
    "* 수\n",
    "    * int\n",
    "    * float\n",
    "*  문자\n",
    "* containers\n",
    "    * list\n",
    "    ```\n",
    "    a=list()\n",
    "    ```\n",
    "    \n",
    "    * tuples\n",
    "    * set\n",
    "    * dictionaries"
   ]
  },
  {
   "cell_type": "code",
   "execution_count": 3,
   "metadata": {
    "collapsed": false
   },
   "outputs": [
    {
     "name": "stdout",
     "output_type": "stream",
     "text": [
      "False\n",
      "21.0\n",
      "1024\n",
      "1\n",
      "1.5\n",
      "<type 'list'>\n",
      "3\n",
      "5\n",
      "[3, 4]\n",
      "[4, 5]\n",
      "[1, 2, 3]\n",
      "[1, 3, 5]\n",
      "[28, 2, 3, 4, 5]\n",
      "['hello', 2, 3, 4, 5]\n",
      "['hello', 2, 3, 4, 5, 10]\n",
      "10\n",
      "['hello', 2, 3, 4, 5]\n",
      "[3, 4, 5]\n",
      "{'jsl': 405, 'lecture': 415}\n",
      "[405, 415]\n",
      "['jsl', 'lecture']\n",
      "405\n"
     ]
    }
   ],
   "source": [
    "# boolean\n",
    "print 3>4\n",
    "test=(3>4)\n",
    "type(test)\n",
    "\n",
    "# float\n",
    "print 7*3.\n",
    "\n",
    "# power\n",
    "print 2**10\n",
    "print 3/2\n",
    "print 3/2.\n",
    "\n",
    "# containers\n",
    "l=[1,2,3,4,5]\n",
    "print type(l)\n",
    "print l[2]\n",
    "print l[-1]\n",
    "print  l[2:4]\n",
    "print l[3:]\n",
    "print l[:3]\n",
    "print l[::2]\n",
    "\n",
    "# lists are mutable\n",
    "l[0]=28\n",
    "print l\n",
    "\n",
    "# list may have different types\n",
    "l[0]='hello'\n",
    "print l\n",
    "l.append(10)\n",
    "print l\n",
    "print l.pop()\n",
    "\n",
    "print l\n",
    "l=l[2:5]\n",
    "print l\n",
    "\n",
    "# Dictionary of hash table\n",
    "room={'jsl':405, 'lecture':415}\n",
    "print room\n",
    "print room.values()\n",
    "print room.keys()\n",
    "print room['jsl']"
   ]
  },
  {
   "cell_type": "markdown",
   "metadata": {},
   "source": [
    "### 2.5.4 control flow"
   ]
  },
  {
   "cell_type": "code",
   "execution_count": 2,
   "metadata": {
    "collapsed": false
   },
   "outputs": [
    {
     "name": "stdout",
     "output_type": "stream",
     "text": [
      "yes\n",
      "a is neither 1 nor 2\n",
      "0\n",
      "1\n",
      "2\n",
      "3\n",
      "4\n",
      "Today is warm\n",
      "Today is sunny\n",
      "Today is beautiful\n",
      "0 warm\n",
      "1 sunny\n",
      "2 beautiful\n",
      "key:a value:1\n",
      "key:c value:2\n",
      "key:b value:1.2\n"
     ]
    }
   ],
   "source": [
    "if 2**2 == 4:\n",
    "   print \"yes\"\n",
    "\n",
    "a=3\n",
    "if a==1:\n",
    "   print 'a=1'\n",
    "elif a==2:\n",
    "   print 'a=2'\n",
    "else:\n",
    "   print 'a is neither 1 nor 2'\n",
    "\n",
    "for i in range(5):\n",
    "   print i\n",
    "for word in ('warm','sunny','beautiful'):\n",
    "   print('Today is %s' % word)\n",
    "words=['warm','sunny','beautiful']\n",
    "for index, item in enumerate(words):\n",
    "   print index, item\n",
    "\n",
    "# iterator\n",
    "d={'a':1,'b':1.2,'c':2}\n",
    "for key,val in d.iteritems():\n",
    "   print('key:%s value:%s' % (key,val))\n",
    "\n",
    "# sum of square\n",
    "print sum(x*x for x in [1, 2, 3, 4, 5])"
   ]
  },
  {
   "cell_type": "markdown",
   "metadata": {},
   "source": [
    "### 2.5.5 function definition"
   ]
  },
  {
   "cell_type": "code",
   "execution_count": 2,
   "metadata": {
    "collapsed": false
   },
   "outputs": [
    {
     "name": "stdout",
     "output_type": "stream",
     "text": [
      "this is a test function\n",
      "7.065\n",
      "7.065\n",
      "4\n",
      "4\n",
      "6\n"
     ]
    }
   ],
   "source": [
    "def test():\n",
    "   print 'This is a test function'\n",
    "test()\n",
    "\n",
    "# return\n",
    "def getCircleArea(radius):\n",
    "   return 3.14*radius*radius\n",
    "\n",
    "print getCircleArea(1.5)\n",
    "\n",
    "area=getCircleArea(1.5)\n",
    "print area\n",
    "\n",
    "# optional parameters\n",
    "def double_it(x=2):\n",
    "   return x*2\n",
    "print double_it()\n",
    "print double_it(2)\n",
    "print double_it(3)"
   ]
  },
  {
   "cell_type": "markdown",
   "metadata": {},
   "source": [
    "### 2.5.6 scripts\n",
    "\n",
    "\n",
    "* save a Python program (.py) and run from the OS prompt ($ python test.py)"
   ]
  },
  {
   "cell_type": "code",
   "execution_count": 7,
   "metadata": {
    "collapsed": false
   },
   "outputs": [
    {
     "data": {
      "text/plain": [
       "u'C:\\\\Users\\\\DB400T2A'"
      ]
     },
     "execution_count": 7,
     "metadata": {},
     "output_type": "execute_result"
    }
   ],
   "source": [
    "%pwd"
   ]
  },
  {
   "cell_type": "code",
   "execution_count": 9,
   "metadata": {
    "collapsed": false
   },
   "outputs": [
    {
     "name": "stdout",
     "output_type": "stream",
     "text": [
      "Overwriting my.txt\n"
     ]
    }
   ],
   "source": [
    "%%writefile my.txt\n",
    "hello"
   ]
  },
  {
   "cell_type": "code",
   "execution_count": 14,
   "metadata": {
    "collapsed": false
   },
   "outputs": [
    {
     "name": "stdout",
     "output_type": "stream",
     "text": [
      " C 드라이브의 볼륨에는 이름이 없습니다.\n",
      " 볼륨 일련 번호: 1CA9-D49E\n",
      "\n",
      " C:\\Users\\DB400T2A 디렉터리\n",
      "\n",
      "2016-03-15  오후 02:20                 5 my.txt\n",
      "               1개 파일                   5 바이트\n",
      "               0개 디렉터리  77,292,552,192 바이트 남음\n"
     ]
    }
   ],
   "source": [
    "!dir my.txt"
   ]
  },
  {
   "cell_type": "code",
   "execution_count": 12,
   "metadata": {
    "collapsed": false
   },
   "outputs": [
    {
     "name": "stdout",
     "output_type": "stream",
     "text": [
      "Writing test.py\n"
     ]
    }
   ],
   "source": [
    "%%writefile test.py\n",
    "import os\n",
    "print os.getcwd()\n",
    "\n",
    "# echo 'jsl' > hello.txt\n",
    "f=open('my.txt','r')\n",
    "s=f.read()\n",
    "print s\n",
    "f.close()"
   ]
  },
  {
   "cell_type": "code",
   "execution_count": 15,
   "metadata": {
    "collapsed": false
   },
   "outputs": [
    {
     "name": "stdout",
     "output_type": "stream",
     "text": [
      " C 드라이브의 볼륨에는 이름이 없습니다.\n",
      " 볼륨 일련 번호: 1CA9-D49E\n",
      "\n",
      " C:\\Users\\DB400T2A 디렉터리\n",
      "\n",
      "2016-03-15  오후 02:22               110 test.py\n",
      "               1개 파일                 110 바이트\n",
      "               0개 디렉터리  77,292,548,096 바이트 남음\n"
     ]
    }
   ],
   "source": [
    "!dir test.py"
   ]
  },
  {
   "cell_type": "code",
   "execution_count": 16,
   "metadata": {
    "collapsed": false
   },
   "outputs": [
    {
     "name": "stdout",
     "output_type": "stream",
     "text": [
      "C:\\Users\\DB400T2A\n",
      "hello\n"
     ]
    }
   ],
   "source": [
    "%run test.py"
   ]
  },
  {
   "cell_type": "code",
   "execution_count": 17,
   "metadata": {
    "collapsed": false
   },
   "outputs": [
    {
     "name": "stdout",
     "output_type": "stream",
     "text": [
      "Writing test1.py\n"
     ]
    }
   ],
   "source": [
    "%%writefile test1.py\n",
    "def test():\n",
    "   print 'This is a test function'"
   ]
  },
  {
   "cell_type": "code",
   "execution_count": 19,
   "metadata": {
    "collapsed": false
   },
   "outputs": [
    {
     "name": "stdout",
     "output_type": "stream",
     "text": [
      " C 드라이브의 볼륨에는 이름이 없습니다.\n",
      " 볼륨 일련 번호: 1CA9-D49E\n",
      "\n",
      " C:\\Users\\DB400T2A 디렉터리\n",
      "\n",
      "2016-03-15  오후 02:24                47 test1.py\n",
      "               1개 파일                  47 바이트\n",
      "               0개 디렉터리  77,293,604,864 바이트 남음\n"
     ]
    }
   ],
   "source": [
    "!dir test1.py"
   ]
  },
  {
   "cell_type": "code",
   "execution_count": 20,
   "metadata": {
    "collapsed": false
   },
   "outputs": [
    {
     "name": "stdout",
     "output_type": "stream",
     "text": [
      "This is a test function\n"
     ]
    }
   ],
   "source": [
    "import test1\n",
    "test1.test()"
   ]
  },
  {
   "cell_type": "markdown",
   "metadata": {},
   "source": [
    "### IPython\n",
    "\n",
    "* shell"
   ]
  },
  {
   "cell_type": "code",
   "execution_count": 4,
   "metadata": {
    "collapsed": false
   },
   "outputs": [
    {
     "name": "stdout",
     "output_type": "stream",
     "text": [
      "README.md\n",
      "src\n",
      "st_intro.ipynb\n"
     ]
    }
   ],
   "source": [
    "!ls"
   ]
  },
  {
   "cell_type": "code",
   "execution_count": 5,
   "metadata": {
    "collapsed": false
   },
   "outputs": [
    {
     "data": {
      "text/plain": [
       "u'C:\\\\Users\\\\DB400T2A\\\\Documents\\\\jsl\\\\Code\\\\s'"
      ]
     },
     "execution_count": 5,
     "metadata": {},
     "output_type": "execute_result"
    }
   ],
   "source": [
    "%pwd"
   ]
  },
  {
   "cell_type": "code",
   "execution_count": 6,
   "metadata": {
    "collapsed": false
   },
   "outputs": [
    {
     "name": "stdout",
     "output_type": "stream",
     "text": [
      "C:\\Users\\DB400T2A\n"
     ]
    }
   ],
   "source": [
    "%cd ~"
   ]
  },
  {
   "cell_type": "markdown",
   "metadata": {},
   "source": [
    "## 2.6 numpy\n",
    "\n",
    "* numpy는 공학적 계산을 위한 array를 제공 (Python이 제공하는 데이터구조에 추가)\n",
    "* numpy를 사용하면, 공학적 vector, matrix 연산을 할 수 있다."
   ]
  },
  {
   "cell_type": "markdown",
   "metadata": {},
   "source": [
    "### Array 생성\n",
    "\n",
    "* 생성방법\n",
    "    * 기본적인 방법\n",
    "        ```\n",
    "        a=np.array([0,1,2])\n",
    "        ```\n",
    "        \n",
    "     * 다른 방법 - arange, zeros, ones, eye\n",
    "\n",
    "* array는 1차원, 2차원, 다차원으로 생성할 수 있다.\n",
    "* data type\n",
    "    * bool\n",
    "    * int - int8, int16, int32, int64, uint8, uint16, uint32, uint64\n",
    "    * float - float16, float64\n",
    "    * complex - complex64, complex128"
   ]
  },
  {
   "cell_type": "code",
   "execution_count": 29,
   "metadata": {
    "collapsed": false
   },
   "outputs": [
    {
     "name": "stdout",
     "output_type": "stream",
     "text": [
      "[0 1 2]\n",
      "int64\n",
      "(3,)\n"
     ]
    }
   ],
   "source": [
    "import numpy as np\n",
    "a=np.array([0,1,2])\n",
    "print a\n",
    "print a.dtype\n",
    "print a.shape"
   ]
  },
  {
   "cell_type": "code",
   "execution_count": 30,
   "metadata": {
    "collapsed": false
   },
   "outputs": [
    {
     "name": "stdout",
     "output_type": "stream",
     "text": [
      "float64\n"
     ]
    }
   ],
   "source": [
    "b=np.array([3,4,5], float)\n",
    "print b.dtype"
   ]
  },
  {
   "cell_type": "code",
   "execution_count": 32,
   "metadata": {
    "collapsed": false
   },
   "outputs": [
    {
     "name": "stdout",
     "output_type": "stream",
     "text": [
      "[0 1 2 3 4 5 6 7 8 9]\n",
      "[ 0.  2.  4.  6.  8.]\n",
      "[ 0.    0.25  0.5   0.75  1.  ]\n"
     ]
    }
   ],
   "source": [
    "## range, aranage, linspace를 이용해 한꺼번에 생성\n",
    "c=np.arange(10)\n",
    "print c\n",
    "d=np.arange(0.,10.,2)\n",
    "print d\n",
    "e=np.linspace(0,1,5)\n",
    "print e"
   ]
  },
  {
   "cell_type": "code",
   "execution_count": 34,
   "metadata": {
    "collapsed": false
   },
   "outputs": [
    {
     "name": "stdout",
     "output_type": "stream",
     "text": [
      "[[ 1.  1.  1.]\n",
      " [ 1.  1.  1.]\n",
      " [ 1.  1.  1.]]\n",
      "float64\n",
      "[1 1 1 1 1]\n",
      "int64\n",
      "[[ 0.  0.]\n",
      " [ 0.  0.]\n",
      " [ 0.  0.]]\n",
      "float64\n",
      "[[ 1.  0.  0.  0.  0.]\n",
      " [ 0.  1.  0.  0.  0.]\n",
      " [ 0.  0.  1.  0.  0.]\n",
      " [ 0.  0.  0.  1.  0.]\n",
      " [ 0.  0.  0.  0.  1.]]\n",
      "float64\n"
     ]
    }
   ],
   "source": [
    "# 기본 data type\n",
    "f=np.ones((3,3))\n",
    "print f\n",
    "print f.dtype\n",
    "\n",
    "# int로 생성\n",
    "g=np.ones(5,dtype=np.int)\n",
    "print g\n",
    "print g.dtype\n",
    "\n",
    "# zeros\n",
    "h=np.zeros((3,2))\n",
    "print h\n",
    "print h.dtype\n",
    "\n",
    "# eye\n",
    "i=np.eye(5)\n",
    "print i\n",
    "print i.dtype"
   ]
  },
  {
   "cell_type": "markdown",
   "metadata": {},
   "source": [
    "### Array 사용하기\n",
    "\n",
    "* 읽기 - 인덱스 방식\n",
    "    * 정수 인덱스\n",
    "    * 범위 인덱스\n",
    "* 쓰기 - mutable"
   ]
  },
  {
   "cell_type": "code",
   "execution_count": 35,
   "metadata": {
    "collapsed": false
   },
   "outputs": [
    {
     "name": "stdout",
     "output_type": "stream",
     "text": [
      "[[ 1.  1.  1.]\n",
      " [ 1.  1.  1.]\n",
      " [ 1.  1.  1.]]\n"
     ]
    }
   ],
   "source": [
    "print f"
   ]
  },
  {
   "cell_type": "code",
   "execution_count": 36,
   "metadata": {
    "collapsed": false
   },
   "outputs": [
    {
     "name": "stdout",
     "output_type": "stream",
     "text": [
      "1.0\n"
     ]
    }
   ],
   "source": [
    "print f[0][1]"
   ]
  },
  {
   "cell_type": "code",
   "execution_count": 37,
   "metadata": {
    "collapsed": false
   },
   "outputs": [
    {
     "name": "stdout",
     "output_type": "stream",
     "text": [
      "[[ 2.  1.  1.]\n",
      " [ 1.  1.  1.]\n",
      " [ 1.  1.  1.]]\n"
     ]
    }
   ],
   "source": [
    "f[0][0]=2\n",
    "print f"
   ]
  },
  {
   "cell_type": "code",
   "execution_count": 14,
   "metadata": {
    "collapsed": false
   },
   "outputs": [
    {
     "data": {
      "text/plain": [
       "array([ 2.,  1.,  1.])"
      ]
     },
     "execution_count": 14,
     "metadata": {},
     "output_type": "execute_result"
    }
   ],
   "source": [
    "f[0]"
   ]
  },
  {
   "cell_type": "markdown",
   "metadata": {},
   "source": [
    "### 복사"
   ]
  },
  {
   "cell_type": "code",
   "execution_count": 38,
   "metadata": {
    "collapsed": false
   },
   "outputs": [
    {
     "name": "stdout",
     "output_type": "stream",
     "text": [
      "[ 0.  2.  3.]\n",
      "[ 0.  2.  3.]\n",
      "[ 1.  2.  3.]\n"
     ]
    }
   ],
   "source": [
    "x = np.array([1, 2, 3], float)\n",
    "y = x\n",
    "z = x.copy()\n",
    "x[0] = 0\n",
    "print x\n",
    "print y\n",
    "print z\n"
   ]
  },
  {
   "cell_type": "markdown",
   "metadata": {},
   "source": [
    "### 전환\n",
    "\n",
    "* axis    \n",
    "    * 0은 열\n",
    "    * 1은 행"
   ]
  },
  {
   "cell_type": "code",
   "execution_count": 39,
   "metadata": {
    "collapsed": false
   },
   "outputs": [
    {
     "name": "stdout",
     "output_type": "stream",
     "text": [
      "[[ 1.  2.]\n",
      " [ 3.  4.]\n",
      " [ 5.  6.]\n",
      " [ 7.  8.]]\n",
      "[[ 1.  2.]\n",
      " [ 3.  4.]\n",
      " [ 5.  6.]\n",
      " [ 7.  8.]]\n",
      "[[ 1.  2.  5.  6.]\n",
      " [ 3.  4.  7.  8.]]\n"
     ]
    }
   ],
   "source": [
    "x = np.array([[1, 2], [3, 4]], float)\n",
    "y = np.array([[5, 6], [7, 8]], float)\n",
    "print np.concatenate((x,y))\n",
    "print np.concatenate((x,y), axis=0)\n",
    "print np.concatenate((x,y), axis=1)"
   ]
  },
  {
   "cell_type": "markdown",
   "metadata": {},
   "source": [
    "### 형변환"
   ]
  },
  {
   "cell_type": "code",
   "execution_count": 21,
   "metadata": {
    "collapsed": false
   },
   "outputs": [
    {
     "name": "stdout",
     "output_type": "stream",
     "text": [
      "<type 'list'>\n",
      "[[1.0, 2.0, 5.0, 6.0], [3.0, 4.0, 7.0, 8.0]]\n"
     ]
    }
   ],
   "source": [
    "z=np.concatenate((x,y), axis=1)\n",
    "zlist=z.tolist()\n",
    "print type(zlist)\n",
    "print zlist"
   ]
  },
  {
   "cell_type": "markdown",
   "metadata": {},
   "source": [
    "### array 계산"
   ]
  },
  {
   "cell_type": "code",
   "execution_count": 40,
   "metadata": {
    "collapsed": false
   },
   "outputs": [
    {
     "name": "stdout",
     "output_type": "stream",
     "text": [
      "[  7.  10.  10.]\n",
      "[-5. -6. -4.]\n",
      "[  6.  16.  21.]\n",
      "[ 6.          4.          2.33333333]\n",
      "[ 1.  2.  3.]\n",
      "[   6.   64.  343.]\n"
     ]
    }
   ],
   "source": [
    "a = np.array([1,2,3], float)\n",
    "b = np.array([6,8,7], float)\n",
    "print a + b\n",
    "print a - b\n",
    "print a * b\n",
    "print b / a\n",
    "print a % b\n",
    "print b**a\n"
   ]
  },
  {
   "cell_type": "markdown",
   "metadata": {},
   "source": [
    "### array 함수"
   ]
  },
  {
   "cell_type": "code",
   "execution_count": 43,
   "metadata": {
    "collapsed": false
   },
   "outputs": [
    {
     "name": "stdout",
     "output_type": "stream",
     "text": [
      "15.0\n",
      "120.0\n",
      "15.0\n",
      "120.0\n",
      "0\n",
      "4\n",
      "[[ 0.  2.]\n",
      " [ 3. -1.]\n",
      " [ 3.  5.]]\n",
      "[ 2.  2.]\n",
      "[ 1.  1.  4.]\n",
      "[ 0. -1.]\n",
      "[ 2.  3.  5.]\n"
     ]
    }
   ],
   "source": [
    "# 객체지향방식\n",
    "v = np.array([1, 2, 3, 4, 5], float)\n",
    "print v.sum()\n",
    "print v.prod()\n",
    "\n",
    "# np함수 이용(참조: java Collections)\n",
    "print np.sum(v)\n",
    "print np.prod(v)\n",
    "\n",
    "print v.argmin()\n",
    "print v.argmax()\n",
    "\n",
    "w = np.array([[0, 2], [3, -1], [3, 5]], float)\n",
    "print w\n",
    "print w.mean(axis=0)\n",
    "print w.mean(axis=1)\n",
    "print w.min(axis=0)\n",
    "print w.max(axis=1)\n"
   ]
  },
  {
   "cell_type": "markdown",
   "metadata": {},
   "source": [
    "### 벡터와 매트릭스"
   ]
  },
  {
   "cell_type": "code",
   "execution_count": 44,
   "metadata": {
    "collapsed": false
   },
   "outputs": [
    {
     "name": "stdout",
     "output_type": "stream",
     "text": [
      "5.0\n"
     ]
    }
   ],
   "source": [
    "a = np.array([1, 2, 3], float)\n",
    "b = np.array([0, 1, 1], float)\n",
    "print np.dot(a, b)"
   ]
  },
  {
   "cell_type": "markdown",
   "metadata": {},
   "source": [
    "### random\n",
    "\n",
    "* 무작위 수의 생성\n",
    "* 분포에 따라 생성성\n"
   ]
  },
  {
   "cell_type": "code",
   "execution_count": 26,
   "metadata": {
    "collapsed": false
   },
   "outputs": [
    {
     "data": {
      "text/plain": [
       "array([ 0.18651832,  0.4450442 ,  0.75485443,  0.0398038 ,  0.56329059,\n",
       "        0.26729779,  0.63829651,  0.37140722,  0.70486008,  0.64616812])"
      ]
     },
     "execution_count": 26,
     "metadata": {},
     "output_type": "execute_result"
    }
   ],
   "source": [
    "np.random.rand(10)"
   ]
  },
  {
   "cell_type": "code",
   "execution_count": 27,
   "metadata": {
    "collapsed": false
   },
   "outputs": [
    {
     "data": {
      "text/plain": [
       "5"
      ]
     },
     "execution_count": 27,
     "metadata": {},
     "output_type": "execute_result"
    }
   ],
   "source": [
    "np.random.randint(0,9)"
   ]
  },
  {
   "cell_type": "code",
   "execution_count": 28,
   "metadata": {
    "collapsed": false
   },
   "outputs": [
    {
     "data": {
      "text/plain": [
       "176.35726734691576"
      ]
     },
     "execution_count": 28,
     "metadata": {},
     "output_type": "execute_result"
    }
   ],
   "source": [
    "# 평균 170 표준편차 10\n",
    "np.random.normal(170,10)"
   ]
  },
  {
   "cell_type": "markdown",
   "metadata": {},
   "source": [
    "## 2.7 visualization\n",
    "\n",
    "* pylab을 사용하면\n",
    "    * namespace를 사용하지 않아도 된다 (numpy, matplotlib)\n",
    "        ```\n",
    "        from pylab import *\n",
    "        ```\n",
    "        \n",
    "    * 그래프를 브라우저 외부에 출력한다.\n",
    "* matplotlib을 사용하면 (객체지향 방식)\n",
    "    * namespace를 사용해야 한다.\n",
    "        ```\n",
    "        import matplotlib.pyplot as plt\n",
    "        ```\n",
    "     * 내부에 출력하려면 inline"
   ]
  },
  {
   "cell_type": "code",
   "execution_count": 45,
   "metadata": {
    "collapsed": true
   },
   "outputs": [],
   "source": [
    "from pylab import *\n",
    "\n",
    "a=arange(20)\n",
    "plot(a,a**2)\n",
    "show()"
   ]
  },
  {
   "cell_type": "code",
   "execution_count": 23,
   "metadata": {
    "collapsed": false
   },
   "outputs": [],
   "source": [
    "import matplotlib.pyplot as plt\n",
    "import numpy as np\n",
    "\n",
    "a=np.arange(20)\n",
    "plt.plot(a,a**2)\n",
    "plt.show()\n"
   ]
  },
  {
   "cell_type": "code",
   "execution_count": 24,
   "metadata": {
    "collapsed": false
   },
   "outputs": [
    {
     "data": {
      "image/png": "[encoded data removed]",
      "text/plain": [
       "<matplotlib.figure.Figure at 0x585a850>"
      ]
     },
     "metadata": {},
     "output_type": "display_data"
    }
   ],
   "source": [
    "%matplotlib inline\n",
    "\n",
    "import matplotlib.pyplot as plt\n",
    "\n",
    "a=np.arange(20)\n",
    "plt.plot(a,a**2)\n",
    "plt.show()"
   ]
  },
  {
   "cell_type": "code",
   "execution_count": 25,
   "metadata": {
    "collapsed": false
   },
   "outputs": [
    {
     "data": {
      "image/png": "[encoded data removed]",
      "text/plain": [
       "<matplotlib.figure.Figure at 0x58a1530>"
      ]
     },
     "metadata": {},
     "output_type": "display_data"
    }
   ],
   "source": [
    "fig=plt.figure()\n",
    "ax=fig.add_subplot(111)\n",
    "ax.plot(a,a**2)\n",
    "ax.set_xlabel('a')\n",
    "ax.set_ylabel('a square')\n",
    "ax.grid()\n",
    "plt.show()"
   ]
  },
  {
   "cell_type": "code",
   "execution_count": 63,
   "metadata": {
    "collapsed": false
   },
   "outputs": [
    {
     "data": {
      "image/png": "[encoded data removed]",
      "text/plain": [
       "<matplotlib.figure.Figure at 0x7f6b400d78d0>"
      ]
     },
     "metadata": {},
     "output_type": "display_data"
    }
   ],
   "source": [
    "fig=plt.figure()\n",
    "ax221=fig.add_subplot(221)\n",
    "ax221.plot(a,a**2)\n",
    "ax221.set_xlabel('a')\n",
    "ax221.set_ylabel('a squre')\n",
    "ax221.grid()\n",
    "\n",
    "ax222=fig.add_subplot(222)\n",
    "ax222.plot(a,a*2)\n",
    "ax222.set_xlabel('a')\n",
    "ax222.set_ylabel('2a')\n",
    "ax222.grid()\n",
    "\n",
    "ax223=fig.add_subplot(223)\n",
    "ax223.plot(a,a**4)\n",
    "ax223.set_xlabel('a')\n",
    "ax223.set_ylabel('a power 4')\n",
    "ax223.grid()\n",
    "\n",
    "ax224=fig.add_subplot(224)\n",
    "ax224.plot(a,a/4)\n",
    "ax224.set_xlabel('a')\n",
    "ax224.set_ylabel('a/4')\n",
    "ax224.grid()\n",
    "\n",
    "plt.show()"
   ]
  },
  {
   "cell_type": "code",
   "execution_count": 48,
   "metadata": {
    "collapsed": false
   },
   "outputs": [
    {
     "data": {
      "image/png": "[encoded data removed]",
      "text/plain": [
       "<matplotlib.figure.Figure at 0x7f6b408eab90>"
      ]
     },
     "metadata": {},
     "output_type": "display_data"
    }
   ],
   "source": [
    "plt.plot(a,a**2,'o')\n",
    "plt.show()"
   ]
  },
  {
   "cell_type": "code",
   "execution_count": 49,
   "metadata": {
    "collapsed": false
   },
   "outputs": [
    {
     "name": "stdout",
     "output_type": "stream",
     "text": [
      "-3.14159265359\n"
     ]
    },
    {
     "data": {
      "image/png": "[encoded data removed]",
      "text/plain": [
       "<matplotlib.figure.Figure at 0x7f6b40927bd0>"
      ]
     },
     "metadata": {},
     "output_type": "display_data"
    }
   ],
   "source": [
    "print -np.pi\n",
    "x=np.linspace(-np.pi,np.pi,256,endpoint=True)\n",
    "c,s=np.cos(x),np.sin(x)\n",
    "plt.plot(x,c)\n",
    "plt.plot(x,s)\n",
    "plt.show()"
   ]
  },
  {
   "cell_type": "code",
   "execution_count": 50,
   "metadata": {
    "collapsed": false
   },
   "outputs": [
    {
     "data": {
      "image/png": "[encoded data removed]",
      "text/plain": [
       "<matplotlib.figure.Figure at 0x7f6b400304d0>"
      ]
     },
     "metadata": {},
     "output_type": "display_data"
    },
    {
     "data": {
      "image/png": "[encoded data removed]",
      "text/plain": [
       "<matplotlib.figure.Figure at 0x7f6b3ffc83d0>"
      ]
     },
     "metadata": {},
     "output_type": "display_data"
    }
   ],
   "source": [
    "plt.plot([1,2,3],[4,2,6])\n",
    "plt.show()\n",
    "plt.plot([1,2,3],[4,2,6])\n",
    "title(\"A line\")\n",
    "xlabel(\"X-axis\")\n",
    "ylabel(\"Y-axis\")\n",
    "plt.show()"
   ]
  },
  {
   "cell_type": "code",
   "execution_count": 51,
   "metadata": {
    "collapsed": false
   },
   "outputs": [
    {
     "data": {
      "image/png": "[encoded data removed]",
      "text/plain": [
       "<matplotlib.figure.Figure at 0x7f6b40194110>"
      ]
     },
     "metadata": {},
     "output_type": "display_data"
    }
   ],
   "source": [
    "def f(x):\n",
    "  return 2*x**2+3\n",
    "\n",
    "plt.plot([-3,0,3],[f(-3),f(0),f(3)])\n",
    "plt.show()"
   ]
  },
  {
   "cell_type": "code",
   "execution_count": null,
   "metadata": {
    "collapsed": true
   },
   "outputs": [],
   "source": [
    "xs1=np.arange(-3,3,0.1)\n",
    "plt.plot(xs1,[f(x) for x in xs1])\n",
    "plt.show()"
   ]
  },
  {
   "cell_type": "code",
   "execution_count": 52,
   "metadata": {
    "collapsed": false
   },
   "outputs": [
    {
     "data": {
      "image/png": "[encoded data removed]",
      "text/plain": [
       "<matplotlib.figure.Figure at 0x7f6b40189450>"
      ]
     },
     "metadata": {},
     "output_type": "display_data"
    }
   ],
   "source": [
    "xs2=np.linspace(-3,3,100)\n",
    "plt.plot(xs2,[f(x) for x in xs2])\n",
    "plt.show()"
   ]
  }
 ],
 "metadata": {
  "kernelspec": {
   "display_name": "Python 2",
   "language": "python",
   "name": "python2"
  },
  "language_info": {
   "codemirror_mode": {
    "name": "ipython",
    "version": 2
   },
   "file_extension": ".py",
   "mimetype": "text/x-python",
   "name": "python",
   "nbconvert_exporter": "python",
   "pygments_lexer": "ipython2",
   "version": "2.7.11"
  }
 },
 "nbformat": 4,
 "nbformat_minor": 0
}
