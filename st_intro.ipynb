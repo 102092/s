{
 "cells": [
  {
   "cell_type": "markdown",
   "metadata": {},
   "source": [
    "# 1. 환경\n",
    "\n",
    "## 1.1 Python 설치\n",
    "\n",
    "### 1.1.1 윈도우\n",
    "\n",
    "* [사이트] (https://www.python.org/download)로 가서 Windows Installer 설치\n",
    "* Python version 2 vs 3: 여기서는 Python2.7 사용\n",
    "* 설치경로: 루트 (c:/)에 설치 된다. 경로를 변경해도 된다.\n",
    "\n",
    "### 1.1.2 Linux/Mac\n",
    "\n",
    "* 기본 설치\n",
    "\n",
    "## 1.2 Pip 설치\n",
    "\n",
    "* 파이썬을 이용하여 작업을 하려면 라이브러리가 필요하다.\n",
    "* 윈도우에서 conmand 창을 열어, 설치된 경로 아래 `Scripts>`디렉토리에 가면 easy_install, pip가\n",
    "설치되었는지 확인할 수 있다. 미설치면 설치를 손쉽게 할 수 있다.\n",
    "* setuptools를 다운로드해서 아래와 같이 설치\n",
    "\n",
    "```\n",
    "set PYTHON_HOME=C:/Python2.7\n",
    "set path=%path%;%PYTHON_HOME%\n",
    "// setuptools를 다운로드하고, 디렉토리에 setup.py가 있는지 확인\n",
    "C:/Python2.7/python setup.py install\n",
    "cd Scripts\n",
    "C:/Python2.7/Scripts/easy_install.exe pip\n",
    "pip install\n",
    "```\n",
    "\n",
    "* pip를 설치하고 나면 라이브러리를 아래와 같이 손쉽게 설치.\n",
    "\n",
    "```\n",
    "$ pip search statsmodels\n",
    "$ pip install statsmodels\n",
    "```\n",
    "\n",
    "* git 리포에서 직접 patsy 소스를 다운로드 받아서 설치하는 예이다.\n",
    "\n",
    "```\n",
    "~/Code/git/else$ git clone https://github.com/pydata/patsy.git\n",
    "Cloning into 'patsy'...\n",
    "remote: Counting objects: 2028, done.\n",
    "remote: Total 2028 (delta 0), reused 0 (delta 0)\n",
    "Receiving objects: 100% (2028/2028), 1.55 MiB | 757.00 KiB/s, done.\n",
    "Resolving deltas: 100% (1306/1306), done.\n",
    "Checking connectivity... done.\n",
    "~/Code/git/else$ cd patsy/\n",
    "~/Code/git/else/patsy$ ls\n",
    "doc          MANIFEST.in  README.rst             setup.cfg  TODO   tox.ini\n",
    "LICENSE.txt  patsy        release-checklist.txt  setup.py   tools\n",
    "$ sudo python setup.py install\n",
    "$ pip-2.7 freeze | grep patsy\n",
    "```\n",
    "\n",
    "## 1.3 python scientific library\n",
    "\n",
    "* numpy\n",
    "    * 윈도우에서 설치할 경우 c compiler 필요.\n",
    "    * Visual Studio 2008를 기본으로 찾음. 없으면 MinGW Compiler 설치.\n",
    "    * MinGW를 사용할 경우 Python27/Lib/distutils/distutils.cfg 편집\n",
    "\n",
    "```\n",
    "    [build]\n",
    "    compiler = mingw32\n",
    "    [build_ext]\n",
    "    compiler = mingw32\n",
    "```\n",
    "\n",
    "* matplotlib\n",
    "* statsmodel\n",
    "* patsy: 오타주의!\n",
    "* seaborn\n",
    "* scikit-learn\n",
    "* gensim\n",
    "* pymc\n",
    "    * linux and mac(after gfortran installed) ok \n",
    "        * pip install pymc==2.3\n",
    "        * pip install git+https://github.com/pymc-devs/pymc\n",
    "    * mac to install gfortran\n",
    "        * download, drag to Applicaiton\n",
    "        * which gfortran-mp-4.8 \n",
    "        * sudo ln -s gfortran-mp-4.8 gfortran\n",
    "    * errors - ld: symbol(s) not found for architecture x86_64\n",
    "        * use gfortran (not g95)\n",
    "        * port install g95 (pymc requires fortran compiler) (gfortan is not on macport)\n",
    "        * add -stdlib=libstdc++ -lstdc++\n",
    "        There are two implementations of the standard C++ library available on OS X:\n",
    "        libstdc++ and libc++.  On 10.8 and earlier libstdc++ is chosen by default,\n",
    "        on 10.9 libc++ is chosen by default.\n",
    "    * freetype error\n",
    "        * sudo apt-get install libfreetype6-dev libxft-dev\n",
    "* sympy: note sympy to latex"
   ]
  },
  {
   "cell_type": "markdown",
   "metadata": {},
   "source": [
    "## 1.3 site package"
   ]
  },
  {
   "cell_type": "code",
   "execution_count": 4,
   "metadata": {
    "collapsed": false
   },
   "outputs": [
    {
     "data": {
      "text/plain": [
       "['/System/Library/Frameworks/Python.framework/Versions/2.7/Extras/lib/python',\n",
       " '/Library/Python/2.7/site-packages']"
      ]
     },
     "execution_count": 4,
     "metadata": {},
     "output_type": "execute_result"
    }
   ],
   "source": [
    "import site\n",
    "site.getsitepackages()"
   ]
  },
  {
   "cell_type": "markdown",
   "metadata": {},
   "source": [
    "# 2. intro\n",
    "\n",
    "## 2.1 notations (Population, sample)\n",
    "\n",
    "* 평균, 갯수, 표준편차, 상관계수는 각 각 다음과 같이 표시된다.\n",
    "\n",
    "* population\n",
    "    * mean $\\mu$\n",
    "    * N \n",
    "    * standard deviation $\\sigma$\n",
    "    * correlation coefficient $\\rho$\n",
    "\n",
    "* sample\n",
    "    * sample mean $\\bar{x}$\n",
    "    * number of obs n\n",
    "    * number of samples (each having n elements) K\n",
    "    * standard deviation s\n",
    "    * correlation coefficient r\n",
    "\n",
    "* math latex in ipython notebook cells\n",
    "    * $\\vec{a}$\n",
    "\n",
    "## 2.2 pylab\n",
    "\n",
    "* pylab은 matplotlib.pyplot과 namespace 동일하게 이해.\n",
    "* pylab은 numpy함수를 namespace없이 부르게 함 (sin,cos..)\n",
    "\n",
    "## 2.3 statsmodels은 R 스타일의 모델링 제공 (y ~ ax..)\n",
    "\n",
    "* import statsmodels.formula.api as sm (not statsmodels.api)\n",
    "* statsmodels.api는 대문자 (예:OLS)\n",
    "* statsmodels.formula.api는 df, 소문자 지원 (ols)\n",
    "* '~'  Separate the left-hand side from the right-hand side.\n",
    "* '+'  Combines terms on either side (set union).\n",
    "* '-'  Removes terms on the right from set of terms on the left (set difference).\n",
    "* '*'  a*b is shorthand for the expansion a + b + a:b.\n",
    "* '/'  a/b is shorthand for the expansion a + a:b.\n",
    "* ':'  Computes the interaction between terms on the left and right.\n",
    "* '**' Takes a set of terms on the left and an integer n on the right and computes\n",
    "the * of that set of terms with itself n times."
   ]
  },
  {
   "cell_type": "code",
   "execution_count": 2,
   "metadata": {
    "collapsed": false
   },
   "outputs": [],
   "source": [
    "# mac에서는 scipy.stats statsmodels.forumula를 로딩하는 에러러\n",
    "import numpy as np\n",
    "import matplotlib.pyplot as plt\n",
    "\n",
    "from pylab import *\n",
    "\n",
    "import pandas as pd\n",
    "\n",
    "import scipy\n",
    "import scipy.stats as stats\n",
    "from scipy import stats\n",
    "\n",
    "import statsmodels\n",
    "import statsmodels.formula.api as sm\n",
    "\n",
    "import sklearn as sk\n",
    "import sympy as sym"
   ]
  },
  {
   "cell_type": "markdown",
   "metadata": {},
   "source": [
    "## 2.4 learning Sympy\n",
    "\n",
    "* 먼저 기호를 정의해야 한다.\n",
    "* lambdify - 간편하게 Sympy표현식을 lambda로 변환"
   ]
  },
  {
   "cell_type": "code",
   "execution_count": 16,
   "metadata": {
    "collapsed": false
   },
   "outputs": [
    {
     "name": "stdout",
     "output_type": "stream",
     "text": [
      "4\n",
      "Matrix([[1, 3]])\n",
      "<lambda>\n"
     ]
    }
   ],
   "source": [
    "from sympy.abc import w,x,y,z\n",
    "f=sym.lambdify(x,x*2)\n",
    "print f(2)\n",
    "\n",
    "row=sym.lambdify((x,y),sym.Matrix((x,x+y)).T,modules='sympy')\n",
    "print row(1,2)\n",
    "\n",
    "#Attention: There are naming differences between numpy and sympy.\n",
    "#So if you simply take the numpy module, e.g. sympy.atan will not be translated to numpy.arctan.\n",
    "#Use the modified module instead by passing the string \"numpy\":\n",
    "import numpy as np\n",
    "f=sym.lambdify((x,y),sym.tan(x*y),np)\n",
    "f=sym.lambdify((x,y),sym.tan(x*y),\"numpy\")\n",
    "print f.func_name"
   ]
  },
  {
   "cell_type": "markdown",
   "metadata": {},
   "source": [
    "## 2.5 Python\n",
    "\n",
    "수학적 표현을 프로그램으로 표현할 수 있게 해 봄. \n",
    "\n",
    "### 2.5.1 출력과 도움말"
   ]
  },
  {
   "cell_type": "code",
   "execution_count": 1,
   "metadata": {
    "collapsed": false
   },
   "outputs": [
    {
     "name": "stdout",
     "output_type": "stream",
     "text": [
      "Hello World!\n"
     ]
    }
   ],
   "source": [
    "# comments\n",
    "print \"Hello World!\""
   ]
  },
  {
   "cell_type": "markdown",
   "metadata": {},
   "source": [
    "### 2.5.2 variables\n",
    "\n",
    "* 변수는 메모리의 저장공간을 확보해서 활용하기 위해 그 곳을 이름붙여 놓는 것.\n",
    "* 변수는 메모리의 공간이라서 수, 문자, 소수점 크기에 따라 차지하는 공간이 차이가 있슴.\n",
    "* 변수는 언제 하는가? 재사용용\n",
    "* 효율적인 공간활요을 위해서는 최소한으로 확보\n",
    "* 다른 컴파일 언어에서는 수를 사용하는 변수는 문자를 넣을 수가 없으나 스크립트언어에서는 문제가 되지 않는다."
   ]
  },
  {
   "cell_type": "code",
   "execution_count": 2,
   "metadata": {
    "collapsed": false
   },
   "outputs": [
    {
     "name": "stdout",
     "output_type": "stream",
     "text": [
      "<type 'int'>\n",
      "6\n",
      "18\n",
      "<type 'str'>\n",
      "hellohello\n",
      "hellohello\n"
     ]
    }
   ],
   "source": [
    "a=3\n",
    "b=2*a\n",
    "print type(b)\n",
    "print b\n",
    "print a*b\n",
    "# 6이 저장되어 있었지만 지금은 문자열을 넣음. 그래도 오류가 없슴.\n",
    "b=\"hello\"\n",
    "print type(b)\n",
    "# operator overloading\n",
    "print b+b\n",
    "print 2*b"
   ]
  },
  {
   "cell_type": "markdown",
   "metadata": {},
   "source": [
    "### 2.5.3 데이터타잎\n",
    "\n",
    "* boolean type\n",
    "* float\n",
    "* containers"
   ]
  },
  {
   "cell_type": "code",
   "execution_count": 3,
   "metadata": {
    "collapsed": false
   },
   "outputs": [
    {
     "name": "stdout",
     "output_type": "stream",
     "text": [
      "False\n",
      "21.0\n",
      "1024\n",
      "1\n",
      "1.5\n",
      "<type 'list'>\n",
      "3\n",
      "5\n",
      "[3, 4]\n",
      "[4, 5]\n",
      "[1, 2, 3]\n",
      "[1, 3, 5]\n",
      "[28, 2, 3, 4, 5]\n",
      "['hello', 2, 3, 4, 5]\n",
      "['hello', 2, 3, 4, 5, 10]\n",
      "10\n",
      "['hello', 2, 3, 4, 5]\n",
      "[3, 4, 5]\n",
      "{'jsl': 405, 'lecture': 415}\n",
      "[405, 415]\n",
      "['jsl', 'lecture']\n",
      "405\n"
     ]
    }
   ],
   "source": [
    "print 3>4\n",
    "test=(3>4)\n",
    "type(test)\n",
    "\n",
    "# float\n",
    "print 7*3.\n",
    "\n",
    "# power\n",
    "print 2**10\n",
    "print 3/2\n",
    "print 3/2.\n",
    "\n",
    "\n",
    "# containers\n",
    "l=[1,2,3,4,5]\n",
    "print type(l)\n",
    "print l[2]\n",
    "print l[-1]\n",
    "print  l[2:4]\n",
    "print l[3:]\n",
    "print l[:3]\n",
    "print l[::2]\n",
    "\n",
    "# lists are mutable\n",
    "l[0]=28\n",
    "print l\n",
    "\n",
    "# list may have different types\n",
    "l[0]='hello'\n",
    "print l\n",
    "l.append(10)\n",
    "print l\n",
    "print l.pop()\n",
    "\n",
    "print l\n",
    "l=l[2:5]\n",
    "print l\n",
    "\n",
    "# Dictionary of hash table\n",
    "room={'jsl':405, 'lecture':415}\n",
    "print room\n",
    "print room.values()\n",
    "print room.keys()\n",
    "print room['jsl']"
   ]
  },
  {
   "cell_type": "markdown",
   "metadata": {},
   "source": [
    "### 2.5.4 control flow"
   ]
  },
  {
   "cell_type": "code",
   "execution_count": 1,
   "metadata": {
    "collapsed": false
   },
   "outputs": [
    {
     "name": "stdout",
     "output_type": "stream",
     "text": [
      "yes\n",
      "a is neither 1 nor 2\n",
      "0\n",
      "1\n",
      "2\n",
      "3\n",
      "4\n",
      "Python is cool\n",
      "Python is powerful\n",
      "Python is readable\n",
      "0 cool\n",
      "1 powerful\n",
      "2 readable\n",
      "key:a value:1\n",
      "key:c value:2\n",
      "key:b value:1.2\n"
     ]
    }
   ],
   "source": [
    "if 2**2 == 4:\n",
    "   print \"yes\"\n",
    "\n",
    "a=3\n",
    "if a==1:\n",
    "   print 'a=1'\n",
    "elif a==2:\n",
    "   print 'a=2'\n",
    "else:\n",
    "   print 'a is neither 1 nor 2'\n",
    "\n",
    "for i in range(5):\n",
    "   print i\n",
    "for word in ('cool','powerful','readable'):\n",
    "   print('Python is %s' % word)\n",
    "words=('cool','powerful','readable')\n",
    "for index, item in enumerate(words):\n",
    "   print index, item\n",
    "\n",
    "# iterator\n",
    "d={'a':1,'b':1.2,'c':2}\n",
    "for key,val in d.iteritems():\n",
    "   print('key:%s value:%s' % (key,val))"
   ]
  },
  {
   "cell_type": "markdown",
   "metadata": {},
   "source": [
    "### 2.5.5 function definition"
   ]
  },
  {
   "cell_type": "code",
   "execution_count": 2,
   "metadata": {
    "collapsed": false
   },
   "outputs": [
    {
     "name": "stdout",
     "output_type": "stream",
     "text": [
      "this is a test function\n",
      "7.065\n",
      "7.065\n",
      "4\n",
      "4\n",
      "6\n"
     ]
    }
   ],
   "source": [
    "def test():\n",
    "   print 'this is a test function'\n",
    "test()\n",
    "\n",
    "# return\n",
    "def getCircleArea(radius):\n",
    "   return 3.14*radius*radius\n",
    "\n",
    "print getCircleArea(1.5)\n",
    "\n",
    "area=getCircleArea(1.5)\n",
    "print area\n",
    "\n",
    "# optional parameters\n",
    "def double_it(x=2):\n",
    "   return x*2\n",
    "print double_it()\n",
    "print double_it(2)\n",
    "print double_it(3)"
   ]
  },
  {
   "cell_type": "markdown",
   "metadata": {},
   "source": [
    "### 2.5.6 scripts\n",
    "\n",
    "* save a Python program (.py) and run from the OS prompt ($ python test.py)"
   ]
  },
  {
   "cell_type": "code",
   "execution_count": 3,
   "metadata": {
    "collapsed": false
   },
   "outputs": [
    {
     "name": "stdout",
     "output_type": "stream",
     "text": [
      "/home/jsl/Code/git/bb/jsl/algo/src/pystat\n"
     ]
    },
    {
     "ename": "IOError",
     "evalue": "[Errno 2] No such file or directory: '/Users/media/Code/git/sd/hello.txt'",
     "output_type": "error",
     "traceback": [
      "\u001b[1;31m---------------------------------------------------------------------------\u001b[0m",
      "\u001b[1;31mIOError\u001b[0m                                   Traceback (most recent call last)",
      "\u001b[1;32m<ipython-input-3-0cafd127a80b>\u001b[0m in \u001b[0;36m<module>\u001b[1;34m()\u001b[0m\n\u001b[0;32m      4\u001b[0m \u001b[1;33m\u001b[0m\u001b[0m\n\u001b[0;32m      5\u001b[0m \u001b[1;31m# echo 'jsl' > hello.txt\u001b[0m\u001b[1;33m\u001b[0m\u001b[1;33m\u001b[0m\u001b[0m\n\u001b[1;32m----> 6\u001b[1;33m \u001b[0mf\u001b[0m\u001b[1;33m=\u001b[0m\u001b[0mopen\u001b[0m\u001b[1;33m(\u001b[0m\u001b[1;34m'/Users/media/Code/git/sd/hello.txt'\u001b[0m\u001b[1;33m,\u001b[0m\u001b[1;34m'r'\u001b[0m\u001b[1;33m)\u001b[0m\u001b[1;33m\u001b[0m\u001b[0m\n\u001b[0m\u001b[0;32m      7\u001b[0m \u001b[0ms\u001b[0m\u001b[1;33m=\u001b[0m\u001b[0mf\u001b[0m\u001b[1;33m.\u001b[0m\u001b[0mread\u001b[0m\u001b[1;33m(\u001b[0m\u001b[1;33m)\u001b[0m\u001b[1;33m\u001b[0m\u001b[0m\n\u001b[0;32m      8\u001b[0m \u001b[1;32mprint\u001b[0m \u001b[0ms\u001b[0m\u001b[1;33m\u001b[0m\u001b[0m\n",
      "\u001b[1;31mIOError\u001b[0m: [Errno 2] No such file or directory: '/Users/media/Code/git/sd/hello.txt'"
     ]
    }
   ],
   "source": [
    "import os\n",
    "print os.getcwd()\n",
    "\n",
    "# echo 'jsl' > hello.txt\n",
    "f=open('/Users/media/Code/git/sd/hello.txt','r')\n",
    "s=f.read()\n",
    "print s\n",
    "f.close()"
   ]
  },
  {
   "cell_type": "markdown",
   "metadata": {},
   "source": [
    "## 2.6 numpy intro"
   ]
  },
  {
   "cell_type": "code",
   "execution_count": 4,
   "metadata": {
    "collapsed": false
   },
   "outputs": [
    {
     "name": "stdout",
     "output_type": "stream",
     "text": [
      "[0 1 2]\n",
      "[0 1 2 3 4 5 6 7 8 9]\n",
      "[ 1.  3.  5.  7.]\n",
      "[ 0.   0.2  0.4  0.6  0.8  1. ]\n",
      "[[ 1.  1.  1.]\n",
      " [ 1.  1.  1.]\n",
      " [ 1.  1.  1.]]\n",
      "float64\n",
      "[1 1 1 1 1]\n",
      "[[ 0.  0.]\n",
      " [ 0.  0.]]\n",
      "[[ 1.  0.  0.]\n",
      " [ 0.  1.  0.]\n",
      " [ 0.  0.  1.]]\n"
     ]
    }
   ],
   "source": [
    "import numpy as np\n",
    "a=np.array([0,1,2])\n",
    "print a\n",
    "\n",
    "a=np.arange(10)\n",
    "print a\n",
    "b=np.arange(1.,9.,2)\n",
    "print b\n",
    "c=np.linspace(0,1,6)\n",
    "print c\n",
    "a=np.ones((3,3))\n",
    "print a\n",
    "print a.dtype\n",
    "b=np.ones(5,dtype=np.int)\n",
    "print b\n",
    "c=np.zeros((2,2))\n",
    "print c\n",
    "d=np.eye(3)\n",
    "print d"
   ]
  },
  {
   "cell_type": "markdown",
   "metadata": {},
   "source": [
    "## 2.7 visualization"
   ]
  },
  {
   "cell_type": "code",
   "execution_count": 5,
   "metadata": {
    "collapsed": false
   },
   "outputs": [
    {
     "name": "stdout",
     "output_type": "stream",
     "text": [
      "-3.14159265359\n",
      "3\n",
      "21\n",
      "21\n",
      "55\n"
     ]
    }
   ],
   "source": [
    "from pylab import *\n",
    "\n",
    "a=np.arange(20)\n",
    "plot(a,a**2)\n",
    "show()\n",
    "plot(a,a**2,'o')\n",
    "show()\n",
    "print -np.pi\n",
    "x=np.linspace(-np.pi,np.pi,256,endpoint=True)\n",
    "c,s=np.cos(x),np.sin(x)\n",
    "plot(x,c)\n",
    "plot(x,s)\n",
    "show()\n",
    "plot([1,2,3],[4,2,6])\n",
    "show()\n",
    "plot([1,2,3],[4,2,6])\n",
    "title(\"A line\")\n",
    "xlabel(\"X-axis\")\n",
    "ylabel(\"Y-axis\")\n",
    "show()\n",
    "\n",
    "def f(x):\n",
    "  return 2*x**2+3\n",
    " \n",
    "print f(0)\n",
    "3\n",
    "print f(-3)\n",
    "print f(3)\n",
    "\n",
    "plot([-3,0,3],[f(-3),f(0),f(3)])\n",
    "show()\n",
    "xs1=np.arange(-3,3,0.1)\n",
    "plot(xs1,[f(x) for x in xs1])\n",
    "show()\n",
    "xs2=np.linspace(-3,3,100)\n",
    "plot(xs2,[f(x) for x in xs2])\n",
    "show()\n",
    "\n",
    "# sum of square\n",
    "print sum(x*x for x in [1, 2, 3, 4, 5])"
   ]
  }
 ],
 "metadata": {
  "kernelspec": {
   "display_name": "Python 2",
   "language": "python",
   "name": "python2"
  },
  "language_info": {
   "codemirror_mode": {
    "name": "ipython",
    "version": 2
   },
   "file_extension": ".py",
   "mimetype": "text/x-python",
   "name": "python",
   "nbconvert_exporter": "python",
   "pygments_lexer": "ipython2",
   "version": "2.7.10"
  }
 },
 "nbformat": 4,
 "nbformat_minor": 0
}
