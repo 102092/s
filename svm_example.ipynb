{
 "cells": [
  {
   "cell_type": "markdown",
   "metadata": {},
   "source": [
    "# svm 예제 풀이\n",
    "\n",
    "* alpha를 a0,a1으로 선언"
   ]
  },
  {
   "cell_type": "code",
   "execution_count": 1,
   "metadata": {
    "collapsed": false
   },
   "outputs": [],
   "source": [
    "import numpy as np\n",
    "import sympy as sp\n",
    "\n",
    "x=np.array([[2,3],[4,1]])\n",
    "y=np.array([1,-1])\n",
    "\n",
    "a0,a1=sp.symbols('a:2')\n",
    "a=np.array([a0,a1])\n",
    "b=sp.symbols('b')"
   ]
  },
  {
   "cell_type": "markdown",
   "metadata": {},
   "source": [
    "* Lagrange alphas를 구한다\n",
    "    * compute Kernels\n",
    "        * inner product을 계산한다."
   ]
  },
  {
   "cell_type": "code",
   "execution_count": 2,
   "metadata": {
    "collapsed": false
   },
   "outputs": [
    {
     "name": "stdout",
     "output_type": "stream",
     "text": [
      "Kernel=[[13 11]\n",
      " [11 17]]\n"
     ]
    }
   ],
   "source": [
    "def KernelLinear(xi,xj):\n",
    "    import numpy as np\n",
    "    return np.inner(xi,xj)\n",
    "\n",
    "K=KernelLinear(x,x)\n",
    "print \"Kernel={0}\".format(K)"
   ]
  },
  {
   "cell_type": "code",
   "execution_count": 4,
   "metadata": {
    "collapsed": false
   },
   "outputs": [
    {
     "name": "stdout",
     "output_type": "stream",
     "text": [
      "Ld1=-6.5*a0**2 + 11.0*a0*a1 + a0 - 8.5*a1**2 + a1\n"
     ]
    }
   ],
   "source": [
    "def getLd(a,y,x,xi):\n",
    "    Ld1=sum(a) -0.5*sumaayyk(a,y,x,x)\n",
    "    return Ld1\n",
    "\n",
    "def sumaayyk(a,y,x,xi):\n",
    "    import numpy as np\n",
    "    _sumaayyk=np.array(sum(np.outer(a,a)*np.outer(y,y)*KernelLinear(x,xi)))\n",
    "    return sum(_sumaayyk)\n",
    "\n",
    "Ld1=sum(a) -0.5*sumaayyk(a,y,x,x)\n",
    "print \"Ld1={0}\".format(Ld1)"
   ]
  },
  {
   "cell_type": "markdown",
   "metadata": {},
   "source": [
    "* $\\sum \\alpha y = 0$ -> a0=a1\n",
    "* Ld에 대입하고 -> 미분해서 -> 0으로 놓고 해를 구한다."
   ]
  },
  {
   "cell_type": "code",
   "execution_count": 5,
   "metadata": {
    "collapsed": false
   },
   "outputs": [
    {
     "name": "stdout",
     "output_type": "stream",
     "text": [
      "sum of ai*yi=0 -->  a0 - a1\n"
     ]
    }
   ],
   "source": [
    "print \"sum of ai*yi=0 --> \",sum(a*y)"
   ]
  },
  {
   "cell_type": "code",
   "execution_count": 6,
   "metadata": {
    "collapsed": false
   },
   "outputs": [
    {
     "name": "stdout",
     "output_type": "stream",
     "text": [
      "Ld1_a0=a1 =  -4.0*a1**2 + 2*a1\n"
     ]
    }
   ],
   "source": [
    "Ld1_=Ld1.subs(a0,a1)\n",
    "print \"Ld1_a0=a1 = \",Ld1_"
   ]
  },
  {
   "cell_type": "markdown",
   "metadata": {},
   "source": [
    "* 미분해서 $\\alpha$값을 구한다."
   ]
  },
  {
   "cell_type": "code",
   "execution_count": 7,
   "metadata": {
    "collapsed": false
   },
   "outputs": [
    {
     "name": "stdout",
     "output_type": "stream",
     "text": [
      "Ld2=-8.0*a1 + 2\n",
      "0.250000000000000\n"
     ]
    }
   ],
   "source": [
    "Ld2=sp.diff(Ld1_,a1)\n",
    "print \"Ld2={0}\".format(Ld2)\n",
    "a_=sp.solve(Ld2,a1)\n",
    "a_1=a_[0]\n",
    "print a_1"
   ]
  },
  {
   "cell_type": "markdown",
   "metadata": {},
   "source": [
    "* a0, a1를 저장한다."
   ]
  },
  {
   "cell_type": "code",
   "execution_count": 8,
   "metadata": {
    "collapsed": false
   },
   "outputs": [
    {
     "name": "stdout",
     "output_type": "stream",
     "text": [
      "[0.250000000000000, 0.250000000000000]\n"
     ]
    }
   ],
   "source": [
    "sol_a=[a_1,a_1]\n",
    "print sol_a"
   ]
  },
  {
   "cell_type": "markdown",
   "metadata": {},
   "source": [
    "* $w=\\sum \\alpha y x$에서 w를 구한다."
   ]
  },
  {
   "cell_type": "code",
   "execution_count": 9,
   "metadata": {
    "collapsed": false
   },
   "outputs": [
    {
     "name": "stdout",
     "output_type": "stream",
     "text": [
      "[-0.500000000000000 0.500000000000000]\n"
     ]
    }
   ],
   "source": [
    "def sumayx(alphas,y,x):\n",
    "    ayxT=alphas*y*x.T\n",
    "    return ayxT.sum(axis=1)\n",
    "\n",
    "sol_w=sumayx(np.array(sol_a),y,x)\n",
    "sumayx(np.array(sol_a),y,x)\n",
    "print sol_w"
   ]
  },
  {
   "cell_type": "markdown",
   "metadata": {},
   "source": [
    "* b의 값은 아래와 같이 구한다.\n",
    "    $$\n",
    "        \\begin{aligned}\n",
    "            \\sum wx + b &=1\\ or -1\\\\\n",
    "            y(\\sum wx + b) &=1\\\\\n",
    "            yb &= 1- y\\sum wx\\\\\n",
    "            b & = y(1-y\\sum wx)\n",
    "        \\end{aligned}\n",
    "    $$"
   ]
  },
  {
   "cell_type": "code",
   "execution_count": 10,
   "metadata": {
    "collapsed": false
   },
   "outputs": [
    {
     "name": "stdout",
     "output_type": "stream",
     "text": [
      "0.500000000000000 [2 3] 1\n",
      "0.500000000000000 [4 1] -1\n"
     ]
    }
   ],
   "source": [
    "for xi,yi in zip(x,y):\n",
    "    b=yi*(1-yi*np.inner(sol_w,xi))\n",
    "    print b,xi,yi"
   ]
  },
  {
   "cell_type": "markdown",
   "metadata": {},
   "source": [
    "* decision line을 구하면 \n",
    "    * $w_0 \\times x_0 + w_1 \\times x_1 + b =0$\n",
    "    * $ x_1= \\frac{-(w_0 \\times x_0 + b)}{w_1}$"
   ]
  },
  {
   "cell_type": "code",
   "execution_count": 12,
   "metadata": {
    "collapsed": false,
    "scrolled": true
   },
   "outputs": [
    {
     "data": {
      "image/png": "[encoded data removed]",
      "text/plain": [
       "<matplotlib.figure.Figure at 0x7fb613fe1810>"
      ]
     },
     "metadata": {},
     "output_type": "display_data"
    }
   ],
   "source": [
    "%matplotlib inline\n",
    "\n",
    "import matplotlib.pyplot as plt\n",
    "import numpy as np\n",
    "\n",
    "x1=np.arange(-5,5,0.1)\n",
    "x2=-(sol_w[0]*x1+b)/sol_w[1]\n",
    "\n",
    "fig=plt.figure()\n",
    "ax = fig.add_subplot(111)\n",
    "ax.set_title('2d hyperplane')\n",
    "ax.set_xlabel('x1')\n",
    "ax.set_ylabel('x2')\n",
    "for i in x:\n",
    "    ax.text(i[0],i[1],i)\n",
    "    plt.scatter(i[0],i[1])\n",
    "plt.plot(x1,x2)\n",
    "#plt.scatter([0,4],[0,4])\n",
    "plt.show()\n"
   ]
  }
 ],
 "metadata": {
  "kernelspec": {
   "display_name": "Python 2",
   "language": "python",
   "name": "python2"
  },
  "language_info": {
   "codemirror_mode": {
    "name": "ipython",
    "version": 2
   },
   "file_extension": ".py",
   "mimetype": "text/x-python",
   "name": "python",
   "nbconvert_exporter": "python",
   "pygments_lexer": "ipython2",
   "version": "2.7.11+"
  }
 },
 "nbformat": 4,
 "nbformat_minor": 0
}
